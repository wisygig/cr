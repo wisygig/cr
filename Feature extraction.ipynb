{
 "cells": [
  {
   "cell_type": "code",
   "execution_count": 1,
   "metadata": {
    "collapsed": true
   },
   "outputs": [],
   "source": [
    "import numpy as np\n",
    "import pandas as pd\n",
    "\n",
    "from etl import load_monsters, _mechanics, _stats, _flavor, _skills, get_monster_df"
   ]
  },
  {
   "cell_type": "markdown",
   "metadata": {},
   "source": [
    "# Load data"
   ]
  },
  {
   "cell_type": "code",
   "execution_count": 2,
   "metadata": {
    "collapsed": true
   },
   "outputs": [],
   "source": [
    "monsters, ogl = load_monsters()\n",
    "monster_df = get_monster_df(monsters)"
   ]
  },
  {
   "cell_type": "code",
   "execution_count": 3,
   "metadata": {
    "scrolled": true
   },
   "outputs": [
    {
     "data": {
      "text/html": [
       "<div>\n",
       "<style>\n",
       "    .dataframe thead tr:only-child th {\n",
       "        text-align: right;\n",
       "    }\n",
       "\n",
       "    .dataframe thead th {\n",
       "        text-align: left;\n",
       "    }\n",
       "\n",
       "    .dataframe tbody tr th {\n",
       "        vertical-align: top;\n",
       "    }\n",
       "</style>\n",
       "<table border=\"1\" class=\"dataframe\">\n",
       "  <thead>\n",
       "    <tr style=\"text-align: right;\">\n",
       "      <th></th>\n",
       "      <th>challenge_rating</th>\n",
       "      <th>armor_class</th>\n",
       "      <th>hit_dice</th>\n",
       "      <th>hit_points</th>\n",
       "      <th>condition_immunities</th>\n",
       "      <th>damage_immunities</th>\n",
       "      <th>damage_resistances</th>\n",
       "      <th>damage_vulnerabilities</th>\n",
       "      <th>actions</th>\n",
       "      <th>reactions</th>\n",
       "      <th>legendary_actions</th>\n",
       "      <th>special_abilities</th>\n",
       "      <th>size</th>\n",
       "      <th>speed</th>\n",
       "      <th>senses</th>\n",
       "    </tr>\n",
       "    <tr>\n",
       "      <th>name</th>\n",
       "      <th></th>\n",
       "      <th></th>\n",
       "      <th></th>\n",
       "      <th></th>\n",
       "      <th></th>\n",
       "      <th></th>\n",
       "      <th></th>\n",
       "      <th></th>\n",
       "      <th></th>\n",
       "      <th></th>\n",
       "      <th></th>\n",
       "      <th></th>\n",
       "      <th></th>\n",
       "      <th></th>\n",
       "      <th></th>\n",
       "    </tr>\n",
       "  </thead>\n",
       "  <tbody>\n",
       "    <tr>\n",
       "      <th>Aboleth</th>\n",
       "      <td>10.00</td>\n",
       "      <td>17</td>\n",
       "      <td>18d10</td>\n",
       "      <td>135</td>\n",
       "      <td></td>\n",
       "      <td></td>\n",
       "      <td></td>\n",
       "      <td></td>\n",
       "      <td>[{'name': 'Multiattack', 'desc': 'The aboleth ...</td>\n",
       "      <td>[]</td>\n",
       "      <td>[{'name': 'Detect', 'desc': 'The aboleth makes...</td>\n",
       "      <td>[{'name': 'Amphibious', 'desc': 'The aboleth c...</td>\n",
       "      <td>Large</td>\n",
       "      <td>10 ft., swim 40 ft.</td>\n",
       "      <td>darkvision 120 ft., passive Perception 20</td>\n",
       "    </tr>\n",
       "    <tr>\n",
       "      <th>Acolyte</th>\n",
       "      <td>0.25</td>\n",
       "      <td>10</td>\n",
       "      <td>2d8</td>\n",
       "      <td>9</td>\n",
       "      <td></td>\n",
       "      <td></td>\n",
       "      <td></td>\n",
       "      <td></td>\n",
       "      <td>[{'name': 'Club', 'desc': 'Melee Weapon Attack...</td>\n",
       "      <td>[]</td>\n",
       "      <td>[]</td>\n",
       "      <td>[{'name': 'Spellcasting', 'desc': 'The acolyte...</td>\n",
       "      <td>Medium</td>\n",
       "      <td>30 ft.</td>\n",
       "      <td>passive Perception 12</td>\n",
       "    </tr>\n",
       "    <tr>\n",
       "      <th>Adult Black Dragon</th>\n",
       "      <td>14.00</td>\n",
       "      <td>19</td>\n",
       "      <td>17d12</td>\n",
       "      <td>195</td>\n",
       "      <td></td>\n",
       "      <td>acid</td>\n",
       "      <td></td>\n",
       "      <td></td>\n",
       "      <td>[{'name': 'Multiattack', 'desc': 'The dragon c...</td>\n",
       "      <td>[]</td>\n",
       "      <td>[{'name': 'Detect', 'desc': 'The dragon makes ...</td>\n",
       "      <td>[{'name': 'Amphibious', 'desc': 'The dragon ca...</td>\n",
       "      <td>Huge</td>\n",
       "      <td>40 ft., fly 80 ft., swim 40 ft.</td>\n",
       "      <td>blindsight 60 ft., darkvision 120 ft., passive...</td>\n",
       "    </tr>\n",
       "    <tr>\n",
       "      <th>Adult Blue Dracolich</th>\n",
       "      <td>17.00</td>\n",
       "      <td>19</td>\n",
       "      <td>18d12</td>\n",
       "      <td>225</td>\n",
       "      <td>charmed, exhaustion, frightened, paralyzed, po...</td>\n",
       "      <td>lightning, poison</td>\n",
       "      <td>necrotic</td>\n",
       "      <td></td>\n",
       "      <td>[{'name': 'Multiattack', 'desc': 'The dracolic...</td>\n",
       "      <td>[]</td>\n",
       "      <td>[{'name': 'Detect', 'desc': 'The dracolich mak...</td>\n",
       "      <td>[{'name': 'Legendary Resistance (3/Day)', 'des...</td>\n",
       "      <td>Huge</td>\n",
       "      <td>40 ft., burrow 30 ft., fly 80 ft.</td>\n",
       "      <td>blindsight 60 ft., darkvision 120 ft., passive...</td>\n",
       "    </tr>\n",
       "    <tr>\n",
       "      <th>Adult Blue Dragon</th>\n",
       "      <td>16.00</td>\n",
       "      <td>19</td>\n",
       "      <td>18d12</td>\n",
       "      <td>225</td>\n",
       "      <td></td>\n",
       "      <td>lightning</td>\n",
       "      <td></td>\n",
       "      <td></td>\n",
       "      <td>[{'name': 'Multiattack', 'desc': 'The dragon c...</td>\n",
       "      <td>[]</td>\n",
       "      <td>[{'name': 'Detect', 'desc': 'The dragon makes ...</td>\n",
       "      <td>[{'name': 'Legendary Resistance (3/Day)', 'des...</td>\n",
       "      <td>Huge</td>\n",
       "      <td>40 ft., burrow 30 ft., fly 80 ft.</td>\n",
       "      <td>blindsight 60 ft., darkvision 120 ft., passive...</td>\n",
       "    </tr>\n",
       "  </tbody>\n",
       "</table>\n",
       "</div>"
      ],
      "text/plain": [
       "                      challenge_rating  armor_class hit_dice  hit_points  \\\n",
       "name                                                                       \n",
       "Aboleth                          10.00           17    18d10         135   \n",
       "Acolyte                           0.25           10      2d8           9   \n",
       "Adult Black Dragon               14.00           19    17d12         195   \n",
       "Adult Blue Dracolich             17.00           19    18d12         225   \n",
       "Adult Blue Dragon                16.00           19    18d12         225   \n",
       "\n",
       "                                                   condition_immunities  \\\n",
       "name                                                                      \n",
       "Aboleth                                                                   \n",
       "Acolyte                                                                   \n",
       "Adult Black Dragon                                                        \n",
       "Adult Blue Dracolich  charmed, exhaustion, frightened, paralyzed, po...   \n",
       "Adult Blue Dragon                                                         \n",
       "\n",
       "                      damage_immunities damage_resistances  \\\n",
       "name                                                         \n",
       "Aboleth                                                      \n",
       "Acolyte                                                      \n",
       "Adult Black Dragon                 acid                      \n",
       "Adult Blue Dracolich  lightning, poison           necrotic   \n",
       "Adult Blue Dragon             lightning                      \n",
       "\n",
       "                     damage_vulnerabilities  \\\n",
       "name                                          \n",
       "Aboleth                                       \n",
       "Acolyte                                       \n",
       "Adult Black Dragon                            \n",
       "Adult Blue Dracolich                          \n",
       "Adult Blue Dragon                             \n",
       "\n",
       "                                                                actions  \\\n",
       "name                                                                      \n",
       "Aboleth               [{'name': 'Multiattack', 'desc': 'The aboleth ...   \n",
       "Acolyte               [{'name': 'Club', 'desc': 'Melee Weapon Attack...   \n",
       "Adult Black Dragon    [{'name': 'Multiattack', 'desc': 'The dragon c...   \n",
       "Adult Blue Dracolich  [{'name': 'Multiattack', 'desc': 'The dracolic...   \n",
       "Adult Blue Dragon     [{'name': 'Multiattack', 'desc': 'The dragon c...   \n",
       "\n",
       "                     reactions  \\\n",
       "name                             \n",
       "Aboleth                     []   \n",
       "Acolyte                     []   \n",
       "Adult Black Dragon          []   \n",
       "Adult Blue Dracolich        []   \n",
       "Adult Blue Dragon           []   \n",
       "\n",
       "                                                      legendary_actions  \\\n",
       "name                                                                      \n",
       "Aboleth               [{'name': 'Detect', 'desc': 'The aboleth makes...   \n",
       "Acolyte                                                              []   \n",
       "Adult Black Dragon    [{'name': 'Detect', 'desc': 'The dragon makes ...   \n",
       "Adult Blue Dracolich  [{'name': 'Detect', 'desc': 'The dracolich mak...   \n",
       "Adult Blue Dragon     [{'name': 'Detect', 'desc': 'The dragon makes ...   \n",
       "\n",
       "                                                      special_abilities  \\\n",
       "name                                                                      \n",
       "Aboleth               [{'name': 'Amphibious', 'desc': 'The aboleth c...   \n",
       "Acolyte               [{'name': 'Spellcasting', 'desc': 'The acolyte...   \n",
       "Adult Black Dragon    [{'name': 'Amphibious', 'desc': 'The dragon ca...   \n",
       "Adult Blue Dracolich  [{'name': 'Legendary Resistance (3/Day)', 'des...   \n",
       "Adult Blue Dragon     [{'name': 'Legendary Resistance (3/Day)', 'des...   \n",
       "\n",
       "                        size                              speed  \\\n",
       "name                                                              \n",
       "Aboleth                Large                10 ft., swim 40 ft.   \n",
       "Acolyte               Medium                             30 ft.   \n",
       "Adult Black Dragon      Huge    40 ft., fly 80 ft., swim 40 ft.   \n",
       "Adult Blue Dracolich    Huge  40 ft., burrow 30 ft., fly 80 ft.   \n",
       "Adult Blue Dragon       Huge  40 ft., burrow 30 ft., fly 80 ft.   \n",
       "\n",
       "                                                                 senses  \n",
       "name                                                                     \n",
       "Aboleth                       darkvision 120 ft., passive Perception 20  \n",
       "Acolyte                                           passive Perception 12  \n",
       "Adult Black Dragon    blindsight 60 ft., darkvision 120 ft., passive...  \n",
       "Adult Blue Dracolich  blindsight 60 ft., darkvision 120 ft., passive...  \n",
       "Adult Blue Dragon     blindsight 60 ft., darkvision 120 ft., passive...  "
      ]
     },
     "execution_count": 3,
     "metadata": {},
     "output_type": "execute_result"
    }
   ],
   "source": [
    "monster_df[_mechanics].head()"
   ]
  },
  {
   "cell_type": "markdown",
   "metadata": {},
   "source": [
    "# Feature extraction\n",
    "At this stage, we'll restrict ourselves to simple feature extraction and engineering. Let's first consider the `actions` column of `monster_df`. We first familiarize ourselves with the data."
   ]
  },
  {
   "cell_type": "code",
   "execution_count": 4,
   "metadata": {},
   "outputs": [
    {
     "data": {
      "text/plain": [
       "{('name', 'desc', 'attack_bonus'),\n",
       " ('name', 'desc', 'attack_bonus', 'damage_bonus'),\n",
       " ('name', 'desc', 'attack_bonus', 'damage_dice'),\n",
       " ('name', 'desc', 'attack_bonus', 'damage_dice', 'damage_bonus')}"
      ]
     },
     "execution_count": 4,
     "metadata": {},
     "output_type": "execute_result"
    }
   ],
   "source": [
    "actions_keys = {tuple(action.keys()) for actions in monster_df.actions for action in actions}\n",
    "actions_keys"
   ]
  },
  {
   "cell_type": "code",
   "execution_count": 5,
   "metadata": {
    "collapsed": true
   },
   "outputs": [],
   "source": [
    "def make_action_df(x):\n",
    "    df = pd.DataFrame(x.iloc[0], columns=['name', 'desc', 'attack_bonus', 'damage_dice', 'damage_bonus'])\n",
    "    df = df.rename(index=str, columns={'name':'action'})\n",
    "    df = df.set_index(['action'])\n",
    "    return df\n",
    "\n",
    "actions_df = monster_df.actions.groupby('name').apply(make_action_df)"
   ]
  },
  {
   "cell_type": "code",
   "execution_count": 6,
   "metadata": {},
   "outputs": [
    {
     "data": {
      "text/html": [
       "<div>\n",
       "<style>\n",
       "    .dataframe thead tr:only-child th {\n",
       "        text-align: right;\n",
       "    }\n",
       "\n",
       "    .dataframe thead th {\n",
       "        text-align: left;\n",
       "    }\n",
       "\n",
       "    .dataframe tbody tr th {\n",
       "        vertical-align: top;\n",
       "    }\n",
       "</style>\n",
       "<table border=\"1\" class=\"dataframe\">\n",
       "  <thead>\n",
       "    <tr style=\"text-align: right;\">\n",
       "      <th></th>\n",
       "      <th></th>\n",
       "      <th>desc</th>\n",
       "      <th>attack_bonus</th>\n",
       "      <th>damage_dice</th>\n",
       "      <th>damage_bonus</th>\n",
       "    </tr>\n",
       "    <tr>\n",
       "      <th>name</th>\n",
       "      <th>action</th>\n",
       "      <th></th>\n",
       "      <th></th>\n",
       "      <th></th>\n",
       "      <th></th>\n",
       "    </tr>\n",
       "  </thead>\n",
       "  <tbody>\n",
       "    <tr>\n",
       "      <th rowspan=\"4\" valign=\"top\">Aboleth</th>\n",
       "      <th>Multiattack</th>\n",
       "      <td>The aboleth makes three tentacle attacks.</td>\n",
       "      <td>0</td>\n",
       "      <td>NaN</td>\n",
       "      <td>NaN</td>\n",
       "    </tr>\n",
       "    <tr>\n",
       "      <th>Tentacle</th>\n",
       "      <td>Melee Weapon Attack: +9 to hit, reach 10 ft., ...</td>\n",
       "      <td>9</td>\n",
       "      <td>2d6</td>\n",
       "      <td>5.0</td>\n",
       "    </tr>\n",
       "    <tr>\n",
       "      <th>Tail</th>\n",
       "      <td>Melee Weapon Attack: +9 to hit, reach 10 ft. o...</td>\n",
       "      <td>9</td>\n",
       "      <td>3d6</td>\n",
       "      <td>5.0</td>\n",
       "    </tr>\n",
       "    <tr>\n",
       "      <th>Enslave (3/day)</th>\n",
       "      <td>The aboleth targets one creature it can see wi...</td>\n",
       "      <td>0</td>\n",
       "      <td>NaN</td>\n",
       "      <td>NaN</td>\n",
       "    </tr>\n",
       "    <tr>\n",
       "      <th>Acolyte</th>\n",
       "      <th>Club</th>\n",
       "      <td>Melee Weapon Attack: +2 to hit, reach 5 ft., o...</td>\n",
       "      <td>2</td>\n",
       "      <td>1d4</td>\n",
       "      <td>NaN</td>\n",
       "    </tr>\n",
       "    <tr>\n",
       "      <th rowspan=\"5\" valign=\"top\">Adult Black Dragon</th>\n",
       "      <th>Multiattack</th>\n",
       "      <td>The dragon can use its Frightful Presence. It ...</td>\n",
       "      <td>0</td>\n",
       "      <td>NaN</td>\n",
       "      <td>NaN</td>\n",
       "    </tr>\n",
       "    <tr>\n",
       "      <th>Bite</th>\n",
       "      <td>Melee Weapon Attack: +11 to hit, reach 10 ft.,...</td>\n",
       "      <td>11</td>\n",
       "      <td>2d10 + 1d8</td>\n",
       "      <td>6.0</td>\n",
       "    </tr>\n",
       "    <tr>\n",
       "      <th>Claw</th>\n",
       "      <td>Melee Weapon Attack: +11 to hit, reach 5 ft., ...</td>\n",
       "      <td>11</td>\n",
       "      <td>2d6</td>\n",
       "      <td>6.0</td>\n",
       "    </tr>\n",
       "    <tr>\n",
       "      <th>Tail</th>\n",
       "      <td>Melee Weapon Attack: +11 to hit, reach 15 ft.,...</td>\n",
       "      <td>11</td>\n",
       "      <td>2d8</td>\n",
       "      <td>6.0</td>\n",
       "    </tr>\n",
       "    <tr>\n",
       "      <th>Frightful Presence</th>\n",
       "      <td>Each creature of the dragon's choice that is w...</td>\n",
       "      <td>0</td>\n",
       "      <td>NaN</td>\n",
       "      <td>NaN</td>\n",
       "    </tr>\n",
       "  </tbody>\n",
       "</table>\n",
       "</div>"
      ],
      "text/plain": [
       "                                                                                    desc  \\\n",
       "name               action                                                                  \n",
       "Aboleth            Multiattack                 The aboleth makes three tentacle attacks.   \n",
       "                   Tentacle            Melee Weapon Attack: +9 to hit, reach 10 ft., ...   \n",
       "                   Tail                Melee Weapon Attack: +9 to hit, reach 10 ft. o...   \n",
       "                   Enslave (3/day)     The aboleth targets one creature it can see wi...   \n",
       "Acolyte            Club                Melee Weapon Attack: +2 to hit, reach 5 ft., o...   \n",
       "Adult Black Dragon Multiattack         The dragon can use its Frightful Presence. It ...   \n",
       "                   Bite                Melee Weapon Attack: +11 to hit, reach 10 ft.,...   \n",
       "                   Claw                Melee Weapon Attack: +11 to hit, reach 5 ft., ...   \n",
       "                   Tail                Melee Weapon Attack: +11 to hit, reach 15 ft.,...   \n",
       "                   Frightful Presence  Each creature of the dragon's choice that is w...   \n",
       "\n",
       "                                      attack_bonus damage_dice  damage_bonus  \n",
       "name               action                                                     \n",
       "Aboleth            Multiattack                   0         NaN           NaN  \n",
       "                   Tentacle                      9         2d6           5.0  \n",
       "                   Tail                          9         3d6           5.0  \n",
       "                   Enslave (3/day)               0         NaN           NaN  \n",
       "Acolyte            Club                          2         1d4           NaN  \n",
       "Adult Black Dragon Multiattack                   0         NaN           NaN  \n",
       "                   Bite                         11  2d10 + 1d8           6.0  \n",
       "                   Claw                         11         2d6           6.0  \n",
       "                   Tail                         11         2d8           6.0  \n",
       "                   Frightful Presence            0         NaN           NaN  "
      ]
     },
     "execution_count": 6,
     "metadata": {},
     "output_type": "execute_result"
    }
   ],
   "source": [
    "actions_df.head(10)"
   ]
  },
  {
   "cell_type": "code",
   "execution_count": 7,
   "metadata": {
    "collapsed": true
   },
   "outputs": [],
   "source": [
    "from collections import namedtuple\n",
    "from functools import partial, reduce\n",
    "import re\n",
    "\n",
    "\n",
    "get_dc = partial(re.findall,\n",
    "                 re.compile(r'\\bDC (\\d+) (' \\\n",
    "                            + r'|'.join(stat.capitalize() for stat in _stats) \\\n",
    "                            + r')\\b'))\n",
    "\n",
    "get_dice = partial(re.findall, re.compile(r'\\b(\\d+)?d(\\d+)\\b'))"
   ]
  },
  {
   "cell_type": "code",
   "execution_count": 8,
   "metadata": {},
   "outputs": [
    {
     "data": {
      "text/plain": [
       "name\n",
       "Aboleth                 [{'name': 'Enslave (3/day)', 'desc': 'The abol...\n",
       "Adult Black Dragon      [{'name': 'Frightful Presence', 'desc': 'Each ...\n",
       "Adult Blue Dracolich    [{'name': 'Frightful Presence', 'desc': 'Each ...\n",
       "Adult Blue Dragon       [{'name': 'Frightful Presence', 'desc': 'Each ...\n",
       "Adult Brass Dragon      [{'name': 'Frightful Presence', 'desc': 'Each ...\n",
       "Name: actions, dtype: object"
      ]
     },
     "execution_count": 8,
     "metadata": {},
     "output_type": "execute_result"
    }
   ],
   "source": [
    "# summary tools\n",
    "def has_properties(x, pos=[], neg=[]):\n",
    "    return any(all([z in y for z in pos] + [z not in y for z in neg]) for y in x)\n",
    "\n",
    "\n",
    "def parse_actions(actions):\n",
    "    multi = False\n",
    "    for action in actions:\n",
    "        if action['name'] == 'Multiattack':\n",
    "            multi = True\n",
    "            continue\n",
    "        attack_bonus = action.get('attack_bonus', 0)\n",
    "        damage_bonus = action.get('damage_bonus', 0)\n",
    "        damage_dice = action.get('damage_dice', '')\n",
    "        dcs = get_dc(action.get('desc'))\n",
    "    return multi, attack_bonus, damage_bonus, damage_dice, dcs\n",
    "\n",
    "\n",
    "neg=['damage_dice', 'damage_bonus']\n",
    "def has_special_action(actions):\n",
    "    return any(is_special_action(action) for action in actions)\n",
    "\n",
    "def is_special_action(action):\n",
    "    return 'Multiattack' not in action['name'] and all([z not in action for z in neg])\n",
    "\n",
    "def get_special_action(actions):\n",
    "    return [action for action in actions if is_special_action(action)]\n",
    "\n",
    "monster_df.actions[monster_df.actions.apply(has_special_action)].apply(get_special_action).head()"
   ]
  },
  {
   "cell_type": "code",
   "execution_count": 9,
   "metadata": {},
   "outputs": [
    {
     "data": {
      "text/plain": [
       "[{'attack_bonus': 0,\n",
       "  'desc': 'The wereboar makes two attacks, only one of which can be with its tusks.',\n",
       "  'name': 'Multiattack (Humanoid or Hybrid Form Only)'},\n",
       " {'attack_bonus': 5,\n",
       "  'damage_bonus': 3,\n",
       "  'damage_dice': '2d6',\n",
       "  'desc': 'Melee Weapon Attack: +5 to hit, reach 5 ft., one target. Hit: 10 (2d6 + 3) bludgeoning damage.',\n",
       "  'name': 'Maul (Humanoid or Hybrid Form Only)'},\n",
       " {'attack_bonus': 5,\n",
       "  'damage_bonus': 3,\n",
       "  'damage_dice': '2d6',\n",
       "  'desc': 'Melee Weapon Attack: +5 to hit, reach 5 ft., one target. Hit: 10 (2d6 + 3) slashing damage. If the target is a humanoid, it must succeed on a DC 12 Constitution saving throw or be cursed with wereboar lycanthropy.',\n",
       "  'name': 'Tusks (Boar or Hybrid Form Only)'}]"
      ]
     },
     "execution_count": 9,
     "metadata": {},
     "output_type": "execute_result"
    }
   ],
   "source": [
    "monster_df.loc['Wereboar'].actions"
   ]
  },
  {
   "cell_type": "code",
   "execution_count": 10,
   "metadata": {},
   "outputs": [
    {
     "data": {
      "text/plain": [
       "name\n",
       "Badger             [{'name': 'Bite', 'desc': 'Melee Weapon Attack...\n",
       "Bat                [{'name': 'Bite', 'desc': 'Melee Weapon Attack...\n",
       "Cat                [{'name': 'Claws', 'desc': 'Melee Weapon Attac...\n",
       "Crab               [{'name': 'Claw', 'desc': 'Melee Weapon Attack...\n",
       "Flying Snake       [{'name': 'Bite', 'desc': 'Melee Weapon Attack...\n",
       "Hawk               [{'name': 'Talons', 'desc': 'Melee Weapon Atta...\n",
       "Homunculus         [{'name': 'Bite', 'desc': 'Melee Weapon Attack...\n",
       "Lizard             [{'name': 'Bite', 'desc': 'Melee Weapon Attack...\n",
       "Octopus            [{'name': 'Tentacles', 'desc': 'Melee Weapon A...\n",
       "Owl                [{'name': 'Talons', 'desc': 'Melee Weapon Atta...\n",
       "Poisonous Snake    [{'name': 'Bite', 'desc': 'Melee Weapon Attack...\n",
       "Quipper            [{'name': 'Bite', 'desc': 'Melee Weapon Attack...\n",
       "Rat                [{'name': 'Bite', 'desc': 'Melee Weapon Attack...\n",
       "Scorpion           [{'name': 'Sting', 'desc': 'Melee Weapon Attac...\n",
       "Spider             [{'name': 'Bite', 'desc': 'Melee Weapon Attack...\n",
       "Sprite             [{'name': 'Longsword', 'desc': 'Melee Weapon A...\n",
       "Weasel             [{'name': 'Bite', 'desc': 'Melee Weapon Attack...\n",
       "Name: actions, dtype: object"
      ]
     },
     "execution_count": 10,
     "metadata": {},
     "output_type": "execute_result"
    }
   ],
   "source": [
    "f = partial(has_properties, pos=['damage_bonus'], neg=['damage_dice'])\n",
    "\n",
    "monster_df.actions[monster_df.actions.apply(f)]"
   ]
  },
  {
   "cell_type": "code",
   "execution_count": 11,
   "metadata": {},
   "outputs": [
    {
     "data": {
      "text/plain": [
       "[('14', 'Wisdom')]"
      ]
     },
     "execution_count": 11,
     "metadata": {},
     "output_type": "execute_result"
    }
   ],
   "source": [
    "get_dc(monster_df.actions[0][3]['desc'])"
   ]
  },
  {
   "cell_type": "markdown",
   "metadata": {},
   "source": [
    "## Actions"
   ]
  },
  {
   "cell_type": "code",
   "execution_count": 12,
   "metadata": {
    "collapsed": true
   },
   "outputs": [],
   "source": [
    "from collections import namedtuple\n",
    "Summary = namedtuple('Summary', field_names='has_multiattack attack_bonus damage difficulty_class')\n",
    "\n",
    "def summarize_actions(actions):\n",
    "    has_multiattack = 1 if any('Multiattack' in action['name'] for action in actions) else 0\n",
    "    action_summaries = [summarize(action) for action in actions]\n",
    "    if action_summaries:\n",
    "        max_attack_bonus = max(action['attack_bonus'] for action in action_summaries)\n",
    "        max_damage = max(action['damage'] for action in action_summaries)\n",
    "        max_difficulty_class = max(action['difficulty_class'] for action in action_summaries)\n",
    "        summary = Summary(has_multiattack=has_multiattack, \n",
    "                          attack_bonus=max_attack_bonus, \n",
    "                          damage=max_damage, \n",
    "                          difficulty_class=max_difficulty_class)\n",
    "    else:\n",
    "        summary = Summary(has_multiattack=0,\n",
    "                          attack_bonus=2,\n",
    "                          damage=1,\n",
    "                          difficulty_class=10)\n",
    "    return summary\n",
    "\n",
    "\n",
    "def summarize(action):\n",
    "    difficulty_class = get_dc(action['desc'])\n",
    "    attack_bonus = int(action.get('attack_bonus', '0'))\n",
    "    damage_dice = action.get('damage_dice', '0d0')\n",
    "    damage_bonus = int(action.get('damage_bonus', '0'))\n",
    "    return {'attack_bonus': attack_bonus,\n",
    "            'damage': get_damage_potential(damage_dice, damage_bonus),\n",
    "            'difficulty_class': get_max_dc(difficulty_class)}\n",
    "\n",
    "def get_damage_potential(damage_dice, damage_bonus):\n",
    "    damage = damage_bonus\n",
    "    for roll in damage_dice.split(' + '):\n",
    "        n, size = get_dice(roll)[0]\n",
    "        damage += int(n) * int(size)\n",
    "    return damage\n",
    "\n",
    "def get_max_dc(difficulty_class):\n",
    "    if difficulty_class:\n",
    "        return max([int(x[0]) for x in difficulty_class if x])\n",
    "    else:\n",
    "        return 10"
   ]
  },
  {
   "cell_type": "code",
   "execution_count": 13,
   "metadata": {
    "collapsed": true
   },
   "outputs": [],
   "source": [
    "attacks = monster_df.actions.apply(summarize_actions)"
   ]
  },
  {
   "cell_type": "code",
   "execution_count": 14,
   "metadata": {
    "collapsed": true
   },
   "outputs": [],
   "source": [
    "attacks_df = pd.concat([attacks.map(lambda x: x[i]) for i in range(4)], axis=1)\n",
    "attacks_df.columns = 'has_multiattack attack_bonus damage difficulty_class'.split(' ')"
   ]
  },
  {
   "cell_type": "markdown",
   "metadata": {},
   "source": [
    "## Special abilities"
   ]
  },
  {
   "cell_type": "code",
   "execution_count": 15,
   "metadata": {},
   "outputs": [
    {
     "data": {
      "text/plain": [
       "{('name', 'desc', 'attack_bonus'),\n",
       " ('name', 'desc', 'attack_bonus', 'damage_dice')}"
      ]
     },
     "execution_count": 15,
     "metadata": {},
     "output_type": "execute_result"
    }
   ],
   "source": [
    "special_keys = {tuple(ability.keys()) for abilities in monster_df.special_abilities for ability in abilities}\n",
    "special_keys"
   ]
  },
  {
   "cell_type": "code",
   "execution_count": 16,
   "metadata": {
    "collapsed": true
   },
   "outputs": [],
   "source": [
    "def make_special_abilities_df(x):\n",
    "    df = pd.DataFrame(x.iloc[0], columns=['name', 'desc', 'attack_bonus', 'damage_dice'])\n",
    "    df = df.rename(index=str, columns={'name':'special_ability'})\n",
    "    df = df.set_index(['special_ability'])\n",
    "    return df\n",
    "\n",
    "special_abilities_df = monster_df.special_abilities.groupby('name').apply(make_special_abilities_df)"
   ]
  },
  {
   "cell_type": "code",
   "execution_count": 61,
   "metadata": {},
   "outputs": [
    {
     "data": {
      "text/html": [
       "<div>\n",
       "<style>\n",
       "    .dataframe thead tr:only-child th {\n",
       "        text-align: right;\n",
       "    }\n",
       "\n",
       "    .dataframe thead th {\n",
       "        text-align: left;\n",
       "    }\n",
       "\n",
       "    .dataframe tbody tr th {\n",
       "        vertical-align: top;\n",
       "    }\n",
       "</style>\n",
       "<table border=\"1\" class=\"dataframe\">\n",
       "  <thead>\n",
       "    <tr style=\"text-align: right;\">\n",
       "      <th></th>\n",
       "      <th></th>\n",
       "      <th>desc</th>\n",
       "      <th>attack_bonus</th>\n",
       "      <th>damage_dice</th>\n",
       "    </tr>\n",
       "    <tr>\n",
       "      <th>name</th>\n",
       "      <th>special_ability</th>\n",
       "      <th></th>\n",
       "      <th></th>\n",
       "      <th></th>\n",
       "    </tr>\n",
       "  </thead>\n",
       "  <tbody>\n",
       "    <tr>\n",
       "      <th rowspan=\"3\" valign=\"top\">Aboleth</th>\n",
       "      <th>Amphibious</th>\n",
       "      <td>The aboleth can breathe air and water.</td>\n",
       "      <td>0</td>\n",
       "      <td>NaN</td>\n",
       "    </tr>\n",
       "    <tr>\n",
       "      <th>Mucous Cloud</th>\n",
       "      <td>While underwater, the aboleth is surrounded by...</td>\n",
       "      <td>0</td>\n",
       "      <td>NaN</td>\n",
       "    </tr>\n",
       "    <tr>\n",
       "      <th>Probing Telepathy</th>\n",
       "      <td>If a creature communicates telepathically with...</td>\n",
       "      <td>0</td>\n",
       "      <td>NaN</td>\n",
       "    </tr>\n",
       "    <tr>\n",
       "      <th>Acolyte</th>\n",
       "      <th>Spellcasting</th>\n",
       "      <td>The acolyte is a 1st-level spellcaster. Its sp...</td>\n",
       "      <td>0</td>\n",
       "      <td>NaN</td>\n",
       "    </tr>\n",
       "    <tr>\n",
       "      <th rowspan=\"2\" valign=\"top\">Adult Black Dragon</th>\n",
       "      <th>Amphibious</th>\n",
       "      <td>The dragon can breathe air and water.</td>\n",
       "      <td>0</td>\n",
       "      <td>NaN</td>\n",
       "    </tr>\n",
       "    <tr>\n",
       "      <th>Legendary Resistance (3/Day)</th>\n",
       "      <td>If the dragon fails a saving throw, it can cho...</td>\n",
       "      <td>0</td>\n",
       "      <td>NaN</td>\n",
       "    </tr>\n",
       "    <tr>\n",
       "      <th rowspan=\"2\" valign=\"top\">Adult Blue Dracolich</th>\n",
       "      <th>Legendary Resistance (3/Day)</th>\n",
       "      <td>If the dracolich fails a saving throw, it can ...</td>\n",
       "      <td>0</td>\n",
       "      <td>NaN</td>\n",
       "    </tr>\n",
       "    <tr>\n",
       "      <th>Magic Resistance</th>\n",
       "      <td>The dracolich has advantage on saving throws a...</td>\n",
       "      <td>0</td>\n",
       "      <td>NaN</td>\n",
       "    </tr>\n",
       "    <tr>\n",
       "      <th>Adult Blue Dragon</th>\n",
       "      <th>Legendary Resistance (3/Day)</th>\n",
       "      <td>If the dragon fails a saving throw, it can cho...</td>\n",
       "      <td>0</td>\n",
       "      <td>NaN</td>\n",
       "    </tr>\n",
       "    <tr>\n",
       "      <th>Adult Brass Dragon</th>\n",
       "      <th>Legendary Resistance (3/Day)</th>\n",
       "      <td>If the dragon fails a saving throw, it can cho...</td>\n",
       "      <td>0</td>\n",
       "      <td>NaN</td>\n",
       "    </tr>\n",
       "  </tbody>\n",
       "</table>\n",
       "</div>"
      ],
      "text/plain": [
       "                                                                                                desc  \\\n",
       "name                 special_ability                                                                   \n",
       "Aboleth              Amphibious                               The aboleth can breathe air and water.   \n",
       "                     Mucous Cloud                  While underwater, the aboleth is surrounded by...   \n",
       "                     Probing Telepathy             If a creature communicates telepathically with...   \n",
       "Acolyte              Spellcasting                  The acolyte is a 1st-level spellcaster. Its sp...   \n",
       "Adult Black Dragon   Amphibious                                The dragon can breathe air and water.   \n",
       "                     Legendary Resistance (3/Day)  If the dragon fails a saving throw, it can cho...   \n",
       "Adult Blue Dracolich Legendary Resistance (3/Day)  If the dracolich fails a saving throw, it can ...   \n",
       "                     Magic Resistance              The dracolich has advantage on saving throws a...   \n",
       "Adult Blue Dragon    Legendary Resistance (3/Day)  If the dragon fails a saving throw, it can cho...   \n",
       "Adult Brass Dragon   Legendary Resistance (3/Day)  If the dragon fails a saving throw, it can cho...   \n",
       "\n",
       "                                                  attack_bonus damage_dice  \n",
       "name                 special_ability                                        \n",
       "Aboleth              Amphibious                              0         NaN  \n",
       "                     Mucous Cloud                            0         NaN  \n",
       "                     Probing Telepathy                       0         NaN  \n",
       "Acolyte              Spellcasting                            0         NaN  \n",
       "Adult Black Dragon   Amphibious                              0         NaN  \n",
       "                     Legendary Resistance (3/Day)            0         NaN  \n",
       "Adult Blue Dracolich Legendary Resistance (3/Day)            0         NaN  \n",
       "                     Magic Resistance                        0         NaN  \n",
       "Adult Blue Dragon    Legendary Resistance (3/Day)            0         NaN  \n",
       "Adult Brass Dragon   Legendary Resistance (3/Day)            0         NaN  "
      ]
     },
     "execution_count": 61,
     "metadata": {},
     "output_type": "execute_result"
    }
   ],
   "source": [
    "special_abilities_df.head(10)"
   ]
  },
  {
   "cell_type": "code",
   "execution_count": 56,
   "metadata": {},
   "outputs": [
    {
     "data": {
      "text/plain": [
       "[('Magic Resistance', 32),\n",
       " ('Amphibious', 30),\n",
       " ('Legendary Resistance (3/Day)', 24),\n",
       " ('Innate Spellcasting', 20),\n",
       " ('Keen Smell', 19),\n",
       " ('Pack Tactics', 16),\n",
       " ('False Appearance', 15),\n",
       " ('Spider Climb', 13),\n",
       " ('Keen Hearing and Smell', 13),\n",
       " ('Spellcasting', 12),\n",
       " ('Magic Weapons', 12),\n",
       " ('Charge', 12),\n",
       " ('Shapechanger', 11),\n",
       " ('Swarm', 10),\n",
       " ('Water Breathing', 9)]"
      ]
     },
     "execution_count": 56,
     "metadata": {},
     "output_type": "execute_result"
    }
   ],
   "source": [
    "from collections import Counter\n",
    "\n",
    "abilities = Counter(special_abilities_df.reset_index().special_ability)\n",
    "abilities.most_common(15)"
   ]
  },
  {
   "cell_type": "code",
   "execution_count": 57,
   "metadata": {},
   "outputs": [
    {
     "data": {
      "text/plain": [
       "[('Magic Resistance', 32),\n",
       " ('Amphibious', 30),\n",
       " ('Legendary Resistance (3/Day)', 24),\n",
       " ('Innate Spellcasting', 20),\n",
       " ('Keen Smell', 19),\n",
       " ('Pack Tactics', 16),\n",
       " ('False Appearance', 15),\n",
       " ('Spider Climb', 13),\n",
       " ('Keen Hearing and Smell', 13),\n",
       " ('Spellcasting', 12),\n",
       " ('Magic Weapons', 12),\n",
       " ('Charge', 12),\n",
       " ('Shapechanger', 11),\n",
       " ('Swarm', 10),\n",
       " ('Water Breathing', 9)]"
      ]
     },
     "execution_count": 57,
     "metadata": {},
     "output_type": "execute_result"
    }
   ],
   "source": [
    "from functools import reduce\n",
    "\n",
    "name_lists = monster_df.special_abilities.apply(lambda x: [y['name'] for y in x])\n",
    "abilities = Counter(reduce(lambda x, y: x + y, name_lists, []))\n",
    "abilities.most_common(15)"
   ]
  },
  {
   "cell_type": "code",
   "execution_count": 73,
   "metadata": {
    "scrolled": true
   },
   "outputs": [
    {
     "data": {
      "text/html": [
       "<div>\n",
       "<style>\n",
       "    .dataframe thead tr:only-child th {\n",
       "        text-align: right;\n",
       "    }\n",
       "\n",
       "    .dataframe thead th {\n",
       "        text-align: left;\n",
       "    }\n",
       "\n",
       "    .dataframe tbody tr th {\n",
       "        vertical-align: top;\n",
       "    }\n",
       "</style>\n",
       "<table border=\"1\" class=\"dataframe\">\n",
       "  <thead>\n",
       "    <tr style=\"text-align: right;\">\n",
       "      <th></th>\n",
       "      <th></th>\n",
       "      <th>desc</th>\n",
       "      <th>attack_bonus</th>\n",
       "      <th>damage_dice</th>\n",
       "    </tr>\n",
       "    <tr>\n",
       "      <th>name</th>\n",
       "      <th>special_ability</th>\n",
       "      <th></th>\n",
       "      <th></th>\n",
       "      <th></th>\n",
       "    </tr>\n",
       "  </thead>\n",
       "  <tbody>\n",
       "    <tr>\n",
       "      <th>Acolyte</th>\n",
       "      <th>Spellcasting</th>\n",
       "      <td>The acolyte is a 1st-level spellcaster. Its sp...</td>\n",
       "      <td>0</td>\n",
       "      <td>NaN</td>\n",
       "    </tr>\n",
       "    <tr>\n",
       "      <th>Androsphinx</th>\n",
       "      <th>Spellcasting</th>\n",
       "      <td>The sphinx is a 12th-level spellcaster. Its sp...</td>\n",
       "      <td>0</td>\n",
       "      <td>NaN</td>\n",
       "    </tr>\n",
       "    <tr>\n",
       "      <th>Archmage</th>\n",
       "      <th>Spellcasting</th>\n",
       "      <td>The archmage is an 18th-level spellcaster. Its...</td>\n",
       "      <td>0</td>\n",
       "      <td>NaN</td>\n",
       "    </tr>\n",
       "    <tr>\n",
       "      <th>Cult Fanatic</th>\n",
       "      <th>Spellcasting</th>\n",
       "      <td>The fanatic is a 4th-level spellcaster. Its sp...</td>\n",
       "      <td>0</td>\n",
       "      <td>NaN</td>\n",
       "    </tr>\n",
       "    <tr>\n",
       "      <th>Druid</th>\n",
       "      <th>Spellcasting</th>\n",
       "      <td>The druid is a 4th-level spellcaster. Its spel...</td>\n",
       "      <td>0</td>\n",
       "      <td>NaN</td>\n",
       "    </tr>\n",
       "  </tbody>\n",
       "</table>\n",
       "</div>"
      ],
      "text/plain": [
       "                                                                           desc  \\\n",
       "name         special_ability                                                      \n",
       "Acolyte      Spellcasting     The acolyte is a 1st-level spellcaster. Its sp...   \n",
       "Androsphinx  Spellcasting     The sphinx is a 12th-level spellcaster. Its sp...   \n",
       "Archmage     Spellcasting     The archmage is an 18th-level spellcaster. Its...   \n",
       "Cult Fanatic Spellcasting     The fanatic is a 4th-level spellcaster. Its sp...   \n",
       "Druid        Spellcasting     The druid is a 4th-level spellcaster. Its spel...   \n",
       "\n",
       "                             attack_bonus damage_dice  \n",
       "name         special_ability                           \n",
       "Acolyte      Spellcasting               0         NaN  \n",
       "Androsphinx  Spellcasting               0         NaN  \n",
       "Archmage     Spellcasting               0         NaN  \n",
       "Cult Fanatic Spellcasting               0         NaN  \n",
       "Druid        Spellcasting               0         NaN  "
      ]
     },
     "execution_count": 73,
     "metadata": {},
     "output_type": "execute_result"
    }
   ],
   "source": [
    "spellcasting_df = special_abilities_df[['Spellcasting' in x for x in special_abilities_df.index]]\n",
    "spellcasting_df.head()"
   ]
  },
  {
   "cell_type": "code",
   "execution_count": 70,
   "metadata": {},
   "outputs": [
    {
     "data": {
      "text/html": [
       "<div>\n",
       "<style>\n",
       "    .dataframe thead tr:only-child th {\n",
       "        text-align: right;\n",
       "    }\n",
       "\n",
       "    .dataframe thead th {\n",
       "        text-align: left;\n",
       "    }\n",
       "\n",
       "    .dataframe tbody tr th {\n",
       "        vertical-align: top;\n",
       "    }\n",
       "</style>\n",
       "<table border=\"1\" class=\"dataframe\">\n",
       "  <thead>\n",
       "    <tr style=\"text-align: right;\">\n",
       "      <th></th>\n",
       "      <th></th>\n",
       "      <th>desc</th>\n",
       "      <th>attack_bonus</th>\n",
       "      <th>damage_dice</th>\n",
       "    </tr>\n",
       "    <tr>\n",
       "      <th>name</th>\n",
       "      <th>special_ability</th>\n",
       "      <th></th>\n",
       "      <th></th>\n",
       "      <th></th>\n",
       "    </tr>\n",
       "  </thead>\n",
       "  <tbody>\n",
       "    <tr>\n",
       "      <th>Cloud Giant</th>\n",
       "      <th>Innate Spellcasting</th>\n",
       "      <td>The giant's innate spellcasting ability is Cha...</td>\n",
       "      <td>0</td>\n",
       "      <td>NaN</td>\n",
       "    </tr>\n",
       "    <tr>\n",
       "      <th>Couatl</th>\n",
       "      <th>Innate Spellcasting</th>\n",
       "      <td>The couatl's spellcasting ability is Charisma ...</td>\n",
       "      <td>0</td>\n",
       "      <td>NaN</td>\n",
       "    </tr>\n",
       "    <tr>\n",
       "      <th>Deep Gnome (Svirfneblin)</th>\n",
       "      <th>Innate Spellcasting</th>\n",
       "      <td>The gnome's innate spellcasting ability is Int...</td>\n",
       "      <td>0</td>\n",
       "      <td>NaN</td>\n",
       "    </tr>\n",
       "    <tr>\n",
       "      <th>Deva</th>\n",
       "      <th>Innate Spellcasting</th>\n",
       "      <td>The deva's spellcasting ability is Charisma (s...</td>\n",
       "      <td>0</td>\n",
       "      <td>NaN</td>\n",
       "    </tr>\n",
       "    <tr>\n",
       "      <th>Djinni</th>\n",
       "      <th>Innate Spellcasting</th>\n",
       "      <td>The djinni's innate spellcasting ability is Ch...</td>\n",
       "      <td>0</td>\n",
       "      <td>NaN</td>\n",
       "    </tr>\n",
       "  </tbody>\n",
       "</table>\n",
       "</div>"
      ],
      "text/plain": [
       "                                                                                           desc  \\\n",
       "name                     special_ability                                                          \n",
       "Cloud Giant              Innate Spellcasting  The giant's innate spellcasting ability is Cha...   \n",
       "Couatl                   Innate Spellcasting  The couatl's spellcasting ability is Charisma ...   \n",
       "Deep Gnome (Svirfneblin) Innate Spellcasting  The gnome's innate spellcasting ability is Int...   \n",
       "Deva                     Innate Spellcasting  The deva's spellcasting ability is Charisma (s...   \n",
       "Djinni                   Innate Spellcasting  The djinni's innate spellcasting ability is Ch...   \n",
       "\n",
       "                                             attack_bonus damage_dice  \n",
       "name                     special_ability                               \n",
       "Cloud Giant              Innate Spellcasting            0         NaN  \n",
       "Couatl                   Innate Spellcasting            0         NaN  \n",
       "Deep Gnome (Svirfneblin) Innate Spellcasting            0         NaN  \n",
       "Deva                     Innate Spellcasting            0         NaN  \n",
       "Djinni                   Innate Spellcasting            0         NaN  "
      ]
     },
     "execution_count": 70,
     "metadata": {},
     "output_type": "execute_result"
    }
   ],
   "source": [
    "innate_spellcasting_df = special_abilities_df[['Innate Spellcasting' in x for x in special_abilities_df.index]]\n",
    "innate_spellcasting_df.head()"
   ]
  },
  {
   "cell_type": "code",
   "execution_count": 78,
   "metadata": {},
   "outputs": [
    {
     "name": "stdout",
     "output_type": "stream",
     "text": [
      "The acolyte is a 1st-level spellcaster. Its spellcasting ability is Wisdom (spell save DC 12, +4 to hit with spell attacks). The acolyte has following cleric spells prepared:\n",
      "['• Cantrips (at will): light, sacred flame, thaumaturgy', '• 1st level (3 slots): bless, cure wounds, sanctuary']\n",
      "The sphinx is a 12th-level spellcaster. Its spellcasting ability is Wisdom (spell save DC 18, +10 to hit with spell attacks). It requires no material components to cast its spells. The sphinx has the following cleric spells prepared:\n",
      "['• Cantrips (at will): sacred flame, spare the dying, thaumaturgy', '• 1st level (4 slots): command, detect evil and good, detect magic', '• 2nd level (3 slots): lesser restoration, zone of truth', '• 3rd level (3 slots): dispel magic, tongues', '• 4th level (3 slots): banishment, freedom of movement', '• 5th level (2 slots): flame strike, greater restoration', \"• 6th level (1 slot): heroes' feast\"]\n",
      "The archmage is an 18th-level spellcaster. Its spellcasting ability is Intelligence (spell save DC 17, +9 to hit with spell attacks). The archmage can cast disguise self and invisibility at will and has the following wizard spells prepared:\n",
      "['• Cantrips (at will): fire bolt, light, mage hand, prestidigitation, shocking grasp', '• 1st level (4 slots): detect magic, identify, mage armor*, magic missile', '• 2nd level (3 slots): detect thoughts, mirror image, misty step', '• 3rd level (3 slots): counterspell,fly, lightning bolt', '• 4th level (3 slots): banishment, fire shield, stoneskin*', '• 5th level (3 slots): cone of cold, scrying, wall of force', '• 6th level (1 slot): globe of invulnerability', '• 7th level (1 slot): teleport', '• 8th level (1 slot): mind blank*', '• 9th level (1 slot): time stop', '* The archmage casts these spells on itself before combat.']\n",
      "The fanatic is a 4th-level spellcaster. Its spell casting ability is Wisdom (spell save DC 11, +3 to hit with spell attacks). The fanatic has the following cleric spells prepared:\n",
      "['Cantrips (at will): light, sacred flame, thaumaturgy', '• 1st level (4 slots): command, inflict wounds, shield of faith', '• 2nd level (3 slots): hold person, spiritual weapon']\n",
      "The druid is a 4th-level spellcaster. Its spellcasting ability is Wisdom (spell save DC 12, +4 to hit with spell attacks). It has the following druid spells prepared:\n",
      "['• Cantrips (at will): druidcraft, produce flame, shillelagh', '• 1st level (4 slots): entangle, longstrider, speak with animals, thunderwave', '• 2nd level (3 slots): animal messenger, barkskin']\n",
      "The naga is an 11th-level spellcaster. Its spellcasting ability is Wisdom (spell save DC 16, +8 to hit with spell attacks), and it needs only verbal components to cast its spells. It has the following cleric spells prepared:\n",
      "['• Cantrips (at will): mending, sacred flame, thaumaturgy', '• 1st level (4 slots): command, cure wounds, shield of faith', '• 2nd level (3 slots): calm emotions, hold person', '• 3rd level (3 slots): bestow curse, clairvoyance', '• 4th level (3 slots): banishment, freedom of movement', '• 5th level (2 slots): flame strike, geas', '• 6th level (1 slot): true seeing']\n",
      "The sphinx is a 9th-level spellcaster. Its spellcasting ability is Intelligence (spell save DC 16, +8 to hit with spell attacks). It requires no material components to cast its spells. The sphinx has the following wizard spells prepared:\n",
      "['• Cantrips (at will): mage hand, minor illusion, prestidigitation', '• 1st level (4 slots): detect magic, identify, shield', '• 2nd level (3 slots): darkness, locate object, suggestion', '• 3rd level (3 slots): dispel magic, remove curse, tongues', '• 4th level (3 slots): banishment, greater invisibility', '• 5th level (1 slot): legend lore']\n",
      "The lich is an 18th-level spellcaster. Its spellcasting ability is Intelligence (spell save DC 20, +12 to hit with spell attacks). The lich has the following wizard spells prepared:\n",
      "['• Cantrips (at will): mage hand, prestidigitation, ray of frost', '• 1st level (4 slots): detect magic, magic missile, shield, thunderwave', \"• 2nd level (3 slots): detect thoughts, invisibility, Melf's acid arrow, mirror image\", '• 3rd level (3 slots): animate dead, counterspell, dispel magic, fireball', '• 4th level (3 slots): blight, dimension door', '• 5th level (3 slots): cloudkill, scrying', '• 6th level (1 slot): disintegrate, globe of invulnerability', '• 7th level (1 slot): finger of death, plane shift', '• 8th level (1 slot): dominate monster, power word stun', '• 9th level (1 slot): power word kill']\n",
      "The mage is a 9th-level spellcaster. Its spellcasting ability is Intelligence (spell save DC 14, +6 to hit with spell attacks). The mage has the following wizard spells prepared:\n",
      "['• Cantrips (at will): fire bolt, light, mage hand, prestidigitation', '• 1st level (4 slots): detect magic, mage armor, magic missile, shield', '• 2nd level (3 slots): misty step, suggestion', '• 3rd level (3 slots): counterspell, fireball, fly', '• 4th level (3 slots): greater invisibility, ice storm', '• 5th level (1 slot): cone of cold']\n",
      "The mummy lord is a 10th-level spellcaster. Its spellcasting ability is Wisdom (spell save DC 17, +9 to hit with spell attacks). The mummy lord has the following cleric spells prepared:\n",
      "['• Cantrips (at will): sacred flame, thaumaturgy', '• 1st level (4 slots): command, guiding bolt, shield of faith', '• 2nd level (3 slots): hold person, silence, spiritual weapon', '• 3rd level (3 slots): animate dead, dispel magic', '• 4th level (3 slots): divination, guardian of faith', '• 5th level (2 slots): contagion, insect plague', '• 6th level (1 slot): harm']\n",
      "The priest is a 5th-level spellcaster. Its spellcasting ability is Wisdom (spell save DC 13, +5 to hit with spell attacks). The priest has the following cleric spells prepared:\n",
      "['• Cantrips (at will): light, sacred flame, thaumaturgy', '• 1st level (4 slots): cure wounds, guiding bolt, sanctuary', '• 2nd level (3 slots): lesser restoration, spiritual weapon', '• 3rd level (2 slots): dispel magic, spirit guardians']\n",
      "The naga is a 10th-level spellcaster. Its spellcasting ability is Intelligence (spell save DC 14, +6 to hit with spell attacks), and it needs only verbal components to cast its spells. It has the following wizard spells prepared:\n",
      "['• Cantrips (at will): mage hand, minor illusion, ray of frost', '• 1st level (4 slots): charm person, detect magic, sleep', '• 2nd level (3 slots): detect thoughts, hold person', '• 3rd level (3 slots): lightning bolt, water breathing', '• 4th level (3 slots): blight, dimension door', '• 5th level (2 slots): dominate person']\n"
     ]
    },
    {
     "data": {
      "text/plain": [
       "name           special_ability\n",
       "Acolyte        Spellcasting       None\n",
       "Androsphinx    Spellcasting       None\n",
       "Archmage       Spellcasting       None\n",
       "Cult Fanatic   Spellcasting       None\n",
       "Druid          Spellcasting       None\n",
       "Guardian Naga  Spellcasting       None\n",
       "Gynosphinx     Spellcasting       None\n",
       "Lich           Spellcasting       None\n",
       "Mage           Spellcasting       None\n",
       "Mummy Lord     Spellcasting       None\n",
       "Priest         Spellcasting       None\n",
       "Spirit Naga    Spellcasting       None\n",
       "Name: desc, dtype: object"
      ]
     },
     "execution_count": 78,
     "metadata": {},
     "output_type": "execute_result"
    }
   ],
   "source": [
    "def parse_spellcasting(desc):\n",
    "    header, *levels = desc.splitlines()\n",
    "    print(header)\n",
    "    print(levels[1:])\n",
    "#     return header, levels\n",
    "\n",
    "spellcasting_df.desc.apply(parse_spellcasting)"
   ]
  },
  {
   "cell_type": "markdown",
   "metadata": {},
   "source": [
    "## Special defenses\n",
    "We now apply a bit of domain knowledge to separate out the following features."
   ]
  },
  {
   "cell_type": "code",
   "execution_count": 23,
   "metadata": {
    "collapsed": true
   },
   "outputs": [],
   "source": [
    "from functools import partial, reduce\n",
    "\n",
    "def string_to_list(x, sep=','):\n",
    "    return [y.strip() for y in x.split(sep)]\n",
    "\n",
    "\n",
    "def concat(lists):\n",
    "    return reduce(lambda x, y: x + y, lists, [])\n",
    "\n",
    "\n",
    "def get_unique_values(series, sep=','):\n",
    "    lists = series.apply(partial(string_to_list, sep=sep))\n",
    "    values = concat(lists)\n",
    "    return sorted(v for v in set(values) if v)"
   ]
  },
  {
   "cell_type": "code",
   "execution_count": 24,
   "metadata": {
    "collapsed": true
   },
   "outputs": [],
   "source": [
    "condition_immunities = get_unique_values(monster_df.condition_immunities)\n",
    "damage_immunities = get_unique_values(monster_df.damage_immunities, sep=';')\n",
    "damage_resistances = get_unique_values(monster_df.damage_resistances, sep=';')\n",
    "damage_vulnerabilities = get_unique_values(monster_df.damage_vulnerabilities)"
   ]
  },
  {
   "cell_type": "code",
   "execution_count": 25,
   "metadata": {
    "scrolled": true
   },
   "outputs": [
    {
     "data": {
      "text/plain": [
       "['bludgeoning',\n",
       " 'cold',\n",
       " 'fire',\n",
       " 'piercing from magic weapons wielded by good creatures',\n",
       " 'radiant',\n",
       " 'thunder']"
      ]
     },
     "execution_count": 25,
     "metadata": {},
     "output_type": "execute_result"
    }
   ],
   "source": [
    "damage_vulnerabilities"
   ]
  },
  {
   "cell_type": "code",
   "execution_count": 26,
   "metadata": {
    "collapsed": true
   },
   "outputs": [],
   "source": [
    "CONDITIONS = ['blinded',\n",
    "              'charmed',\n",
    "              'deafened',\n",
    "              'exhaustion',\n",
    "              'fatigued',\n",
    "              'frightened',\n",
    "              'grappled',\n",
    "              'incapacitated',\n",
    "              'invisible',\n",
    "              'paralyzed',\n",
    "              'petrified',\n",
    "              'poisoned',\n",
    "              'prone',\n",
    "              'restrained',\n",
    "              'stunned',\n",
    "              'unconscious']"
   ]
  },
  {
   "cell_type": "markdown",
   "metadata": {},
   "source": [
    "## Reactions"
   ]
  },
  {
   "cell_type": "code",
   "execution_count": 27,
   "metadata": {},
   "outputs": [
    {
     "name": "stdout",
     "output_type": "stream",
     "text": [
      "name: Parry\n",
      "desc: The captain adds 2 to its AC against one melee attack that would hit it. To do so, the captain must see the attacker and be wielding a melee weapon.\n",
      "attack_bonus: 0\n",
      "\n",
      "\n",
      "name: Split\n",
      "desc: When a pudding that is Medium or larger is subjected to lightning or slashing damage, it splits into two new puddings if it has at least 10 hit points. Each new pudding has hit points equal to half the original pudding's, rounded down. New puddings are one size smaller than the original pudding.\n",
      "attack_bonus: 0\n",
      "\n",
      "\n",
      "name: Unnerving Mask\n",
      "desc: When a creature the devil can see starts its turn within 30 feet of the devil, the devil can create the illusion that it looks like one of the creature's departed loved ones or bitter enemies. If the creature can see the devil, it must succeed on a DC 14 Wisdom saving throw or be frightened until the end of its turn.\n",
      "attack_bonus: 0\n",
      "\n",
      "\n",
      "name: Parry\n",
      "desc: The erinyes adds 4 to its AC against one melee attack that would hit it. To do so, the erinyes must see the attacker and be wielding a melee weapon.\n",
      "attack_bonus: 0\n",
      "\n",
      "\n",
      "name: Parry\n",
      "desc: The gladiator adds 3 to its AC against one melee attack that would hit it. To do so, the gladiator must see the attacker and be wielding a melee weapon.\n",
      "attack_bonus: 0\n",
      "\n",
      "\n",
      "name: Parry\n",
      "desc: The knight adds 2 to its AC against one melee attack that would hit it. To do so, the knight must see the attacker and be wielding a melee weapon.\n",
      "attack_bonus: 0\n",
      "\n",
      "\n",
      "name: Parry\n",
      "desc: The marilith adds 5 to its AC against one melee attack that would hit it. To do so, the marilith must see the attacker and be wielding a melee weapon.\n",
      "attack_bonus: 0\n",
      "\n",
      "\n",
      "name: Parry\n",
      "desc: The noble adds 2 to its AC against one melee attack that would hit it. To do so, the noble must see the attacker and be wielding a melee weapon.\n",
      "attack_bonus: 0\n",
      "\n",
      "\n",
      "name: Split\n",
      "desc: When a jelly that is Medium or larger is subjected to lightning or slashing damage, it splits into two new jellies if it has at least 10 hit points. Each new jelly has hit points equal to half the original jelly's, rounded down. New jellies are one size smaller than the original jelly.\n",
      "attack_bonus: 0\n",
      "\n",
      "\n",
      "name: Shield\n",
      "desc: When a creature makes an attack against the wearer of the guardian's amulet, the guardian grants a +2 bonus to the wearer's AC if the guardian is within 5 feet of the wearer.\n",
      "attack_bonus: 0\n",
      "\n",
      "\n",
      "name: Rock Catching\n",
      "desc: If a rock or similar object is hurled at the giant, the giant can, with a successful DC 10 Dexterity saving throw, catch the missile and take no bludgeoning damage from it.\n",
      "attack_bonus: 0\n",
      "\n",
      "\n"
     ]
    }
   ],
   "source": [
    "reactions = monster_df.reactions[monster_df['reactions'].apply(lambda x: len(x) > 0)]\n",
    "for reaction in reactions: \n",
    "    for k, v in reaction[0].items():\n",
    "        print(\"{}: {}\".format(k, v))\n",
    "    print('\\n')"
   ]
  },
  {
   "cell_type": "code",
   "execution_count": null,
   "metadata": {
    "collapsed": true
   },
   "outputs": [],
   "source": []
  }
 ],
 "metadata": {
  "kernelspec": {
   "display_name": "Python 3",
   "language": "python",
   "name": "python3"
  },
  "language_info": {
   "codemirror_mode": {
    "name": "ipython",
    "version": 3
   },
   "file_extension": ".py",
   "mimetype": "text/x-python",
   "name": "python",
   "nbconvert_exporter": "python",
   "pygments_lexer": "ipython3",
   "version": "3.6.1"
  }
 },
 "nbformat": 4,
 "nbformat_minor": 2
}

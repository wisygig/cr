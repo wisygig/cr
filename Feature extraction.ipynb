{
 "cells": [
  {
   "cell_type": "code",
   "execution_count": 1,
   "metadata": {
    "collapsed": true
   },
   "outputs": [],
   "source": [
    "import numpy as np\n",
    "import pandas as pd\n",
    "\n",
    "from etl import load_monsters, _mechanics, _stats, _flavor, _skills, get_monster_df"
   ]
  },
  {
   "cell_type": "markdown",
   "metadata": {},
   "source": [
    "# Load data"
   ]
  },
  {
   "cell_type": "code",
   "execution_count": 2,
   "metadata": {
    "collapsed": true
   },
   "outputs": [],
   "source": [
    "monsters, ogl = load_monsters()\n",
    "monster_df = get_monster_df(monsters)"
   ]
  },
  {
   "cell_type": "code",
   "execution_count": 3,
   "metadata": {
    "scrolled": true
   },
   "outputs": [
    {
     "data": {
      "text/html": [
       "<div>\n",
       "<style>\n",
       "    .dataframe thead tr:only-child th {\n",
       "        text-align: right;\n",
       "    }\n",
       "\n",
       "    .dataframe thead th {\n",
       "        text-align: left;\n",
       "    }\n",
       "\n",
       "    .dataframe tbody tr th {\n",
       "        vertical-align: top;\n",
       "    }\n",
       "</style>\n",
       "<table border=\"1\" class=\"dataframe\">\n",
       "  <thead>\n",
       "    <tr style=\"text-align: right;\">\n",
       "      <th></th>\n",
       "      <th>challenge_rating</th>\n",
       "      <th>armor_class</th>\n",
       "      <th>hit_dice</th>\n",
       "      <th>hit_points</th>\n",
       "      <th>condition_immunities</th>\n",
       "      <th>damage_immunities</th>\n",
       "      <th>damage_resistances</th>\n",
       "      <th>damage_vulnerabilities</th>\n",
       "      <th>actions</th>\n",
       "      <th>reactions</th>\n",
       "      <th>legendary_actions</th>\n",
       "      <th>special_abilities</th>\n",
       "      <th>size</th>\n",
       "      <th>speed</th>\n",
       "      <th>senses</th>\n",
       "    </tr>\n",
       "    <tr>\n",
       "      <th>name</th>\n",
       "      <th></th>\n",
       "      <th></th>\n",
       "      <th></th>\n",
       "      <th></th>\n",
       "      <th></th>\n",
       "      <th></th>\n",
       "      <th></th>\n",
       "      <th></th>\n",
       "      <th></th>\n",
       "      <th></th>\n",
       "      <th></th>\n",
       "      <th></th>\n",
       "      <th></th>\n",
       "      <th></th>\n",
       "      <th></th>\n",
       "    </tr>\n",
       "  </thead>\n",
       "  <tbody>\n",
       "    <tr>\n",
       "      <th>Aboleth</th>\n",
       "      <td>10.00</td>\n",
       "      <td>17</td>\n",
       "      <td>18d10</td>\n",
       "      <td>135</td>\n",
       "      <td></td>\n",
       "      <td></td>\n",
       "      <td></td>\n",
       "      <td></td>\n",
       "      <td>[{'name': 'Multiattack', 'desc': 'The aboleth ...</td>\n",
       "      <td>[]</td>\n",
       "      <td>[{'name': 'Detect', 'desc': 'The aboleth makes...</td>\n",
       "      <td>[{'name': 'Amphibious', 'desc': 'The aboleth c...</td>\n",
       "      <td>Large</td>\n",
       "      <td>10 ft., swim 40 ft.</td>\n",
       "      <td>darkvision 120 ft., passive Perception 20</td>\n",
       "    </tr>\n",
       "    <tr>\n",
       "      <th>Acolyte</th>\n",
       "      <td>0.25</td>\n",
       "      <td>10</td>\n",
       "      <td>2d8</td>\n",
       "      <td>9</td>\n",
       "      <td></td>\n",
       "      <td></td>\n",
       "      <td></td>\n",
       "      <td></td>\n",
       "      <td>[{'name': 'Club', 'desc': 'Melee Weapon Attack...</td>\n",
       "      <td>[]</td>\n",
       "      <td>[]</td>\n",
       "      <td>[{'name': 'Spellcasting', 'desc': 'The acolyte...</td>\n",
       "      <td>Medium</td>\n",
       "      <td>30 ft.</td>\n",
       "      <td>passive Perception 12</td>\n",
       "    </tr>\n",
       "    <tr>\n",
       "      <th>Adult Black Dragon</th>\n",
       "      <td>14.00</td>\n",
       "      <td>19</td>\n",
       "      <td>17d12</td>\n",
       "      <td>195</td>\n",
       "      <td></td>\n",
       "      <td>acid</td>\n",
       "      <td></td>\n",
       "      <td></td>\n",
       "      <td>[{'name': 'Multiattack', 'desc': 'The dragon c...</td>\n",
       "      <td>[]</td>\n",
       "      <td>[{'name': 'Detect', 'desc': 'The dragon makes ...</td>\n",
       "      <td>[{'name': 'Amphibious', 'desc': 'The dragon ca...</td>\n",
       "      <td>Huge</td>\n",
       "      <td>40 ft., fly 80 ft., swim 40 ft.</td>\n",
       "      <td>blindsight 60 ft., darkvision 120 ft., passive...</td>\n",
       "    </tr>\n",
       "    <tr>\n",
       "      <th>Adult Blue Dracolich</th>\n",
       "      <td>17.00</td>\n",
       "      <td>19</td>\n",
       "      <td>18d12</td>\n",
       "      <td>225</td>\n",
       "      <td>charmed, exhaustion, frightened, paralyzed, po...</td>\n",
       "      <td>lightning, poison</td>\n",
       "      <td>necrotic</td>\n",
       "      <td></td>\n",
       "      <td>[{'name': 'Multiattack', 'desc': 'The dracolic...</td>\n",
       "      <td>[]</td>\n",
       "      <td>[{'name': 'Detect', 'desc': 'The dracolich mak...</td>\n",
       "      <td>[{'name': 'Legendary Resistance (3/Day)', 'des...</td>\n",
       "      <td>Huge</td>\n",
       "      <td>40 ft., burrow 30 ft., fly 80 ft.</td>\n",
       "      <td>blindsight 60 ft., darkvision 120 ft., passive...</td>\n",
       "    </tr>\n",
       "    <tr>\n",
       "      <th>Adult Blue Dragon</th>\n",
       "      <td>16.00</td>\n",
       "      <td>19</td>\n",
       "      <td>18d12</td>\n",
       "      <td>225</td>\n",
       "      <td></td>\n",
       "      <td>lightning</td>\n",
       "      <td></td>\n",
       "      <td></td>\n",
       "      <td>[{'name': 'Multiattack', 'desc': 'The dragon c...</td>\n",
       "      <td>[]</td>\n",
       "      <td>[{'name': 'Detect', 'desc': 'The dragon makes ...</td>\n",
       "      <td>[{'name': 'Legendary Resistance (3/Day)', 'des...</td>\n",
       "      <td>Huge</td>\n",
       "      <td>40 ft., burrow 30 ft., fly 80 ft.</td>\n",
       "      <td>blindsight 60 ft., darkvision 120 ft., passive...</td>\n",
       "    </tr>\n",
       "  </tbody>\n",
       "</table>\n",
       "</div>"
      ],
      "text/plain": [
       "                      challenge_rating  armor_class hit_dice  hit_points  \\\n",
       "name                                                                       \n",
       "Aboleth                          10.00           17    18d10         135   \n",
       "Acolyte                           0.25           10      2d8           9   \n",
       "Adult Black Dragon               14.00           19    17d12         195   \n",
       "Adult Blue Dracolich             17.00           19    18d12         225   \n",
       "Adult Blue Dragon                16.00           19    18d12         225   \n",
       "\n",
       "                                                   condition_immunities  \\\n",
       "name                                                                      \n",
       "Aboleth                                                                   \n",
       "Acolyte                                                                   \n",
       "Adult Black Dragon                                                        \n",
       "Adult Blue Dracolich  charmed, exhaustion, frightened, paralyzed, po...   \n",
       "Adult Blue Dragon                                                         \n",
       "\n",
       "                      damage_immunities damage_resistances  \\\n",
       "name                                                         \n",
       "Aboleth                                                      \n",
       "Acolyte                                                      \n",
       "Adult Black Dragon                 acid                      \n",
       "Adult Blue Dracolich  lightning, poison           necrotic   \n",
       "Adult Blue Dragon             lightning                      \n",
       "\n",
       "                     damage_vulnerabilities  \\\n",
       "name                                          \n",
       "Aboleth                                       \n",
       "Acolyte                                       \n",
       "Adult Black Dragon                            \n",
       "Adult Blue Dracolich                          \n",
       "Adult Blue Dragon                             \n",
       "\n",
       "                                                                actions  \\\n",
       "name                                                                      \n",
       "Aboleth               [{'name': 'Multiattack', 'desc': 'The aboleth ...   \n",
       "Acolyte               [{'name': 'Club', 'desc': 'Melee Weapon Attack...   \n",
       "Adult Black Dragon    [{'name': 'Multiattack', 'desc': 'The dragon c...   \n",
       "Adult Blue Dracolich  [{'name': 'Multiattack', 'desc': 'The dracolic...   \n",
       "Adult Blue Dragon     [{'name': 'Multiattack', 'desc': 'The dragon c...   \n",
       "\n",
       "                     reactions  \\\n",
       "name                             \n",
       "Aboleth                     []   \n",
       "Acolyte                     []   \n",
       "Adult Black Dragon          []   \n",
       "Adult Blue Dracolich        []   \n",
       "Adult Blue Dragon           []   \n",
       "\n",
       "                                                      legendary_actions  \\\n",
       "name                                                                      \n",
       "Aboleth               [{'name': 'Detect', 'desc': 'The aboleth makes...   \n",
       "Acolyte                                                              []   \n",
       "Adult Black Dragon    [{'name': 'Detect', 'desc': 'The dragon makes ...   \n",
       "Adult Blue Dracolich  [{'name': 'Detect', 'desc': 'The dracolich mak...   \n",
       "Adult Blue Dragon     [{'name': 'Detect', 'desc': 'The dragon makes ...   \n",
       "\n",
       "                                                      special_abilities  \\\n",
       "name                                                                      \n",
       "Aboleth               [{'name': 'Amphibious', 'desc': 'The aboleth c...   \n",
       "Acolyte               [{'name': 'Spellcasting', 'desc': 'The acolyte...   \n",
       "Adult Black Dragon    [{'name': 'Amphibious', 'desc': 'The dragon ca...   \n",
       "Adult Blue Dracolich  [{'name': 'Legendary Resistance (3/Day)', 'des...   \n",
       "Adult Blue Dragon     [{'name': 'Legendary Resistance (3/Day)', 'des...   \n",
       "\n",
       "                        size                              speed  \\\n",
       "name                                                              \n",
       "Aboleth                Large                10 ft., swim 40 ft.   \n",
       "Acolyte               Medium                             30 ft.   \n",
       "Adult Black Dragon      Huge    40 ft., fly 80 ft., swim 40 ft.   \n",
       "Adult Blue Dracolich    Huge  40 ft., burrow 30 ft., fly 80 ft.   \n",
       "Adult Blue Dragon       Huge  40 ft., burrow 30 ft., fly 80 ft.   \n",
       "\n",
       "                                                                 senses  \n",
       "name                                                                     \n",
       "Aboleth                       darkvision 120 ft., passive Perception 20  \n",
       "Acolyte                                           passive Perception 12  \n",
       "Adult Black Dragon    blindsight 60 ft., darkvision 120 ft., passive...  \n",
       "Adult Blue Dracolich  blindsight 60 ft., darkvision 120 ft., passive...  \n",
       "Adult Blue Dragon     blindsight 60 ft., darkvision 120 ft., passive...  "
      ]
     },
     "execution_count": 3,
     "metadata": {},
     "output_type": "execute_result"
    }
   ],
   "source": [
    "monster_df[_mechanics].head()"
   ]
  },
  {
   "cell_type": "markdown",
   "metadata": {},
   "source": [
    "# Feature extraction\n",
    "At this stage, we'll restrict ourselves to simple feature extraction and engineering. Let's first consider the `actions` column of `monster_df`. We first familiarize ourselves with the data."
   ]
  },
  {
   "cell_type": "code",
   "execution_count": 4,
   "metadata": {},
   "outputs": [
    {
     "data": {
      "text/plain": [
       "{('name', 'desc', 'attack_bonus'),\n",
       " ('name', 'desc', 'attack_bonus', 'damage_bonus'),\n",
       " ('name', 'desc', 'attack_bonus', 'damage_dice'),\n",
       " ('name', 'desc', 'attack_bonus', 'damage_dice', 'damage_bonus')}"
      ]
     },
     "execution_count": 4,
     "metadata": {},
     "output_type": "execute_result"
    }
   ],
   "source": [
    "actions_keys = {tuple(action.keys()) for actions in monster_df.actions for action in actions}\n",
    "actions_keys"
   ]
  },
  {
   "cell_type": "code",
   "execution_count": 5,
   "metadata": {},
   "outputs": [
    {
     "data": {
      "text/plain": [
       "[{'attack_bonus': 0,\n",
       "  'desc': 'The aboleth makes three tentacle attacks.',\n",
       "  'name': 'Multiattack'},\n",
       " {'attack_bonus': 9,\n",
       "  'damage_bonus': 5,\n",
       "  'damage_dice': '2d6',\n",
       "  'desc': \"Melee Weapon Attack: +9 to hit, reach 10 ft., one target. Hit: 12 (2d6 + 5) bludgeoning damage. If the target is a creature, it must succeed on a DC 14 Constitution saving throw or become diseased. The disease has no effect for 1 minute and can be removed by any magic that cures disease. After 1 minute, the diseased creature's skin becomes translucent and slimy, the creature can't regain hit points unless it is underwater, and the disease can be removed only by heal or another disease-curing spell of 6th level or higher. When the creature is outside a body of water, it takes 6 (1d12) acid damage every 10 minutes unless moisture is applied to the skin before 10 minutes have passed.\",\n",
       "  'name': 'Tentacle'},\n",
       " {'attack_bonus': 9,\n",
       "  'damage_bonus': 5,\n",
       "  'damage_dice': '3d6',\n",
       "  'desc': 'Melee Weapon Attack: +9 to hit, reach 10 ft. one target. Hit: 15 (3d6 + 5) bludgeoning damage.',\n",
       "  'name': 'Tail'},\n",
       " {'attack_bonus': 0,\n",
       "  'desc': \"The aboleth targets one creature it can see within 30 ft. of it. The target must succeed on a DC 14 Wisdom saving throw or be magically charmed by the aboleth until the aboleth dies or until it is on a different plane of existence from the target. The charmed target is under the aboleth's control and can't take reactions, and the aboleth and the target can communicate telepathically with each other over any distance.\\nWhenever the charmed target takes damage, the target can repeat the saving throw. On a success, the effect ends. No more than once every 24 hours, the target can also repeat the saving throw when it is at least 1 mile away from the aboleth.\",\n",
       "  'name': 'Enslave (3/day)'}]"
      ]
     },
     "execution_count": 5,
     "metadata": {},
     "output_type": "execute_result"
    }
   ],
   "source": [
    "monster_df.loc['Aboleth'].actions"
   ]
  },
  {
   "cell_type": "code",
   "execution_count": 6,
   "metadata": {},
   "outputs": [
    {
     "data": {
      "text/plain": [
       "[{'attack_bonus': 0,\n",
       "  'damage_bonus': 1,\n",
       "  'desc': 'Melee Weapon Attack: +0 to hit, reach 5 ft., one target. Hit: 1 piercing damage.',\n",
       "  'name': 'Bite'}]"
      ]
     },
     "execution_count": 6,
     "metadata": {},
     "output_type": "execute_result"
    }
   ],
   "source": [
    "monster_df.actions['Rat']"
   ]
  },
  {
   "cell_type": "code",
   "execution_count": 7,
   "metadata": {
    "collapsed": true
   },
   "outputs": [],
   "source": [
    "from collections import namedtuple\n",
    "from functools import partial, reduce\n",
    "import re\n",
    "\n",
    "\n",
    "get_dc = partial(re.findall,\n",
    "                 re.compile(r'\\bDC (\\d+) (' \\\n",
    "                            + r'|'.join(stat.capitalize() for stat in _stats) \\\n",
    "                            + r')\\b'))\n",
    "\n",
    "get_dice = partial(re.findall, re.compile(r'\\b(\\d+)?d(\\d+)\\b'))\n",
    "\n"
   ]
  },
  {
   "cell_type": "code",
   "execution_count": 8,
   "metadata": {},
   "outputs": [
    {
     "data": {
      "text/plain": [
       "name\n",
       "Aboleth                 [{'name': 'Enslave (3/day)', 'desc': 'The abol...\n",
       "Adult Black Dragon      [{'name': 'Frightful Presence', 'desc': 'Each ...\n",
       "Adult Blue Dracolich    [{'name': 'Frightful Presence', 'desc': 'Each ...\n",
       "Adult Blue Dragon       [{'name': 'Frightful Presence', 'desc': 'Each ...\n",
       "Adult Brass Dragon      [{'name': 'Frightful Presence', 'desc': 'Each ...\n",
       "Name: actions, dtype: object"
      ]
     },
     "execution_count": 8,
     "metadata": {},
     "output_type": "execute_result"
    }
   ],
   "source": [
    "# summary tools\n",
    "def has_properties(x, pos=[], neg=[]):\n",
    "    return any(all([z in y for z in pos] + [z not in y for z in neg]) for y in x)\n",
    "\n",
    "\n",
    "def parse_actions(actions):\n",
    "    multi = False\n",
    "    for action in actions:\n",
    "        if action['name'] == 'Multiattack':\n",
    "            multi = True\n",
    "            continue\n",
    "        attack_bonus = action.get('attack_bonus', 0)\n",
    "        damage_bonus = action.get('damage_bonus', 0)\n",
    "        damage_dice = action.get('damage_dice', '')\n",
    "        dcs = get_dc(action.get('desc'))\n",
    "    return multi, attack_bonus, damage_bonus, damage_dice, dcs\n",
    "neg=['damage_dice', 'damage_bonus']\n",
    "def has_special_action(actions):\n",
    "    return any(is_special_action(action) for action in actions)\n",
    "\n",
    "def is_special_action(action):\n",
    "    return 'Multiattack' not in action['name'] and all([z not in action for z in neg])\n",
    "\n",
    "def get_special_action(actions):\n",
    "    return [action for action in actions if is_special_action(action)]\n",
    "\n",
    "monster_df.actions[monster_df.actions.apply(has_special_action)].apply(get_special_action).head()"
   ]
  },
  {
   "cell_type": "code",
   "execution_count": 9,
   "metadata": {},
   "outputs": [
    {
     "data": {
      "text/plain": [
       "[{'attack_bonus': 0,\n",
       "  'desc': 'The wereboar makes two attacks, only one of which can be with its tusks.',\n",
       "  'name': 'Multiattack (Humanoid or Hybrid Form Only)'},\n",
       " {'attack_bonus': 5,\n",
       "  'damage_bonus': 3,\n",
       "  'damage_dice': '2d6',\n",
       "  'desc': 'Melee Weapon Attack: +5 to hit, reach 5 ft., one target. Hit: 10 (2d6 + 3) bludgeoning damage.',\n",
       "  'name': 'Maul (Humanoid or Hybrid Form Only)'},\n",
       " {'attack_bonus': 5,\n",
       "  'damage_bonus': 3,\n",
       "  'damage_dice': '2d6',\n",
       "  'desc': 'Melee Weapon Attack: +5 to hit, reach 5 ft., one target. Hit: 10 (2d6 + 3) slashing damage. If the target is a humanoid, it must succeed on a DC 12 Constitution saving throw or be cursed with wereboar lycanthropy.',\n",
       "  'name': 'Tusks (Boar or Hybrid Form Only)'}]"
      ]
     },
     "execution_count": 9,
     "metadata": {},
     "output_type": "execute_result"
    }
   ],
   "source": [
    "monster_df.loc['Wereboar'].actions"
   ]
  },
  {
   "cell_type": "code",
   "execution_count": 10,
   "metadata": {},
   "outputs": [
    {
     "data": {
      "text/plain": [
       "name\n",
       "Badger             [{'name': 'Bite', 'desc': 'Melee Weapon Attack...\n",
       "Bat                [{'name': 'Bite', 'desc': 'Melee Weapon Attack...\n",
       "Cat                [{'name': 'Claws', 'desc': 'Melee Weapon Attac...\n",
       "Crab               [{'name': 'Claw', 'desc': 'Melee Weapon Attack...\n",
       "Flying Snake       [{'name': 'Bite', 'desc': 'Melee Weapon Attack...\n",
       "Hawk               [{'name': 'Talons', 'desc': 'Melee Weapon Atta...\n",
       "Homunculus         [{'name': 'Bite', 'desc': 'Melee Weapon Attack...\n",
       "Lizard             [{'name': 'Bite', 'desc': 'Melee Weapon Attack...\n",
       "Octopus            [{'name': 'Tentacles', 'desc': 'Melee Weapon A...\n",
       "Owl                [{'name': 'Talons', 'desc': 'Melee Weapon Atta...\n",
       "Poisonous Snake    [{'name': 'Bite', 'desc': 'Melee Weapon Attack...\n",
       "Quipper            [{'name': 'Bite', 'desc': 'Melee Weapon Attack...\n",
       "Rat                [{'name': 'Bite', 'desc': 'Melee Weapon Attack...\n",
       "Scorpion           [{'name': 'Sting', 'desc': 'Melee Weapon Attac...\n",
       "Spider             [{'name': 'Bite', 'desc': 'Melee Weapon Attack...\n",
       "Sprite             [{'name': 'Longsword', 'desc': 'Melee Weapon A...\n",
       "Weasel             [{'name': 'Bite', 'desc': 'Melee Weapon Attack...\n",
       "Name: actions, dtype: object"
      ]
     },
     "execution_count": 10,
     "metadata": {},
     "output_type": "execute_result"
    }
   ],
   "source": [
    "f = partial(has_properties, pos=['damage_bonus'], neg=['damage_dice'])\n",
    "\n",
    "monster_df.actions[monster_df.actions.apply(f)]"
   ]
  },
  {
   "cell_type": "code",
   "execution_count": 11,
   "metadata": {},
   "outputs": [
    {
     "data": {
      "text/plain": [
       "[('14', 'Wisdom')]"
      ]
     },
     "execution_count": 11,
     "metadata": {},
     "output_type": "execute_result"
    }
   ],
   "source": [
    "get_dc(monster_df.actions[0][3]['desc'])"
   ]
  },
  {
   "cell_type": "markdown",
   "metadata": {},
   "source": [
    "## Actions"
   ]
  },
  {
   "cell_type": "code",
   "execution_count": 12,
   "metadata": {
    "collapsed": true
   },
   "outputs": [],
   "source": [
    "from collections import namedtuple\n",
    "Summary = namedtuple('Summary', field_names='has_multiattack attack_bonus damage difficulty_class')\n",
    "\n",
    "def summarize_actions(actions):\n",
    "    has_multiattack = 1 if any('Multiattack' in action['name'] for action in actions) else 0\n",
    "    action_summaries = [summarize(action) for action in actions]\n",
    "    if action_summaries:\n",
    "        max_attack_bonus = max(action['attack_bonus'] for action in action_summaries)\n",
    "        max_damage = max(action['damage'] for action in action_summaries)\n",
    "        max_difficulty_class = max(action['difficulty_class'] for action in action_summaries)\n",
    "        summary = Summary(has_multiattack=has_multiattack, \n",
    "                          attack_bonus=max_attack_bonus, \n",
    "                          damage=max_damage, \n",
    "                          difficulty_class=max_difficulty_class)\n",
    "    else:\n",
    "        summary = Summary(has_multiattack=0,\n",
    "                          attack_bonus=2,\n",
    "                          damage=1,\n",
    "                          difficulty_class=10)\n",
    "    return summary\n",
    "\n",
    "\n",
    "def summarize(action):\n",
    "    difficulty_class = get_dc(action['desc'])\n",
    "    attack_bonus = int(action.get('attack_bonus', '0'))\n",
    "    damage_dice = action.get('damage_dice', '0d0')\n",
    "    damage_bonus = int(action.get('damage_bonus', '0'))\n",
    "    return {'attack_bonus': attack_bonus,\n",
    "            'damage': get_damage_potential(damage_dice, damage_bonus),\n",
    "            'difficulty_class': get_max_dc(difficulty_class)}\n",
    "\n",
    "def get_damage_potential(damage_dice, damage_bonus):\n",
    "    damage = damage_bonus\n",
    "    for roll in damage_dice.split(' + '):\n",
    "        n, size = get_dice(roll)[0]\n",
    "        damage += int(n) * int(size)\n",
    "    return damage\n",
    "\n",
    "def get_max_dc(difficulty_class):\n",
    "    if difficulty_class:\n",
    "        return max([int(x[0]) for x in difficulty_class if x])\n",
    "    else:\n",
    "        return 10"
   ]
  },
  {
   "cell_type": "code",
   "execution_count": 13,
   "metadata": {
    "collapsed": true
   },
   "outputs": [],
   "source": [
    "attacks = monster_df.actions.apply(summarize_actions)"
   ]
  },
  {
   "cell_type": "code",
   "execution_count": 14,
   "metadata": {
    "collapsed": true
   },
   "outputs": [],
   "source": [
    "attacks_df = pd.concat([attacks.map(lambda x: x[i]) for i in range(4)], axis=1)\n",
    "attacks_df.columns = 'has_multiattack attack_bonus damage difficulty_class'.split(' ')"
   ]
  },
  {
   "cell_type": "markdown",
   "metadata": {},
   "source": [
    "# quick linear model"
   ]
  },
  {
   "cell_type": "code",
   "execution_count": 15,
   "metadata": {
    "collapsed": true
   },
   "outputs": [],
   "source": [
    "X = pd.concat([monster_df[['armor_class', 'hit_points']], attacks_df], axis=1)"
   ]
  },
  {
   "cell_type": "code",
   "execution_count": 16,
   "metadata": {},
   "outputs": [
    {
     "name": "stderr",
     "output_type": "stream",
     "text": [
      "/Users/jason/Code/cr/lib/python3.6/site-packages/scipy/linalg/basic.py:1018: RuntimeWarning: internal gelsd driver lwork query error, required iwork dimension not returned. This is likely the result of LAPACK bug 0038, fixed in LAPACK 3.2.2 (released July 21, 2010). Falling back to 'gelss' driver.\n",
      "  warnings.warn(mesg, RuntimeWarning)\n"
     ]
    }
   ],
   "source": [
    "from sklearn.linear_model import LinearRegression\n",
    "\n",
    "lr = LinearRegression()\n",
    "y = monster_df.challenge_rating\n",
    "\n",
    "lr.fit(X, y)\n",
    "\n",
    "pred = pd.DataFrame(y)\n",
    "pred['cr_hat'] = lr.predict(X)"
   ]
  },
  {
   "cell_type": "code",
   "execution_count": 17,
   "metadata": {},
   "outputs": [
    {
     "name": "stderr",
     "output_type": "stream",
     "text": [
      "/Users/jason/Code/cr/lib/python3.6/site-packages/statsmodels/compat/pandas.py:56: FutureWarning: The pandas.core.datetools module is deprecated and will be removed in a future version. Please use the pandas.tseries module instead.\n",
      "  from pandas.core import datetools\n"
     ]
    },
    {
     "data": {
      "image/png": "[encoded data removed]",
      "text/plain": [
       "<matplotlib.figure.Figure at 0x10ff59da0>"
      ]
     },
     "metadata": {},
     "output_type": "display_data"
    },
    {
     "data": {
      "text/plain": [
       "<ggplot: (285150461)>"
      ]
     },
     "execution_count": 17,
     "metadata": {},
     "output_type": "execute_result"
    }
   ],
   "source": [
    "from plotnine import (aes, geom_abline, geom_point, ggplot)\n",
    "ggplot(pred, aes(x='challenge_rating', y='cr_hat')) + geom_point() + geom_abline(intercept = 0, slope = 1)"
   ]
  },
  {
   "cell_type": "code",
   "execution_count": 18,
   "metadata": {},
   "outputs": [
    {
     "data": {
      "text/plain": [
       "0.91243233372362997"
      ]
     },
     "execution_count": 18,
     "metadata": {},
     "output_type": "execute_result"
    }
   ],
   "source": [
    "lr.score(X, y)"
   ]
  },
  {
   "cell_type": "markdown",
   "metadata": {},
   "source": [
    "## Special abilities"
   ]
  },
  {
   "cell_type": "code",
   "execution_count": 19,
   "metadata": {},
   "outputs": [
    {
     "data": {
      "text/plain": [
       "{('name', 'desc', 'attack_bonus'),\n",
       " ('name', 'desc', 'attack_bonus', 'damage_dice')}"
      ]
     },
     "execution_count": 19,
     "metadata": {},
     "output_type": "execute_result"
    }
   ],
   "source": [
    "special_keys = {tuple(ability.keys()) for abilities in monster_df.special_abilities for ability in abilities}\n",
    "special_keys"
   ]
  },
  {
   "cell_type": "code",
   "execution_count": 20,
   "metadata": {},
   "outputs": [
    {
     "data": {
      "text/plain": [
       "[('Magic Resistance', 32),\n",
       " ('Amphibious', 30),\n",
       " ('Legendary Resistance (3/Day)', 24),\n",
       " ('Innate Spellcasting', 20),\n",
       " ('Keen Smell', 19),\n",
       " ('Pack Tactics', 16),\n",
       " ('False Appearance', 15),\n",
       " ('Spider Climb', 13),\n",
       " ('Keen Hearing and Smell', 13),\n",
       " ('Spellcasting', 12),\n",
       " ('Magic Weapons', 12),\n",
       " ('Charge', 12),\n",
       " ('Shapechanger', 11),\n",
       " ('Swarm', 10),\n",
       " ('Water Breathing', 9)]"
      ]
     },
     "execution_count": 20,
     "metadata": {},
     "output_type": "execute_result"
    }
   ],
   "source": [
    "from collections import Counter\n",
    "\n",
    "from functools import reduce\n",
    "name_lists = monster_df.special_abilities.apply(lambda x: [y['name'] for y in x])\n",
    "abilities = Counter(reduce(lambda x, y: x + y, name_lists, []))\n",
    "abilities.most_common(15)"
   ]
  },
  {
   "cell_type": "code",
   "execution_count": 51,
   "metadata": {},
   "outputs": [],
   "source": [
    "special_abilities = reduce(lambda x, y: x + y, monster_df.special_abilities, [])\n",
    "spell_casting = [ability for ability in special_abilities if 'Spellcasting' == ability['name']]\n",
    "innate_spell_casting = [ability for ability in special_abilities if 'Innate Spellcasting' == ability['name']]"
   ]
  },
  {
   "cell_type": "code",
   "execution_count": 60,
   "metadata": {},
   "outputs": [
    {
     "name": "stdout",
     "output_type": "stream",
     "text": [
      "The giant's innate spellcasting ability is Charisma. It can innately cast the following spells, requiring no material components:\n",
      "\n",
      "At will: detect magic, fog cloud, light\n",
      "3/day each: feather fall, fly, misty step, telekinesis\n",
      "1/day each: control weather, gaseous form\n",
      "\n",
      "\n",
      "\n",
      "The couatl's spellcasting ability is Charisma (spell save DC 14). It can innately cast the following spells, requiring only verbal components:\n",
      "\n",
      "At will: detect evil and good, detect magic, detect thoughts\n",
      "3/day each: bless, create food and water, cure wounds, lesser restoration, protection from poison, sanctuary, shield\n",
      "1/day each: dream, greater restoration, scrying\n",
      "\n",
      "\n",
      "\n",
      "The gnome's innate spellcasting ability is Intelligence (spell save DC 11). It can innately cast the following spells, requiring no material components:\n",
      "At will: nondetection (self only)\n",
      "1/day each: blindness/deafness, blur, disguise self\n",
      "\n",
      "\n",
      "\n",
      "The deva's spellcasting ability is Charisma (spell save DC 17). The deva can innately cast the following spells, requiring only verbal components:\n",
      "At will: detect evil and good\n",
      "1/day each: commune, raise dead\n",
      "\n",
      "\n",
      "\n",
      "The djinni's innate spellcasting ability is Charisma (spell save DC 17, +9 to hit with spell attacks). It can innately cast the following spells, requiring no material components:\n",
      "\n",
      "At will: detect evil and good, detect magic, thunderwave 3/day each: create food and water (can create wine instead of water), tongues, wind walk\n",
      "1/day each: conjure elemental (air elemental only), creation, gaseous form, invisibility, major image, plane shift\n",
      "\n",
      "\n",
      "\n",
      "The drider's innate spellcasting ability is Wisdom (spell save DC 13). The drider can innately cast the following spells, requiring no material components:\n",
      "At will: dancing lights\n",
      "1/day each: darkness, faerie fire\n",
      "\n",
      "\n",
      "\n",
      "The drow's spellcasting ability is Charisma (spell save DC 11). It can innately cast the following spells, requiring no material components:\n",
      "At will: dancing lights\n",
      "1/day each: darkness, faerie fire\n",
      "\n",
      "\n",
      "\n",
      "The dryad's innate spellcasting ability is Charisma (spell save DC 14). The dryad can innately cast the following spells, requiring no material components:\n",
      "\n",
      "At will: druidcraft\n",
      "3/day each: entangle, goodberry\n",
      "1/day each: barkskin, pass without trace, shillelagh\n",
      "\n",
      "\n",
      "\n",
      "The efreeti's innate spell casting ability is Charisma (spell save DC 15, +7 to hit with spell attacks). It can innately cast the following spells, requiring no material components:\n",
      "\n",
      "At will: detect magic\n",
      "3/day: enlarge/reduce, tongues\n",
      "1/day each: conjure elemental (fire elemental only), gaseous form, invisibility, major image, plane shift, wall of fire\n",
      "\n",
      "\n",
      "\n",
      "The glabrezu's spellcasting ability is Intelligence (spell save DC 16). The glabrezu can innately cast the following spells, requiring no material components:\n",
      "At will: darkness, detect magic, dispel magic\n",
      "1/day each: confusion, fly, power word stun\n",
      "\n",
      "\n",
      "\n",
      "The hag's innate spellcasting ability is Charisma (spell save DC 12). She can innately cast the following spells, requiring no material components:\n",
      "\n",
      "At will: dancing lights, minor illusion, vicious mockery\n",
      "\n",
      "\n",
      "\n",
      "The lamia's innate spellcasting ability is Charisma (spell save DC 13). It can innately cast the following spells, requiring no material components. At will: disguise self (any humanoid form), major image 3/day each: charm person, mirror image, scrying, suggestion 1/day: geas\n",
      "\n",
      "\n",
      "\n",
      "The hag's innate spellcasting ability is Charisma (spell save DC 14, +6 to hit with spell attacks). She can innately cast the following spells, requiring no material components:\n",
      "\n",
      "At will: detect magic, magic missile\n",
      "2/day each: plane shift (self only), ray of enfeeblement, sleep\n",
      "\n",
      "\n",
      "\n",
      "The oni's innate spellcasting ability is Charisma (spell save DC 13). The oni can innately cast the following spells, requiring no material components:\n",
      "\n",
      "At will: darkness, invisibility\n",
      "1/day each: charm person, cone of cold, gaseous form, sleep\n",
      "\n",
      "\n",
      "\n",
      "The pit fiend's spellcasting ability is Charisma (spell save DC 21). The pit fiend can innately cast the following spells, requiring no material components:\n",
      "At will: detect magic, fireball\n",
      "3/day each: hold monster, wall of fire\n",
      "\n",
      "\n",
      "\n",
      "The planetar's spellcasting ability is Charisma (spell save DC 20). The planetar can innately cast the following spells, requiring no material components:\n",
      "At will: detect evil and good, invisibility (self only)\n",
      "3/day each: blade barrier, dispel evil and good, flame strike, raise dead\n",
      "1/day each: commune, control weather, insect plague\n",
      "\n",
      "\n",
      "\n",
      "The rakshasa's innate spellcasting ability is Charisma (spell save DC 18, +10 to hit with spell attacks). The rakshasa can innately cast the following spells, requiring no material components:\n",
      "\n",
      "At will: detect thoughts, disguise self, mage hand, minor illusion\n",
      "3/day each: charm person, detect magic, invisibility, major image, suggestion\n",
      "1/day each: dominate person, fly, plane shift, true seeing\n",
      "\n",
      "\n",
      "\n",
      "The solar's spell casting ability is Charisma (spell save DC 25). It can innately cast the following spells, requiring no material components:\n",
      "At will: detect evil and good, invisibility (self only)\n",
      "3/day each: blade barrier, dispel evil and good, resurrection\n",
      "1/day each: commune, control weather\n",
      "\n",
      "\n",
      "\n",
      "The giant's innate spellcasting ability is Charisma (spell save DC 17). It can innately cast the following spells, requiring no material components:\n",
      "\n",
      "At will: detect magic, feather fall, levitate, light\n",
      "3/day each: control weather, water breathing\n",
      "\n",
      "\n",
      "\n",
      "The unicorn's innate spellcasting ability is Charisma (spell save DC 14). The unicorn can innately cast the following spells, requiring no components:\n",
      "\n",
      "At will: detect evil and good, druidcraft, pass without trace\n",
      "1/day each: calm emotions, dispel evil and good, entangle\n",
      "\n",
      "\n",
      "\n"
     ]
    }
   ],
   "source": [
    "for ability in innate_spell_casting:\n",
    "    print (ability['desc'])\n",
    "    print ('\\n\\n')"
   ]
  },
  {
   "cell_type": "code",
   "execution_count": 56,
   "metadata": {
    "collapsed": true
   },
   "outputs": [],
   "source": [
    "def parse_spellcasting(special_ability):\n",
    "    desc = special_ability['desc']\n",
    "    header, *levels = desc.splitlines()\n",
    "    return header, levels"
   ]
  },
  {
   "cell_type": "code",
   "execution_count": 67,
   "metadata": {},
   "outputs": [
    {
     "name": "stdout",
     "output_type": "stream",
     "text": [
      "The acolyte is a 1st-level spellcaster. Its spellcasting ability is Wisdom (spell save DC 12, +4 to hit with spell attacks). The acolyte has following cleric spells prepared:\n",
      "0: \n",
      "1: • Cantrips (at will): light, sacred flame, thaumaturgy\n",
      "2: • 1st level (3 slots): bless, cure wounds, sanctuary\n",
      "\n",
      "\n",
      "The sphinx is a 12th-level spellcaster. Its spellcasting ability is Wisdom (spell save DC 18, +10 to hit with spell attacks). It requires no material components to cast its spells. The sphinx has the following cleric spells prepared:\n",
      "0: \n",
      "1: • Cantrips (at will): sacred flame, spare the dying, thaumaturgy\n",
      "2: • 1st level (4 slots): command, detect evil and good, detect magic\n",
      "3: • 2nd level (3 slots): lesser restoration, zone of truth\n",
      "4: • 3rd level (3 slots): dispel magic, tongues\n",
      "5: • 4th level (3 slots): banishment, freedom of movement\n",
      "6: • 5th level (2 slots): flame strike, greater restoration\n",
      "7: • 6th level (1 slot): heroes' feast\n",
      "\n",
      "\n",
      "The archmage is an 18th-level spellcaster. Its spellcasting ability is Intelligence (spell save DC 17, +9 to hit with spell attacks). The archmage can cast disguise self and invisibility at will and has the following wizard spells prepared:\n",
      "0: \n",
      "1: • Cantrips (at will): fire bolt, light, mage hand, prestidigitation, shocking grasp\n",
      "2: • 1st level (4 slots): detect magic, identify, mage armor*, magic missile\n",
      "3: • 2nd level (3 slots): detect thoughts, mirror image, misty step\n",
      "4: • 3rd level (3 slots): counterspell,fly, lightning bolt\n",
      "5: • 4th level (3 slots): banishment, fire shield, stoneskin*\n",
      "6: • 5th level (3 slots): cone of cold, scrying, wall of force\n",
      "7: • 6th level (1 slot): globe of invulnerability\n",
      "8: • 7th level (1 slot): teleport\n",
      "9: • 8th level (1 slot): mind blank*\n",
      "10: • 9th level (1 slot): time stop\n",
      "11: * The archmage casts these spells on itself before combat.\n",
      "\n",
      "\n",
      "The fanatic is a 4th-level spellcaster. Its spell casting ability is Wisdom (spell save DC 11, +3 to hit with spell attacks). The fanatic has the following cleric spells prepared:\n",
      "0: \n",
      "1: Cantrips (at will): light, sacred flame, thaumaturgy\n",
      "2: • 1st level (4 slots): command, inflict wounds, shield of faith\n",
      "3: • 2nd level (3 slots): hold person, spiritual weapon\n",
      "\n",
      "\n",
      "The druid is a 4th-level spellcaster. Its spellcasting ability is Wisdom (spell save DC 12, +4 to hit with spell attacks). It has the following druid spells prepared:\n",
      "0: \n",
      "1: • Cantrips (at will): druidcraft, produce flame, shillelagh\n",
      "2: • 1st level (4 slots): entangle, longstrider, speak with animals, thunderwave\n",
      "3: • 2nd level (3 slots): animal messenger, barkskin\n",
      "\n",
      "\n",
      "The naga is an 11th-level spellcaster. Its spellcasting ability is Wisdom (spell save DC 16, +8 to hit with spell attacks), and it needs only verbal components to cast its spells. It has the following cleric spells prepared:\n",
      "0: \n",
      "1: • Cantrips (at will): mending, sacred flame, thaumaturgy\n",
      "2: • 1st level (4 slots): command, cure wounds, shield of faith\n",
      "3: • 2nd level (3 slots): calm emotions, hold person\n",
      "4: • 3rd level (3 slots): bestow curse, clairvoyance\n",
      "5: • 4th level (3 slots): banishment, freedom of movement\n",
      "6: • 5th level (2 slots): flame strike, geas\n",
      "7: • 6th level (1 slot): true seeing\n",
      "\n",
      "\n",
      "The sphinx is a 9th-level spellcaster. Its spellcasting ability is Intelligence (spell save DC 16, +8 to hit with spell attacks). It requires no material components to cast its spells. The sphinx has the following wizard spells prepared:\n",
      "0: \n",
      "1: • Cantrips (at will): mage hand, minor illusion, prestidigitation\n",
      "2: • 1st level (4 slots): detect magic, identify, shield\n",
      "3: • 2nd level (3 slots): darkness, locate object, suggestion\n",
      "4: • 3rd level (3 slots): dispel magic, remove curse, tongues\n",
      "5: • 4th level (3 slots): banishment, greater invisibility\n",
      "6: • 5th level (1 slot): legend lore\n",
      "\n",
      "\n",
      "The lich is an 18th-level spellcaster. Its spellcasting ability is Intelligence (spell save DC 20, +12 to hit with spell attacks). The lich has the following wizard spells prepared:\n",
      "0: \n",
      "1: • Cantrips (at will): mage hand, prestidigitation, ray of frost\n",
      "2: • 1st level (4 slots): detect magic, magic missile, shield, thunderwave\n",
      "3: • 2nd level (3 slots): detect thoughts, invisibility, Melf's acid arrow, mirror image\n",
      "4: • 3rd level (3 slots): animate dead, counterspell, dispel magic, fireball\n",
      "5: • 4th level (3 slots): blight, dimension door\n",
      "6: • 5th level (3 slots): cloudkill, scrying\n",
      "7: • 6th level (1 slot): disintegrate, globe of invulnerability\n",
      "8: • 7th level (1 slot): finger of death, plane shift\n",
      "9: • 8th level (1 slot): dominate monster, power word stun\n",
      "10: • 9th level (1 slot): power word kill\n",
      "\n",
      "\n",
      "The mage is a 9th-level spellcaster. Its spellcasting ability is Intelligence (spell save DC 14, +6 to hit with spell attacks). The mage has the following wizard spells prepared:\n",
      "0: \n",
      "1: • Cantrips (at will): fire bolt, light, mage hand, prestidigitation\n",
      "2: • 1st level (4 slots): detect magic, mage armor, magic missile, shield\n",
      "3: • 2nd level (3 slots): misty step, suggestion\n",
      "4: • 3rd level (3 slots): counterspell, fireball, fly\n",
      "5: • 4th level (3 slots): greater invisibility, ice storm\n",
      "6: • 5th level (1 slot): cone of cold\n",
      "\n",
      "\n",
      "The mummy lord is a 10th-level spellcaster. Its spellcasting ability is Wisdom (spell save DC 17, +9 to hit with spell attacks). The mummy lord has the following cleric spells prepared:\n",
      "0: \n",
      "1: • Cantrips (at will): sacred flame, thaumaturgy\n",
      "2: • 1st level (4 slots): command, guiding bolt, shield of faith\n",
      "3: • 2nd level (3 slots): hold person, silence, spiritual weapon\n",
      "4: • 3rd level (3 slots): animate dead, dispel magic\n",
      "5: • 4th level (3 slots): divination, guardian of faith\n",
      "6: • 5th level (2 slots): contagion, insect plague\n",
      "7: • 6th level (1 slot): harm\n",
      "\n",
      "\n",
      "The priest is a 5th-level spellcaster. Its spellcasting ability is Wisdom (spell save DC 13, +5 to hit with spell attacks). The priest has the following cleric spells prepared:\n",
      "0: \n",
      "1: • Cantrips (at will): light, sacred flame, thaumaturgy\n",
      "2: • 1st level (4 slots): cure wounds, guiding bolt, sanctuary\n",
      "3: • 2nd level (3 slots): lesser restoration, spiritual weapon\n",
      "4: • 3rd level (2 slots): dispel magic, spirit guardians\n",
      "\n",
      "\n",
      "The naga is a 10th-level spellcaster. Its spellcasting ability is Intelligence (spell save DC 14, +6 to hit with spell attacks), and it needs only verbal components to cast its spells. It has the following wizard spells prepared:\n",
      "0: \n",
      "1: • Cantrips (at will): mage hand, minor illusion, ray of frost\n",
      "2: • 1st level (4 slots): charm person, detect magic, sleep\n",
      "3: • 2nd level (3 slots): detect thoughts, hold person\n",
      "4: • 3rd level (3 slots): lightning bolt, water breathing\n",
      "5: • 4th level (3 slots): blight, dimension door\n",
      "6: • 5th level (2 slots): dominate person\n",
      "\n",
      "\n"
     ]
    }
   ],
   "source": [
    "for header, levels in map(parse_spellcasting, spell_casting_examples):\n",
    "    print(header)\n",
    "    for i, level in enumerate(levels):\n",
    "        print ('{}: {}'.format(i, level))\n",
    "    print('\\n')"
   ]
  },
  {
   "cell_type": "markdown",
   "metadata": {},
   "source": [
    "## Special defenses\n",
    "We now apply a bit of domain knowledge to separate out the following features."
   ]
  },
  {
   "cell_type": "code",
   "execution_count": 23,
   "metadata": {
    "collapsed": true
   },
   "outputs": [],
   "source": [
    "from functools import partial, reduce\n",
    "\n",
    "def string_to_list(x, sep=','):\n",
    "    return [y.strip() for y in x.split(sep)]\n",
    "\n",
    "\n",
    "def concat(lists):\n",
    "    return reduce(lambda x, y: x + y, lists, [])\n",
    "\n",
    "\n",
    "def get_unique_values(series, sep=','):\n",
    "    lists = series.apply(partial(string_to_list, sep=sep))\n",
    "    values = concat(lists)\n",
    "    return sorted(v for v in set(values) if v)"
   ]
  },
  {
   "cell_type": "code",
   "execution_count": 24,
   "metadata": {
    "collapsed": true
   },
   "outputs": [],
   "source": [
    "condition_immunities = get_unique_values(monster_df.condition_immunities)\n",
    "damage_immunities = get_unique_values(monster_df.damage_immunities, sep=';')\n",
    "damage_resistances = get_unique_values(monster_df.damage_resistances, sep=';')\n",
    "damage_vulnerabilities = get_unique_values(monster_df.damage_vulnerabilities)"
   ]
  },
  {
   "cell_type": "code",
   "execution_count": 25,
   "metadata": {
    "scrolled": true
   },
   "outputs": [
    {
     "data": {
      "text/plain": [
       "['bludgeoning',\n",
       " 'cold',\n",
       " 'fire',\n",
       " 'piercing from magic weapons wielded by good creatures',\n",
       " 'radiant',\n",
       " 'thunder']"
      ]
     },
     "execution_count": 25,
     "metadata": {},
     "output_type": "execute_result"
    }
   ],
   "source": [
    "damage_vulnerabilities"
   ]
  },
  {
   "cell_type": "code",
   "execution_count": 27,
   "metadata": {
    "collapsed": true
   },
   "outputs": [],
   "source": [
    "CONDITIONS = ['blinded',\n",
    "              'charmed',\n",
    "              'deafened',\n",
    "              'exhaustion',\n",
    "              'fatigued',\n",
    "              'frightened',\n",
    "              'grappled',\n",
    "              'incapacitated',\n",
    "              'invisible',\n",
    "              'paralyzed',\n",
    "              'petrified',\n",
    "              'poisoned',\n",
    "              'prone',\n",
    "              'restrained',\n",
    "              'stunned',\n",
    "              'unconscious']"
   ]
  },
  {
   "cell_type": "markdown",
   "metadata": {},
   "source": [
    "## Reactions"
   ]
  },
  {
   "cell_type": "code",
   "execution_count": 66,
   "metadata": {},
   "outputs": [
    {
     "name": "stdout",
     "output_type": "stream",
     "text": [
      "name: Parry\n",
      "desc: The captain adds 2 to its AC against one melee attack that would hit it. To do so, the captain must see the attacker and be wielding a melee weapon.\n",
      "attack_bonus: 0\n",
      "\n",
      "\n",
      "name: Split\n",
      "desc: When a pudding that is Medium or larger is subjected to lightning or slashing damage, it splits into two new puddings if it has at least 10 hit points. Each new pudding has hit points equal to half the original pudding's, rounded down. New puddings are one size smaller than the original pudding.\n",
      "attack_bonus: 0\n",
      "\n",
      "\n",
      "name: Unnerving Mask\n",
      "desc: When a creature the devil can see starts its turn within 30 feet of the devil, the devil can create the illusion that it looks like one of the creature's departed loved ones or bitter enemies. If the creature can see the devil, it must succeed on a DC 14 Wisdom saving throw or be frightened until the end of its turn.\n",
      "attack_bonus: 0\n",
      "\n",
      "\n",
      "name: Parry\n",
      "desc: The erinyes adds 4 to its AC against one melee attack that would hit it. To do so, the erinyes must see the attacker and be wielding a melee weapon.\n",
      "attack_bonus: 0\n",
      "\n",
      "\n",
      "name: Parry\n",
      "desc: The gladiator adds 3 to its AC against one melee attack that would hit it. To do so, the gladiator must see the attacker and be wielding a melee weapon.\n",
      "attack_bonus: 0\n",
      "\n",
      "\n",
      "name: Parry\n",
      "desc: The knight adds 2 to its AC against one melee attack that would hit it. To do so, the knight must see the attacker and be wielding a melee weapon.\n",
      "attack_bonus: 0\n",
      "\n",
      "\n",
      "name: Parry\n",
      "desc: The marilith adds 5 to its AC against one melee attack that would hit it. To do so, the marilith must see the attacker and be wielding a melee weapon.\n",
      "attack_bonus: 0\n",
      "\n",
      "\n",
      "name: Parry\n",
      "desc: The noble adds 2 to its AC against one melee attack that would hit it. To do so, the noble must see the attacker and be wielding a melee weapon.\n",
      "attack_bonus: 0\n",
      "\n",
      "\n",
      "name: Split\n",
      "desc: When a jelly that is Medium or larger is subjected to lightning or slashing damage, it splits into two new jellies if it has at least 10 hit points. Each new jelly has hit points equal to half the original jelly's, rounded down. New jellies are one size smaller than the original jelly.\n",
      "attack_bonus: 0\n",
      "\n",
      "\n",
      "name: Shield\n",
      "desc: When a creature makes an attack against the wearer of the guardian's amulet, the guardian grants a +2 bonus to the wearer's AC if the guardian is within 5 feet of the wearer.\n",
      "attack_bonus: 0\n",
      "\n",
      "\n",
      "name: Rock Catching\n",
      "desc: If a rock or similar object is hurled at the giant, the giant can, with a successful DC 10 Dexterity saving throw, catch the missile and take no bludgeoning damage from it.\n",
      "attack_bonus: 0\n",
      "\n",
      "\n"
     ]
    }
   ],
   "source": [
    "reactions = monster_df.reactions[monster_df['reactions'].apply(lambda x: len(x) > 0)]\n",
    "for reaction in reactions: \n",
    "    for k, v in reaction[0].items():\n",
    "        print(\"{}: {}\".format(k, v))\n",
    "    print('\\n')"
   ]
  }
 ],
 "metadata": {
  "kernelspec": {
   "display_name": "Python 3",
   "language": "python",
   "name": "python3"
  },
  "language_info": {
   "codemirror_mode": {
    "name": "ipython",
    "version": 3
   },
   "file_extension": ".py",
   "mimetype": "text/x-python",
   "name": "python",
   "nbconvert_exporter": "python",
   "pygments_lexer": "ipython3",
   "version": "3.6.1"
  }
 },
 "nbformat": 4,
 "nbformat_minor": 2
}

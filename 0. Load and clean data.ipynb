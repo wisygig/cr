{
 "cells": [
  {
   "cell_type": "markdown",
   "metadata": {},
   "source": [
    "## Load data\n",
    "\n",
    "Due to the OGL, the data we're considering is free to use (provided we follow the license). Although the data was originally published in [PDF format](http://media.wizards.com/2016/downloads/DND/SRD-OGL_V5.1.pdf), we can take advantage of the work of two others:\n",
    "* Redditor [droiddruid](https://www.reddit.com/user/droiddruid), who published a list of [monsters from the 5e SRD](https://dl.dropboxusercontent.com/s/iwz112i0bxp2n4a/5e-SRD-Monsters.json).\n",
    "* GitHub user [vorpalhex](https://github.com/vorpalhex), who extracted a list of [spells from the 5e SRD](https://github.com/vorpalhex/srd_spells).\n",
    "\n",
    "As both of the above are JSON files, these secondary sources are considerably easier to work with.\n",
    "\n",
    "**Remark:** This notebook is essentially a heavily commented version of the module `etl`."
   ]
  },
  {
   "cell_type": "code",
   "execution_count": 1,
   "metadata": {
    "collapsed": true
   },
   "outputs": [],
   "source": [
    "import json\n",
    "import numpy as np\n",
    "import os\n",
    "import pandas as pd\n",
    "import re\n",
    "import requests\n",
    "\n",
    "%matplotlib inline"
   ]
  },
  {
   "cell_type": "markdown",
   "metadata": {},
   "source": [
    "We'll use the following helper function to simplify loading our data sources."
   ]
  },
  {
   "cell_type": "code",
   "execution_count": 2,
   "metadata": {
    "collapsed": true
   },
   "outputs": [],
   "source": [
    "def load_data(filepath, url):\n",
    "    # Load data from either local file or remote copy. If the local file does not exist,\n",
    "    # create a local copy of the data.\n",
    "    if os.path.exists(filepath):\n",
    "        with open(filepath, 'r') as f:\n",
    "            data = json.load(f)\n",
    "    else:\n",
    "        response = requests.get(url)\n",
    "        data = json.loads(response.text)\n",
    "        with open(filepath, 'w') as f:\n",
    "            json.dump(data, f)\n",
    "    return data"
   ]
  },
  {
   "cell_type": "markdown",
   "metadata": {},
   "source": [
    "### Load monster data"
   ]
  },
  {
   "cell_type": "code",
   "execution_count": 3,
   "metadata": {
    "collapsed": true
   },
   "outputs": [],
   "source": [
    "def load_monsters():\n",
    "    # Load monster data.\n",
    "    filepath = 'data/5e-SRD-Monsters.json'\n",
    "    url = 'https://dl.dropboxusercontent.com/s/iwz112i0bxp2n4a/5e-SRD-Monsters.json'\n",
    "    data = load_data(filepath, url)\n",
    "    monsters = data[:-1]\n",
    "    ogl = data[-1]\n",
    "    return monsters, ogl"
   ]
  },
  {
   "cell_type": "code",
   "execution_count": 4,
   "metadata": {
    "collapsed": true
   },
   "outputs": [],
   "source": [
    "monsters, ogl = load_monsters()"
   ]
  },
  {
   "cell_type": "markdown",
   "metadata": {},
   "source": [
    "### Load spell data"
   ]
  },
  {
   "cell_type": "code",
   "execution_count": 5,
   "metadata": {
    "collapsed": true
   },
   "outputs": [],
   "source": [
    "def load_spells():\n",
    "    # Load spell data.\n",
    "    filepath = 'data/5e-SRD-spells.json'\n",
    "    url = 'https://raw.githubusercontent.com/vorpalhex/srd_spells/master/spells.json'\n",
    "    return load_data(filepath, url)"
   ]
  },
  {
   "cell_type": "code",
   "execution_count": 6,
   "metadata": {
    "collapsed": true
   },
   "outputs": [],
   "source": [
    "spells = load_spells()"
   ]
  },
  {
   "cell_type": "markdown",
   "metadata": {},
   "source": [
    "## Cleaning and tidying data\n",
    "\n",
    "[TODO]: Some remarks on Hadley Wickham's paper? Goal of this notebook."
   ]
  },
  {
   "cell_type": "markdown",
   "metadata": {},
   "source": [
    "### Cleaning the spell list\n",
    "We first consider the list of `spells`. Introspection shows that `spells` is a list of dictionaries, which we'll load into a pandas dataframe."
   ]
  },
  {
   "cell_type": "code",
   "execution_count": 7,
   "metadata": {},
   "outputs": [
    {
     "data": {
      "text/html": [
       "<div>\n",
       "<style>\n",
       "    .dataframe thead tr:only-child th {\n",
       "        text-align: right;\n",
       "    }\n",
       "\n",
       "    .dataframe thead th {\n",
       "        text-align: left;\n",
       "    }\n",
       "\n",
       "    .dataframe tbody tr th {\n",
       "        vertical-align: top;\n",
       "    }\n",
       "</style>\n",
       "<table border=\"1\" class=\"dataframe\">\n",
       "  <thead>\n",
       "    <tr style=\"text-align: right;\">\n",
       "      <th></th>\n",
       "      <th>casting_time</th>\n",
       "      <th>classes</th>\n",
       "      <th>components</th>\n",
       "      <th>description</th>\n",
       "      <th>duration</th>\n",
       "      <th>higher_levels</th>\n",
       "      <th>level</th>\n",
       "      <th>range</th>\n",
       "      <th>ritual</th>\n",
       "      <th>school</th>\n",
       "      <th>tags</th>\n",
       "      <th>type</th>\n",
       "    </tr>\n",
       "    <tr>\n",
       "      <th>name</th>\n",
       "      <th></th>\n",
       "      <th></th>\n",
       "      <th></th>\n",
       "      <th></th>\n",
       "      <th></th>\n",
       "      <th></th>\n",
       "      <th></th>\n",
       "      <th></th>\n",
       "      <th></th>\n",
       "      <th></th>\n",
       "      <th></th>\n",
       "      <th></th>\n",
       "    </tr>\n",
       "  </thead>\n",
       "  <tbody>\n",
       "    <tr>\n",
       "      <th>Acid Splash</th>\n",
       "      <td>1 action</td>\n",
       "      <td>[sorcerer, wizard]</td>\n",
       "      <td>{'material': False, 'raw': 'V, S', 'somatic': ...</td>\n",
       "      <td>You hurl a bubble of acid. Choose one creature...</td>\n",
       "      <td>Instantaneous</td>\n",
       "      <td>NaN</td>\n",
       "      <td>cantrip</td>\n",
       "      <td>60 feet</td>\n",
       "      <td>False</td>\n",
       "      <td>Conjuration</td>\n",
       "      <td>[sorcerer, wizard, cantrip]</td>\n",
       "      <td>Conjuration cantrip</td>\n",
       "    </tr>\n",
       "    <tr>\n",
       "      <th>Alarm</th>\n",
       "      <td>1 action</td>\n",
       "      <td>[ranger, wizard]</td>\n",
       "      <td>{'material': True, 'materials_needed': ['a tin...</td>\n",
       "      <td>You set an alarm against unwanted intrusion. C...</td>\n",
       "      <td>8 hours</td>\n",
       "      <td>NaN</td>\n",
       "      <td>1</td>\n",
       "      <td>30 feet</td>\n",
       "      <td>True</td>\n",
       "      <td>abjuration</td>\n",
       "      <td>[ranger, wizard, level1]</td>\n",
       "      <td>1st-level abjuration (ritual)</td>\n",
       "    </tr>\n",
       "    <tr>\n",
       "      <th>Animal Friendship</th>\n",
       "      <td>1 action</td>\n",
       "      <td>[bard, druid, ranger]</td>\n",
       "      <td>{'material': True, 'materials_needed': ['a mor...</td>\n",
       "      <td>This spell lets you convince a beast that you ...</td>\n",
       "      <td>24 hours</td>\n",
       "      <td>When you cast this spell using a spell slot of...</td>\n",
       "      <td>1</td>\n",
       "      <td>30 feet</td>\n",
       "      <td>False</td>\n",
       "      <td>enchantment</td>\n",
       "      <td>[bard, druid, ranger, level1]</td>\n",
       "      <td>1st-level enchantment</td>\n",
       "    </tr>\n",
       "    <tr>\n",
       "      <th>Bane</th>\n",
       "      <td>1 action</td>\n",
       "      <td>[bard, cleric]</td>\n",
       "      <td>{'material': True, 'materials_needed': ['a dro...</td>\n",
       "      <td>Up to three creatures of your choice that you ...</td>\n",
       "      <td>Concentration, up to 1 minute</td>\n",
       "      <td>When you cast this spell using a spell slot of...</td>\n",
       "      <td>1</td>\n",
       "      <td>30 feet</td>\n",
       "      <td>False</td>\n",
       "      <td>enchantment</td>\n",
       "      <td>[bard, cleric, level1]</td>\n",
       "      <td>1st-level enchantment</td>\n",
       "    </tr>\n",
       "    <tr>\n",
       "      <th>Blade Ward</th>\n",
       "      <td>1 action</td>\n",
       "      <td>[bard, sorcerer, warlock, wizard]</td>\n",
       "      <td>{'material': False, 'raw': 'V, S', 'somatic': ...</td>\n",
       "      <td>You extend your hand and trace a sigil of ward...</td>\n",
       "      <td>1 Round</td>\n",
       "      <td>NaN</td>\n",
       "      <td>cantrip</td>\n",
       "      <td>Self</td>\n",
       "      <td>False</td>\n",
       "      <td>Abjuration</td>\n",
       "      <td>[bard, sorcerer, warlock, wizard, cantrip]</td>\n",
       "      <td>Abjuration cantrip</td>\n",
       "    </tr>\n",
       "  </tbody>\n",
       "</table>\n",
       "</div>"
      ],
      "text/plain": [
       "                  casting_time                            classes  \\\n",
       "name                                                                \n",
       "Acid Splash           1 action                 [sorcerer, wizard]   \n",
       "Alarm                 1 action                   [ranger, wizard]   \n",
       "Animal Friendship     1 action              [bard, druid, ranger]   \n",
       "Bane                  1 action                     [bard, cleric]   \n",
       "Blade Ward            1 action  [bard, sorcerer, warlock, wizard]   \n",
       "\n",
       "                                                          components  \\\n",
       "name                                                                   \n",
       "Acid Splash        {'material': False, 'raw': 'V, S', 'somatic': ...   \n",
       "Alarm              {'material': True, 'materials_needed': ['a tin...   \n",
       "Animal Friendship  {'material': True, 'materials_needed': ['a mor...   \n",
       "Bane               {'material': True, 'materials_needed': ['a dro...   \n",
       "Blade Ward         {'material': False, 'raw': 'V, S', 'somatic': ...   \n",
       "\n",
       "                                                         description  \\\n",
       "name                                                                   \n",
       "Acid Splash        You hurl a bubble of acid. Choose one creature...   \n",
       "Alarm              You set an alarm against unwanted intrusion. C...   \n",
       "Animal Friendship  This spell lets you convince a beast that you ...   \n",
       "Bane               Up to three creatures of your choice that you ...   \n",
       "Blade Ward         You extend your hand and trace a sigil of ward...   \n",
       "\n",
       "                                        duration  \\\n",
       "name                                               \n",
       "Acid Splash                        Instantaneous   \n",
       "Alarm                                    8 hours   \n",
       "Animal Friendship                       24 hours   \n",
       "Bane               Concentration, up to 1 minute   \n",
       "Blade Ward                               1 Round   \n",
       "\n",
       "                                                       higher_levels    level  \\\n",
       "name                                                                            \n",
       "Acid Splash                                                      NaN  cantrip   \n",
       "Alarm                                                            NaN        1   \n",
       "Animal Friendship  When you cast this spell using a spell slot of...        1   \n",
       "Bane               When you cast this spell using a spell slot of...        1   \n",
       "Blade Ward                                                       NaN  cantrip   \n",
       "\n",
       "                     range  ritual       school  \\\n",
       "name                                              \n",
       "Acid Splash        60 feet   False  Conjuration   \n",
       "Alarm              30 feet    True   abjuration   \n",
       "Animal Friendship  30 feet   False  enchantment   \n",
       "Bane               30 feet   False  enchantment   \n",
       "Blade Ward            Self   False   Abjuration   \n",
       "\n",
       "                                                         tags  \\\n",
       "name                                                            \n",
       "Acid Splash                       [sorcerer, wizard, cantrip]   \n",
       "Alarm                                [ranger, wizard, level1]   \n",
       "Animal Friendship               [bard, druid, ranger, level1]   \n",
       "Bane                                   [bard, cleric, level1]   \n",
       "Blade Ward         [bard, sorcerer, warlock, wizard, cantrip]   \n",
       "\n",
       "                                            type  \n",
       "name                                              \n",
       "Acid Splash                  Conjuration cantrip  \n",
       "Alarm              1st-level abjuration (ritual)  \n",
       "Animal Friendship          1st-level enchantment  \n",
       "Bane                       1st-level enchantment  \n",
       "Blade Ward                    Abjuration cantrip  "
      ]
     },
     "execution_count": 7,
     "metadata": {},
     "output_type": "execute_result"
    }
   ],
   "source": [
    "spells_df = pd.DataFrame(spells)\n",
    "spells_df = spells_df.set_index('name')\n",
    "spells_df.head()"
   ]
  },
  {
   "cell_type": "markdown",
   "metadata": {},
   "source": [
    "The spell list is unfortunatly both incomplete, and contains material not covered by the OGL. We'll first find the missing rows of the table."
   ]
  },
  {
   "cell_type": "code",
   "execution_count": 8,
   "metadata": {
    "collapsed": true
   },
   "outputs": [],
   "source": [
    "from reference import (BARD_SPELLS, CLERIC_SPELLS, DRUID_SPELLS,\n",
    "                       PALADIN_SPELLS, RANGER_SPELLS, SORCERER_SPELLS,\n",
    "                       WARLOCK_SPELLS, WIZARD_SPELLS)\n",
    "\n",
    "srd_spells = set()\n",
    "srd_spells.update(BARD_SPELLS, CLERIC_SPELLS, DRUID_SPELLS,\n",
    "                  PALADIN_SPELLS, RANGER_SPELLS, SORCERER_SPELLS,\n",
    "                  WARLOCK_SPELLS, WIZARD_SPELLS)\n",
    "srd_spells = srd_spells"
   ]
  },
  {
   "cell_type": "markdown",
   "metadata": {},
   "source": [
    "One simple way to find our missing values (which might be misnamed) is to sort our list of spells and do a bisection search."
   ]
  },
  {
   "cell_type": "code",
   "execution_count": 9,
   "metadata": {},
   "outputs": [
    {
     "name": "stdout",
     "output_type": "stream",
     "text": [
      "Telepathic Bond ['Telekinesis', 'Telepathy']\n",
      "Secret Chest ['Searing Smite', 'See Invisibility']\n",
      "Instant Summons ['Insect Plague', 'Investiture of Flame']\n",
      "Floating Disk ['Flesh to Stone', 'Fly']\n",
      "Private Sanctum ['Prismatic Wall', 'Produce Flame']\n",
      "Meld into Stone ['Meld Into Stone', 'Mending']\n",
      "Tiny Hut ['Time Stop', 'Tongues']\n",
      "Faithful Hound ['Faerie Fire', 'False Life']\n",
      "Magnificent Mansion ['Magic Weapon', 'Major Image']\n",
      "Pass without Trace ['Pass Without Trace', 'Passwall']\n",
      "Resilient Sphere ['Remove Curse', 'Resistance']\n",
      "Arcane Hand ['Arcane Gate', 'Arcane Lock']\n",
      "Hideous Laughter ['Hex', 'Hold Monster']\n",
      "Freezing Sphere ['Freedom of Movement', 'Friends']\n",
      "Black Tentacles ['Bestow Curse', 'Blade Barrier']\n",
      "Acid Arrow ['Absorb Elements', 'Acid Splash']\n",
      "Arcane Sword ['Arcane Lock', 'Astral Projection']\n",
      "Detect Poison and Disease ['Detect Magic', 'Detect Poison or Disease']\n",
      "Irresistible Dance ['Invisibility', 'Jump']\n",
      "Arcanist's Magic Aura ['Arcane Lock', 'Astral Projection']\n"
     ]
    }
   ],
   "source": [
    "from bisect import bisect\n",
    "\n",
    "missing = srd_spells - set(spells_df.index)\n",
    "\n",
    "spells = sorted(spells_df.index)\n",
    "for spell in missing:\n",
    "    i = bisect(spells, spell)\n",
    "    print(spell, spells[i-1:i+1])"
   ]
  },
  {
   "cell_type": "code",
   "execution_count": 10,
   "metadata": {
    "collapsed": true
   },
   "outputs": [],
   "source": [
    "rename = {'Pass Without Trace': 'Pass without Trace',\n",
    "          'Detect Poison or Disease': 'Detect Poison and Disease',\n",
    "          'Meld Into Stone': 'Meld into Stone'}\n",
    "\n",
    "spells_df = spells_df.rename(index=rename)\n",
    "missing -= {'Pass without Trace', 'Detect Poison and Disease', 'Meld into Stone'}"
   ]
  },
  {
   "cell_type": "markdown",
   "metadata": {},
   "source": [
    "In order to add the missing data, we'll manually enter the data."
   ]
  },
  {
   "cell_type": "code",
   "execution_count": 11,
   "metadata": {},
   "outputs": [],
   "source": [
    "from reference import missing\n",
    "\n",
    "missing_df = pd.DataFrame.from_dict(missing).transpose()\n",
    "spells_df = pd.concat([spells_df, missing_df])\n",
    "spells_df = spells_df.sort_index()"
   ]
  },
  {
   "cell_type": "markdown",
   "metadata": {},
   "source": [
    "We now remove the non-SRD data, which was pulled from a variety of sources. "
   ]
  },
  {
   "cell_type": "code",
   "execution_count": 12,
   "metadata": {
    "collapsed": true
   },
   "outputs": [],
   "source": [
    "not_in_srd = set(spells_df.index) - srd_spells\n",
    "spells_df.drop(not_in_srd, inplace=True)"
   ]
  },
  {
   "cell_type": "markdown",
   "metadata": {},
   "source": [
    "Now we'll work column by column to clean and tidy this data frame."
   ]
  },
  {
   "cell_type": "markdown",
   "metadata": {},
   "source": [
    "#### `casting_time`\n",
    "\n",
    "We can summarize the various values of this column by using the following:\n",
    "\n",
    "    spells_df.groupby('casting_time').count()['level']\n",
    "    \n",
    "Notice that there are some minor formatting inconsistencies and typos, which are easily corrected.\n",
    "\n",
    "Furthermore, the data in this column form a partially ordered set."
   ]
  },
  {
   "cell_type": "code",
   "execution_count": 13,
   "metadata": {},
   "outputs": [],
   "source": [
    "# spells_df.groupby('casting_time').count()['level']"
   ]
  },
  {
   "cell_type": "code",
   "execution_count": 14,
   "metadata": {
    "collapsed": true
   },
   "outputs": [],
   "source": [
    "spells_df.casting_time = spells_df.casting_time.str.rstrip('.')"
   ]
  },
  {
   "cell_type": "code",
   "execution_count": 15,
   "metadata": {},
   "outputs": [
    {
     "data": {
      "text/html": [
       "<div>\n",
       "<style>\n",
       "    .dataframe thead tr:only-child th {\n",
       "        text-align: right;\n",
       "    }\n",
       "\n",
       "    .dataframe thead th {\n",
       "        text-align: left;\n",
       "    }\n",
       "\n",
       "    .dataframe tbody tr th {\n",
       "        vertical-align: top;\n",
       "    }\n",
       "</style>\n",
       "<table border=\"1\" class=\"dataframe\">\n",
       "  <thead>\n",
       "    <tr style=\"text-align: right;\">\n",
       "      <th></th>\n",
       "      <th>casting_time</th>\n",
       "      <th>classes</th>\n",
       "      <th>components</th>\n",
       "      <th>description</th>\n",
       "      <th>duration</th>\n",
       "      <th>higher_levels</th>\n",
       "      <th>level</th>\n",
       "      <th>range</th>\n",
       "      <th>ritual</th>\n",
       "      <th>school</th>\n",
       "      <th>tags</th>\n",
       "      <th>type</th>\n",
       "    </tr>\n",
       "  </thead>\n",
       "  <tbody>\n",
       "    <tr>\n",
       "      <th>Augury</th>\n",
       "      <td>1 minue</td>\n",
       "      <td>[cleric]</td>\n",
       "      <td>{'material': True, 'materials_needed': ['speci...</td>\n",
       "      <td>* *Weal*, for good results\\n\\n* *Woe*, for bad...</td>\n",
       "      <td>Instantaneous</td>\n",
       "      <td>NaN</td>\n",
       "      <td>2</td>\n",
       "      <td>Self</td>\n",
       "      <td>True</td>\n",
       "      <td>divination</td>\n",
       "      <td>[cleric, level2]</td>\n",
       "      <td>2nd-level divination (ritual)</td>\n",
       "    </tr>\n",
       "    <tr>\n",
       "      <th>Find the Path</th>\n",
       "      <td>1 minutes</td>\n",
       "      <td>[bard, cleric, druid]</td>\n",
       "      <td>{'material': True, 'materials_needed': ['a set...</td>\n",
       "      <td>This spell allows you to find the shortest, mo...</td>\n",
       "      <td>Concentration, up to 1 day</td>\n",
       "      <td>NaN</td>\n",
       "      <td>6</td>\n",
       "      <td>Self</td>\n",
       "      <td>False</td>\n",
       "      <td>divination</td>\n",
       "      <td>[bard, cleric, druid, level6]</td>\n",
       "      <td>6th-level divination</td>\n",
       "    </tr>\n",
       "  </tbody>\n",
       "</table>\n",
       "</div>"
      ],
      "text/plain": [
       "              casting_time                classes  \\\n",
       "Augury             1 minue               [cleric]   \n",
       "Find the Path    1 minutes  [bard, cleric, druid]   \n",
       "\n",
       "                                                      components  \\\n",
       "Augury         {'material': True, 'materials_needed': ['speci...   \n",
       "Find the Path  {'material': True, 'materials_needed': ['a set...   \n",
       "\n",
       "                                                     description  \\\n",
       "Augury         * *Weal*, for good results\\n\\n* *Woe*, for bad...   \n",
       "Find the Path  This spell allows you to find the shortest, mo...   \n",
       "\n",
       "                                 duration higher_levels level range ritual  \\\n",
       "Augury                      Instantaneous           NaN     2  Self   True   \n",
       "Find the Path  Concentration, up to 1 day           NaN     6  Self  False   \n",
       "\n",
       "                   school                           tags  \\\n",
       "Augury         divination               [cleric, level2]   \n",
       "Find the Path  divination  [bard, cleric, druid, level6]   \n",
       "\n",
       "                                        type  \n",
       "Augury         2nd-level divination (ritual)  \n",
       "Find the Path           6th-level divination  "
      ]
     },
     "execution_count": 15,
     "metadata": {},
     "output_type": "execute_result"
    }
   ],
   "source": [
    "spells_df[spells_df.casting_time.str.match('1 minue') | spells_df.casting_time.str.match('1 minutes')]"
   ]
  },
  {
   "cell_type": "code",
   "execution_count": 16,
   "metadata": {
    "collapsed": true
   },
   "outputs": [],
   "source": [
    "spells_df.loc[['Augury', 'Find the Path'], 'casting_time'] = '1 minute'"
   ]
  },
  {
   "cell_type": "code",
   "execution_count": 17,
   "metadata": {
    "collapsed": true
   },
   "outputs": [],
   "source": [
    "spells_df['casting_time'] = spells_df.casting_time.astype('category')"
   ]
  },
  {
   "cell_type": "markdown",
   "metadata": {},
   "source": [
    "#### `classes`\n",
    "\n",
    "Each entry is a list of \"player classes\", and indicates whether a spell can be cast by a member of that class. We'll remove this data from the `spells_df` and collect it in a separate data frame."
   ]
  },
  {
   "cell_type": "code",
   "execution_count": 18,
   "metadata": {},
   "outputs": [
    {
     "name": "stdout",
     "output_type": "stream",
     "text": [
      "['bard', 'cleric', 'druid', 'paladin', 'ranger', 'sorcerer', 'warlock', 'wizard']\n"
     ]
    }
   ],
   "source": [
    "classes = set()\n",
    "for classlist in spells_df.classes:\n",
    "    classes.update(classlist)\n",
    "print(sorted(classes))"
   ]
  },
  {
   "cell_type": "code",
   "execution_count": 19,
   "metadata": {
    "collapsed": true
   },
   "outputs": [],
   "source": [
    "assert all(spells_df.classes.apply(type) == list) # every entry is a list"
   ]
  },
  {
   "cell_type": "code",
   "execution_count": 20,
   "metadata": {
    "collapsed": true
   },
   "outputs": [],
   "source": [
    "assert len(spells_df.classes[spells_df.classes.apply(len) == 0]) == 0 # every spell can be cast by some class"
   ]
  },
  {
   "cell_type": "code",
   "execution_count": 21,
   "metadata": {},
   "outputs": [
    {
     "data": {
      "text/html": [
       "<div>\n",
       "<style>\n",
       "    .dataframe thead tr:only-child th {\n",
       "        text-align: right;\n",
       "    }\n",
       "\n",
       "    .dataframe thead th {\n",
       "        text-align: left;\n",
       "    }\n",
       "\n",
       "    .dataframe tbody tr th {\n",
       "        vertical-align: top;\n",
       "    }\n",
       "</style>\n",
       "<table border=\"1\" class=\"dataframe\">\n",
       "  <thead>\n",
       "    <tr style=\"text-align: right;\">\n",
       "      <th></th>\n",
       "      <th>bard</th>\n",
       "      <th>cleric</th>\n",
       "      <th>druid</th>\n",
       "      <th>paladin</th>\n",
       "      <th>ranger</th>\n",
       "      <th>sorcerer</th>\n",
       "      <th>warlock</th>\n",
       "      <th>wizard</th>\n",
       "    </tr>\n",
       "  </thead>\n",
       "  <tbody>\n",
       "    <tr>\n",
       "      <th>Acid Arrow</th>\n",
       "      <td>False</td>\n",
       "      <td>False</td>\n",
       "      <td>False</td>\n",
       "      <td>False</td>\n",
       "      <td>False</td>\n",
       "      <td>False</td>\n",
       "      <td>False</td>\n",
       "      <td>True</td>\n",
       "    </tr>\n",
       "    <tr>\n",
       "      <th>Acid Splash</th>\n",
       "      <td>False</td>\n",
       "      <td>False</td>\n",
       "      <td>False</td>\n",
       "      <td>False</td>\n",
       "      <td>False</td>\n",
       "      <td>True</td>\n",
       "      <td>False</td>\n",
       "      <td>True</td>\n",
       "    </tr>\n",
       "    <tr>\n",
       "      <th>Aid</th>\n",
       "      <td>False</td>\n",
       "      <td>True</td>\n",
       "      <td>False</td>\n",
       "      <td>True</td>\n",
       "      <td>False</td>\n",
       "      <td>False</td>\n",
       "      <td>False</td>\n",
       "      <td>False</td>\n",
       "    </tr>\n",
       "    <tr>\n",
       "      <th>Alarm</th>\n",
       "      <td>False</td>\n",
       "      <td>False</td>\n",
       "      <td>False</td>\n",
       "      <td>False</td>\n",
       "      <td>True</td>\n",
       "      <td>False</td>\n",
       "      <td>False</td>\n",
       "      <td>True</td>\n",
       "    </tr>\n",
       "    <tr>\n",
       "      <th>Alter Self</th>\n",
       "      <td>False</td>\n",
       "      <td>False</td>\n",
       "      <td>False</td>\n",
       "      <td>False</td>\n",
       "      <td>False</td>\n",
       "      <td>True</td>\n",
       "      <td>False</td>\n",
       "      <td>True</td>\n",
       "    </tr>\n",
       "  </tbody>\n",
       "</table>\n",
       "</div>"
      ],
      "text/plain": [
       "              bard  cleric  druid  paladin  ranger  sorcerer  warlock  wizard\n",
       "Acid Arrow   False   False  False    False   False     False    False    True\n",
       "Acid Splash  False   False  False    False   False      True    False    True\n",
       "Aid          False    True  False     True   False     False    False   False\n",
       "Alarm        False   False  False    False    True     False    False    True\n",
       "Alter Self   False   False  False    False   False      True    False    True"
      ]
     },
     "execution_count": 21,
     "metadata": {},
     "output_type": "execute_result"
    }
   ],
   "source": [
    "class_spells_df = pd.DataFrame({class_: spells_df['classes'].apply(lambda x: class_ in x) for class_ in classes})\n",
    "spells_df.drop('classes', axis=1, inplace=True)\n",
    "\n",
    "class_spells_df.head()"
   ]
  },
  {
   "cell_type": "markdown",
   "metadata": {},
   "source": [
    "[TODO] we can verify this data, and will do so in the `etl` module."
   ]
  },
  {
   "cell_type": "markdown",
   "metadata": {},
   "source": [
    "#### `components`\n",
    "\n",
    "Each entry should be a dictionary, with either three or four keys, one of which is the raw text value. We'll normalize this by only keeping the raw value (from which the other values are derived)."
   ]
  },
  {
   "cell_type": "code",
   "execution_count": 22,
   "metadata": {},
   "outputs": [
    {
     "data": {
      "text/html": [
       "<div>\n",
       "<style>\n",
       "    .dataframe thead tr:only-child th {\n",
       "        text-align: right;\n",
       "    }\n",
       "\n",
       "    .dataframe thead th {\n",
       "        text-align: left;\n",
       "    }\n",
       "\n",
       "    .dataframe tbody tr th {\n",
       "        vertical-align: top;\n",
       "    }\n",
       "</style>\n",
       "<table border=\"1\" class=\"dataframe\">\n",
       "  <thead>\n",
       "    <tr style=\"text-align: right;\">\n",
       "      <th></th>\n",
       "      <th>casting_time</th>\n",
       "      <th>components</th>\n",
       "      <th>description</th>\n",
       "      <th>duration</th>\n",
       "      <th>higher_levels</th>\n",
       "      <th>level</th>\n",
       "      <th>range</th>\n",
       "      <th>ritual</th>\n",
       "      <th>school</th>\n",
       "      <th>tags</th>\n",
       "      <th>type</th>\n",
       "    </tr>\n",
       "  </thead>\n",
       "  <tbody>\n",
       "    <tr>\n",
       "      <th>Clone</th>\n",
       "      <td>1 hour</td>\n",
       "      <td>NaN</td>\n",
       "      <td>This spell grows an inert duplicate of a livin...</td>\n",
       "      <td>Instantaneous</td>\n",
       "      <td>NaN</td>\n",
       "      <td>8</td>\n",
       "      <td>Touch</td>\n",
       "      <td>False</td>\n",
       "      <td>necromancy</td>\n",
       "      <td>[wizard, level8]</td>\n",
       "      <td>8th-level necromancy</td>\n",
       "    </tr>\n",
       "  </tbody>\n",
       "</table>\n",
       "</div>"
      ],
      "text/plain": [
       "      casting_time components  \\\n",
       "Clone       1 hour        NaN   \n",
       "\n",
       "                                             description       duration  \\\n",
       "Clone  This spell grows an inert duplicate of a livin...  Instantaneous   \n",
       "\n",
       "      higher_levels level  range ritual      school              tags  \\\n",
       "Clone           NaN     8  Touch  False  necromancy  [wizard, level8]   \n",
       "\n",
       "                       type  \n",
       "Clone  8th-level necromancy  "
      ]
     },
     "execution_count": 22,
     "metadata": {},
     "output_type": "execute_result"
    }
   ],
   "source": [
    "spells_df[spells_df.components.isnull()]"
   ]
  },
  {
   "cell_type": "markdown",
   "metadata": {},
   "source": [
    "Note that one of the values is null. We'll replace that value with the text from the primary source document."
   ]
  },
  {
   "cell_type": "code",
   "execution_count": 23,
   "metadata": {
    "collapsed": true
   },
   "outputs": [],
   "source": [
    "spells_df.loc['Clone', 'components'] = {'raw': 'V, S, M (a diamond worth at least 1,000 gp and at least 1 cubic inch of flesh of the creature that is to be cloned, which the spell consumes, and a vessel worth at least 2,000 gp that has a sealable lid and is large enough to hold a Medium creature, such as a huge urn, coffin, mud filled cyst in the ground, or crystal container filled with salt water)'}"
   ]
  },
  {
   "cell_type": "code",
   "execution_count": 24,
   "metadata": {
    "collapsed": true
   },
   "outputs": [],
   "source": [
    "spells_df['components'] = spells_df.components.apply(lambda x: x['raw'])"
   ]
  },
  {
   "cell_type": "markdown",
   "metadata": {},
   "source": [
    "#### `description`\n",
    "\n",
    "This field contains the raw text description of a spell's effects as a str. There are two spells which are lacking a description field."
   ]
  },
  {
   "cell_type": "code",
   "execution_count": 25,
   "metadata": {},
   "outputs": [
    {
     "data": {
      "text/html": [
       "<div>\n",
       "<style>\n",
       "    .dataframe thead tr:only-child th {\n",
       "        text-align: right;\n",
       "    }\n",
       "\n",
       "    .dataframe thead th {\n",
       "        text-align: left;\n",
       "    }\n",
       "\n",
       "    .dataframe tbody tr th {\n",
       "        vertical-align: top;\n",
       "    }\n",
       "</style>\n",
       "<table border=\"1\" class=\"dataframe\">\n",
       "  <thead>\n",
       "    <tr style=\"text-align: right;\">\n",
       "      <th></th>\n",
       "      <th>casting_time</th>\n",
       "      <th>components</th>\n",
       "      <th>description</th>\n",
       "      <th>duration</th>\n",
       "      <th>higher_levels</th>\n",
       "      <th>level</th>\n",
       "      <th>range</th>\n",
       "      <th>ritual</th>\n",
       "      <th>school</th>\n",
       "      <th>tags</th>\n",
       "      <th>type</th>\n",
       "    </tr>\n",
       "  </thead>\n",
       "  <tbody>\n",
       "    <tr>\n",
       "      <th>Enhance Ability</th>\n",
       "      <td>1 action</td>\n",
       "      <td>V, S, M (fur or a feather from a beast)</td>\n",
       "      <td>NaN</td>\n",
       "      <td>Concentration, up to 1 hour</td>\n",
       "      <td>When you cast this spell using a spell slot of...</td>\n",
       "      <td>2</td>\n",
       "      <td>Touch</td>\n",
       "      <td>False</td>\n",
       "      <td>transmutation</td>\n",
       "      <td>[bard, cleric, druid, sorcerer, level2]</td>\n",
       "      <td>2nd-level transmutation</td>\n",
       "    </tr>\n",
       "    <tr>\n",
       "      <th>Protection from Energy</th>\n",
       "      <td>1 action</td>\n",
       "      <td>V, S</td>\n",
       "      <td>NaN</td>\n",
       "      <td>Concentration, up to 1 minute</td>\n",
       "      <td>NaN</td>\n",
       "      <td>3</td>\n",
       "      <td>Touch</td>\n",
       "      <td>False</td>\n",
       "      <td>abjuration</td>\n",
       "      <td>[cleric, druid, ranger, sorcerer, wizard, level3]</td>\n",
       "      <td>3rd-level abjuration</td>\n",
       "    </tr>\n",
       "  </tbody>\n",
       "</table>\n",
       "</div>"
      ],
      "text/plain": [
       "                       casting_time                               components  \\\n",
       "Enhance Ability            1 action  V, S, M (fur or a feather from a beast)   \n",
       "Protection from Energy     1 action                                     V, S   \n",
       "\n",
       "                       description                       duration  \\\n",
       "Enhance Ability                NaN    Concentration, up to 1 hour   \n",
       "Protection from Energy         NaN  Concentration, up to 1 minute   \n",
       "\n",
       "                                                            higher_levels  \\\n",
       "Enhance Ability         When you cast this spell using a spell slot of...   \n",
       "Protection from Energy                                                NaN   \n",
       "\n",
       "                       level  range ritual         school  \\\n",
       "Enhance Ability            2  Touch  False  transmutation   \n",
       "Protection from Energy     3  Touch  False     abjuration   \n",
       "\n",
       "                                                                     tags  \\\n",
       "Enhance Ability                   [bard, cleric, druid, sorcerer, level2]   \n",
       "Protection from Energy  [cleric, druid, ranger, sorcerer, wizard, level3]   \n",
       "\n",
       "                                           type  \n",
       "Enhance Ability         2nd-level transmutation  \n",
       "Protection from Energy     3rd-level abjuration  "
      ]
     },
     "execution_count": 25,
     "metadata": {},
     "output_type": "execute_result"
    }
   ],
   "source": [
    "spells_df[spells_df.description.isnull()]"
   ]
  },
  {
   "cell_type": "code",
   "execution_count": 26,
   "metadata": {
    "collapsed": true
   },
   "outputs": [],
   "source": [
    "spells_df.loc['Protection from Energy', 'description'] = 'For the duration, the willing creature you touch has resistance to one damage type of your choice: acid, cold, fire, lightning, or thunder.'"
   ]
  },
  {
   "cell_type": "code",
   "execution_count": 27,
   "metadata": {
    "collapsed": true
   },
   "outputs": [],
   "source": [
    "spells_df.loc['Enhance Ability', 'description'] = '''You touch a creature and bestow upon it a magical enhancement. Choose one of the following effects; the target gains that effect until the spell ends.\n",
    "Bear’s Endurance. The target has advantage on Constitution checks. It also gains 2d6 temporary hit points, which are lost when the spell ends.\n",
    "Bull’s Strength. The target has advantage on Strength checks, and his or her carrying capacity doubles.\n",
    "Cat’s Grace. The target has advantage on Dexterity checks. It also doesn’t take damage from falling 20 feet or less if it isn’t incapacitated.\n",
    "Eagle’s Splendor. The target has advantage on Charisma checks.\n",
    "Fox’s Cunning. The target has advantage on Intelligence checks.\n",
    "Owl’s Wisdom. The target has advantage on Wisdom checks.'''"
   ]
  },
  {
   "cell_type": "code",
   "execution_count": 28,
   "metadata": {
    "collapsed": true
   },
   "outputs": [],
   "source": [
    "assert all(spells_df.description.apply(type)==str)"
   ]
  },
  {
   "cell_type": "code",
   "execution_count": 29,
   "metadata": {
    "collapsed": true
   },
   "outputs": [],
   "source": [
    "assert all(spells_df.description.apply(len) > 0)"
   ]
  },
  {
   "cell_type": "markdown",
   "metadata": {},
   "source": [
    "#### `duration`\n",
    "\n",
    "There is some inconsistencies in formatting here, which we should correct."
   ]
  },
  {
   "cell_type": "code",
   "execution_count": 30,
   "metadata": {
    "scrolled": true
   },
   "outputs": [],
   "source": [
    "# spells_df.groupby('duration').count()['level']"
   ]
  },
  {
   "cell_type": "code",
   "execution_count": 31,
   "metadata": {
    "collapsed": true
   },
   "outputs": [],
   "source": [
    "spells_df.duration = spells_df.duration.str.rstrip('.')"
   ]
  },
  {
   "cell_type": "code",
   "execution_count": 32,
   "metadata": {},
   "outputs": [
    {
     "data": {
      "text/plain": [
       "Mirror Image                           1 Minute\n",
       "Water Walk                              1 hours\n",
       "Weird           Concentration, up to one minute\n",
       "Name: duration, dtype: object"
      ]
     },
     "execution_count": 32,
     "metadata": {},
     "output_type": "execute_result"
    }
   ],
   "source": [
    "spells_df.duration.loc[spells_df.duration.str.contains('1 Minute|1 Round|1 hours|one')]"
   ]
  },
  {
   "cell_type": "code",
   "execution_count": 33,
   "metadata": {
    "collapsed": true
   },
   "outputs": [],
   "source": [
    "spells_df.loc['Weird', 'duration'] = 'Concentration, up to 1 minute'\n",
    "spells_df.loc['Mirror Image', 'duration'] = '1 minute'\n",
    "spells_df.loc['Water Walk', 'duration'] = '1 hour'"
   ]
  },
  {
   "cell_type": "markdown",
   "metadata": {},
   "source": [
    "#### `higher_levels`\n",
    "\n",
    "[TODO] This will require some extra processing, since a good number of spells have stronger versions available. However, for those that do not, we'll simply fill the `NaN` values with empty strings."
   ]
  },
  {
   "cell_type": "code",
   "execution_count": 34,
   "metadata": {},
   "outputs": [
    {
     "data": {
      "text/plain": [
       "(88, 11)"
      ]
     },
     "execution_count": 34,
     "metadata": {},
     "output_type": "execute_result"
    }
   ],
   "source": [
    "spells_df[spells_df.higher_levels.notnull()].shape"
   ]
  },
  {
   "cell_type": "code",
   "execution_count": 35,
   "metadata": {
    "collapsed": true
   },
   "outputs": [],
   "source": [
    "spells_df.higher_levels.fillna('', inplace=True)"
   ]
  },
  {
   "cell_type": "markdown",
   "metadata": {},
   "source": [
    "#### `level`\n",
    "\n",
    "The level of the spell. We'll use some of this data in our training. Cantrips are the lowest level of spells, the rest vary between 1 and 9."
   ]
  },
  {
   "cell_type": "code",
   "execution_count": 36,
   "metadata": {},
   "outputs": [
    {
     "data": {
      "text/plain": [
       "level\n",
       "1           2\n",
       "2           2\n",
       "3           1\n",
       "4           5\n",
       "5           2\n",
       "6           3\n",
       "7           2\n",
       "1          47\n",
       "2          52\n",
       "3          41\n",
       "4          26\n",
       "5          35\n",
       "6          28\n",
       "7          18\n",
       "8          15\n",
       "9          15\n",
       "cantrip    24\n",
       "wind        1\n",
       "Name: casting_time, dtype: int64"
      ]
     },
     "execution_count": 36,
     "metadata": {},
     "output_type": "execute_result"
    }
   ],
   "source": [
    "spells_df.groupby('level').count()[spells_df.columns[0]]"
   ]
  },
  {
   "cell_type": "markdown",
   "metadata": {},
   "source": [
    "What. How is `wind` a level?"
   ]
  },
  {
   "cell_type": "code",
   "execution_count": 37,
   "metadata": {},
   "outputs": [
    {
     "data": {
      "text/html": [
       "<div>\n",
       "<style>\n",
       "    .dataframe thead tr:only-child th {\n",
       "        text-align: right;\n",
       "    }\n",
       "\n",
       "    .dataframe thead th {\n",
       "        text-align: left;\n",
       "    }\n",
       "\n",
       "    .dataframe tbody tr th {\n",
       "        vertical-align: top;\n",
       "    }\n",
       "</style>\n",
       "<table border=\"1\" class=\"dataframe\">\n",
       "  <thead>\n",
       "    <tr style=\"text-align: right;\">\n",
       "      <th></th>\n",
       "      <th>casting_time</th>\n",
       "      <th>components</th>\n",
       "      <th>description</th>\n",
       "      <th>duration</th>\n",
       "      <th>higher_levels</th>\n",
       "      <th>level</th>\n",
       "      <th>range</th>\n",
       "      <th>ritual</th>\n",
       "      <th>school</th>\n",
       "      <th>tags</th>\n",
       "      <th>type</th>\n",
       "    </tr>\n",
       "  </thead>\n",
       "  <tbody>\n",
       "    <tr>\n",
       "      <th>Control Weather</th>\n",
       "      <td>10 minutes</td>\n",
       "      <td>V, S, M (burning incense and bits of earth and...</td>\n",
       "      <td>You take control of the weather within 5 miles...</td>\n",
       "      <td>Concentration, up to 8 hours</td>\n",
       "      <td></td>\n",
       "      <td>wind</td>\n",
       "      <td>Self (5-mile radius)</td>\n",
       "      <td>False</td>\n",
       "      <td>NaN</td>\n",
       "      <td>[cleric, druid, wizard, level8]</td>\n",
       "      <td>Wind</td>\n",
       "    </tr>\n",
       "  </tbody>\n",
       "</table>\n",
       "</div>"
      ],
      "text/plain": [
       "                casting_time  \\\n",
       "Control Weather   10 minutes   \n",
       "\n",
       "                                                        components  \\\n",
       "Control Weather  V, S, M (burning incense and bits of earth and...   \n",
       "\n",
       "                                                       description  \\\n",
       "Control Weather  You take control of the weather within 5 miles...   \n",
       "\n",
       "                                     duration higher_levels level  \\\n",
       "Control Weather  Concentration, up to 8 hours                wind   \n",
       "\n",
       "                                range ritual school  \\\n",
       "Control Weather  Self (5-mile radius)  False    NaN   \n",
       "\n",
       "                                            tags  type  \n",
       "Control Weather  [cleric, druid, wizard, level8]  Wind  "
      ]
     },
     "execution_count": 37,
     "metadata": {},
     "output_type": "execute_result"
    }
   ],
   "source": [
    "spells_df[spells_df.level=='wind']"
   ]
  },
  {
   "cell_type": "code",
   "execution_count": 38,
   "metadata": {
    "collapsed": true
   },
   "outputs": [],
   "source": [
    "spells_df.loc['Control Weather', 'level'] = '8'"
   ]
  },
  {
   "cell_type": "markdown",
   "metadata": {},
   "source": [
    "For the rest, which are all cantrips, we'll cast `level` column as a numeric value, then replace `NaN`s with 0."
   ]
  },
  {
   "cell_type": "code",
   "execution_count": 39,
   "metadata": {
    "collapsed": true
   },
   "outputs": [],
   "source": [
    "spells_df['level'] = pd.to_numeric(spells_df['level'], errors='coerce')\n",
    "spells_df['level'].fillna(0, inplace=True)"
   ]
  },
  {
   "cell_type": "markdown",
   "metadata": {},
   "source": [
    "#### `range`\n",
    "\n",
    "This columns contains some minor typos and formatting issues which are easily cleaned."
   ]
  },
  {
   "cell_type": "code",
   "execution_count": 40,
   "metadata": {},
   "outputs": [],
   "source": [
    "# spells_df.groupby('range').count()['level']"
   ]
  },
  {
   "cell_type": "code",
   "execution_count": 41,
   "metadata": {},
   "outputs": [
    {
     "data": {
      "text/html": [
       "<div>\n",
       "<style>\n",
       "    .dataframe thead tr:only-child th {\n",
       "        text-align: right;\n",
       "    }\n",
       "\n",
       "    .dataframe thead th {\n",
       "        text-align: left;\n",
       "    }\n",
       "\n",
       "    .dataframe tbody tr th {\n",
       "        vertical-align: top;\n",
       "    }\n",
       "</style>\n",
       "<table border=\"1\" class=\"dataframe\">\n",
       "  <thead>\n",
       "    <tr style=\"text-align: right;\">\n",
       "      <th></th>\n",
       "      <th>casting_time</th>\n",
       "      <th>components</th>\n",
       "      <th>description</th>\n",
       "      <th>duration</th>\n",
       "      <th>higher_levels</th>\n",
       "      <th>level</th>\n",
       "      <th>range</th>\n",
       "      <th>ritual</th>\n",
       "      <th>school</th>\n",
       "      <th>tags</th>\n",
       "      <th>type</th>\n",
       "    </tr>\n",
       "  </thead>\n",
       "  <tbody>\n",
       "    <tr>\n",
       "      <th>Antimagic Field</th>\n",
       "      <td>1 action</td>\n",
       "      <td>V, S, M (a pinch of powdered iron or iron fili...</td>\n",
       "      <td>A 10-foot-radius invisible sphere of antimagic...</td>\n",
       "      <td>Concentration, up to 1 hour</td>\n",
       "      <td></td>\n",
       "      <td>8.0</td>\n",
       "      <td>Self (10-foot-radius sphere)</td>\n",
       "      <td>False</td>\n",
       "      <td>abjuration</td>\n",
       "      <td>[cleric, wizard, level8]</td>\n",
       "      <td>8th-level abjuration</td>\n",
       "    </tr>\n",
       "    <tr>\n",
       "      <th>Blur</th>\n",
       "      <td>1 action</td>\n",
       "      <td>V</td>\n",
       "      <td>Your body becomes blurred, shifting and waveri...</td>\n",
       "      <td>Concentration, up to 1 minute</td>\n",
       "      <td></td>\n",
       "      <td>2.0</td>\n",
       "      <td>self</td>\n",
       "      <td>False</td>\n",
       "      <td>illusion</td>\n",
       "      <td>[sorcerer, wizard, level2]</td>\n",
       "      <td>2nd-Level illusion</td>\n",
       "    </tr>\n",
       "    <tr>\n",
       "      <th>Branding Smite</th>\n",
       "      <td>1 action</td>\n",
       "      <td>V</td>\n",
       "      <td>The next time you hit a creature with a weapon...</td>\n",
       "      <td>Concentration, up to 1 minute</td>\n",
       "      <td>When you cast this spell using a spell slot of...</td>\n",
       "      <td>2.0</td>\n",
       "      <td>self</td>\n",
       "      <td>False</td>\n",
       "      <td>evocation</td>\n",
       "      <td>[paladin, level2]</td>\n",
       "      <td>2nd-Level evocation</td>\n",
       "    </tr>\n",
       "    <tr>\n",
       "      <th>Detect Thoughts</th>\n",
       "      <td>1 action</td>\n",
       "      <td>V, S, M (a copper piece)</td>\n",
       "      <td>For the duration, you can read the thoughts of...</td>\n",
       "      <td>Concentration, up to 1 minute</td>\n",
       "      <td></td>\n",
       "      <td>2.0</td>\n",
       "      <td>self</td>\n",
       "      <td>False</td>\n",
       "      <td>divination</td>\n",
       "      <td>[bard, sorcerer, wizard, level2]</td>\n",
       "      <td>2nd-Level divination</td>\n",
       "    </tr>\n",
       "    <tr>\n",
       "      <th>Lightning Bolt</th>\n",
       "      <td>1 action</td>\n",
       "      <td>V, S, M (a bit of fur and a rod of amber, crys...</td>\n",
       "      <td>A stroke of lightning forming a line 100 feet ...</td>\n",
       "      <td>Instantaneous</td>\n",
       "      <td>When you cast this spell using a spell slot of...</td>\n",
       "      <td>3.0</td>\n",
       "      <td>Self (1OO-foot line)</td>\n",
       "      <td>False</td>\n",
       "      <td>evocation</td>\n",
       "      <td>[sorcerer, wizard, level3]</td>\n",
       "      <td>3rd-level evocation</td>\n",
       "    </tr>\n",
       "    <tr>\n",
       "      <th>Speak with Plants</th>\n",
       "      <td>1 action</td>\n",
       "      <td>V, S</td>\n",
       "      <td>You imbue plants within 30 feet of you with li...</td>\n",
       "      <td>10 minutes</td>\n",
       "      <td></td>\n",
       "      <td>3.0</td>\n",
       "      <td>Self (30-foot radius</td>\n",
       "      <td>False</td>\n",
       "      <td>transmutation</td>\n",
       "      <td>[bard, druid, ranger, level3]</td>\n",
       "      <td>3rd-level transmutation</td>\n",
       "    </tr>\n",
       "    <tr>\n",
       "      <th>Tiny Hut</th>\n",
       "      <td>1 minute</td>\n",
       "      <td>V, S, M (a small crystal bead)</td>\n",
       "      <td>A 10 foot radius immobile dome of force spring...</td>\n",
       "      <td>8 hours</td>\n",
       "      <td></td>\n",
       "      <td>3.0</td>\n",
       "      <td>Self (10-foot radius hemisphere)</td>\n",
       "      <td>True</td>\n",
       "      <td>evocation</td>\n",
       "      <td>NaN</td>\n",
       "      <td>NaN</td>\n",
       "    </tr>\n",
       "  </tbody>\n",
       "</table>\n",
       "</div>"
      ],
      "text/plain": [
       "                  casting_time  \\\n",
       "Antimagic Field       1 action   \n",
       "Blur                  1 action   \n",
       "Branding Smite        1 action   \n",
       "Detect Thoughts       1 action   \n",
       "Lightning Bolt        1 action   \n",
       "Speak with Plants     1 action   \n",
       "Tiny Hut              1 minute   \n",
       "\n",
       "                                                          components  \\\n",
       "Antimagic Field    V, S, M (a pinch of powdered iron or iron fili...   \n",
       "Blur                                                               V   \n",
       "Branding Smite                                                     V   \n",
       "Detect Thoughts                             V, S, M (a copper piece)   \n",
       "Lightning Bolt     V, S, M (a bit of fur and a rod of amber, crys...   \n",
       "Speak with Plants                                               V, S   \n",
       "Tiny Hut                              V, S, M (a small crystal bead)   \n",
       "\n",
       "                                                         description  \\\n",
       "Antimagic Field    A 10-foot-radius invisible sphere of antimagic...   \n",
       "Blur               Your body becomes blurred, shifting and waveri...   \n",
       "Branding Smite     The next time you hit a creature with a weapon...   \n",
       "Detect Thoughts    For the duration, you can read the thoughts of...   \n",
       "Lightning Bolt     A stroke of lightning forming a line 100 feet ...   \n",
       "Speak with Plants  You imbue plants within 30 feet of you with li...   \n",
       "Tiny Hut           A 10 foot radius immobile dome of force spring...   \n",
       "\n",
       "                                        duration  \\\n",
       "Antimagic Field      Concentration, up to 1 hour   \n",
       "Blur               Concentration, up to 1 minute   \n",
       "Branding Smite     Concentration, up to 1 minute   \n",
       "Detect Thoughts    Concentration, up to 1 minute   \n",
       "Lightning Bolt                     Instantaneous   \n",
       "Speak with Plants                     10 minutes   \n",
       "Tiny Hut                                 8 hours   \n",
       "\n",
       "                                                       higher_levels  level  \\\n",
       "Antimagic Field                                                         8.0   \n",
       "Blur                                                                    2.0   \n",
       "Branding Smite     When you cast this spell using a spell slot of...    2.0   \n",
       "Detect Thoughts                                                         2.0   \n",
       "Lightning Bolt     When you cast this spell using a spell slot of...    3.0   \n",
       "Speak with Plants                                                       3.0   \n",
       "Tiny Hut                                                                3.0   \n",
       "\n",
       "                                              range ritual         school  \\\n",
       "Antimagic Field        Self (10-foot-radius sphere)  False     abjuration   \n",
       "Blur                                           self  False       illusion   \n",
       "Branding Smite                                 self  False      evocation   \n",
       "Detect Thoughts                                self  False     divination   \n",
       "Lightning Bolt                 Self (1OO-foot line)  False      evocation   \n",
       "Speak with Plants              Self (30-foot radius  False  transmutation   \n",
       "Tiny Hut           Self (10-foot radius hemisphere)   True      evocation   \n",
       "\n",
       "                                               tags                     type  \n",
       "Antimagic Field            [cleric, wizard, level8]     8th-level abjuration  \n",
       "Blur                     [sorcerer, wizard, level2]       2nd-Level illusion  \n",
       "Branding Smite                    [paladin, level2]      2nd-Level evocation  \n",
       "Detect Thoughts    [bard, sorcerer, wizard, level2]     2nd-Level divination  \n",
       "Lightning Bolt           [sorcerer, wizard, level3]      3rd-level evocation  \n",
       "Speak with Plants     [bard, druid, ranger, level3]  3rd-level transmutation  \n",
       "Tiny Hut                                        NaN                      NaN  "
      ]
     },
     "execution_count": 41,
     "metadata": {},
     "output_type": "execute_result"
    }
   ],
   "source": [
    "spells_df[spells_df.range.str.match('self') |\n",
    "          spells_df.range.str.match('touch') |\n",
    "          spells_df.range.str.match('Self \\(30-foot radius$') |\n",
    "          spells_df.range.str.contains('sphere') |\n",
    "          spells_df.range.str.contains('1OO')]"
   ]
  },
  {
   "cell_type": "code",
   "execution_count": 42,
   "metadata": {
    "collapsed": true
   },
   "outputs": [],
   "source": [
    "spells_df.loc[['Blur', 'Branding Smite', 'Detect Thoughts'], 'range'] = 'Self'\n",
    "spells_df.loc['Speak with Plants', 'range'] = 'Self (30-foot radius)'\n",
    "spells_df.loc['Antimagic Field', 'range'] = 'Self (10-foot radius)'\n",
    "spells_df.loc['Lightning Bolt', 'range'] = 'Self (100-foot line)'"
   ]
  },
  {
   "cell_type": "code",
   "execution_count": 43,
   "metadata": {
    "collapsed": true
   },
   "outputs": [],
   "source": [
    "spells_df['range'] = spells_df.range.astype('category')"
   ]
  },
  {
   "cell_type": "markdown",
   "metadata": {},
   "source": [
    "#### `ritual`\n",
    "\n",
    "Looks clean. Everything is a bool."
   ]
  },
  {
   "cell_type": "code",
   "execution_count": 44,
   "metadata": {
    "collapsed": true
   },
   "outputs": [],
   "source": [
    "assert all(spells_df.ritual.notnull())\n",
    "assert all(spells_df.ritual.apply(type) == bool)"
   ]
  },
  {
   "cell_type": "markdown",
   "metadata": {},
   "source": [
    "#### `school`\n",
    "\n",
    "Again, some inconsistent formating, and one null value which needs to be corrected."
   ]
  },
  {
   "cell_type": "code",
   "execution_count": 45,
   "metadata": {},
   "outputs": [],
   "source": [
    "# spells_df.groupby('school').count()['level']"
   ]
  },
  {
   "cell_type": "code",
   "execution_count": 46,
   "metadata": {},
   "outputs": [
    {
     "data": {
      "text/html": [
       "<div>\n",
       "<style>\n",
       "    .dataframe thead tr:only-child th {\n",
       "        text-align: right;\n",
       "    }\n",
       "\n",
       "    .dataframe thead th {\n",
       "        text-align: left;\n",
       "    }\n",
       "\n",
       "    .dataframe tbody tr th {\n",
       "        vertical-align: top;\n",
       "    }\n",
       "</style>\n",
       "<table border=\"1\" class=\"dataframe\">\n",
       "  <thead>\n",
       "    <tr style=\"text-align: right;\">\n",
       "      <th></th>\n",
       "      <th>casting_time</th>\n",
       "      <th>components</th>\n",
       "      <th>description</th>\n",
       "      <th>duration</th>\n",
       "      <th>higher_levels</th>\n",
       "      <th>level</th>\n",
       "      <th>range</th>\n",
       "      <th>ritual</th>\n",
       "      <th>school</th>\n",
       "      <th>tags</th>\n",
       "      <th>type</th>\n",
       "    </tr>\n",
       "  </thead>\n",
       "  <tbody>\n",
       "    <tr>\n",
       "      <th>Control Weather</th>\n",
       "      <td>10 minutes</td>\n",
       "      <td>V, S, M (burning incense and bits of earth and...</td>\n",
       "      <td>You take control of the weather within 5 miles...</td>\n",
       "      <td>Concentration, up to 8 hours</td>\n",
       "      <td></td>\n",
       "      <td>8.0</td>\n",
       "      <td>Self (5-mile radius)</td>\n",
       "      <td>False</td>\n",
       "      <td>NaN</td>\n",
       "      <td>[cleric, druid, wizard, level8]</td>\n",
       "      <td>Wind</td>\n",
       "    </tr>\n",
       "  </tbody>\n",
       "</table>\n",
       "</div>"
      ],
      "text/plain": [
       "                casting_time  \\\n",
       "Control Weather   10 minutes   \n",
       "\n",
       "                                                        components  \\\n",
       "Control Weather  V, S, M (burning incense and bits of earth and...   \n",
       "\n",
       "                                                       description  \\\n",
       "Control Weather  You take control of the weather within 5 miles...   \n",
       "\n",
       "                                     duration higher_levels  level  \\\n",
       "Control Weather  Concentration, up to 8 hours                  8.0   \n",
       "\n",
       "                                range ritual school  \\\n",
       "Control Weather  Self (5-mile radius)  False    NaN   \n",
       "\n",
       "                                            tags  type  \n",
       "Control Weather  [cleric, druid, wizard, level8]  Wind  "
      ]
     },
     "execution_count": 46,
     "metadata": {},
     "output_type": "execute_result"
    }
   ],
   "source": [
    "spells_df[spells_df.school.isnull()]"
   ]
  },
  {
   "cell_type": "code",
   "execution_count": 47,
   "metadata": {
    "collapsed": true
   },
   "outputs": [],
   "source": [
    "spells_df.loc['Control Weather', 'school'] = 'transmutation'"
   ]
  },
  {
   "cell_type": "code",
   "execution_count": 48,
   "metadata": {
    "collapsed": true
   },
   "outputs": [],
   "source": [
    "spells_df.school = spells_df.school.str.lower()"
   ]
  },
  {
   "cell_type": "code",
   "execution_count": 49,
   "metadata": {},
   "outputs": [
    {
     "data": {
      "text/html": [
       "<div>\n",
       "<style>\n",
       "    .dataframe thead tr:only-child th {\n",
       "        text-align: right;\n",
       "    }\n",
       "\n",
       "    .dataframe thead th {\n",
       "        text-align: left;\n",
       "    }\n",
       "\n",
       "    .dataframe tbody tr th {\n",
       "        vertical-align: top;\n",
       "    }\n",
       "</style>\n",
       "<table border=\"1\" class=\"dataframe\">\n",
       "  <thead>\n",
       "    <tr style=\"text-align: right;\">\n",
       "      <th></th>\n",
       "      <th>casting_time</th>\n",
       "      <th>components</th>\n",
       "      <th>description</th>\n",
       "      <th>duration</th>\n",
       "      <th>higher_levels</th>\n",
       "      <th>level</th>\n",
       "      <th>range</th>\n",
       "      <th>ritual</th>\n",
       "      <th>school</th>\n",
       "      <th>tags</th>\n",
       "      <th>type</th>\n",
       "    </tr>\n",
       "  </thead>\n",
       "  <tbody>\n",
       "    <tr>\n",
       "      <th>Barkskin</th>\n",
       "      <td>1 action</td>\n",
       "      <td>V, S, M (a handful of oak bark)</td>\n",
       "      <td>You touch a willing creature. Until the spell ...</td>\n",
       "      <td>Concentration, up to 1 hour</td>\n",
       "      <td></td>\n",
       "      <td>2.0</td>\n",
       "      <td>Touch</td>\n",
       "      <td>False</td>\n",
       "      <td>transmuation</td>\n",
       "      <td>[druid, ranger, level2]</td>\n",
       "      <td>2nd-level transmuation</td>\n",
       "    </tr>\n",
       "  </tbody>\n",
       "</table>\n",
       "</div>"
      ],
      "text/plain": [
       "         casting_time                       components  \\\n",
       "Barkskin     1 action  V, S, M (a handful of oak bark)   \n",
       "\n",
       "                                                description  \\\n",
       "Barkskin  You touch a willing creature. Until the spell ...   \n",
       "\n",
       "                             duration higher_levels  level  range ritual  \\\n",
       "Barkskin  Concentration, up to 1 hour                  2.0  Touch  False   \n",
       "\n",
       "                school                     tags                    type  \n",
       "Barkskin  transmuation  [druid, ranger, level2]  2nd-level transmuation  "
      ]
     },
     "execution_count": 49,
     "metadata": {},
     "output_type": "execute_result"
    }
   ],
   "source": [
    "spells_df[spells_df.school.str.contains('transmuation')]"
   ]
  },
  {
   "cell_type": "code",
   "execution_count": 50,
   "metadata": {
    "collapsed": true
   },
   "outputs": [],
   "source": [
    "spells_df.loc['Barkskin', 'school'] = 'transmutation'"
   ]
  },
  {
   "cell_type": "code",
   "execution_count": 51,
   "metadata": {
    "collapsed": true
   },
   "outputs": [],
   "source": [
    "spells_df['school'] = spells_df.school.astype('category')"
   ]
  },
  {
   "cell_type": "markdown",
   "metadata": {},
   "source": [
    "#### `tags` and `type`\n",
    "\n",
    "Both of these columns mostly repeat information found in other columns."
   ]
  },
  {
   "cell_type": "code",
   "execution_count": 52,
   "metadata": {
    "collapsed": true
   },
   "outputs": [],
   "source": [
    "spells_df.drop(['tags', 'type'], inplace=True, axis=1)"
   ]
  },
  {
   "cell_type": "markdown",
   "metadata": {},
   "source": [
    "### Finalizing the `spells_df` and related data frames\n",
    "\n",
    "We can joing the `spells_df` and `class_spells_df` data frames, if we're interested."
   ]
  },
  {
   "cell_type": "code",
   "execution_count": 53,
   "metadata": {},
   "outputs": [
    {
     "data": {
      "text/html": [
       "<div>\n",
       "<style>\n",
       "    .dataframe thead tr:only-child th {\n",
       "        text-align: right;\n",
       "    }\n",
       "\n",
       "    .dataframe thead th {\n",
       "        text-align: left;\n",
       "    }\n",
       "\n",
       "    .dataframe tbody tr th {\n",
       "        vertical-align: top;\n",
       "    }\n",
       "</style>\n",
       "<table border=\"1\" class=\"dataframe\">\n",
       "  <thead>\n",
       "    <tr style=\"text-align: right;\">\n",
       "      <th></th>\n",
       "      <th>casting_time</th>\n",
       "      <th>components</th>\n",
       "      <th>description</th>\n",
       "      <th>duration</th>\n",
       "      <th>higher_levels</th>\n",
       "      <th>level</th>\n",
       "      <th>range</th>\n",
       "      <th>ritual</th>\n",
       "      <th>school</th>\n",
       "    </tr>\n",
       "  </thead>\n",
       "  <tbody>\n",
       "    <tr>\n",
       "      <th>Acid Arrow</th>\n",
       "      <td>1 action</td>\n",
       "      <td>V, S, M (powdered rhubarb leaf and an adder's ...</td>\n",
       "      <td>A shimmering green arrow streaks toward a targ...</td>\n",
       "      <td>Instantaneous</td>\n",
       "      <td>At Higher Levels. When you cast this spell usi...</td>\n",
       "      <td>2.0</td>\n",
       "      <td>90 feet</td>\n",
       "      <td>False</td>\n",
       "      <td>evocation</td>\n",
       "    </tr>\n",
       "    <tr>\n",
       "      <th>Acid Splash</th>\n",
       "      <td>1 action</td>\n",
       "      <td>V, S</td>\n",
       "      <td>You hurl a bubble of acid. Choose one creature...</td>\n",
       "      <td>Instantaneous</td>\n",
       "      <td></td>\n",
       "      <td>0.0</td>\n",
       "      <td>60 feet</td>\n",
       "      <td>False</td>\n",
       "      <td>conjuration</td>\n",
       "    </tr>\n",
       "    <tr>\n",
       "      <th>Aid</th>\n",
       "      <td>1 action</td>\n",
       "      <td>V, S, M (a tiny strip of white cloth)</td>\n",
       "      <td>Your spell bolsters your allies with toughness...</td>\n",
       "      <td>8 hours</td>\n",
       "      <td>When you cast this spell using a spell slot of...</td>\n",
       "      <td>2.0</td>\n",
       "      <td>30 feet</td>\n",
       "      <td>False</td>\n",
       "      <td>abjuration</td>\n",
       "    </tr>\n",
       "    <tr>\n",
       "      <th>Alarm</th>\n",
       "      <td>1 action</td>\n",
       "      <td>V, S, M (a tiny bell and a piece of fine silve...</td>\n",
       "      <td>You set an alarm against unwanted intrusion. C...</td>\n",
       "      <td>8 hours</td>\n",
       "      <td></td>\n",
       "      <td>1.0</td>\n",
       "      <td>30 feet</td>\n",
       "      <td>True</td>\n",
       "      <td>abjuration</td>\n",
       "    </tr>\n",
       "    <tr>\n",
       "      <th>Alter Self</th>\n",
       "      <td>1 action</td>\n",
       "      <td>V, S</td>\n",
       "      <td>You assume a different form. When you cast the...</td>\n",
       "      <td>Concentration, up to 1 hour</td>\n",
       "      <td></td>\n",
       "      <td>2.0</td>\n",
       "      <td>Self</td>\n",
       "      <td>False</td>\n",
       "      <td>transmutation</td>\n",
       "    </tr>\n",
       "  </tbody>\n",
       "</table>\n",
       "</div>"
      ],
      "text/plain": [
       "            casting_time                                         components  \\\n",
       "Acid Arrow      1 action  V, S, M (powdered rhubarb leaf and an adder's ...   \n",
       "Acid Splash     1 action                                               V, S   \n",
       "Aid             1 action              V, S, M (a tiny strip of white cloth)   \n",
       "Alarm           1 action  V, S, M (a tiny bell and a piece of fine silve...   \n",
       "Alter Self      1 action                                               V, S   \n",
       "\n",
       "                                                   description  \\\n",
       "Acid Arrow   A shimmering green arrow streaks toward a targ...   \n",
       "Acid Splash  You hurl a bubble of acid. Choose one creature...   \n",
       "Aid          Your spell bolsters your allies with toughness...   \n",
       "Alarm        You set an alarm against unwanted intrusion. C...   \n",
       "Alter Self   You assume a different form. When you cast the...   \n",
       "\n",
       "                                duration  \\\n",
       "Acid Arrow                 Instantaneous   \n",
       "Acid Splash                Instantaneous   \n",
       "Aid                              8 hours   \n",
       "Alarm                            8 hours   \n",
       "Alter Self   Concentration, up to 1 hour   \n",
       "\n",
       "                                                 higher_levels  level  \\\n",
       "Acid Arrow   At Higher Levels. When you cast this spell usi...    2.0   \n",
       "Acid Splash                                                       0.0   \n",
       "Aid          When you cast this spell using a spell slot of...    2.0   \n",
       "Alarm                                                             1.0   \n",
       "Alter Self                                                        2.0   \n",
       "\n",
       "               range ritual         school  \n",
       "Acid Arrow   90 feet  False      evocation  \n",
       "Acid Splash  60 feet  False    conjuration  \n",
       "Aid          30 feet  False     abjuration  \n",
       "Alarm        30 feet   True     abjuration  \n",
       "Alter Self      Self  False  transmutation  "
      ]
     },
     "execution_count": 53,
     "metadata": {},
     "output_type": "execute_result"
    }
   ],
   "source": [
    "# spells_df = pd.concat([spells_df, class_spells_df], keys=['', 'class'], axis=1)\n",
    "spells_df.head()"
   ]
  },
  {
   "cell_type": "markdown",
   "metadata": {},
   "source": [
    "### Cleaning the monster list\n",
    "\n",
    "We next focus on the `monsters` dataset. The json file contains data for 325 creatures (called _stat blocks_), as well as the OGL licence under which they are released. Each stat block is a dictionary; in order to tidy our data we'll work with these dictionaries."
   ]
  },
  {
   "cell_type": "code",
   "execution_count": 54,
   "metadata": {},
   "outputs": [
    {
     "data": {
      "text/plain": [
       "(list, 325)"
      ]
     },
     "execution_count": 54,
     "metadata": {},
     "output_type": "execute_result"
    }
   ],
   "source": [
    "type(monsters), len(monsters)"
   ]
  },
  {
   "cell_type": "code",
   "execution_count": 55,
   "metadata": {
    "collapsed": true
   },
   "outputs": [],
   "source": [
    "def get_monster_df(monsters):\n",
    "    df = pd.DataFrame(monsters)\n",
    "    df = df.set_index(['name'])\n",
    "    df = fix_saves(df)\n",
    "    df = fix_skills(df)\n",
    "    df.challenge_rating = df.challenge_rating.apply(fix_challenge_rating)\n",
    "    df = df.reindex(columns=_column_order)\n",
    "    columns_with_nan = df.columns[df.isnull().apply(any, axis=0)]\n",
    "    for column in columns_with_nan:\n",
    "        replace_nan(df, column, list)\n",
    "    return df\n",
    "\n",
    "\n",
    "def fix_saves(df):\n",
    "    mods = [stat + '_mod' for stat in _stats]\n",
    "    saves = [stat + '_save' for stat in _stats]\n",
    "    for stat, mod in zip(_stats, mods):\n",
    "        df[mod] = np.floor((df[stat] - 10) / 2)\n",
    "    for mod, save in zip(mods, saves):\n",
    "        df[save].fillna(df[mod], inplace=True)\n",
    "    return df\n",
    "\n",
    "\n",
    "def fix_skills(df):\n",
    "    for skill, stat in _skills_stats.items():\n",
    "        df[skill].fillna(df[stat+'_mod'], inplace=True)\n",
    "    return df\n",
    "\n",
    "\n",
    "def fix_challenge_rating(cr):\n",
    "    pattern = re.compile(r'(?P<p>\\d)/(?P<q>\\d)$|(?P<n>\\d+)')\n",
    "    g = re.match(pattern, cr)\n",
    "    try:\n",
    "        x = int(g.group('p')) / int(g.group('q'))\n",
    "    except:\n",
    "        x = int(g.group('n'))\n",
    "    return x\n",
    "\n",
    "\n",
    "def replace_nan(df, column, func):\n",
    "    for x in df.loc[df[column].isnull(), column].index:\n",
    "        df.at[x, column] = func()"
   ]
  },
  {
   "cell_type": "markdown",
   "metadata": {},
   "source": [
    "We'll also need the following constants, which were (originally) extracted directly from the aggregated stat blocks, or created using domain knowledge."
   ]
  },
  {
   "cell_type": "code",
   "execution_count": 56,
   "metadata": {
    "collapsed": true
   },
   "outputs": [],
   "source": [
    "_stats = ['strength', 'dexterity', 'constitution', 'intelligence', 'wisdom', 'charisma']\n",
    "\n",
    "_mechanics = ['challenge_rating', 'armor_class', 'hit_dice', 'hit_points',\n",
    "              'condition_immunities', 'damage_immunities',\n",
    "              'damage_resistances', 'damage_vulnerabilities', 'actions',\n",
    "              'reactions', 'legendary_actions', 'special_abilities', 'size',\n",
    "              'speed', 'senses']\n",
    "\n",
    "_flavor = ['languages', 'subtype', 'type', 'alignment']\n",
    "\n",
    "_stat_scores = ['strength', 'strength_mod', 'strength_save', 'dexterity',\n",
    "                'dexterity_mod', 'dexterity_save', 'constitution',\n",
    "                'constitution_mod', 'constitution_save', 'intelligence',\n",
    "                'intelligence_mod', 'intelligence_save', 'wisdom',\n",
    "                'wisdom_mod', 'wisdom_save', 'charisma', 'charisma_mod',\n",
    "                'charisma_save']\n",
    "\n",
    "_skills = ['acrobatics', 'arcana', 'athletics', 'deception', 'history',\n",
    "           'insight', 'intimidation', 'investigation', 'medicine', 'nature',\n",
    "           'perception', 'performance',  'persuasion', 'religion', 'stealth',\n",
    "           'survival']\n",
    "\n",
    "_column_order = _mechanics + _flavor + _stat_scores + _skills\n",
    "\n",
    "_skills_stats = {'acrobatics': 'dexterity',\n",
    "                 'arcana': 'intelligence',\n",
    "                 'athletics': 'strength',\n",
    "                 'deception': 'charisma',\n",
    "                 'history': 'intelligence',\n",
    "                 'insight': 'wisdom',\n",
    "                 'intimidation': 'charisma',\n",
    "                 'investigation': 'intelligence',\n",
    "                 'medicine': 'wisdom',\n",
    "                 'nature': 'intelligence',\n",
    "                 'perception': 'wisdom',\n",
    "                 'performance': 'charisma',\n",
    "                 'persuasion': 'charisma',\n",
    "                 'religion': 'intelligence',\n",
    "                 'stealth': 'dexterity',\n",
    "                 'survival': 'wisdom'}\n"
   ]
  },
  {
   "cell_type": "markdown",
   "metadata": {},
   "source": [
    "With that preparatory work completed, we can now load the `monster_df`, which contains the stat blocks for each monster."
   ]
  },
  {
   "cell_type": "code",
   "execution_count": 57,
   "metadata": {
    "collapsed": true
   },
   "outputs": [],
   "source": [
    "monster_df = get_monster_df(monsters)"
   ]
  },
  {
   "cell_type": "code",
   "execution_count": 58,
   "metadata": {},
   "outputs": [
    {
     "data": {
      "text/html": [
       "<div>\n",
       "<style>\n",
       "    .dataframe thead tr:only-child th {\n",
       "        text-align: right;\n",
       "    }\n",
       "\n",
       "    .dataframe thead th {\n",
       "        text-align: left;\n",
       "    }\n",
       "\n",
       "    .dataframe tbody tr th {\n",
       "        vertical-align: top;\n",
       "    }\n",
       "</style>\n",
       "<table border=\"1\" class=\"dataframe\">\n",
       "  <thead>\n",
       "    <tr style=\"text-align: right;\">\n",
       "      <th></th>\n",
       "      <th>challenge_rating</th>\n",
       "      <th>armor_class</th>\n",
       "      <th>hit_dice</th>\n",
       "      <th>hit_points</th>\n",
       "      <th>condition_immunities</th>\n",
       "      <th>damage_immunities</th>\n",
       "      <th>damage_resistances</th>\n",
       "      <th>damage_vulnerabilities</th>\n",
       "      <th>actions</th>\n",
       "      <th>reactions</th>\n",
       "      <th>...</th>\n",
       "      <th>intimidation</th>\n",
       "      <th>investigation</th>\n",
       "      <th>medicine</th>\n",
       "      <th>nature</th>\n",
       "      <th>perception</th>\n",
       "      <th>performance</th>\n",
       "      <th>persuasion</th>\n",
       "      <th>religion</th>\n",
       "      <th>stealth</th>\n",
       "      <th>survival</th>\n",
       "    </tr>\n",
       "    <tr>\n",
       "      <th>name</th>\n",
       "      <th></th>\n",
       "      <th></th>\n",
       "      <th></th>\n",
       "      <th></th>\n",
       "      <th></th>\n",
       "      <th></th>\n",
       "      <th></th>\n",
       "      <th></th>\n",
       "      <th></th>\n",
       "      <th></th>\n",
       "      <th></th>\n",
       "      <th></th>\n",
       "      <th></th>\n",
       "      <th></th>\n",
       "      <th></th>\n",
       "      <th></th>\n",
       "      <th></th>\n",
       "      <th></th>\n",
       "      <th></th>\n",
       "      <th></th>\n",
       "      <th></th>\n",
       "    </tr>\n",
       "  </thead>\n",
       "  <tbody>\n",
       "    <tr>\n",
       "      <th>Aboleth</th>\n",
       "      <td>10.00</td>\n",
       "      <td>17</td>\n",
       "      <td>18d10</td>\n",
       "      <td>135</td>\n",
       "      <td></td>\n",
       "      <td></td>\n",
       "      <td></td>\n",
       "      <td></td>\n",
       "      <td>[{'name': 'Multiattack', 'desc': 'The aboleth ...</td>\n",
       "      <td>[]</td>\n",
       "      <td>...</td>\n",
       "      <td>4.0</td>\n",
       "      <td>4.0</td>\n",
       "      <td>2.0</td>\n",
       "      <td>4.0</td>\n",
       "      <td>10.0</td>\n",
       "      <td>4.0</td>\n",
       "      <td>4.0</td>\n",
       "      <td>4.0</td>\n",
       "      <td>-1.0</td>\n",
       "      <td>2.0</td>\n",
       "    </tr>\n",
       "    <tr>\n",
       "      <th>Acolyte</th>\n",
       "      <td>0.25</td>\n",
       "      <td>10</td>\n",
       "      <td>2d8</td>\n",
       "      <td>9</td>\n",
       "      <td></td>\n",
       "      <td></td>\n",
       "      <td></td>\n",
       "      <td></td>\n",
       "      <td>[{'name': 'Club', 'desc': 'Melee Weapon Attack...</td>\n",
       "      <td>[]</td>\n",
       "      <td>...</td>\n",
       "      <td>0.0</td>\n",
       "      <td>0.0</td>\n",
       "      <td>4.0</td>\n",
       "      <td>0.0</td>\n",
       "      <td>2.0</td>\n",
       "      <td>0.0</td>\n",
       "      <td>0.0</td>\n",
       "      <td>2.0</td>\n",
       "      <td>0.0</td>\n",
       "      <td>2.0</td>\n",
       "    </tr>\n",
       "    <tr>\n",
       "      <th>Adult Black Dragon</th>\n",
       "      <td>14.00</td>\n",
       "      <td>19</td>\n",
       "      <td>17d12</td>\n",
       "      <td>195</td>\n",
       "      <td></td>\n",
       "      <td>acid</td>\n",
       "      <td></td>\n",
       "      <td></td>\n",
       "      <td>[{'name': 'Multiattack', 'desc': 'The dragon c...</td>\n",
       "      <td>[]</td>\n",
       "      <td>...</td>\n",
       "      <td>3.0</td>\n",
       "      <td>2.0</td>\n",
       "      <td>1.0</td>\n",
       "      <td>2.0</td>\n",
       "      <td>11.0</td>\n",
       "      <td>3.0</td>\n",
       "      <td>3.0</td>\n",
       "      <td>2.0</td>\n",
       "      <td>7.0</td>\n",
       "      <td>1.0</td>\n",
       "    </tr>\n",
       "    <tr>\n",
       "      <th>Adult Blue Dracolich</th>\n",
       "      <td>17.00</td>\n",
       "      <td>19</td>\n",
       "      <td>18d12</td>\n",
       "      <td>225</td>\n",
       "      <td>charmed, exhaustion, frightened, paralyzed, po...</td>\n",
       "      <td>lightning, poison</td>\n",
       "      <td>necrotic</td>\n",
       "      <td></td>\n",
       "      <td>[{'name': 'Multiattack', 'desc': 'The dracolic...</td>\n",
       "      <td>[]</td>\n",
       "      <td>...</td>\n",
       "      <td>4.0</td>\n",
       "      <td>3.0</td>\n",
       "      <td>2.0</td>\n",
       "      <td>3.0</td>\n",
       "      <td>12.0</td>\n",
       "      <td>4.0</td>\n",
       "      <td>4.0</td>\n",
       "      <td>3.0</td>\n",
       "      <td>0.0</td>\n",
       "      <td>2.0</td>\n",
       "    </tr>\n",
       "    <tr>\n",
       "      <th>Adult Blue Dragon</th>\n",
       "      <td>16.00</td>\n",
       "      <td>19</td>\n",
       "      <td>18d12</td>\n",
       "      <td>225</td>\n",
       "      <td></td>\n",
       "      <td>lightning</td>\n",
       "      <td></td>\n",
       "      <td></td>\n",
       "      <td>[{'name': 'Multiattack', 'desc': 'The dragon c...</td>\n",
       "      <td>[]</td>\n",
       "      <td>...</td>\n",
       "      <td>4.0</td>\n",
       "      <td>3.0</td>\n",
       "      <td>2.0</td>\n",
       "      <td>3.0</td>\n",
       "      <td>12.0</td>\n",
       "      <td>4.0</td>\n",
       "      <td>4.0</td>\n",
       "      <td>3.0</td>\n",
       "      <td>5.0</td>\n",
       "      <td>2.0</td>\n",
       "    </tr>\n",
       "  </tbody>\n",
       "</table>\n",
       "<p>5 rows × 53 columns</p>\n",
       "</div>"
      ],
      "text/plain": [
       "                      challenge_rating  armor_class hit_dice  hit_points  \\\n",
       "name                                                                       \n",
       "Aboleth                          10.00           17    18d10         135   \n",
       "Acolyte                           0.25           10      2d8           9   \n",
       "Adult Black Dragon               14.00           19    17d12         195   \n",
       "Adult Blue Dracolich             17.00           19    18d12         225   \n",
       "Adult Blue Dragon                16.00           19    18d12         225   \n",
       "\n",
       "                                                   condition_immunities  \\\n",
       "name                                                                      \n",
       "Aboleth                                                                   \n",
       "Acolyte                                                                   \n",
       "Adult Black Dragon                                                        \n",
       "Adult Blue Dracolich  charmed, exhaustion, frightened, paralyzed, po...   \n",
       "Adult Blue Dragon                                                         \n",
       "\n",
       "                      damage_immunities damage_resistances  \\\n",
       "name                                                         \n",
       "Aboleth                                                      \n",
       "Acolyte                                                      \n",
       "Adult Black Dragon                 acid                      \n",
       "Adult Blue Dracolich  lightning, poison           necrotic   \n",
       "Adult Blue Dragon             lightning                      \n",
       "\n",
       "                     damage_vulnerabilities  \\\n",
       "name                                          \n",
       "Aboleth                                       \n",
       "Acolyte                                       \n",
       "Adult Black Dragon                            \n",
       "Adult Blue Dracolich                          \n",
       "Adult Blue Dragon                             \n",
       "\n",
       "                                                                actions  \\\n",
       "name                                                                      \n",
       "Aboleth               [{'name': 'Multiattack', 'desc': 'The aboleth ...   \n",
       "Acolyte               [{'name': 'Club', 'desc': 'Melee Weapon Attack...   \n",
       "Adult Black Dragon    [{'name': 'Multiattack', 'desc': 'The dragon c...   \n",
       "Adult Blue Dracolich  [{'name': 'Multiattack', 'desc': 'The dracolic...   \n",
       "Adult Blue Dragon     [{'name': 'Multiattack', 'desc': 'The dragon c...   \n",
       "\n",
       "                     reactions    ...    intimidation investigation medicine  \\\n",
       "name                              ...                                          \n",
       "Aboleth                     []    ...             4.0           4.0      2.0   \n",
       "Acolyte                     []    ...             0.0           0.0      4.0   \n",
       "Adult Black Dragon          []    ...             3.0           2.0      1.0   \n",
       "Adult Blue Dracolich        []    ...             4.0           3.0      2.0   \n",
       "Adult Blue Dragon           []    ...             4.0           3.0      2.0   \n",
       "\n",
       "                     nature perception performance persuasion religion  \\\n",
       "name                                                                     \n",
       "Aboleth                 4.0       10.0         4.0        4.0      4.0   \n",
       "Acolyte                 0.0        2.0         0.0        0.0      2.0   \n",
       "Adult Black Dragon      2.0       11.0         3.0        3.0      2.0   \n",
       "Adult Blue Dracolich    3.0       12.0         4.0        4.0      3.0   \n",
       "Adult Blue Dragon       3.0       12.0         4.0        4.0      3.0   \n",
       "\n",
       "                     stealth  survival  \n",
       "name                                    \n",
       "Aboleth                 -1.0       2.0  \n",
       "Acolyte                  0.0       2.0  \n",
       "Adult Black Dragon       7.0       1.0  \n",
       "Adult Blue Dracolich     0.0       2.0  \n",
       "Adult Blue Dragon        5.0       2.0  \n",
       "\n",
       "[5 rows x 53 columns]"
      ]
     },
     "execution_count": 58,
     "metadata": {},
     "output_type": "execute_result"
    }
   ],
   "source": [
    "monster_df.head()"
   ]
  },
  {
   "cell_type": "code",
   "execution_count": 59,
   "metadata": {},
   "outputs": [
    {
     "data": {
      "text/plain": [
       "['one', 'two']"
      ]
     },
     "execution_count": 59,
     "metadata": {},
     "output_type": "execute_result"
    }
   ],
   "source": [
    "'one, two'.split(', ')"
   ]
  },
  {
   "cell_type": "markdown",
   "metadata": {},
   "source": [
    "## Dealing with nested data\n",
    "\n",
    "A number of the columns (`actions`, `reactions`, et cetera) in the above data frame contain lists of values: it will be easier to analyze this data if it were reformated. In order to do so, we'll use a common pattern:"
   ]
  },
  {
   "cell_type": "code",
   "execution_count": 60,
   "metadata": {
    "collapsed": true
   },
   "outputs": [],
   "source": [
    "def make_sub_df(x, columns=None, rename=None, index=None):\n",
    "    df = pd.DataFrame(x.iloc[0], columns=columns)\n",
    "    df = df.rename(index=str, columns=rename)\n",
    "    df = df.set_index(index)\n",
    "    return df"
   ]
  },
  {
   "cell_type": "markdown",
   "metadata": {},
   "source": [
    "### Actions"
   ]
  },
  {
   "cell_type": "code",
   "execution_count": 61,
   "metadata": {},
   "outputs": [
    {
     "data": {
      "text/plain": [
       "{('name', 'desc', 'attack_bonus'),\n",
       " ('name', 'desc', 'attack_bonus', 'damage_bonus'),\n",
       " ('name', 'desc', 'attack_bonus', 'damage_dice'),\n",
       " ('name', 'desc', 'attack_bonus', 'damage_dice', 'damage_bonus')}"
      ]
     },
     "execution_count": 61,
     "metadata": {},
     "output_type": "execute_result"
    }
   ],
   "source": [
    "actions_keys = {tuple(action.keys()) for actions in monster_df.actions for action in actions}\n",
    "actions_keys"
   ]
  },
  {
   "cell_type": "code",
   "execution_count": 62,
   "metadata": {
    "collapsed": true
   },
   "outputs": [],
   "source": [
    "def make_action_df(x):\n",
    "    df = pd.DataFrame(x.iloc[0], columns=['name', 'desc', 'attack_bonus', 'damage_dice', 'damage_bonus'])\n",
    "    df = df.rename(index=str, columns={'name':'action'})\n",
    "    df = df.set_index(['action'])\n",
    "    return df\n",
    "\n",
    "columns = ['name', 'desc', 'attack_bonus', 'damage_dice', 'damage_bonus']\n",
    "rename = {'name':'action'}\n",
    "index = ['action']\n",
    "\n",
    "actions_df = monster_df.actions.groupby('name').apply(make_sub_df, columns=columns, rename=rename, index=index)"
   ]
  },
  {
   "cell_type": "code",
   "execution_count": 63,
   "metadata": {},
   "outputs": [
    {
     "data": {
      "text/html": [
       "<div>\n",
       "<style>\n",
       "    .dataframe thead tr:only-child th {\n",
       "        text-align: right;\n",
       "    }\n",
       "\n",
       "    .dataframe thead th {\n",
       "        text-align: left;\n",
       "    }\n",
       "\n",
       "    .dataframe tbody tr th {\n",
       "        vertical-align: top;\n",
       "    }\n",
       "</style>\n",
       "<table border=\"1\" class=\"dataframe\">\n",
       "  <thead>\n",
       "    <tr style=\"text-align: right;\">\n",
       "      <th></th>\n",
       "      <th></th>\n",
       "      <th>desc</th>\n",
       "      <th>attack_bonus</th>\n",
       "      <th>damage_dice</th>\n",
       "      <th>damage_bonus</th>\n",
       "    </tr>\n",
       "    <tr>\n",
       "      <th>name</th>\n",
       "      <th>action</th>\n",
       "      <th></th>\n",
       "      <th></th>\n",
       "      <th></th>\n",
       "      <th></th>\n",
       "    </tr>\n",
       "  </thead>\n",
       "  <tbody>\n",
       "    <tr>\n",
       "      <th rowspan=\"4\" valign=\"top\">Aboleth</th>\n",
       "      <th>Multiattack</th>\n",
       "      <td>The aboleth makes three tentacle attacks.</td>\n",
       "      <td>0</td>\n",
       "      <td>NaN</td>\n",
       "      <td>NaN</td>\n",
       "    </tr>\n",
       "    <tr>\n",
       "      <th>Tentacle</th>\n",
       "      <td>Melee Weapon Attack: +9 to hit, reach 10 ft., ...</td>\n",
       "      <td>9</td>\n",
       "      <td>2d6</td>\n",
       "      <td>5.0</td>\n",
       "    </tr>\n",
       "    <tr>\n",
       "      <th>Tail</th>\n",
       "      <td>Melee Weapon Attack: +9 to hit, reach 10 ft. o...</td>\n",
       "      <td>9</td>\n",
       "      <td>3d6</td>\n",
       "      <td>5.0</td>\n",
       "    </tr>\n",
       "    <tr>\n",
       "      <th>Enslave (3/day)</th>\n",
       "      <td>The aboleth targets one creature it can see wi...</td>\n",
       "      <td>0</td>\n",
       "      <td>NaN</td>\n",
       "      <td>NaN</td>\n",
       "    </tr>\n",
       "    <tr>\n",
       "      <th>Acolyte</th>\n",
       "      <th>Club</th>\n",
       "      <td>Melee Weapon Attack: +2 to hit, reach 5 ft., o...</td>\n",
       "      <td>2</td>\n",
       "      <td>1d4</td>\n",
       "      <td>NaN</td>\n",
       "    </tr>\n",
       "    <tr>\n",
       "      <th rowspan=\"5\" valign=\"top\">Adult Black Dragon</th>\n",
       "      <th>Multiattack</th>\n",
       "      <td>The dragon can use its Frightful Presence. It ...</td>\n",
       "      <td>0</td>\n",
       "      <td>NaN</td>\n",
       "      <td>NaN</td>\n",
       "    </tr>\n",
       "    <tr>\n",
       "      <th>Bite</th>\n",
       "      <td>Melee Weapon Attack: +11 to hit, reach 10 ft.,...</td>\n",
       "      <td>11</td>\n",
       "      <td>2d10 + 1d8</td>\n",
       "      <td>6.0</td>\n",
       "    </tr>\n",
       "    <tr>\n",
       "      <th>Claw</th>\n",
       "      <td>Melee Weapon Attack: +11 to hit, reach 5 ft., ...</td>\n",
       "      <td>11</td>\n",
       "      <td>2d6</td>\n",
       "      <td>6.0</td>\n",
       "    </tr>\n",
       "    <tr>\n",
       "      <th>Tail</th>\n",
       "      <td>Melee Weapon Attack: +11 to hit, reach 15 ft.,...</td>\n",
       "      <td>11</td>\n",
       "      <td>2d8</td>\n",
       "      <td>6.0</td>\n",
       "    </tr>\n",
       "    <tr>\n",
       "      <th>Frightful Presence</th>\n",
       "      <td>Each creature of the dragon's choice that is w...</td>\n",
       "      <td>0</td>\n",
       "      <td>NaN</td>\n",
       "      <td>NaN</td>\n",
       "    </tr>\n",
       "  </tbody>\n",
       "</table>\n",
       "</div>"
      ],
      "text/plain": [
       "                                                                                    desc  \\\n",
       "name               action                                                                  \n",
       "Aboleth            Multiattack                 The aboleth makes three tentacle attacks.   \n",
       "                   Tentacle            Melee Weapon Attack: +9 to hit, reach 10 ft., ...   \n",
       "                   Tail                Melee Weapon Attack: +9 to hit, reach 10 ft. o...   \n",
       "                   Enslave (3/day)     The aboleth targets one creature it can see wi...   \n",
       "Acolyte            Club                Melee Weapon Attack: +2 to hit, reach 5 ft., o...   \n",
       "Adult Black Dragon Multiattack         The dragon can use its Frightful Presence. It ...   \n",
       "                   Bite                Melee Weapon Attack: +11 to hit, reach 10 ft.,...   \n",
       "                   Claw                Melee Weapon Attack: +11 to hit, reach 5 ft., ...   \n",
       "                   Tail                Melee Weapon Attack: +11 to hit, reach 15 ft.,...   \n",
       "                   Frightful Presence  Each creature of the dragon's choice that is w...   \n",
       "\n",
       "                                      attack_bonus damage_dice  damage_bonus  \n",
       "name               action                                                     \n",
       "Aboleth            Multiattack                   0         NaN           NaN  \n",
       "                   Tentacle                      9         2d6           5.0  \n",
       "                   Tail                          9         3d6           5.0  \n",
       "                   Enslave (3/day)               0         NaN           NaN  \n",
       "Acolyte            Club                          2         1d4           NaN  \n",
       "Adult Black Dragon Multiattack                   0         NaN           NaN  \n",
       "                   Bite                         11  2d10 + 1d8           6.0  \n",
       "                   Claw                         11         2d6           6.0  \n",
       "                   Tail                         11         2d8           6.0  \n",
       "                   Frightful Presence            0         NaN           NaN  "
      ]
     },
     "execution_count": 63,
     "metadata": {},
     "output_type": "execute_result"
    }
   ],
   "source": [
    "actions_df.head(10)"
   ]
  },
  {
   "cell_type": "markdown",
   "metadata": {},
   "source": [
    "### Special abilities"
   ]
  },
  {
   "cell_type": "code",
   "execution_count": 64,
   "metadata": {},
   "outputs": [
    {
     "data": {
      "text/plain": [
       "{('name', 'desc', 'attack_bonus'),\n",
       " ('name', 'desc', 'attack_bonus', 'damage_dice')}"
      ]
     },
     "execution_count": 64,
     "metadata": {},
     "output_type": "execute_result"
    }
   ],
   "source": [
    "special_keys = {tuple(ability.keys()) for abilities in monster_df.special_abilities for ability in abilities}\n",
    "special_keys"
   ]
  },
  {
   "cell_type": "code",
   "execution_count": 65,
   "metadata": {
    "collapsed": true
   },
   "outputs": [],
   "source": [
    "columns = ['name', 'desc', 'attack_bonus', 'damage_dice']\n",
    "rename = {'name':'special_ability'}\n",
    "index = ['special_ability']\n",
    "\n",
    "special_abilities_df = monster_df.special_abilities.groupby('name').apply(make_sub_df,\n",
    "                                                                         columns=columns,\n",
    "                                                                         rename=rename,\n",
    "                                                                         index=index)"
   ]
  },
  {
   "cell_type": "code",
   "execution_count": 66,
   "metadata": {},
   "outputs": [
    {
     "data": {
      "text/html": [
       "<div>\n",
       "<style>\n",
       "    .dataframe thead tr:only-child th {\n",
       "        text-align: right;\n",
       "    }\n",
       "\n",
       "    .dataframe thead th {\n",
       "        text-align: left;\n",
       "    }\n",
       "\n",
       "    .dataframe tbody tr th {\n",
       "        vertical-align: top;\n",
       "    }\n",
       "</style>\n",
       "<table border=\"1\" class=\"dataframe\">\n",
       "  <thead>\n",
       "    <tr style=\"text-align: right;\">\n",
       "      <th></th>\n",
       "      <th></th>\n",
       "      <th>desc</th>\n",
       "      <th>attack_bonus</th>\n",
       "      <th>damage_dice</th>\n",
       "    </tr>\n",
       "    <tr>\n",
       "      <th>name</th>\n",
       "      <th>special_ability</th>\n",
       "      <th></th>\n",
       "      <th></th>\n",
       "      <th></th>\n",
       "    </tr>\n",
       "  </thead>\n",
       "  <tbody>\n",
       "    <tr>\n",
       "      <th rowspan=\"3\" valign=\"top\">Aboleth</th>\n",
       "      <th>Amphibious</th>\n",
       "      <td>The aboleth can breathe air and water.</td>\n",
       "      <td>0</td>\n",
       "      <td>NaN</td>\n",
       "    </tr>\n",
       "    <tr>\n",
       "      <th>Mucous Cloud</th>\n",
       "      <td>While underwater, the aboleth is surrounded by...</td>\n",
       "      <td>0</td>\n",
       "      <td>NaN</td>\n",
       "    </tr>\n",
       "    <tr>\n",
       "      <th>Probing Telepathy</th>\n",
       "      <td>If a creature communicates telepathically with...</td>\n",
       "      <td>0</td>\n",
       "      <td>NaN</td>\n",
       "    </tr>\n",
       "    <tr>\n",
       "      <th>Acolyte</th>\n",
       "      <th>Spellcasting</th>\n",
       "      <td>The acolyte is a 1st-level spellcaster. Its sp...</td>\n",
       "      <td>0</td>\n",
       "      <td>NaN</td>\n",
       "    </tr>\n",
       "    <tr>\n",
       "      <th rowspan=\"2\" valign=\"top\">Adult Black Dragon</th>\n",
       "      <th>Amphibious</th>\n",
       "      <td>The dragon can breathe air and water.</td>\n",
       "      <td>0</td>\n",
       "      <td>NaN</td>\n",
       "    </tr>\n",
       "    <tr>\n",
       "      <th>Legendary Resistance (3/Day)</th>\n",
       "      <td>If the dragon fails a saving throw, it can cho...</td>\n",
       "      <td>0</td>\n",
       "      <td>NaN</td>\n",
       "    </tr>\n",
       "    <tr>\n",
       "      <th rowspan=\"2\" valign=\"top\">Adult Blue Dracolich</th>\n",
       "      <th>Legendary Resistance (3/Day)</th>\n",
       "      <td>If the dracolich fails a saving throw, it can ...</td>\n",
       "      <td>0</td>\n",
       "      <td>NaN</td>\n",
       "    </tr>\n",
       "    <tr>\n",
       "      <th>Magic Resistance</th>\n",
       "      <td>The dracolich has advantage on saving throws a...</td>\n",
       "      <td>0</td>\n",
       "      <td>NaN</td>\n",
       "    </tr>\n",
       "    <tr>\n",
       "      <th>Adult Blue Dragon</th>\n",
       "      <th>Legendary Resistance (3/Day)</th>\n",
       "      <td>If the dragon fails a saving throw, it can cho...</td>\n",
       "      <td>0</td>\n",
       "      <td>NaN</td>\n",
       "    </tr>\n",
       "    <tr>\n",
       "      <th>Adult Brass Dragon</th>\n",
       "      <th>Legendary Resistance (3/Day)</th>\n",
       "      <td>If the dragon fails a saving throw, it can cho...</td>\n",
       "      <td>0</td>\n",
       "      <td>NaN</td>\n",
       "    </tr>\n",
       "  </tbody>\n",
       "</table>\n",
       "</div>"
      ],
      "text/plain": [
       "                                                                                                desc  \\\n",
       "name                 special_ability                                                                   \n",
       "Aboleth              Amphibious                               The aboleth can breathe air and water.   \n",
       "                     Mucous Cloud                  While underwater, the aboleth is surrounded by...   \n",
       "                     Probing Telepathy             If a creature communicates telepathically with...   \n",
       "Acolyte              Spellcasting                  The acolyte is a 1st-level spellcaster. Its sp...   \n",
       "Adult Black Dragon   Amphibious                                The dragon can breathe air and water.   \n",
       "                     Legendary Resistance (3/Day)  If the dragon fails a saving throw, it can cho...   \n",
       "Adult Blue Dracolich Legendary Resistance (3/Day)  If the dracolich fails a saving throw, it can ...   \n",
       "                     Magic Resistance              The dracolich has advantage on saving throws a...   \n",
       "Adult Blue Dragon    Legendary Resistance (3/Day)  If the dragon fails a saving throw, it can cho...   \n",
       "Adult Brass Dragon   Legendary Resistance (3/Day)  If the dragon fails a saving throw, it can cho...   \n",
       "\n",
       "                                                  attack_bonus damage_dice  \n",
       "name                 special_ability                                        \n",
       "Aboleth              Amphibious                              0         NaN  \n",
       "                     Mucous Cloud                            0         NaN  \n",
       "                     Probing Telepathy                       0         NaN  \n",
       "Acolyte              Spellcasting                            0         NaN  \n",
       "Adult Black Dragon   Amphibious                              0         NaN  \n",
       "                     Legendary Resistance (3/Day)            0         NaN  \n",
       "Adult Blue Dracolich Legendary Resistance (3/Day)            0         NaN  \n",
       "                     Magic Resistance                        0         NaN  \n",
       "Adult Blue Dragon    Legendary Resistance (3/Day)            0         NaN  \n",
       "Adult Brass Dragon   Legendary Resistance (3/Day)            0         NaN  "
      ]
     },
     "execution_count": 66,
     "metadata": {},
     "output_type": "execute_result"
    }
   ],
   "source": [
    "special_abilities_df.head(10)"
   ]
  },
  {
   "cell_type": "code",
   "execution_count": 67,
   "metadata": {},
   "outputs": [
    {
     "data": {
      "text/plain": [
       "[('Magic Resistance', 32),\n",
       " ('Amphibious', 30),\n",
       " ('Legendary Resistance (3/Day)', 24),\n",
       " ('Innate Spellcasting', 20),\n",
       " ('Keen Smell', 19),\n",
       " ('Pack Tactics', 16),\n",
       " ('False Appearance', 15),\n",
       " ('Spider Climb', 13),\n",
       " ('Keen Hearing and Smell', 13),\n",
       " ('Spellcasting', 12),\n",
       " ('Magic Weapons', 12),\n",
       " ('Charge', 12),\n",
       " ('Shapechanger', 11),\n",
       " ('Swarm', 10),\n",
       " ('Water Breathing', 9)]"
      ]
     },
     "execution_count": 67,
     "metadata": {},
     "output_type": "execute_result"
    }
   ],
   "source": [
    "from collections import Counter\n",
    "\n",
    "abilities = Counter(special_abilities_df.reset_index().special_ability)\n",
    "abilities.most_common(15)"
   ]
  },
  {
   "cell_type": "code",
   "execution_count": 68,
   "metadata": {},
   "outputs": [
    {
     "data": {
      "text/html": [
       "<div>\n",
       "<style>\n",
       "    .dataframe thead tr:only-child th {\n",
       "        text-align: right;\n",
       "    }\n",
       "\n",
       "    .dataframe thead th {\n",
       "        text-align: left;\n",
       "    }\n",
       "\n",
       "    .dataframe tbody tr th {\n",
       "        vertical-align: top;\n",
       "    }\n",
       "</style>\n",
       "<table border=\"1\" class=\"dataframe\">\n",
       "  <thead>\n",
       "    <tr style=\"text-align: right;\">\n",
       "      <th></th>\n",
       "      <th></th>\n",
       "      <th>desc</th>\n",
       "      <th>attack_bonus</th>\n",
       "      <th>damage_dice</th>\n",
       "    </tr>\n",
       "    <tr>\n",
       "      <th>name</th>\n",
       "      <th>special_ability</th>\n",
       "      <th></th>\n",
       "      <th></th>\n",
       "      <th></th>\n",
       "    </tr>\n",
       "  </thead>\n",
       "  <tbody>\n",
       "    <tr>\n",
       "      <th>Acolyte</th>\n",
       "      <th>Spellcasting</th>\n",
       "      <td>The acolyte is a 1st-level spellcaster. Its sp...</td>\n",
       "      <td>0</td>\n",
       "      <td>NaN</td>\n",
       "    </tr>\n",
       "    <tr>\n",
       "      <th>Androsphinx</th>\n",
       "      <th>Spellcasting</th>\n",
       "      <td>The sphinx is a 12th-level spellcaster. Its sp...</td>\n",
       "      <td>0</td>\n",
       "      <td>NaN</td>\n",
       "    </tr>\n",
       "    <tr>\n",
       "      <th>Archmage</th>\n",
       "      <th>Spellcasting</th>\n",
       "      <td>The archmage is an 18th-level spellcaster. Its...</td>\n",
       "      <td>0</td>\n",
       "      <td>NaN</td>\n",
       "    </tr>\n",
       "    <tr>\n",
       "      <th>Cult Fanatic</th>\n",
       "      <th>Spellcasting</th>\n",
       "      <td>The fanatic is a 4th-level spellcaster. Its sp...</td>\n",
       "      <td>0</td>\n",
       "      <td>NaN</td>\n",
       "    </tr>\n",
       "    <tr>\n",
       "      <th>Druid</th>\n",
       "      <th>Spellcasting</th>\n",
       "      <td>The druid is a 4th-level spellcaster. Its spel...</td>\n",
       "      <td>0</td>\n",
       "      <td>NaN</td>\n",
       "    </tr>\n",
       "  </tbody>\n",
       "</table>\n",
       "</div>"
      ],
      "text/plain": [
       "                                                                           desc  \\\n",
       "name         special_ability                                                      \n",
       "Acolyte      Spellcasting     The acolyte is a 1st-level spellcaster. Its sp...   \n",
       "Androsphinx  Spellcasting     The sphinx is a 12th-level spellcaster. Its sp...   \n",
       "Archmage     Spellcasting     The archmage is an 18th-level spellcaster. Its...   \n",
       "Cult Fanatic Spellcasting     The fanatic is a 4th-level spellcaster. Its sp...   \n",
       "Druid        Spellcasting     The druid is a 4th-level spellcaster. Its spel...   \n",
       "\n",
       "                             attack_bonus damage_dice  \n",
       "name         special_ability                           \n",
       "Acolyte      Spellcasting               0         NaN  \n",
       "Androsphinx  Spellcasting               0         NaN  \n",
       "Archmage     Spellcasting               0         NaN  \n",
       "Cult Fanatic Spellcasting               0         NaN  \n",
       "Druid        Spellcasting               0         NaN  "
      ]
     },
     "execution_count": 68,
     "metadata": {},
     "output_type": "execute_result"
    }
   ],
   "source": [
    "spellcasting_df = special_abilities_df[['Spellcasting' in x for x in special_abilities_df.index]]\n",
    "spellcasting_df.head()"
   ]
  },
  {
   "cell_type": "code",
   "execution_count": 69,
   "metadata": {
    "collapsed": true
   },
   "outputs": [],
   "source": [
    "from itertools import islice\n",
    "from functools import reduce\n",
    "\n",
    "columns = reduce(lambda x, y: x + y,\n",
    "                 (['level_{}_spells'.format(level), 'level_{}_slots'.format(level)] for level in range(10)),\n",
    "                 ['caster_level', 'save_dc', 'to_hit'])\n",
    "dtypes = {x: y for x, y in zip(columns, ['float64']*3 + ['object', 'float64'] * 10)}\n",
    "fill = {x: y for x, y in zip(columns, [0] * 3 + ['', 0] * 10)}\n",
    "\n",
    "\n",
    "def parse_spellcasting(x):\n",
    "    desc, *_ = x.iloc[0]\n",
    "    header, *levels = desc.splitlines()\n",
    "\n",
    "    caster_level = int(re.findall(r'(\\d+)\\w{2}-level', header)[0])\n",
    "    save_dc = int(re.findall(r'DC (\\d+)', header)[0])\n",
    "    to_hit = int(re.findall(r'\\+(\\d+) to hit', header)[0])\n",
    "    spellbook = {'caster_level': caster_level, 'save_dc': save_dc, 'to_hit': to_hit}\n",
    "\n",
    "    for line in levels:\n",
    "        line = line.strip()\n",
    "        if line.startswith('•') or line.startswith('Cantrips'):\n",
    "            level, slots, *spells = parse_spells_by_level(line)\n",
    "            spellbook['level_{}_spells'.format(level)] = spells\n",
    "            spellbook['level_{}_slots'.format(level)] = slots\n",
    "        elif line.startswith('*'):\n",
    "            note = line\n",
    "    return pd.DataFrame(spellbook, columns=columns, index=[x.name] )\n",
    "\n",
    "\n",
    "def parse_spells_by_level(x):\n",
    "    level_and_slots, spells = x.split(':')\n",
    "    spells = spells.strip()\n",
    "    if 'Cantrips' in level_and_slots:\n",
    "        level, slots = '0', 'inf'\n",
    "    else:\n",
    "        g = re.search('(\\d)\\w{2} level \\((\\d+) slots?\\)', level_and_slots)\n",
    "        level, slots = g.groups()\n",
    "    return int(level), float(slots), spells\n",
    "\n",
    "spellbook = spellcasting_df.groupby('name').apply(parse_spellcasting)\n",
    "spellbook = spellbook.reset_index().set_index('name')\n",
    "spellbook = spellbook.drop('level_1', axis=1)\n",
    "spellbook = spellbook.fillna(value=fill)"
   ]
  },
  {
   "cell_type": "code",
   "execution_count": 70,
   "metadata": {},
   "outputs": [
    {
     "data": {
      "text/html": [
       "<div>\n",
       "<style>\n",
       "    .dataframe thead tr:only-child th {\n",
       "        text-align: right;\n",
       "    }\n",
       "\n",
       "    .dataframe thead th {\n",
       "        text-align: left;\n",
       "    }\n",
       "\n",
       "    .dataframe tbody tr th {\n",
       "        vertical-align: top;\n",
       "    }\n",
       "</style>\n",
       "<table border=\"1\" class=\"dataframe\">\n",
       "  <thead>\n",
       "    <tr style=\"text-align: right;\">\n",
       "      <th></th>\n",
       "      <th>caster_level</th>\n",
       "      <th>save_dc</th>\n",
       "      <th>to_hit</th>\n",
       "      <th>level_0_spells</th>\n",
       "      <th>level_0_slots</th>\n",
       "      <th>level_1_spells</th>\n",
       "      <th>level_1_slots</th>\n",
       "      <th>level_2_spells</th>\n",
       "      <th>level_2_slots</th>\n",
       "      <th>level_3_spells</th>\n",
       "      <th>...</th>\n",
       "      <th>level_5_spells</th>\n",
       "      <th>level_5_slots</th>\n",
       "      <th>level_6_spells</th>\n",
       "      <th>level_6_slots</th>\n",
       "      <th>level_7_spells</th>\n",
       "      <th>level_7_slots</th>\n",
       "      <th>level_8_spells</th>\n",
       "      <th>level_8_slots</th>\n",
       "      <th>level_9_spells</th>\n",
       "      <th>level_9_slots</th>\n",
       "    </tr>\n",
       "    <tr>\n",
       "      <th>name</th>\n",
       "      <th></th>\n",
       "      <th></th>\n",
       "      <th></th>\n",
       "      <th></th>\n",
       "      <th></th>\n",
       "      <th></th>\n",
       "      <th></th>\n",
       "      <th></th>\n",
       "      <th></th>\n",
       "      <th></th>\n",
       "      <th></th>\n",
       "      <th></th>\n",
       "      <th></th>\n",
       "      <th></th>\n",
       "      <th></th>\n",
       "      <th></th>\n",
       "      <th></th>\n",
       "      <th></th>\n",
       "      <th></th>\n",
       "      <th></th>\n",
       "      <th></th>\n",
       "    </tr>\n",
       "  </thead>\n",
       "  <tbody>\n",
       "    <tr>\n",
       "      <th>Acolyte</th>\n",
       "      <td>1</td>\n",
       "      <td>12</td>\n",
       "      <td>4</td>\n",
       "      <td>light, sacred flame, thaumaturgy</td>\n",
       "      <td>inf</td>\n",
       "      <td>bless, cure wounds, sanctuary</td>\n",
       "      <td>3.0</td>\n",
       "      <td></td>\n",
       "      <td>0.0</td>\n",
       "      <td></td>\n",
       "      <td>...</td>\n",
       "      <td></td>\n",
       "      <td>0.0</td>\n",
       "      <td></td>\n",
       "      <td>0.0</td>\n",
       "      <td></td>\n",
       "      <td>0.0</td>\n",
       "      <td></td>\n",
       "      <td>0.0</td>\n",
       "      <td></td>\n",
       "      <td>0.0</td>\n",
       "    </tr>\n",
       "    <tr>\n",
       "      <th>Androsphinx</th>\n",
       "      <td>12</td>\n",
       "      <td>18</td>\n",
       "      <td>10</td>\n",
       "      <td>sacred flame, spare the dying, thaumaturgy</td>\n",
       "      <td>inf</td>\n",
       "      <td>command, detect evil and good, detect magic</td>\n",
       "      <td>4.0</td>\n",
       "      <td>lesser restoration, zone of truth</td>\n",
       "      <td>3.0</td>\n",
       "      <td>dispel magic, tongues</td>\n",
       "      <td>...</td>\n",
       "      <td>flame strike, greater restoration</td>\n",
       "      <td>2.0</td>\n",
       "      <td>heroes' feast</td>\n",
       "      <td>1.0</td>\n",
       "      <td></td>\n",
       "      <td>0.0</td>\n",
       "      <td></td>\n",
       "      <td>0.0</td>\n",
       "      <td></td>\n",
       "      <td>0.0</td>\n",
       "    </tr>\n",
       "    <tr>\n",
       "      <th>Archmage</th>\n",
       "      <td>18</td>\n",
       "      <td>17</td>\n",
       "      <td>9</td>\n",
       "      <td>fire bolt, light, mage hand, prestidigitation,...</td>\n",
       "      <td>inf</td>\n",
       "      <td>detect magic, identify, mage armor*, magic mis...</td>\n",
       "      <td>4.0</td>\n",
       "      <td>detect thoughts, mirror image, misty step</td>\n",
       "      <td>3.0</td>\n",
       "      <td>counterspell,fly, lightning bolt</td>\n",
       "      <td>...</td>\n",
       "      <td>cone of cold, scrying, wall of force</td>\n",
       "      <td>3.0</td>\n",
       "      <td>globe of invulnerability</td>\n",
       "      <td>1.0</td>\n",
       "      <td>teleport</td>\n",
       "      <td>1.0</td>\n",
       "      <td>mind blank*</td>\n",
       "      <td>1.0</td>\n",
       "      <td>time stop</td>\n",
       "      <td>1.0</td>\n",
       "    </tr>\n",
       "    <tr>\n",
       "      <th>Cult Fanatic</th>\n",
       "      <td>4</td>\n",
       "      <td>11</td>\n",
       "      <td>3</td>\n",
       "      <td>light, sacred flame, thaumaturgy</td>\n",
       "      <td>inf</td>\n",
       "      <td>command, inflict wounds, shield of faith</td>\n",
       "      <td>4.0</td>\n",
       "      <td>hold person, spiritual weapon</td>\n",
       "      <td>3.0</td>\n",
       "      <td></td>\n",
       "      <td>...</td>\n",
       "      <td></td>\n",
       "      <td>0.0</td>\n",
       "      <td></td>\n",
       "      <td>0.0</td>\n",
       "      <td></td>\n",
       "      <td>0.0</td>\n",
       "      <td></td>\n",
       "      <td>0.0</td>\n",
       "      <td></td>\n",
       "      <td>0.0</td>\n",
       "    </tr>\n",
       "    <tr>\n",
       "      <th>Druid</th>\n",
       "      <td>4</td>\n",
       "      <td>12</td>\n",
       "      <td>4</td>\n",
       "      <td>druidcraft, produce flame, shillelagh</td>\n",
       "      <td>inf</td>\n",
       "      <td>entangle, longstrider, speak with animals, thu...</td>\n",
       "      <td>4.0</td>\n",
       "      <td>animal messenger, barkskin</td>\n",
       "      <td>3.0</td>\n",
       "      <td></td>\n",
       "      <td>...</td>\n",
       "      <td></td>\n",
       "      <td>0.0</td>\n",
       "      <td></td>\n",
       "      <td>0.0</td>\n",
       "      <td></td>\n",
       "      <td>0.0</td>\n",
       "      <td></td>\n",
       "      <td>0.0</td>\n",
       "      <td></td>\n",
       "      <td>0.0</td>\n",
       "    </tr>\n",
       "  </tbody>\n",
       "</table>\n",
       "<p>5 rows × 23 columns</p>\n",
       "</div>"
      ],
      "text/plain": [
       "              caster_level  save_dc  to_hit  \\\n",
       "name                                          \n",
       "Acolyte                  1       12       4   \n",
       "Androsphinx             12       18      10   \n",
       "Archmage                18       17       9   \n",
       "Cult Fanatic             4       11       3   \n",
       "Druid                    4       12       4   \n",
       "\n",
       "                                                 level_0_spells  \\\n",
       "name                                                              \n",
       "Acolyte                        light, sacred flame, thaumaturgy   \n",
       "Androsphinx          sacred flame, spare the dying, thaumaturgy   \n",
       "Archmage      fire bolt, light, mage hand, prestidigitation,...   \n",
       "Cult Fanatic                   light, sacred flame, thaumaturgy   \n",
       "Druid                     druidcraft, produce flame, shillelagh   \n",
       "\n",
       "              level_0_slots  \\\n",
       "name                          \n",
       "Acolyte                 inf   \n",
       "Androsphinx             inf   \n",
       "Archmage                inf   \n",
       "Cult Fanatic            inf   \n",
       "Druid                   inf   \n",
       "\n",
       "                                                 level_1_spells  \\\n",
       "name                                                              \n",
       "Acolyte                           bless, cure wounds, sanctuary   \n",
       "Androsphinx         command, detect evil and good, detect magic   \n",
       "Archmage      detect magic, identify, mage armor*, magic mis...   \n",
       "Cult Fanatic           command, inflict wounds, shield of faith   \n",
       "Druid         entangle, longstrider, speak with animals, thu...   \n",
       "\n",
       "              level_1_slots                             level_2_spells  \\\n",
       "name                                                                     \n",
       "Acolyte                 3.0                                              \n",
       "Androsphinx             4.0          lesser restoration, zone of truth   \n",
       "Archmage                4.0  detect thoughts, mirror image, misty step   \n",
       "Cult Fanatic            4.0              hold person, spiritual weapon   \n",
       "Druid                   4.0                 animal messenger, barkskin   \n",
       "\n",
       "              level_2_slots                    level_3_spells      ...       \\\n",
       "name                                                               ...        \n",
       "Acolyte                 0.0                                        ...        \n",
       "Androsphinx             3.0             dispel magic, tongues      ...        \n",
       "Archmage                3.0  counterspell,fly, lightning bolt      ...        \n",
       "Cult Fanatic            3.0                                        ...        \n",
       "Druid                   3.0                                        ...        \n",
       "\n",
       "                                    level_5_spells level_5_slots  \\\n",
       "name                                                               \n",
       "Acolyte                                                      0.0   \n",
       "Androsphinx      flame strike, greater restoration           2.0   \n",
       "Archmage      cone of cold, scrying, wall of force           3.0   \n",
       "Cult Fanatic                                                 0.0   \n",
       "Druid                                                        0.0   \n",
       "\n",
       "                        level_6_spells level_6_slots  level_7_spells  \\\n",
       "name                                                                   \n",
       "Acolyte                                          0.0                   \n",
       "Androsphinx              heroes' feast           1.0                   \n",
       "Archmage      globe of invulnerability           1.0        teleport   \n",
       "Cult Fanatic                                     0.0                   \n",
       "Druid                                            0.0                   \n",
       "\n",
       "             level_7_slots  level_8_spells level_8_slots  level_9_spells  \\\n",
       "name                                                                       \n",
       "Acolyte                0.0                           0.0                   \n",
       "Androsphinx            0.0                           0.0                   \n",
       "Archmage               1.0     mind blank*           1.0       time stop   \n",
       "Cult Fanatic           0.0                           0.0                   \n",
       "Druid                  0.0                           0.0                   \n",
       "\n",
       "             level_9_slots  \n",
       "name                        \n",
       "Acolyte                0.0  \n",
       "Androsphinx            0.0  \n",
       "Archmage               1.0  \n",
       "Cult Fanatic           0.0  \n",
       "Druid                  0.0  \n",
       "\n",
       "[5 rows x 23 columns]"
      ]
     },
     "execution_count": 70,
     "metadata": {},
     "output_type": "execute_result"
    }
   ],
   "source": [
    "spellbook.head()"
   ]
  },
  {
   "cell_type": "code",
   "execution_count": 71,
   "metadata": {},
   "outputs": [
    {
     "data": {
      "text/html": [
       "<div>\n",
       "<style>\n",
       "    .dataframe thead tr:only-child th {\n",
       "        text-align: right;\n",
       "    }\n",
       "\n",
       "    .dataframe thead th {\n",
       "        text-align: left;\n",
       "    }\n",
       "\n",
       "    .dataframe tbody tr th {\n",
       "        vertical-align: top;\n",
       "    }\n",
       "</style>\n",
       "<table border=\"1\" class=\"dataframe\">\n",
       "  <thead>\n",
       "    <tr style=\"text-align: right;\">\n",
       "      <th></th>\n",
       "      <th></th>\n",
       "      <th>desc</th>\n",
       "      <th>attack_bonus</th>\n",
       "      <th>damage_dice</th>\n",
       "    </tr>\n",
       "    <tr>\n",
       "      <th>name</th>\n",
       "      <th>special_ability</th>\n",
       "      <th></th>\n",
       "      <th></th>\n",
       "      <th></th>\n",
       "    </tr>\n",
       "  </thead>\n",
       "  <tbody>\n",
       "    <tr>\n",
       "      <th>Cloud Giant</th>\n",
       "      <th>Innate Spellcasting</th>\n",
       "      <td>The giant's innate spellcasting ability is Cha...</td>\n",
       "      <td>0</td>\n",
       "      <td>NaN</td>\n",
       "    </tr>\n",
       "    <tr>\n",
       "      <th>Couatl</th>\n",
       "      <th>Innate Spellcasting</th>\n",
       "      <td>The couatl's spellcasting ability is Charisma ...</td>\n",
       "      <td>0</td>\n",
       "      <td>NaN</td>\n",
       "    </tr>\n",
       "    <tr>\n",
       "      <th>Deep Gnome (Svirfneblin)</th>\n",
       "      <th>Innate Spellcasting</th>\n",
       "      <td>The gnome's innate spellcasting ability is Int...</td>\n",
       "      <td>0</td>\n",
       "      <td>NaN</td>\n",
       "    </tr>\n",
       "    <tr>\n",
       "      <th>Deva</th>\n",
       "      <th>Innate Spellcasting</th>\n",
       "      <td>The deva's spellcasting ability is Charisma (s...</td>\n",
       "      <td>0</td>\n",
       "      <td>NaN</td>\n",
       "    </tr>\n",
       "    <tr>\n",
       "      <th>Djinni</th>\n",
       "      <th>Innate Spellcasting</th>\n",
       "      <td>The djinni's innate spellcasting ability is Ch...</td>\n",
       "      <td>0</td>\n",
       "      <td>NaN</td>\n",
       "    </tr>\n",
       "  </tbody>\n",
       "</table>\n",
       "</div>"
      ],
      "text/plain": [
       "                                                                                           desc  \\\n",
       "name                     special_ability                                                          \n",
       "Cloud Giant              Innate Spellcasting  The giant's innate spellcasting ability is Cha...   \n",
       "Couatl                   Innate Spellcasting  The couatl's spellcasting ability is Charisma ...   \n",
       "Deep Gnome (Svirfneblin) Innate Spellcasting  The gnome's innate spellcasting ability is Int...   \n",
       "Deva                     Innate Spellcasting  The deva's spellcasting ability is Charisma (s...   \n",
       "Djinni                   Innate Spellcasting  The djinni's innate spellcasting ability is Ch...   \n",
       "\n",
       "                                             attack_bonus damage_dice  \n",
       "name                     special_ability                               \n",
       "Cloud Giant              Innate Spellcasting            0         NaN  \n",
       "Couatl                   Innate Spellcasting            0         NaN  \n",
       "Deep Gnome (Svirfneblin) Innate Spellcasting            0         NaN  \n",
       "Deva                     Innate Spellcasting            0         NaN  \n",
       "Djinni                   Innate Spellcasting            0         NaN  "
      ]
     },
     "execution_count": 71,
     "metadata": {},
     "output_type": "execute_result"
    }
   ],
   "source": [
    "innate_spellcasting_df = special_abilities_df[['Innate Spellcasting' in x for x in special_abilities_df.index]]\n",
    "innate_spellcasting_df.head()"
   ]
  }
 ],
 "metadata": {
  "kernelspec": {
   "display_name": "Python 3",
   "language": "python",
   "name": "python3"
  },
  "language_info": {
   "codemirror_mode": {
    "name": "ipython",
    "version": 3
   },
   "file_extension": ".py",
   "mimetype": "text/x-python",
   "name": "python",
   "nbconvert_exporter": "python",
   "pygments_lexer": "ipython3",
   "version": "3.6.1"
  }
 },
 "nbformat": 4,
 "nbformat_minor": 2
}

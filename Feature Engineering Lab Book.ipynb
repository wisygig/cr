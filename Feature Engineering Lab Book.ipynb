{
 "cells": [
  {
   "cell_type": "code",
   "execution_count": 1,
   "metadata": {
    "collapsed": true
   },
   "outputs": [],
   "source": [
    "import numpy as np\n",
    "import pandas as pd\n",
    "import re"
   ]
  },
  {
   "cell_type": "code",
   "execution_count": 2,
   "metadata": {
    "collapsed": true
   },
   "outputs": [],
   "source": [
    "# Load tidied dataframes\n",
    "\n",
    "# spells_df = pd.read_pickle('data/spells_df')\n",
    "monster_df = pd.read_pickle('data/monster_df')\n",
    "actions_df = pd.read_pickle('data/actions_df')\n",
    "spellbook_df = pd.read_pickle('data/spellbook_df')\n",
    "innate_spellbook_df = pd.read_pickle('data/innate_spellbook_df')\n",
    "# special_abilities_df = pd.read_pickle('data/special_abilities_df')\n",
    "# condition_immunities_df = pd.read_pickle('data/condition_immunities_df')\n",
    "# damage_immunities_df = pd.read_pickle('data/damage_immunities_df')\n",
    "# damage_resistances_df = pd.read_pickle('data/damage_resistances_df')\n",
    "# damage_vulnerabilities_df = pd.read_pickle('data/damage_vulnerabilities_df')"
   ]
  },
  {
   "cell_type": "markdown",
   "metadata": {},
   "source": [
    "# `actions_df`"
   ]
  },
  {
   "cell_type": "markdown",
   "metadata": {},
   "source": [
    "The following creatures have `multiattack` actions which are formatted differently then the others"
   ]
  },
  {
   "cell_type": "code",
   "execution_count": 26,
   "metadata": {},
   "outputs": [],
   "source": [
    "actions_df.at[('Animated Armor', 'Multiattack'), 'desc'] = \\\n",
    "    'The armor makes two slam attacks.'\n",
    "actions_df.at[('Cult Fanatic', 'Multiattack'), 'desc'] = \\\n",
    "    'The fanatic makes two melee dagger attacks.'\n",
    "actions_df.at[('Deva', 'Multiattack'), 'desc'] = \\\n",
    "    'The deva makes two mace attacks.'\n",
    "actions_df.at[('Doppleganger', 'Multiattack'), 'desc'] = \\\n",
    "    'The doppelganger makes two slam attacks.'\n",
    "actions_df.at[('Erinyes', 'Multiattack'), 'desc'] = \\\n",
    "    'The erinyes makes three attacks, either with its longsword or its longbow.'\n",
    "actions_df.at[('Gladiator', 'Multiattack'), 'desc'] = \\\n",
    "    'The gladiator makes three spear melee attacks or two ranged spear attacks.'\n",
    "actions_df.at[('Iron Golem', 'Multiattack'), 'desc'] = \\\n",
    "    'The golem makes two melee attacks: either with its sword or its slam attack.'\n",
    "actions_df.at[('Knight', 'Multiattack'), 'desc'] = \\\n",
    "    'The knight makes two greatsword attacks.'\n",
    "actions_df.at[('Planetar', 'Multiattack'), 'desc'] = \\\n",
    "    'The planetar makes two greatsword attacks.'\n",
    "actions_df.at[('Scout', 'Multiattack'), 'desc'] = \\\n",
    "    'The scout makes two shortsword attacks or two longbow attacks.'\n",
    "actions_df.at[('Spy', 'Multiattack'), 'desc'] = \\\n",
    "    'The spy makes two shortsword attacks.'\n",
    "actions_df.at[('Thug', 'Multiattack'), 'desc'] = \\\n",
    "    'The thug makes two mace attacks.'"
   ]
  },
  {
   "cell_type": "code",
   "execution_count": 4,
   "metadata": {
    "collapsed": true
   },
   "outputs": [],
   "source": [
    "df = actions_df.reset_index('action')"
   ]
  },
  {
   "cell_type": "markdown",
   "metadata": {},
   "source": [
    "## extracting multiattacks"
   ]
  },
  {
   "cell_type": "code",
   "execution_count": 5,
   "metadata": {
    "collapsed": true
   },
   "outputs": [],
   "source": [
    "def normalize_multiattack(x):\n",
    "    df = x.set_index('action')\n",
    "    if 'Multiattack' not in df.index:\n",
    "        return\n",
    "    desc = df.loc['Multiattack'].desc.lower().strip()\n",
    "    actions = [format_action(action) for action in df.index\n",
    "               if action != 'Multiattack']\n",
    "    multiattack, exception = extract_attacks(desc, actions)\n",
    "    return pd.DataFrame({'desc': [desc],\n",
    "                         'multiattack': [[multiattack]],\n",
    "                         'exception': [exception]})\n",
    "\n",
    "\n",
    "def format_action(action):\n",
    "    action = action.lower()\n",
    "    i = action.find('(')\n",
    "    if i > 0:\n",
    "        return action[:i-1]\n",
    "    else:\n",
    "        return action\n",
    "\n",
    "\n",
    "def extract_attacks(desc, actions):\n",
    "    exceptions_pattern = r'\\b({})\\b'.format('|'.join(x for x in exceptions))\n",
    "    exception = re.search(exceptions_pattern, desc) is not None\n",
    "    actions_pattern = '|'.join(x for x in actions)\n",
    "    split_pattern = r'.*?({})'.format(actions_pattern)\n",
    "    numerics_pattern = '|'.join(x for x in numerics.keys())\n",
    "    multiattack = list()\n",
    "    for x in re.finditer(split_pattern, desc):\n",
    "        start, end = x.span()\n",
    "        x = re.findall(numerics_pattern, desc[start:end])\n",
    "        if x:\n",
    "            n = numerics[x[-1]]\n",
    "        else:\n",
    "            n = 1\n",
    "        y = re.findall(actions_pattern, desc[start:end])\n",
    "        multiattack.extend(n * y)\n",
    "    return multiattack, exception\n",
    "\n",
    "\n",
    "numerics = {'one': 1,\n",
    "            'two': 2,\n",
    "            'twice': 2,\n",
    "            'three': 3,\n",
    "            'four': 4,\n",
    "            'six': 6,\n",
    "            'seven': 7}\n",
    "exceptions = ('or', 'alternatively', 'when', 'in place', 'replace',\n",
    "              'also', 'as many', 'only', r'\\dd\\d', 'with a different weapon')"
   ]
  },
  {
   "cell_type": "code",
   "execution_count": 6,
   "metadata": {
    "collapsed": true
   },
   "outputs": [],
   "source": [
    "multiattacks_df = df.groupby('name').apply(normalize_multiattack)\n",
    "multiattacks_df.reset_index(level=1, drop=True, inplace=True)"
   ]
  },
  {
   "cell_type": "markdown",
   "metadata": {},
   "source": [
    "We'll correct the following exceptions by hand:"
   ]
  },
  {
   "cell_type": "code",
   "execution_count": 11,
   "metadata": {},
   "outputs": [
    {
     "data": {
      "text/plain": [
       "['Bandit Captain',\n",
       " 'Barbed Devil',\n",
       " 'Centaur',\n",
       " 'Chimera',\n",
       " 'Chuul',\n",
       " 'Dragon Turtle',\n",
       " 'Drider',\n",
       " 'Efreeti',\n",
       " 'Erinyes',\n",
       " 'Glabrezu',\n",
       " 'Gladiator',\n",
       " 'Half-Red Dragon Veteran',\n",
       " 'Horned Devil',\n",
       " 'Hydra',\n",
       " 'Iron Golem',\n",
       " 'Kraken',\n",
       " 'Lamia',\n",
       " 'Lizardfolk',\n",
       " 'Manticore',\n",
       " 'Medusa',\n",
       " 'Merrow',\n",
       " 'Oni',\n",
       " 'Sahuagin',\n",
       " 'Scout',\n",
       " 'Shambling Mound',\n",
       " 'Vampire Spawn',\n",
       " 'Veteran',\n",
       " 'Violet Fungus',\n",
       " 'Werebear',\n",
       " 'Wight',\n",
       " 'Wyvern']"
      ]
     },
     "execution_count": 11,
     "metadata": {},
     "output_type": "execute_result"
    }
   ],
   "source": [
    "[x[0] for x in multiattacks_df[multiattacks_df.exception].iterrows()]"
   ]
  },
  {
   "cell_type": "code",
   "execution_count": 25,
   "metadata": {},
   "outputs": [],
   "source": [
    "multiattacks_df.at['Bandit Captain', 'multiattack'] = [['scimitar', 'scimitar', 'dagger'],\n",
    "                                                       ['dagger', 'dagger']]\n",
    "multiattacks_df.at['Barbed Devil', 'multiattack'] = [['tail', 'claw', 'claw'],\n",
    "                                                      ['hurl flame', 'hurl flame']]\n",
    "multiattacks_df.at['Centaur', 'multiattack'] = [['pike', 'hooves'],\n",
    "                                                 ['longbow', 'longbow']]\n",
    "multiattacks_df.at['Chimera', 'multiattack'] = [['bite', 'horns', 'claws'],\n",
    "                                                 ['fire breath', 'horns', 'claws'],\n",
    "                                                 ['bite', 'fire breath', 'claws']]\n",
    "multiattacks_df.at['Chuul', 'multiattack'] = [['pincer', 'pincer', 'tentacles'],\n",
    "                                               ['pincer', 'pincer']]\n",
    "multiattacks_df.at['Dragon Turtle', 'multiattack'] = [['bite', 'claw', 'claw'],\n",
    "                                                       ['bite', 'tail']]\n",
    "multiattacks_df.at['Drider', 'multiattack'] = [['longsword', 'longsword', 'longsword'],\n",
    "                                                ['longsword', 'longsword', 'bite'],\n",
    "                                                ['longbow', 'longbow', 'longbow'],\n",
    "                                                ['longbow', 'longbow', 'bite']]\n",
    "multiattacks_df.at['Efreeti', 'multiattack'] = [['scimitar', 'scimitar'],\n",
    "                                                 ['hurl flame', 'hurl flame']]\n",
    "multiattacks_df.at['Erinyes', 'multiattack'] = [['longsword', 'longsword', 'longsword'],\n",
    "                                                ['longbow', 'longbow', 'longbow']]\n",
    "multiattacks_df.at['Glabrezu', 'multiattack'] = [['pincer', 'pincer', 'fist', 'fist'],\n",
    "                                                 ['pincer', 'pincer']] # spells?\n",
    "multiattacks_df.at['Gladiator', 'multiattack'] = [['spear', 'spear', 'spear'],\n",
    "                                                  ['spear', 'spear']]\n",
    "multiattacks_df.at['Half-Red Dragon Veteran', 'multiattack'] = [['longsword', 'longsword'],\n",
    "                                                                ['longsword', 'longsword', 'shortsword']]\n",
    "multiattacks_df.at['Horned Devil', 'multiattack'] = [['fork', 'fork', 'tail'],\n",
    "                                                     ['fork', 'hurl flame', 'tail'],\n",
    "                                                     ['fork', 'fork', 'hurl flame']]\n",
    "multiattacks_df.at['Hydra', 'multiattack'] = [['bite', 'bite', 'bite', 'bite', 'bite']]\n",
    "multiattacks_df.at['Iron Golem', 'multiattack'] = [['sword', 'sword'],\n",
    "                                                   ['slam', 'slam']]\n",
    "multiattacks_df.at['Kraken', 'multiattack'] = [['tentacle', 'tentacle', 'tentacle'],\n",
    "                                               ['tentacle', 'tentacle', 'fling'],\n",
    "                                               ['tentacle', 'fling', 'fling'],\n",
    "                                               ['fling', 'fling', 'fling']]\n",
    "multiattacks_df.at['Lamia', 'multiattack'] = [['claws', 'dagger'],\n",
    "                                              ['claws', 'intoxicating touch']]\n",
    "multiattacks_df.at['Lizardfolk', 'multiattack'] = [['bite', 'heavy club'],\n",
    "                                                   ['bite', 'javelin'],\n",
    "                                                   ['bite', 'spiked shield'],\n",
    "                                                   ['heavy club', 'javelin'],\n",
    "                                                   ['heavy club', 'spiked shield']]\n",
    "multiattacks_df.at['Manticore', 'multiattack'] = [['bite', 'claw', 'claw'],\n",
    "                                                  ['tail spike', 'tail spike', 'tail spike']]\n",
    "multiattacks_df.at['Medusa', 'multiattack'] = [['snake hair', 'shortsword', 'shortsword'],\n",
    "                                               ['longbow', 'longbow']]\n",
    "multiattacks_df.at['Merrow', 'multiattack'] = [['bite', 'claws'],\n",
    "                                               ['bite', 'harpoon']]\n",
    "multiattacks_df.at['Oni', 'multiattack'] = [['claw', 'claw'],\n",
    "                                            ['glaive', 'glaive']]\n",
    "multiattacks_df.at['Sahuagin', 'multiattack'] = [['bite', 'claws'],\n",
    "                                                 ['bite', 'spear']]\n",
    "multiattacks_df.at['Scout', 'multiattack'] = [['shortsword', 'shortsword'],\n",
    "                                              ['longbow', 'longbow']]\n",
    "multiattacks_df.at['Shambling Mound', 'multiattack'] = [['slam', 'slam'],\n",
    "                                                        ['slam', 'slam', 'engulf']]\n",
    "multiattacks_df.at['Vampire Spawn', 'multiattack'] = [['claws', 'claws'],\n",
    "                                                      ['claws', 'bite']]\n",
    "multiattacks_df.at['Veteran', 'multiattack'] = [['longsword', 'longsword', 'shortsword'],\n",
    "                                                ['longsword', 'longsword']]\n",
    "multiattacks_df.at['Werebear', 'multiattack'] = [['claw', 'claw'],\n",
    "                                                 ['greataxe', 'greataxe']]\n",
    "multiattacks_df.at['Wight', 'multiattack'] = [['longsword', 'longsword'],\n",
    "                                              ['longbow', 'longbow'],\n",
    "                                              ['life drain', 'longsword']]\n",
    "multiattacks_df.at['Wyvern', 'multiattack'] = [['bite', 'stinger'],\n",
    "                                               ['bite', 'claws'],\n",
    "                                               ['claws', 'stinger']]"
   ]
  },
  {
   "cell_type": "code",
   "execution_count": null,
   "metadata": {
    "collapsed": true
   },
   "outputs": [],
   "source": []
  },
  {
   "cell_type": "markdown",
   "metadata": {},
   "source": [
    "# other actions"
   ]
  },
  {
   "cell_type": "code",
   "execution_count": null,
   "metadata": {
    "collapsed": true
   },
   "outputs": [],
   "source": [
    "def damage_summary(damage_dice, damage_bonus):\n",
    "    pattern = re.compile(r'(\\d+)d(\\d+)')\n",
    "    damage = [np.array([damage_bonus, 0])]\n",
    "    for dice in re.finditer(pattern, damage_dice):\n",
    "        x, y = dice.groups()\n",
    "        damage.append(damage_statistics(int(x), int(y)))\n",
    "    mean, variance = sum(damage)\n",
    "    return mean, variance\n",
    "\n",
    "\n",
    "def damage_statistics(number, size):\n",
    "    mu = (size + 1) / 2\n",
    "    mean = number * mu\n",
    "    var = number * (sum_of_squares(size) / size - mu ** 2)\n",
    "    return np.array([mean, var])\n",
    "\n",
    "\n",
    "def sum_of_squares(n):\n",
    "    return n*(2*n+1)*(n+1)/6"
   ]
  },
  {
   "cell_type": "code",
   "execution_count": null,
   "metadata": {},
   "outputs": [],
   "source": [
    "actions_df.loc['Adult Blue Dracolich', 'Bite'].desc"
   ]
  },
  {
   "cell_type": "markdown",
   "metadata": {},
   "source": [
    "Some of the breath weapons have to be split up."
   ]
  },
  {
   "cell_type": "code",
   "execution_count": null,
   "metadata": {
    "collapsed": true
   },
   "outputs": [],
   "source": [
    "desc = 'Melee Weapon Attack: +12 to hit, reach 15 ft., one target. Hit: 16 (2d8 + 7) bludgeoning damage.'\n",
    "pattern = re.compile(r'^(.* Attack: .* targets?). (Hit: .* damage.)')\n",
    "g = re.match(pattern, desc)"
   ]
  },
  {
   "cell_type": "code",
   "execution_count": null,
   "metadata": {},
   "outputs": [],
   "source": [
    "g.span()"
   ]
  },
  {
   "cell_type": "code",
   "execution_count": null,
   "metadata": {},
   "outputs": [],
   "source": [
    "def parse_desc(desc):\n",
    "    pattern = re.compile(r'^(.* Attack: .* (creature|target)s?)\\. (Hit: [^\\.]*)')\n",
    "    g = re.match(pattern, desc)\n",
    "    if g:\n",
    "        start, end = g.span()\n",
    "        attack, _, result = g.groups()\n",
    "        print (parse_attack(attack), parse_result(result))\n",
    "    else:\n",
    "        pass\n",
    "    return\n",
    "\n",
    "def parse_attack(attack):\n",
    "    pattern = re.compile(r'Attack: ' \\\n",
    "                         + r'+(\\d+) to hit, ' \\\n",
    "                         + r'(.*)ft\\.\\W?, ' \\\n",
    "                         + r''\n",
    "                        )\n",
    "    return attack\n",
    "\n",
    "\n",
    "def parse_result(result):\n",
    "    return ''\n",
    "\n",
    "\n",
    "actions_df.desc.apply(parse_desc)"
   ]
  },
  {
   "cell_type": "code",
   "execution_count": null,
   "metadata": {},
   "outputs": [],
   "source": [
    "for x in actions_df.iterrows():\n",
    "    if x[0][1] == 'Multiattack':\n",
    "        continue\n",
    "    if not x[1].damage_dice:\n",
    "        continue\n",
    "    print(x[0])\n",
    "    mean, var = damage_summary(x[1].damage_dice,\n",
    "                               x[1].damage_bonus)\n",
    "    print(mean, var)\n",
    "    print('\\n')\n",
    "    # print('mean: {:0.2f}\\nstd : {:0.2f}'.format(mean, np.sqrt(var)))"
   ]
  },
  {
   "cell_type": "code",
   "execution_count": null,
   "metadata": {
    "collapsed": true
   },
   "outputs": [],
   "source": [
    "oddities = ('Adult Brass Dragon - Bite',\n",
    "            'Ancient Black Dragon - Tail')"
   ]
  },
  {
   "cell_type": "code",
   "execution_count": null,
   "metadata": {},
   "outputs": [],
   "source": [
    "damage_summary('1d6 + 2d4', 4)"
   ]
  },
  {
   "cell_type": "code",
   "execution_count": null,
   "metadata": {
    "collapsed": true
   },
   "outputs": [],
   "source": []
  }
 ],
 "metadata": {
  "kernelspec": {
   "display_name": "Python 3",
   "language": "python",
   "name": "python3"
  },
  "language_info": {
   "codemirror_mode": {
    "name": "ipython",
    "version": 3
   },
   "file_extension": ".py",
   "mimetype": "text/x-python",
   "name": "python",
   "nbconvert_exporter": "python",
   "pygments_lexer": "ipython3",
   "version": "3.6.1"
  }
 },
 "nbformat": 4,
 "nbformat_minor": 2
}

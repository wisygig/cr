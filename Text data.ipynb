{
 "cells": [
  {
   "cell_type": "code",
   "execution_count": 1,
   "metadata": {
    "collapsed": true
   },
   "outputs": [],
   "source": [
    "import numpy as np\n",
    "import pandas as pd"
   ]
  },
  {
   "cell_type": "markdown",
   "metadata": {},
   "source": [
    "# Load data"
   ]
  },
  {
   "cell_type": "code",
   "execution_count": 2,
   "metadata": {
    "collapsed": true
   },
   "outputs": [],
   "source": [
    "from etl import load_monsters, _mechanics, _stats, _flavor, _skills, get_monster_df\n",
    "\n",
    "monsters, ogl = load_monsters()\n",
    "monster_df = get_monster_df(monsters)"
   ]
  },
  {
   "cell_type": "code",
   "execution_count": 3,
   "metadata": {
    "collapsed": true
   },
   "outputs": [],
   "source": [
    "def make_action_df(x):\n",
    "    df = pd.DataFrame(x.iloc[0], columns=['name', 'desc', 'attack_bonus', 'damage_dice', 'damage_bonus'])\n",
    "    df = df.rename(index=str, columns={'name':'action'})\n",
    "    df = df.set_index(['action'])\n",
    "    return df\n",
    "\n",
    "actions_df = monster_df.actions.groupby('name').apply(make_action_df)"
   ]
  },
  {
   "cell_type": "code",
   "execution_count": 4,
   "metadata": {},
   "outputs": [
    {
     "data": {
      "text/html": [
       "<div>\n",
       "<style>\n",
       "    .dataframe thead tr:only-child th {\n",
       "        text-align: right;\n",
       "    }\n",
       "\n",
       "    .dataframe thead th {\n",
       "        text-align: left;\n",
       "    }\n",
       "\n",
       "    .dataframe tbody tr th {\n",
       "        vertical-align: top;\n",
       "    }\n",
       "</style>\n",
       "<table border=\"1\" class=\"dataframe\">\n",
       "  <thead>\n",
       "    <tr style=\"text-align: right;\">\n",
       "      <th></th>\n",
       "      <th></th>\n",
       "      <th>desc</th>\n",
       "      <th>attack_bonus</th>\n",
       "      <th>damage_dice</th>\n",
       "      <th>damage_bonus</th>\n",
       "    </tr>\n",
       "    <tr>\n",
       "      <th>name</th>\n",
       "      <th>action</th>\n",
       "      <th></th>\n",
       "      <th></th>\n",
       "      <th></th>\n",
       "      <th></th>\n",
       "    </tr>\n",
       "  </thead>\n",
       "  <tbody>\n",
       "    <tr>\n",
       "      <th rowspan=\"4\" valign=\"top\">Aboleth</th>\n",
       "      <th>Multiattack</th>\n",
       "      <td>The aboleth makes three tentacle attacks.</td>\n",
       "      <td>0</td>\n",
       "      <td>NaN</td>\n",
       "      <td>NaN</td>\n",
       "    </tr>\n",
       "    <tr>\n",
       "      <th>Tentacle</th>\n",
       "      <td>Melee Weapon Attack: +9 to hit, reach 10 ft., ...</td>\n",
       "      <td>9</td>\n",
       "      <td>2d6</td>\n",
       "      <td>5.0</td>\n",
       "    </tr>\n",
       "    <tr>\n",
       "      <th>Tail</th>\n",
       "      <td>Melee Weapon Attack: +9 to hit, reach 10 ft. o...</td>\n",
       "      <td>9</td>\n",
       "      <td>3d6</td>\n",
       "      <td>5.0</td>\n",
       "    </tr>\n",
       "    <tr>\n",
       "      <th>Enslave (3/day)</th>\n",
       "      <td>The aboleth targets one creature it can see wi...</td>\n",
       "      <td>0</td>\n",
       "      <td>NaN</td>\n",
       "      <td>NaN</td>\n",
       "    </tr>\n",
       "    <tr>\n",
       "      <th>Acolyte</th>\n",
       "      <th>Club</th>\n",
       "      <td>Melee Weapon Attack: +2 to hit, reach 5 ft., o...</td>\n",
       "      <td>2</td>\n",
       "      <td>1d4</td>\n",
       "      <td>NaN</td>\n",
       "    </tr>\n",
       "    <tr>\n",
       "      <th rowspan=\"5\" valign=\"top\">Adult Black Dragon</th>\n",
       "      <th>Multiattack</th>\n",
       "      <td>The dragon can use its Frightful Presence. It ...</td>\n",
       "      <td>0</td>\n",
       "      <td>NaN</td>\n",
       "      <td>NaN</td>\n",
       "    </tr>\n",
       "    <tr>\n",
       "      <th>Bite</th>\n",
       "      <td>Melee Weapon Attack: +11 to hit, reach 10 ft.,...</td>\n",
       "      <td>11</td>\n",
       "      <td>2d10 + 1d8</td>\n",
       "      <td>6.0</td>\n",
       "    </tr>\n",
       "    <tr>\n",
       "      <th>Claw</th>\n",
       "      <td>Melee Weapon Attack: +11 to hit, reach 5 ft., ...</td>\n",
       "      <td>11</td>\n",
       "      <td>2d6</td>\n",
       "      <td>6.0</td>\n",
       "    </tr>\n",
       "    <tr>\n",
       "      <th>Tail</th>\n",
       "      <td>Melee Weapon Attack: +11 to hit, reach 15 ft.,...</td>\n",
       "      <td>11</td>\n",
       "      <td>2d8</td>\n",
       "      <td>6.0</td>\n",
       "    </tr>\n",
       "    <tr>\n",
       "      <th>Frightful Presence</th>\n",
       "      <td>Each creature of the dragon's choice that is w...</td>\n",
       "      <td>0</td>\n",
       "      <td>NaN</td>\n",
       "      <td>NaN</td>\n",
       "    </tr>\n",
       "  </tbody>\n",
       "</table>\n",
       "</div>"
      ],
      "text/plain": [
       "                                                                                    desc  \\\n",
       "name               action                                                                  \n",
       "Aboleth            Multiattack                 The aboleth makes three tentacle attacks.   \n",
       "                   Tentacle            Melee Weapon Attack: +9 to hit, reach 10 ft., ...   \n",
       "                   Tail                Melee Weapon Attack: +9 to hit, reach 10 ft. o...   \n",
       "                   Enslave (3/day)     The aboleth targets one creature it can see wi...   \n",
       "Acolyte            Club                Melee Weapon Attack: +2 to hit, reach 5 ft., o...   \n",
       "Adult Black Dragon Multiattack         The dragon can use its Frightful Presence. It ...   \n",
       "                   Bite                Melee Weapon Attack: +11 to hit, reach 10 ft.,...   \n",
       "                   Claw                Melee Weapon Attack: +11 to hit, reach 5 ft., ...   \n",
       "                   Tail                Melee Weapon Attack: +11 to hit, reach 15 ft.,...   \n",
       "                   Frightful Presence  Each creature of the dragon's choice that is w...   \n",
       "\n",
       "                                      attack_bonus damage_dice  damage_bonus  \n",
       "name               action                                                     \n",
       "Aboleth            Multiattack                   0         NaN           NaN  \n",
       "                   Tentacle                      9         2d6           5.0  \n",
       "                   Tail                          9         3d6           5.0  \n",
       "                   Enslave (3/day)               0         NaN           NaN  \n",
       "Acolyte            Club                          2         1d4           NaN  \n",
       "Adult Black Dragon Multiattack                   0         NaN           NaN  \n",
       "                   Bite                         11  2d10 + 1d8           6.0  \n",
       "                   Claw                         11         2d6           6.0  \n",
       "                   Tail                         11         2d8           6.0  \n",
       "                   Frightful Presence            0         NaN           NaN  "
      ]
     },
     "execution_count": 4,
     "metadata": {},
     "output_type": "execute_result"
    }
   ],
   "source": [
    "actions_df.head(10)"
   ]
  },
  {
   "cell_type": "code",
   "execution_count": 5,
   "metadata": {
    "collapsed": true
   },
   "outputs": [],
   "source": [
    "def make_special_abilities_df(x):\n",
    "    df = pd.DataFrame(x.iloc[0], columns=['name', 'desc', 'attack_bonus', 'damage_dice'])\n",
    "    df = df.rename(index=str, columns={'name':'special_ability'})\n",
    "    df = df.set_index(['special_ability'])\n",
    "    return df\n",
    "\n",
    "special_abilities_df = monster_df.special_abilities.groupby('name').apply(make_special_abilities_df)"
   ]
  },
  {
   "cell_type": "code",
   "execution_count": 6,
   "metadata": {},
   "outputs": [
    {
     "data": {
      "text/html": [
       "<div>\n",
       "<style>\n",
       "    .dataframe thead tr:only-child th {\n",
       "        text-align: right;\n",
       "    }\n",
       "\n",
       "    .dataframe thead th {\n",
       "        text-align: left;\n",
       "    }\n",
       "\n",
       "    .dataframe tbody tr th {\n",
       "        vertical-align: top;\n",
       "    }\n",
       "</style>\n",
       "<table border=\"1\" class=\"dataframe\">\n",
       "  <thead>\n",
       "    <tr style=\"text-align: right;\">\n",
       "      <th></th>\n",
       "      <th></th>\n",
       "      <th>desc</th>\n",
       "      <th>attack_bonus</th>\n",
       "      <th>damage_dice</th>\n",
       "    </tr>\n",
       "    <tr>\n",
       "      <th>name</th>\n",
       "      <th>special_ability</th>\n",
       "      <th></th>\n",
       "      <th></th>\n",
       "      <th></th>\n",
       "    </tr>\n",
       "  </thead>\n",
       "  <tbody>\n",
       "    <tr>\n",
       "      <th rowspan=\"3\" valign=\"top\">Aboleth</th>\n",
       "      <th>Amphibious</th>\n",
       "      <td>The aboleth can breathe air and water.</td>\n",
       "      <td>0</td>\n",
       "      <td>NaN</td>\n",
       "    </tr>\n",
       "    <tr>\n",
       "      <th>Mucous Cloud</th>\n",
       "      <td>While underwater, the aboleth is surrounded by...</td>\n",
       "      <td>0</td>\n",
       "      <td>NaN</td>\n",
       "    </tr>\n",
       "    <tr>\n",
       "      <th>Probing Telepathy</th>\n",
       "      <td>If a creature communicates telepathically with...</td>\n",
       "      <td>0</td>\n",
       "      <td>NaN</td>\n",
       "    </tr>\n",
       "    <tr>\n",
       "      <th>Acolyte</th>\n",
       "      <th>Spellcasting</th>\n",
       "      <td>The acolyte is a 1st-level spellcaster. Its sp...</td>\n",
       "      <td>0</td>\n",
       "      <td>NaN</td>\n",
       "    </tr>\n",
       "    <tr>\n",
       "      <th rowspan=\"2\" valign=\"top\">Adult Black Dragon</th>\n",
       "      <th>Amphibious</th>\n",
       "      <td>The dragon can breathe air and water.</td>\n",
       "      <td>0</td>\n",
       "      <td>NaN</td>\n",
       "    </tr>\n",
       "    <tr>\n",
       "      <th>Legendary Resistance (3/Day)</th>\n",
       "      <td>If the dragon fails a saving throw, it can cho...</td>\n",
       "      <td>0</td>\n",
       "      <td>NaN</td>\n",
       "    </tr>\n",
       "    <tr>\n",
       "      <th rowspan=\"2\" valign=\"top\">Adult Blue Dracolich</th>\n",
       "      <th>Legendary Resistance (3/Day)</th>\n",
       "      <td>If the dracolich fails a saving throw, it can ...</td>\n",
       "      <td>0</td>\n",
       "      <td>NaN</td>\n",
       "    </tr>\n",
       "    <tr>\n",
       "      <th>Magic Resistance</th>\n",
       "      <td>The dracolich has advantage on saving throws a...</td>\n",
       "      <td>0</td>\n",
       "      <td>NaN</td>\n",
       "    </tr>\n",
       "    <tr>\n",
       "      <th>Adult Blue Dragon</th>\n",
       "      <th>Legendary Resistance (3/Day)</th>\n",
       "      <td>If the dragon fails a saving throw, it can cho...</td>\n",
       "      <td>0</td>\n",
       "      <td>NaN</td>\n",
       "    </tr>\n",
       "    <tr>\n",
       "      <th>Adult Brass Dragon</th>\n",
       "      <th>Legendary Resistance (3/Day)</th>\n",
       "      <td>If the dragon fails a saving throw, it can cho...</td>\n",
       "      <td>0</td>\n",
       "      <td>NaN</td>\n",
       "    </tr>\n",
       "  </tbody>\n",
       "</table>\n",
       "</div>"
      ],
      "text/plain": [
       "                                                                                                desc  \\\n",
       "name                 special_ability                                                                   \n",
       "Aboleth              Amphibious                               The aboleth can breathe air and water.   \n",
       "                     Mucous Cloud                  While underwater, the aboleth is surrounded by...   \n",
       "                     Probing Telepathy             If a creature communicates telepathically with...   \n",
       "Acolyte              Spellcasting                  The acolyte is a 1st-level spellcaster. Its sp...   \n",
       "Adult Black Dragon   Amphibious                                The dragon can breathe air and water.   \n",
       "                     Legendary Resistance (3/Day)  If the dragon fails a saving throw, it can cho...   \n",
       "Adult Blue Dracolich Legendary Resistance (3/Day)  If the dracolich fails a saving throw, it can ...   \n",
       "                     Magic Resistance              The dracolich has advantage on saving throws a...   \n",
       "Adult Blue Dragon    Legendary Resistance (3/Day)  If the dragon fails a saving throw, it can cho...   \n",
       "Adult Brass Dragon   Legendary Resistance (3/Day)  If the dragon fails a saving throw, it can cho...   \n",
       "\n",
       "                                                  attack_bonus damage_dice  \n",
       "name                 special_ability                                        \n",
       "Aboleth              Amphibious                              0         NaN  \n",
       "                     Mucous Cloud                            0         NaN  \n",
       "                     Probing Telepathy                       0         NaN  \n",
       "Acolyte              Spellcasting                            0         NaN  \n",
       "Adult Black Dragon   Amphibious                              0         NaN  \n",
       "                     Legendary Resistance (3/Day)            0         NaN  \n",
       "Adult Blue Dracolich Legendary Resistance (3/Day)            0         NaN  \n",
       "                     Magic Resistance                        0         NaN  \n",
       "Adult Blue Dragon    Legendary Resistance (3/Day)            0         NaN  \n",
       "Adult Brass Dragon   Legendary Resistance (3/Day)            0         NaN  "
      ]
     },
     "execution_count": 6,
     "metadata": {},
     "output_type": "execute_result"
    }
   ],
   "source": [
    "special_abilities_df.head(10)"
   ]
  },
  {
   "cell_type": "markdown",
   "metadata": {},
   "source": [
    "## Additional data"
   ]
  },
  {
   "cell_type": "code",
   "execution_count": 7,
   "metadata": {
    "collapsed": true
   },
   "outputs": [],
   "source": [
    "import requests\n",
    "\n",
    "url = 'https://raw.githubusercontent.com/vorpalhex/srd_spells/master/spells.json'\n",
    "r = requests.get(url)\n",
    "spells = r.json()"
   ]
  },
  {
   "cell_type": "code",
   "execution_count": 8,
   "metadata": {
    "collapsed": true
   },
   "outputs": [],
   "source": [
    "spells_df = pd.DataFrame(spells)"
   ]
  },
  {
   "cell_type": "code",
   "execution_count": 9,
   "metadata": {},
   "outputs": [
    {
     "data": {
      "text/html": [
       "<div>\n",
       "<style>\n",
       "    .dataframe thead tr:only-child th {\n",
       "        text-align: right;\n",
       "    }\n",
       "\n",
       "    .dataframe thead th {\n",
       "        text-align: left;\n",
       "    }\n",
       "\n",
       "    .dataframe tbody tr th {\n",
       "        vertical-align: top;\n",
       "    }\n",
       "</style>\n",
       "<table border=\"1\" class=\"dataframe\">\n",
       "  <thead>\n",
       "    <tr style=\"text-align: right;\">\n",
       "      <th></th>\n",
       "      <th>casting_time</th>\n",
       "      <th>classes</th>\n",
       "      <th>components</th>\n",
       "      <th>description</th>\n",
       "      <th>duration</th>\n",
       "      <th>higher_levels</th>\n",
       "      <th>level</th>\n",
       "      <th>name</th>\n",
       "      <th>range</th>\n",
       "      <th>ritual</th>\n",
       "      <th>school</th>\n",
       "      <th>tags</th>\n",
       "      <th>type</th>\n",
       "    </tr>\n",
       "  </thead>\n",
       "  <tbody>\n",
       "    <tr>\n",
       "      <th>0</th>\n",
       "      <td>1 action</td>\n",
       "      <td>[sorcerer, wizard]</td>\n",
       "      <td>{'material': False, 'raw': 'V, S', 'somatic': ...</td>\n",
       "      <td>You hurl a bubble of acid. Choose one creature...</td>\n",
       "      <td>Instantaneous</td>\n",
       "      <td>NaN</td>\n",
       "      <td>cantrip</td>\n",
       "      <td>Acid Splash</td>\n",
       "      <td>60 feet</td>\n",
       "      <td>False</td>\n",
       "      <td>Conjuration</td>\n",
       "      <td>[sorcerer, wizard, cantrip]</td>\n",
       "      <td>Conjuration cantrip</td>\n",
       "    </tr>\n",
       "    <tr>\n",
       "      <th>1</th>\n",
       "      <td>1 action</td>\n",
       "      <td>[ranger, wizard]</td>\n",
       "      <td>{'material': True, 'materials_needed': ['a tin...</td>\n",
       "      <td>You set an alarm against unwanted intrusion. C...</td>\n",
       "      <td>8 hours</td>\n",
       "      <td>NaN</td>\n",
       "      <td>1</td>\n",
       "      <td>Alarm</td>\n",
       "      <td>30 feet</td>\n",
       "      <td>True</td>\n",
       "      <td>abjuration</td>\n",
       "      <td>[ranger, wizard, level1]</td>\n",
       "      <td>1st-level abjuration (ritual)</td>\n",
       "    </tr>\n",
       "    <tr>\n",
       "      <th>2</th>\n",
       "      <td>1 action</td>\n",
       "      <td>[bard, druid, ranger]</td>\n",
       "      <td>{'material': True, 'materials_needed': ['a mor...</td>\n",
       "      <td>This spell lets you convince a beast that you ...</td>\n",
       "      <td>24 hours</td>\n",
       "      <td>When you cast this spell using a spell slot of...</td>\n",
       "      <td>1</td>\n",
       "      <td>Animal Friendship</td>\n",
       "      <td>30 feet</td>\n",
       "      <td>False</td>\n",
       "      <td>enchantment</td>\n",
       "      <td>[bard, druid, ranger, level1]</td>\n",
       "      <td>1st-level enchantment</td>\n",
       "    </tr>\n",
       "    <tr>\n",
       "      <th>3</th>\n",
       "      <td>1 action</td>\n",
       "      <td>[bard, cleric]</td>\n",
       "      <td>{'material': True, 'materials_needed': ['a dro...</td>\n",
       "      <td>Up to three creatures of your choice that you ...</td>\n",
       "      <td>Concentration, up to 1 minute</td>\n",
       "      <td>When you cast this spell using a spell slot of...</td>\n",
       "      <td>1</td>\n",
       "      <td>Bane</td>\n",
       "      <td>30 feet</td>\n",
       "      <td>False</td>\n",
       "      <td>enchantment</td>\n",
       "      <td>[bard, cleric, level1]</td>\n",
       "      <td>1st-level enchantment</td>\n",
       "    </tr>\n",
       "    <tr>\n",
       "      <th>4</th>\n",
       "      <td>1 action</td>\n",
       "      <td>[bard, sorcerer, warlock, wizard]</td>\n",
       "      <td>{'material': False, 'raw': 'V, S', 'somatic': ...</td>\n",
       "      <td>You extend your hand and trace a sigil of ward...</td>\n",
       "      <td>1 Round</td>\n",
       "      <td>NaN</td>\n",
       "      <td>cantrip</td>\n",
       "      <td>Blade Ward</td>\n",
       "      <td>Self</td>\n",
       "      <td>False</td>\n",
       "      <td>Abjuration</td>\n",
       "      <td>[bard, sorcerer, warlock, wizard, cantrip]</td>\n",
       "      <td>Abjuration cantrip</td>\n",
       "    </tr>\n",
       "  </tbody>\n",
       "</table>\n",
       "</div>"
      ],
      "text/plain": [
       "  casting_time                            classes  \\\n",
       "0     1 action                 [sorcerer, wizard]   \n",
       "1     1 action                   [ranger, wizard]   \n",
       "2     1 action              [bard, druid, ranger]   \n",
       "3     1 action                     [bard, cleric]   \n",
       "4     1 action  [bard, sorcerer, warlock, wizard]   \n",
       "\n",
       "                                          components  \\\n",
       "0  {'material': False, 'raw': 'V, S', 'somatic': ...   \n",
       "1  {'material': True, 'materials_needed': ['a tin...   \n",
       "2  {'material': True, 'materials_needed': ['a mor...   \n",
       "3  {'material': True, 'materials_needed': ['a dro...   \n",
       "4  {'material': False, 'raw': 'V, S', 'somatic': ...   \n",
       "\n",
       "                                         description  \\\n",
       "0  You hurl a bubble of acid. Choose one creature...   \n",
       "1  You set an alarm against unwanted intrusion. C...   \n",
       "2  This spell lets you convince a beast that you ...   \n",
       "3  Up to three creatures of your choice that you ...   \n",
       "4  You extend your hand and trace a sigil of ward...   \n",
       "\n",
       "                        duration  \\\n",
       "0                  Instantaneous   \n",
       "1                        8 hours   \n",
       "2                       24 hours   \n",
       "3  Concentration, up to 1 minute   \n",
       "4                        1 Round   \n",
       "\n",
       "                                       higher_levels    level  \\\n",
       "0                                                NaN  cantrip   \n",
       "1                                                NaN        1   \n",
       "2  When you cast this spell using a spell slot of...        1   \n",
       "3  When you cast this spell using a spell slot of...        1   \n",
       "4                                                NaN  cantrip   \n",
       "\n",
       "                name    range  ritual       school  \\\n",
       "0        Acid Splash  60 feet   False  Conjuration   \n",
       "1              Alarm  30 feet    True   abjuration   \n",
       "2  Animal Friendship  30 feet   False  enchantment   \n",
       "3               Bane  30 feet   False  enchantment   \n",
       "4         Blade Ward     Self   False   Abjuration   \n",
       "\n",
       "                                         tags                           type  \n",
       "0                 [sorcerer, wizard, cantrip]            Conjuration cantrip  \n",
       "1                    [ranger, wizard, level1]  1st-level abjuration (ritual)  \n",
       "2               [bard, druid, ranger, level1]          1st-level enchantment  \n",
       "3                      [bard, cleric, level1]          1st-level enchantment  \n",
       "4  [bard, sorcerer, warlock, wizard, cantrip]             Abjuration cantrip  "
      ]
     },
     "execution_count": 9,
     "metadata": {},
     "output_type": "execute_result"
    }
   ],
   "source": [
    "spells_df.head()"
   ]
  },
  {
   "cell_type": "markdown",
   "metadata": {},
   "source": [
    "Some data cleaning is necessary."
   ]
  },
  {
   "cell_type": "code",
   "execution_count": 10,
   "metadata": {
    "collapsed": true
   },
   "outputs": [],
   "source": [
    "spells_df = spells_df.fillna('')"
   ]
  },
  {
   "cell_type": "code",
   "execution_count": 11,
   "metadata": {},
   "outputs": [
    {
     "data": {
      "text/html": [
       "<div>\n",
       "<style>\n",
       "    .dataframe thead tr:only-child th {\n",
       "        text-align: right;\n",
       "    }\n",
       "\n",
       "    .dataframe thead th {\n",
       "        text-align: left;\n",
       "    }\n",
       "\n",
       "    .dataframe tbody tr th {\n",
       "        vertical-align: top;\n",
       "    }\n",
       "</style>\n",
       "<table border=\"1\" class=\"dataframe\">\n",
       "  <thead>\n",
       "    <tr style=\"text-align: right;\">\n",
       "      <th></th>\n",
       "      <th>casting_time</th>\n",
       "      <th>classes</th>\n",
       "      <th>components</th>\n",
       "      <th>description</th>\n",
       "      <th>duration</th>\n",
       "      <th>higher_levels</th>\n",
       "      <th>level</th>\n",
       "      <th>name</th>\n",
       "      <th>range</th>\n",
       "      <th>ritual</th>\n",
       "      <th>school</th>\n",
       "      <th>tags</th>\n",
       "      <th>type</th>\n",
       "    </tr>\n",
       "  </thead>\n",
       "  <tbody>\n",
       "    <tr>\n",
       "      <th>166</th>\n",
       "      <td>10 minutes</td>\n",
       "      <td>[cleric, druid, wizard]</td>\n",
       "      <td>{'material': True, 'materials_needed': ['burni...</td>\n",
       "      <td>You take control of the weather within 5 miles...</td>\n",
       "      <td>Concentration, up to 8 hours</td>\n",
       "      <td></td>\n",
       "      <td>wind</td>\n",
       "      <td>Control Weather</td>\n",
       "      <td>Self (5-mile radius)</td>\n",
       "      <td>False</td>\n",
       "      <td></td>\n",
       "      <td>[cleric, druid, wizard, level8]</td>\n",
       "      <td>Wind</td>\n",
       "    </tr>\n",
       "  </tbody>\n",
       "</table>\n",
       "</div>"
      ],
      "text/plain": [
       "    casting_time                  classes  \\\n",
       "166   10 minutes  [cleric, druid, wizard]   \n",
       "\n",
       "                                            components  \\\n",
       "166  {'material': True, 'materials_needed': ['burni...   \n",
       "\n",
       "                                           description  \\\n",
       "166  You take control of the weather within 5 miles...   \n",
       "\n",
       "                         duration higher_levels level             name  \\\n",
       "166  Concentration, up to 8 hours                wind  Control Weather   \n",
       "\n",
       "                    range  ritual school                             tags  \\\n",
       "166  Self (5-mile radius)   False         [cleric, druid, wizard, level8]   \n",
       "\n",
       "     type  \n",
       "166  Wind  "
      ]
     },
     "execution_count": 11,
     "metadata": {},
     "output_type": "execute_result"
    }
   ],
   "source": [
    "spells_df[spells_df.level=='wind']"
   ]
  },
  {
   "cell_type": "code",
   "execution_count": 12,
   "metadata": {
    "collapsed": true
   },
   "outputs": [],
   "source": [
    "spells_df.loc[166, 'level'] = '8'"
   ]
  },
  {
   "cell_type": "code",
   "execution_count": 13,
   "metadata": {
    "collapsed": true
   },
   "outputs": [],
   "source": [
    "spells_df['level'] = pd.to_numeric(spells_df['level'], errors='coerce')\n",
    "spells_df['level'].fillna(0, inplace=True)"
   ]
  },
  {
   "cell_type": "code",
   "execution_count": null,
   "metadata": {
    "collapsed": true
   },
   "outputs": [],
   "source": []
  },
  {
   "cell_type": "code",
   "execution_count": 14,
   "metadata": {},
   "outputs": [
    {
     "data": {
      "text/html": [
       "<div>\n",
       "<style>\n",
       "    .dataframe thead tr:only-child th {\n",
       "        text-align: right;\n",
       "    }\n",
       "\n",
       "    .dataframe thead th {\n",
       "        text-align: left;\n",
       "    }\n",
       "\n",
       "    .dataframe tbody tr th {\n",
       "        vertical-align: top;\n",
       "    }\n",
       "</style>\n",
       "<table border=\"1\" class=\"dataframe\">\n",
       "  <thead>\n",
       "    <tr style=\"text-align: right;\">\n",
       "      <th></th>\n",
       "      <th>casting_time</th>\n",
       "      <th>classes</th>\n",
       "      <th>components</th>\n",
       "      <th>description</th>\n",
       "      <th>duration</th>\n",
       "      <th>higher_levels</th>\n",
       "      <th>level</th>\n",
       "      <th>name</th>\n",
       "      <th>range</th>\n",
       "      <th>ritual</th>\n",
       "      <th>school</th>\n",
       "      <th>tags</th>\n",
       "      <th>type</th>\n",
       "    </tr>\n",
       "  </thead>\n",
       "  <tbody>\n",
       "    <tr>\n",
       "      <th>0</th>\n",
       "      <td>1 action</td>\n",
       "      <td>[sorcerer, wizard]</td>\n",
       "      <td>{'material': False, 'raw': 'V, S', 'somatic': ...</td>\n",
       "      <td>You hurl a bubble of acid. Choose one creature...</td>\n",
       "      <td>Instantaneous</td>\n",
       "      <td></td>\n",
       "      <td>0.0</td>\n",
       "      <td>Acid Splash</td>\n",
       "      <td>60 feet</td>\n",
       "      <td>False</td>\n",
       "      <td>Conjuration</td>\n",
       "      <td>[sorcerer, wizard, cantrip]</td>\n",
       "      <td>Conjuration cantrip</td>\n",
       "    </tr>\n",
       "    <tr>\n",
       "      <th>1</th>\n",
       "      <td>1 action</td>\n",
       "      <td>[ranger, wizard]</td>\n",
       "      <td>{'material': True, 'materials_needed': ['a tin...</td>\n",
       "      <td>You set an alarm against unwanted intrusion. C...</td>\n",
       "      <td>8 hours</td>\n",
       "      <td></td>\n",
       "      <td>1.0</td>\n",
       "      <td>Alarm</td>\n",
       "      <td>30 feet</td>\n",
       "      <td>True</td>\n",
       "      <td>abjuration</td>\n",
       "      <td>[ranger, wizard, level1]</td>\n",
       "      <td>1st-level abjuration (ritual)</td>\n",
       "    </tr>\n",
       "    <tr>\n",
       "      <th>2</th>\n",
       "      <td>1 action</td>\n",
       "      <td>[bard, druid, ranger]</td>\n",
       "      <td>{'material': True, 'materials_needed': ['a mor...</td>\n",
       "      <td>This spell lets you convince a beast that you ...</td>\n",
       "      <td>24 hours</td>\n",
       "      <td>When you cast this spell using a spell slot of...</td>\n",
       "      <td>1.0</td>\n",
       "      <td>Animal Friendship</td>\n",
       "      <td>30 feet</td>\n",
       "      <td>False</td>\n",
       "      <td>enchantment</td>\n",
       "      <td>[bard, druid, ranger, level1]</td>\n",
       "      <td>1st-level enchantment</td>\n",
       "    </tr>\n",
       "    <tr>\n",
       "      <th>3</th>\n",
       "      <td>1 action</td>\n",
       "      <td>[bard, cleric]</td>\n",
       "      <td>{'material': True, 'materials_needed': ['a dro...</td>\n",
       "      <td>Up to three creatures of your choice that you ...</td>\n",
       "      <td>Concentration, up to 1 minute</td>\n",
       "      <td>When you cast this spell using a spell slot of...</td>\n",
       "      <td>1.0</td>\n",
       "      <td>Bane</td>\n",
       "      <td>30 feet</td>\n",
       "      <td>False</td>\n",
       "      <td>enchantment</td>\n",
       "      <td>[bard, cleric, level1]</td>\n",
       "      <td>1st-level enchantment</td>\n",
       "    </tr>\n",
       "    <tr>\n",
       "      <th>4</th>\n",
       "      <td>1 action</td>\n",
       "      <td>[bard, sorcerer, warlock, wizard]</td>\n",
       "      <td>{'material': False, 'raw': 'V, S', 'somatic': ...</td>\n",
       "      <td>You extend your hand and trace a sigil of ward...</td>\n",
       "      <td>1 Round</td>\n",
       "      <td></td>\n",
       "      <td>0.0</td>\n",
       "      <td>Blade Ward</td>\n",
       "      <td>Self</td>\n",
       "      <td>False</td>\n",
       "      <td>Abjuration</td>\n",
       "      <td>[bard, sorcerer, warlock, wizard, cantrip]</td>\n",
       "      <td>Abjuration cantrip</td>\n",
       "    </tr>\n",
       "  </tbody>\n",
       "</table>\n",
       "</div>"
      ],
      "text/plain": [
       "  casting_time                            classes  \\\n",
       "0     1 action                 [sorcerer, wizard]   \n",
       "1     1 action                   [ranger, wizard]   \n",
       "2     1 action              [bard, druid, ranger]   \n",
       "3     1 action                     [bard, cleric]   \n",
       "4     1 action  [bard, sorcerer, warlock, wizard]   \n",
       "\n",
       "                                          components  \\\n",
       "0  {'material': False, 'raw': 'V, S', 'somatic': ...   \n",
       "1  {'material': True, 'materials_needed': ['a tin...   \n",
       "2  {'material': True, 'materials_needed': ['a mor...   \n",
       "3  {'material': True, 'materials_needed': ['a dro...   \n",
       "4  {'material': False, 'raw': 'V, S', 'somatic': ...   \n",
       "\n",
       "                                         description  \\\n",
       "0  You hurl a bubble of acid. Choose one creature...   \n",
       "1  You set an alarm against unwanted intrusion. C...   \n",
       "2  This spell lets you convince a beast that you ...   \n",
       "3  Up to three creatures of your choice that you ...   \n",
       "4  You extend your hand and trace a sigil of ward...   \n",
       "\n",
       "                        duration  \\\n",
       "0                  Instantaneous   \n",
       "1                        8 hours   \n",
       "2                       24 hours   \n",
       "3  Concentration, up to 1 minute   \n",
       "4                        1 Round   \n",
       "\n",
       "                                       higher_levels  level  \\\n",
       "0                                                       0.0   \n",
       "1                                                       1.0   \n",
       "2  When you cast this spell using a spell slot of...    1.0   \n",
       "3  When you cast this spell using a spell slot of...    1.0   \n",
       "4                                                       0.0   \n",
       "\n",
       "                name    range  ritual       school  \\\n",
       "0        Acid Splash  60 feet   False  Conjuration   \n",
       "1              Alarm  30 feet    True   abjuration   \n",
       "2  Animal Friendship  30 feet   False  enchantment   \n",
       "3               Bane  30 feet   False  enchantment   \n",
       "4         Blade Ward     Self   False   Abjuration   \n",
       "\n",
       "                                         tags                           type  \n",
       "0                 [sorcerer, wizard, cantrip]            Conjuration cantrip  \n",
       "1                    [ranger, wizard, level1]  1st-level abjuration (ritual)  \n",
       "2               [bard, druid, ranger, level1]          1st-level enchantment  \n",
       "3                      [bard, cleric, level1]          1st-level enchantment  \n",
       "4  [bard, sorcerer, warlock, wizard, cantrip]             Abjuration cantrip  "
      ]
     },
     "execution_count": 14,
     "metadata": {},
     "output_type": "execute_result"
    }
   ],
   "source": [
    "spells_df.head()"
   ]
  },
  {
   "cell_type": "markdown",
   "metadata": {},
   "source": [
    "# Text analysis methods\n",
    "This follows Patrick Harrison's [**Modern NLP in Python**](https://github.com/skipgram/modern-nlp-in-python/blob/master/executable/Modern_NLP_in_Python.ipynb) tutorial."
   ]
  },
  {
   "cell_type": "code",
   "execution_count": 15,
   "metadata": {
    "collapsed": true
   },
   "outputs": [],
   "source": [
    "import spacy\n",
    "\n",
    "nlp = spacy.load('en')"
   ]
  },
  {
   "cell_type": "code",
   "execution_count": 16,
   "metadata": {},
   "outputs": [
    {
     "data": {
      "text/plain": [
       "(379, 13)"
      ]
     },
     "execution_count": 16,
     "metadata": {},
     "output_type": "execute_result"
    }
   ],
   "source": [
    "spells_df.shape"
   ]
  },
  {
   "cell_type": "code",
   "execution_count": 17,
   "metadata": {
    "collapsed": true
   },
   "outputs": [],
   "source": [
    "spell = nlp(spells_df.description.iloc[10])"
   ]
  },
  {
   "cell_type": "code",
   "execution_count": 18,
   "metadata": {},
   "outputs": [
    {
     "name": "stdout",
     "output_type": "stream",
     "text": [
      "0 A dazzling array of flashing, colored light springs from your hand.\n",
      "1 Roll 6d10; the total is how many hit points of creatures this spell can effect.\n",
      "2 Creatures in a 15-foot cone originating from you are affected in ascending order of their current hit points (ignoring unconscious creatures and creatures that can't see).\n",
      "\n",
      "\n",
      "3 Starting with the creature that has the lowest current hit points, each creature affected by this spell is blinded until the spell ends.\n",
      "4 Subtract each creature's hit points from the total before moving on to the creature with the next lowest hit points.\n",
      "5 A creature's hit points must be equal to or less than the remaining total for that creature to be affected.\n"
     ]
    }
   ],
   "source": [
    "for i, x in enumerate(spell.sents):\n",
    "    print(i, x)"
   ]
  },
  {
   "cell_type": "code",
   "execution_count": 19,
   "metadata": {},
   "outputs": [
    {
     "name": "stdout",
     "output_type": "stream",
     "text": [
      "0: Roll 6d10 - PERSON\n",
      "1: 15-foot - CARDINAL\n"
     ]
    }
   ],
   "source": [
    "for i, ent in enumerate(spell.ents):\n",
    "    print ('{}: {} - {}'.format(i, ent, ent.label_))"
   ]
  },
  {
   "cell_type": "markdown",
   "metadata": {},
   "source": [
    "### Phrase modeling\n",
    "\n",
    "Due to the highly structured nature of the corpus, phrase modeling will be an effective method for reducing dimensionality."
   ]
  },
  {
   "cell_type": "code",
   "execution_count": 20,
   "metadata": {},
   "outputs": [
    {
     "name": "stderr",
     "output_type": "stream",
     "text": [
      "Using TensorFlow backend.\n"
     ]
    }
   ],
   "source": [
    "from gensim.models import Phrases\n",
    "from gensim.models.phrases import Phraser\n",
    "from gensim.models.word2vec import LineSentence"
   ]
  },
  {
   "cell_type": "code",
   "execution_count": 21,
   "metadata": {
    "collapsed": true
   },
   "outputs": [],
   "source": [
    "def punct_space(token):\n",
    "    return token.is_punct or token.is_space\n",
    "\n",
    "def entry_to_lines(filename):\n",
    "    with open(filename, encoding='utf_8') as f:\n",
    "        for entry in f:\n",
    "            yield entry.replace('\\\\n', '\\n')\n",
    "    return\n",
    "            \n",
    "def lemmatized_sentence_corpus(filename):\n",
    "    for parsed_review in nlp.pipe(entry_to_lines(filename),\n",
    "                                  batch_size=10000, n_threads=4):\n",
    "        for sent in parsed_review.sents:\n",
    "            yield u' '.join([token.lemma_ for token in sent if not punct_space(token)])"
   ]
  },
  {
   "cell_type": "code",
   "execution_count": 22,
   "metadata": {
    "collapsed": true
   },
   "outputs": [],
   "source": [
    "import tempfile\n",
    "\n",
    "raw_spells = tempfile.NamedTemporaryFile(mode='w')\n",
    "with open(raw_spells.name, 'w') as f:\n",
    "    for x in spells_df.description:\n",
    "        if type(x) is str:\n",
    "            f.write(x)\n",
    "        f.write('\\n')"
   ]
  },
  {
   "cell_type": "code",
   "execution_count": 23,
   "metadata": {
    "collapsed": true
   },
   "outputs": [],
   "source": [
    "unigram = tempfile.NamedTemporaryFile(mode='w')\n",
    "\n",
    "with open(unigram.name, 'w') as f:\n",
    "    for sentence in lemmatized_sentence_corpus(raw_spells.name):\n",
    "        f.write(sentence + '\\n')\n",
    "\n",
    "unigram_sentences = LineSentence(unigram.name)"
   ]
  },
  {
   "cell_type": "code",
   "execution_count": 24,
   "metadata": {},
   "outputs": [
    {
     "name": "stderr",
     "output_type": "stream",
     "text": [
      "/Users/jason/Code/cr/lib/python3.6/site-packages/gensim/models/phrases.py:316: UserWarning: For a faster implementation, use the gensim.models.phrases.Phraser class\n",
      "  warnings.warn(\"For a faster implementation, use the gensim.models.phrases.Phraser class\")\n"
     ]
    }
   ],
   "source": [
    "bigram_model = Phrases(unigram_sentences)\n",
    "\n",
    "bigram = tempfile.NamedTemporaryFile(mode='w')\n",
    "\n",
    "with open(bigram.name, 'w') as f:\n",
    "    for unigram_sentence in unigram_sentences:\n",
    "        bigram_sentence = u' '.join(bigram_model[unigram_sentence])\n",
    "        f.write(bigram_sentence + '\\n')\n",
    "\n",
    "bigram_sentences = LineSentence(bigram.name)"
   ]
  },
  {
   "cell_type": "code",
   "execution_count": 25,
   "metadata": {},
   "outputs": [
    {
     "name": "stderr",
     "output_type": "stream",
     "text": [
      "/Users/jason/Code/cr/lib/python3.6/site-packages/gensim/models/phrases.py:316: UserWarning: For a faster implementation, use the gensim.models.phrases.Phraser class\n",
      "  warnings.warn(\"For a faster implementation, use the gensim.models.phrases.Phraser class\")\n"
     ]
    }
   ],
   "source": [
    "trigram_model = Phrases(bigram_sentences)\n",
    "\n",
    "trigram = tempfile.NamedTemporaryFile(mode='w')\n",
    "\n",
    "with open(trigram.name, 'w') as f:\n",
    "    for bigram_sentence in bigram_sentences:\n",
    "        trigram_sentence = u' '.join(trigram_model[bigram_sentence])\n",
    "        f.write(trigram_sentence + '\\n')\n",
    "\n",
    "trigram_sentences = LineSentence(trigram.name)"
   ]
  },
  {
   "cell_type": "markdown",
   "metadata": {},
   "source": [
    "### Word vector embedding"
   ]
  },
  {
   "cell_type": "code",
   "execution_count": 26,
   "metadata": {
    "collapsed": true
   },
   "outputs": [],
   "source": [
    "total_words = sum(len(x) for x in trigram_sentences)"
   ]
  },
  {
   "cell_type": "code",
   "execution_count": 27,
   "metadata": {},
   "outputs": [
    {
     "name": "stdout",
     "output_type": "stream",
     "text": [
      "12 training epochs so far.\n"
     ]
    }
   ],
   "source": [
    "from gensim.models import Word2Vec\n",
    "\n",
    "word2vec_file = tempfile.NamedTemporaryFile(mode='w')\n",
    "\n",
    "spell2vec = Word2Vec(trigram_sentences, size=100, window=5, min_count=5, workers=4)\n",
    "spell2vec.save(word2vec_file.name)\n",
    "\n",
    "# perform another 11 epochs of training\n",
    "for i in range(11):\n",
    "    spell2vec.train(trigram_sentences, total_words=total_words, epochs=1)\n",
    "    spell2vec.save(word2vec_file.name)\n",
    "\n",
    "print(u'{} training epochs so far.'.format(spell2vec.train_count))\n",
    "\n",
    "spell2vec.init_sims()"
   ]
  },
  {
   "cell_type": "code",
   "execution_count": 28,
   "metadata": {},
   "outputs": [
    {
     "data": {
      "text/plain": [
       "966"
      ]
     },
     "execution_count": 28,
     "metadata": {},
     "output_type": "execute_result"
    }
   ],
   "source": [
    "len(spell2vec.wv.vocab)"
   ]
  },
  {
   "cell_type": "code",
   "execution_count": 29,
   "metadata": {},
   "outputs": [
    {
     "data": {
      "text/html": [
       "<div>\n",
       "<style>\n",
       "    .dataframe thead tr:only-child th {\n",
       "        text-align: right;\n",
       "    }\n",
       "\n",
       "    .dataframe thead th {\n",
       "        text-align: left;\n",
       "    }\n",
       "\n",
       "    .dataframe tbody tr th {\n",
       "        vertical-align: top;\n",
       "    }\n",
       "</style>\n",
       "<table border=\"1\" class=\"dataframe\">\n",
       "  <thead>\n",
       "    <tr style=\"text-align: right;\">\n",
       "      <th></th>\n",
       "      <th>0</th>\n",
       "      <th>1</th>\n",
       "      <th>2</th>\n",
       "      <th>3</th>\n",
       "      <th>4</th>\n",
       "      <th>5</th>\n",
       "      <th>6</th>\n",
       "      <th>7</th>\n",
       "      <th>8</th>\n",
       "      <th>9</th>\n",
       "      <th>...</th>\n",
       "      <th>90</th>\n",
       "      <th>91</th>\n",
       "      <th>92</th>\n",
       "      <th>93</th>\n",
       "      <th>94</th>\n",
       "      <th>95</th>\n",
       "      <th>96</th>\n",
       "      <th>97</th>\n",
       "      <th>98</th>\n",
       "      <th>99</th>\n",
       "    </tr>\n",
       "  </thead>\n",
       "  <tbody>\n",
       "    <tr>\n",
       "      <th>-PRON-</th>\n",
       "      <td>-0.099170</td>\n",
       "      <td>0.004889</td>\n",
       "      <td>-0.067528</td>\n",
       "      <td>0.096756</td>\n",
       "      <td>0.066683</td>\n",
       "      <td>0.086718</td>\n",
       "      <td>0.097956</td>\n",
       "      <td>0.081749</td>\n",
       "      <td>-0.031465</td>\n",
       "      <td>-0.023652</td>\n",
       "      <td>...</td>\n",
       "      <td>-0.073480</td>\n",
       "      <td>0.084996</td>\n",
       "      <td>-0.008937</td>\n",
       "      <td>0.068699</td>\n",
       "      <td>0.024856</td>\n",
       "      <td>-0.021766</td>\n",
       "      <td>0.031028</td>\n",
       "      <td>0.281871</td>\n",
       "      <td>-0.093936</td>\n",
       "      <td>0.107084</td>\n",
       "    </tr>\n",
       "    <tr>\n",
       "      <th>the</th>\n",
       "      <td>-0.136174</td>\n",
       "      <td>-0.062945</td>\n",
       "      <td>-0.033426</td>\n",
       "      <td>-0.078936</td>\n",
       "      <td>-0.010010</td>\n",
       "      <td>0.087430</td>\n",
       "      <td>0.077923</td>\n",
       "      <td>-0.120667</td>\n",
       "      <td>-0.131635</td>\n",
       "      <td>0.082408</td>\n",
       "      <td>...</td>\n",
       "      <td>0.079010</td>\n",
       "      <td>0.046890</td>\n",
       "      <td>0.029864</td>\n",
       "      <td>0.166761</td>\n",
       "      <td>0.090260</td>\n",
       "      <td>-0.040879</td>\n",
       "      <td>-0.096480</td>\n",
       "      <td>0.413119</td>\n",
       "      <td>0.059315</td>\n",
       "      <td>-0.013895</td>\n",
       "    </tr>\n",
       "    <tr>\n",
       "      <th>a</th>\n",
       "      <td>-0.039877</td>\n",
       "      <td>-0.246909</td>\n",
       "      <td>-0.029014</td>\n",
       "      <td>0.024889</td>\n",
       "      <td>0.004789</td>\n",
       "      <td>0.108308</td>\n",
       "      <td>-0.118603</td>\n",
       "      <td>-0.039177</td>\n",
       "      <td>-0.046104</td>\n",
       "      <td>-0.149969</td>\n",
       "      <td>...</td>\n",
       "      <td>-0.255707</td>\n",
       "      <td>-0.061750</td>\n",
       "      <td>0.168107</td>\n",
       "      <td>-0.002864</td>\n",
       "      <td>0.030365</td>\n",
       "      <td>-0.075513</td>\n",
       "      <td>-0.074612</td>\n",
       "      <td>0.182180</td>\n",
       "      <td>-0.044814</td>\n",
       "      <td>-0.100271</td>\n",
       "    </tr>\n",
       "    <tr>\n",
       "      <th>of</th>\n",
       "      <td>-0.140861</td>\n",
       "      <td>-0.132680</td>\n",
       "      <td>0.023409</td>\n",
       "      <td>0.173964</td>\n",
       "      <td>0.202179</td>\n",
       "      <td>0.107665</td>\n",
       "      <td>-0.074588</td>\n",
       "      <td>-0.105230</td>\n",
       "      <td>-0.229920</td>\n",
       "      <td>-0.038949</td>\n",
       "      <td>...</td>\n",
       "      <td>0.041819</td>\n",
       "      <td>0.059522</td>\n",
       "      <td>0.050073</td>\n",
       "      <td>-0.113198</td>\n",
       "      <td>0.004900</td>\n",
       "      <td>0.030858</td>\n",
       "      <td>-0.092308</td>\n",
       "      <td>0.112990</td>\n",
       "      <td>-0.073153</td>\n",
       "      <td>0.011678</td>\n",
       "    </tr>\n",
       "    <tr>\n",
       "      <th>creature</th>\n",
       "      <td>-0.133125</td>\n",
       "      <td>-0.108219</td>\n",
       "      <td>-0.042745</td>\n",
       "      <td>-0.063309</td>\n",
       "      <td>0.028504</td>\n",
       "      <td>0.123274</td>\n",
       "      <td>0.026673</td>\n",
       "      <td>0.035732</td>\n",
       "      <td>-0.137718</td>\n",
       "      <td>-0.068915</td>\n",
       "      <td>...</td>\n",
       "      <td>-0.153784</td>\n",
       "      <td>0.032740</td>\n",
       "      <td>0.076511</td>\n",
       "      <td>0.048129</td>\n",
       "      <td>0.071262</td>\n",
       "      <td>0.009226</td>\n",
       "      <td>-0.033977</td>\n",
       "      <td>0.304090</td>\n",
       "      <td>0.016960</td>\n",
       "      <td>0.014894</td>\n",
       "    </tr>\n",
       "  </tbody>\n",
       "</table>\n",
       "<p>5 rows × 100 columns</p>\n",
       "</div>"
      ],
      "text/plain": [
       "                0         1         2         3         4         5   \\\n",
       "-PRON-   -0.099170  0.004889 -0.067528  0.096756  0.066683  0.086718   \n",
       "the      -0.136174 -0.062945 -0.033426 -0.078936 -0.010010  0.087430   \n",
       "a        -0.039877 -0.246909 -0.029014  0.024889  0.004789  0.108308   \n",
       "of       -0.140861 -0.132680  0.023409  0.173964  0.202179  0.107665   \n",
       "creature -0.133125 -0.108219 -0.042745 -0.063309  0.028504  0.123274   \n",
       "\n",
       "                6         7         8         9     ...           90  \\\n",
       "-PRON-    0.097956  0.081749 -0.031465 -0.023652    ...    -0.073480   \n",
       "the       0.077923 -0.120667 -0.131635  0.082408    ...     0.079010   \n",
       "a        -0.118603 -0.039177 -0.046104 -0.149969    ...    -0.255707   \n",
       "of       -0.074588 -0.105230 -0.229920 -0.038949    ...     0.041819   \n",
       "creature  0.026673  0.035732 -0.137718 -0.068915    ...    -0.153784   \n",
       "\n",
       "                91        92        93        94        95        96  \\\n",
       "-PRON-    0.084996 -0.008937  0.068699  0.024856 -0.021766  0.031028   \n",
       "the       0.046890  0.029864  0.166761  0.090260 -0.040879 -0.096480   \n",
       "a        -0.061750  0.168107 -0.002864  0.030365 -0.075513 -0.074612   \n",
       "of        0.059522  0.050073 -0.113198  0.004900  0.030858 -0.092308   \n",
       "creature  0.032740  0.076511  0.048129  0.071262  0.009226 -0.033977   \n",
       "\n",
       "                97        98        99  \n",
       "-PRON-    0.281871 -0.093936  0.107084  \n",
       "the       0.413119  0.059315 -0.013895  \n",
       "a         0.182180 -0.044814 -0.100271  \n",
       "of        0.112990 -0.073153  0.011678  \n",
       "creature  0.304090  0.016960  0.014894  \n",
       "\n",
       "[5 rows x 100 columns]"
      ]
     },
     "execution_count": 29,
     "metadata": {},
     "output_type": "execute_result"
    }
   ],
   "source": [
    "ordered_vocab = [(term, voc.index, voc.count) for term, voc in spell2vec.wv.vocab.items()]\n",
    "ordered_vocab = sorted(ordered_vocab, key=lambda x: -x[2])\n",
    "ordered_terms, term_indices, term_counts = zip(*ordered_vocab)\n",
    "word_vectors = pd.DataFrame(spell2vec.wv.syn0norm[term_indices, :],\n",
    "                            index=ordered_terms)\n",
    "word_vectors.head()"
   ]
  },
  {
   "cell_type": "markdown",
   "metadata": {},
   "source": [
    "#### [Todo]: visualize, and clean up the code above. Figure out how to use the model to create the lemmatized text for each example, and to prepare it in a dataframe for doc2vec."
   ]
  },
  {
   "cell_type": "markdown",
   "metadata": {},
   "source": [
    "# Doc2Vec\n",
    "We'll follow the gensim Doc2Vec [tutorial](https://github.com/RaRe-Technologies/gensim/blob/develop/docs/notebooks/doc2vec-lee.ipynb).\n",
    "\n",
    "#### Goal\n",
    "learn a vector embedding for each document in the corpus, and train a multinomial classifier on the vector embeddings."
   ]
  },
  {
   "cell_type": "code",
   "execution_count": 30,
   "metadata": {
    "collapsed": true
   },
   "outputs": [],
   "source": [
    "def read_corpus(fname, training=False):\n",
    "    with open(fname, 'r') as f:\n",
    "        for i, line in enumerate(f):\n",
    "            if training:\n",
    "                yield gensim.models.doc2vec.TaggedDocument(gensim.utils.simple_preprocess(line), [i])\n",
    "            else:\n",
    "                yield gensim.utils.simple_preprocess(line)"
   ]
  },
  {
   "cell_type": "code",
   "execution_count": 31,
   "metadata": {},
   "outputs": [
    {
     "data": {
      "text/html": [
       "<div>\n",
       "<style>\n",
       "    .dataframe thead tr:only-child th {\n",
       "        text-align: right;\n",
       "    }\n",
       "\n",
       "    .dataframe thead th {\n",
       "        text-align: left;\n",
       "    }\n",
       "\n",
       "    .dataframe tbody tr th {\n",
       "        vertical-align: top;\n",
       "    }\n",
       "</style>\n",
       "<table border=\"1\" class=\"dataframe\">\n",
       "  <thead>\n",
       "    <tr style=\"text-align: right;\">\n",
       "      <th></th>\n",
       "      <th>casting_time</th>\n",
       "      <th>classes</th>\n",
       "      <th>components</th>\n",
       "      <th>description</th>\n",
       "      <th>duration</th>\n",
       "      <th>higher_levels</th>\n",
       "      <th>level</th>\n",
       "      <th>name</th>\n",
       "      <th>range</th>\n",
       "      <th>ritual</th>\n",
       "      <th>school</th>\n",
       "      <th>tags</th>\n",
       "      <th>type</th>\n",
       "    </tr>\n",
       "  </thead>\n",
       "  <tbody>\n",
       "    <tr>\n",
       "      <th>0</th>\n",
       "      <td>1 action</td>\n",
       "      <td>[sorcerer, wizard]</td>\n",
       "      <td>{'material': False, 'raw': 'V, S', 'somatic': ...</td>\n",
       "      <td>You hurl a bubble of acid. Choose one creature...</td>\n",
       "      <td>Instantaneous</td>\n",
       "      <td></td>\n",
       "      <td>0.0</td>\n",
       "      <td>Acid Splash</td>\n",
       "      <td>60 feet</td>\n",
       "      <td>False</td>\n",
       "      <td>Conjuration</td>\n",
       "      <td>[sorcerer, wizard, cantrip]</td>\n",
       "      <td>Conjuration cantrip</td>\n",
       "    </tr>\n",
       "    <tr>\n",
       "      <th>1</th>\n",
       "      <td>1 action</td>\n",
       "      <td>[ranger, wizard]</td>\n",
       "      <td>{'material': True, 'materials_needed': ['a tin...</td>\n",
       "      <td>You set an alarm against unwanted intrusion. C...</td>\n",
       "      <td>8 hours</td>\n",
       "      <td></td>\n",
       "      <td>1.0</td>\n",
       "      <td>Alarm</td>\n",
       "      <td>30 feet</td>\n",
       "      <td>True</td>\n",
       "      <td>abjuration</td>\n",
       "      <td>[ranger, wizard, level1]</td>\n",
       "      <td>1st-level abjuration (ritual)</td>\n",
       "    </tr>\n",
       "    <tr>\n",
       "      <th>2</th>\n",
       "      <td>1 action</td>\n",
       "      <td>[bard, druid, ranger]</td>\n",
       "      <td>{'material': True, 'materials_needed': ['a mor...</td>\n",
       "      <td>This spell lets you convince a beast that you ...</td>\n",
       "      <td>24 hours</td>\n",
       "      <td>When you cast this spell using a spell slot of...</td>\n",
       "      <td>1.0</td>\n",
       "      <td>Animal Friendship</td>\n",
       "      <td>30 feet</td>\n",
       "      <td>False</td>\n",
       "      <td>enchantment</td>\n",
       "      <td>[bard, druid, ranger, level1]</td>\n",
       "      <td>1st-level enchantment</td>\n",
       "    </tr>\n",
       "    <tr>\n",
       "      <th>3</th>\n",
       "      <td>1 action</td>\n",
       "      <td>[bard, cleric]</td>\n",
       "      <td>{'material': True, 'materials_needed': ['a dro...</td>\n",
       "      <td>Up to three creatures of your choice that you ...</td>\n",
       "      <td>Concentration, up to 1 minute</td>\n",
       "      <td>When you cast this spell using a spell slot of...</td>\n",
       "      <td>1.0</td>\n",
       "      <td>Bane</td>\n",
       "      <td>30 feet</td>\n",
       "      <td>False</td>\n",
       "      <td>enchantment</td>\n",
       "      <td>[bard, cleric, level1]</td>\n",
       "      <td>1st-level enchantment</td>\n",
       "    </tr>\n",
       "    <tr>\n",
       "      <th>4</th>\n",
       "      <td>1 action</td>\n",
       "      <td>[bard, sorcerer, warlock, wizard]</td>\n",
       "      <td>{'material': False, 'raw': 'V, S', 'somatic': ...</td>\n",
       "      <td>You extend your hand and trace a sigil of ward...</td>\n",
       "      <td>1 Round</td>\n",
       "      <td></td>\n",
       "      <td>0.0</td>\n",
       "      <td>Blade Ward</td>\n",
       "      <td>Self</td>\n",
       "      <td>False</td>\n",
       "      <td>Abjuration</td>\n",
       "      <td>[bard, sorcerer, warlock, wizard, cantrip]</td>\n",
       "      <td>Abjuration cantrip</td>\n",
       "    </tr>\n",
       "  </tbody>\n",
       "</table>\n",
       "</div>"
      ],
      "text/plain": [
       "  casting_time                            classes  \\\n",
       "0     1 action                 [sorcerer, wizard]   \n",
       "1     1 action                   [ranger, wizard]   \n",
       "2     1 action              [bard, druid, ranger]   \n",
       "3     1 action                     [bard, cleric]   \n",
       "4     1 action  [bard, sorcerer, warlock, wizard]   \n",
       "\n",
       "                                          components  \\\n",
       "0  {'material': False, 'raw': 'V, S', 'somatic': ...   \n",
       "1  {'material': True, 'materials_needed': ['a tin...   \n",
       "2  {'material': True, 'materials_needed': ['a mor...   \n",
       "3  {'material': True, 'materials_needed': ['a dro...   \n",
       "4  {'material': False, 'raw': 'V, S', 'somatic': ...   \n",
       "\n",
       "                                         description  \\\n",
       "0  You hurl a bubble of acid. Choose one creature...   \n",
       "1  You set an alarm against unwanted intrusion. C...   \n",
       "2  This spell lets you convince a beast that you ...   \n",
       "3  Up to three creatures of your choice that you ...   \n",
       "4  You extend your hand and trace a sigil of ward...   \n",
       "\n",
       "                        duration  \\\n",
       "0                  Instantaneous   \n",
       "1                        8 hours   \n",
       "2                       24 hours   \n",
       "3  Concentration, up to 1 minute   \n",
       "4                        1 Round   \n",
       "\n",
       "                                       higher_levels  level  \\\n",
       "0                                                       0.0   \n",
       "1                                                       1.0   \n",
       "2  When you cast this spell using a spell slot of...    1.0   \n",
       "3  When you cast this spell using a spell slot of...    1.0   \n",
       "4                                                       0.0   \n",
       "\n",
       "                name    range  ritual       school  \\\n",
       "0        Acid Splash  60 feet   False  Conjuration   \n",
       "1              Alarm  30 feet    True   abjuration   \n",
       "2  Animal Friendship  30 feet   False  enchantment   \n",
       "3               Bane  30 feet   False  enchantment   \n",
       "4         Blade Ward     Self   False   Abjuration   \n",
       "\n",
       "                                         tags                           type  \n",
       "0                 [sorcerer, wizard, cantrip]            Conjuration cantrip  \n",
       "1                    [ranger, wizard, level1]  1st-level abjuration (ritual)  \n",
       "2               [bard, druid, ranger, level1]          1st-level enchantment  \n",
       "3                      [bard, cleric, level1]          1st-level enchantment  \n",
       "4  [bard, sorcerer, warlock, wizard, cantrip]             Abjuration cantrip  "
      ]
     },
     "execution_count": 31,
     "metadata": {},
     "output_type": "execute_result"
    }
   ],
   "source": [
    "spells_df.head()"
   ]
  },
  {
   "cell_type": "markdown",
   "metadata": {},
   "source": [
    "# [TODO]: Techniques to apply\n",
    "\n",
    "* Bag of words - construct weighted encoding of key words, train on weights\n",
    "    * Tf–idf or counter\n",
    "* word2vec - construct word embeddings, average, and train on average\n",
    "    * consider using an auto-encoder\n",
    "* feature engineering\n",
    "\n",
    "use a more sophisticated loss function (ordinal regression - c.f. mord on pypi doesn't work)\n",
    "\n",
    "Lee, Yoonkyung, Yi Lin, and Grace Wahba. \"Multicategory support\n",
    "vector machines: Theory and application to the classification of\n",
    "microarray data and satellite radiance data.\" Journal of the\n",
    "American Statistical Association 99.465 (2004): 67-81"
   ]
  },
  {
   "cell_type": "markdown",
   "metadata": {},
   "source": [
    "## Bag of words with logistic regression"
   ]
  },
  {
   "cell_type": "code",
   "execution_count": 32,
   "metadata": {
    "collapsed": true
   },
   "outputs": [],
   "source": [
    "X = spells_df['description'] + spells_df['higher_levels']\n",
    "y = spells_df['level']"
   ]
  },
  {
   "cell_type": "code",
   "execution_count": 33,
   "metadata": {},
   "outputs": [
    {
     "data": {
      "text/plain": [
       "Pipeline(memory=None,\n",
       "     steps=[('vect', TfidfVectorizer(analyzer='word', binary=False, decode_error='strict',\n",
       "        dtype=<class 'numpy.int64'>, encoding='utf-8', input='content',\n",
       "        lowercase=True, max_df=1.0, max_features=None, min_df=1,\n",
       "        ngram_range=(1, 1), norm='l2', preprocessor=None, smooth_idf=True,\n",
       "  ...ty='l2', random_state=None, solver='liblinear', tol=0.0001,\n",
       "          verbose=0, warm_start=False))])"
      ]
     },
     "execution_count": 33,
     "metadata": {},
     "output_type": "execute_result"
    }
   ],
   "source": [
    "from sklearn.feature_extraction.text import TfidfVectorizer\n",
    "from sklearn.linear_model import LogisticRegression\n",
    "from sklearn.model_selection import GridSearchCV\n",
    "from sklearn.pipeline import Pipeline\n",
    "\n",
    "pipeline = Pipeline([\n",
    "    ('vect', TfidfVectorizer()),\n",
    "    ('clf', LogisticRegression()),\n",
    "])\n",
    "\n",
    "pipeline.fit(X, y)"
   ]
  },
  {
   "cell_type": "code",
   "execution_count": 34,
   "metadata": {},
   "outputs": [
    {
     "data": {
      "text/plain": [
       "0.75197889182058042"
      ]
     },
     "execution_count": 34,
     "metadata": {},
     "output_type": "execute_result"
    }
   ],
   "source": [
    "pipeline.score(X, y)"
   ]
  },
  {
   "cell_type": "code",
   "execution_count": 35,
   "metadata": {
    "collapsed": true
   },
   "outputs": [],
   "source": [
    "pred = pd.DataFrame(pipeline.predict_proba(X), columns=pipeline.classes_)\n",
    "pred['level'] = y\n",
    "pred['level_hat'] = pipeline.predict(X)\n",
    "pred['name'] = spells_df['name']"
   ]
  },
  {
   "cell_type": "code",
   "execution_count": 55,
   "metadata": {},
   "outputs": [
    {
     "data": {
      "image/png": "[encoded data removed]",
      "text/plain": [
       "<matplotlib.figure.Figure at 0x1662c4390>"
      ]
     },
     "metadata": {},
     "output_type": "display_data"
    }
   ],
   "source": [
    "plt.plot(pred['level'], pred['level_hat'], 'x', alpha=0.2)\n",
    "plt.show()"
   ]
  },
  {
   "cell_type": "code",
   "execution_count": 36,
   "metadata": {},
   "outputs": [
    {
     "data": {
      "text/html": [
       "<div>\n",
       "<style>\n",
       "    .dataframe thead tr:only-child th {\n",
       "        text-align: right;\n",
       "    }\n",
       "\n",
       "    .dataframe thead th {\n",
       "        text-align: left;\n",
       "    }\n",
       "\n",
       "    .dataframe tbody tr th {\n",
       "        vertical-align: top;\n",
       "    }\n",
       "</style>\n",
       "<table border=\"1\" class=\"dataframe\">\n",
       "  <thead>\n",
       "    <tr style=\"text-align: right;\">\n",
       "      <th></th>\n",
       "      <th>0.0</th>\n",
       "      <th>1.0</th>\n",
       "      <th>2.0</th>\n",
       "      <th>3.0</th>\n",
       "      <th>4.0</th>\n",
       "      <th>5.0</th>\n",
       "      <th>6.0</th>\n",
       "      <th>7.0</th>\n",
       "      <th>8.0</th>\n",
       "      <th>9.0</th>\n",
       "      <th>level</th>\n",
       "      <th>level_hat</th>\n",
       "      <th>name</th>\n",
       "    </tr>\n",
       "  </thead>\n",
       "  <tbody>\n",
       "    <tr>\n",
       "      <th>24</th>\n",
       "      <td>0.207831</td>\n",
       "      <td>0.213080</td>\n",
       "      <td>0.129044</td>\n",
       "      <td>0.087321</td>\n",
       "      <td>0.078354</td>\n",
       "      <td>0.088914</td>\n",
       "      <td>0.072199</td>\n",
       "      <td>0.041186</td>\n",
       "      <td>0.044081</td>\n",
       "      <td>0.037991</td>\n",
       "      <td>0.0</td>\n",
       "      <td>1.0</td>\n",
       "      <td>Eldritch Blast</td>\n",
       "    </tr>\n",
       "    <tr>\n",
       "      <th>49</th>\n",
       "      <td>0.185160</td>\n",
       "      <td>0.116862</td>\n",
       "      <td>0.210702</td>\n",
       "      <td>0.129589</td>\n",
       "      <td>0.072867</td>\n",
       "      <td>0.079722</td>\n",
       "      <td>0.063907</td>\n",
       "      <td>0.049409</td>\n",
       "      <td>0.048579</td>\n",
       "      <td>0.043203</td>\n",
       "      <td>0.0</td>\n",
       "      <td>2.0</td>\n",
       "      <td>Light</td>\n",
       "    </tr>\n",
       "    <tr>\n",
       "      <th>55</th>\n",
       "      <td>0.131843</td>\n",
       "      <td>0.165125</td>\n",
       "      <td>0.155568</td>\n",
       "      <td>0.134159</td>\n",
       "      <td>0.075335</td>\n",
       "      <td>0.106940</td>\n",
       "      <td>0.087367</td>\n",
       "      <td>0.053545</td>\n",
       "      <td>0.047564</td>\n",
       "      <td>0.042553</td>\n",
       "      <td>0.0</td>\n",
       "      <td>1.0</td>\n",
       "      <td>Message</td>\n",
       "    </tr>\n",
       "    <tr>\n",
       "      <th>71</th>\n",
       "      <td>0.149884</td>\n",
       "      <td>0.151201</td>\n",
       "      <td>0.191585</td>\n",
       "      <td>0.129379</td>\n",
       "      <td>0.068979</td>\n",
       "      <td>0.106455</td>\n",
       "      <td>0.063960</td>\n",
       "      <td>0.048477</td>\n",
       "      <td>0.045328</td>\n",
       "      <td>0.044753</td>\n",
       "      <td>0.0</td>\n",
       "      <td>2.0</td>\n",
       "      <td>Shillelagh</td>\n",
       "    </tr>\n",
       "    <tr>\n",
       "      <th>86</th>\n",
       "      <td>0.058000</td>\n",
       "      <td>0.264448</td>\n",
       "      <td>0.250306</td>\n",
       "      <td>0.110267</td>\n",
       "      <td>0.072967</td>\n",
       "      <td>0.072915</td>\n",
       "      <td>0.064827</td>\n",
       "      <td>0.040513</td>\n",
       "      <td>0.030334</td>\n",
       "      <td>0.035424</td>\n",
       "      <td>2.0</td>\n",
       "      <td>1.0</td>\n",
       "      <td>Aid</td>\n",
       "    </tr>\n",
       "  </tbody>\n",
       "</table>\n",
       "</div>"
      ],
      "text/plain": [
       "         0.0       1.0       2.0       3.0       4.0       5.0       6.0  \\\n",
       "24  0.207831  0.213080  0.129044  0.087321  0.078354  0.088914  0.072199   \n",
       "49  0.185160  0.116862  0.210702  0.129589  0.072867  0.079722  0.063907   \n",
       "55  0.131843  0.165125  0.155568  0.134159  0.075335  0.106940  0.087367   \n",
       "71  0.149884  0.151201  0.191585  0.129379  0.068979  0.106455  0.063960   \n",
       "86  0.058000  0.264448  0.250306  0.110267  0.072967  0.072915  0.064827   \n",
       "\n",
       "         7.0       8.0       9.0  level  level_hat            name  \n",
       "24  0.041186  0.044081  0.037991    0.0        1.0  Eldritch Blast  \n",
       "49  0.049409  0.048579  0.043203    0.0        2.0           Light  \n",
       "55  0.053545  0.047564  0.042553    0.0        1.0         Message  \n",
       "71  0.048477  0.045328  0.044753    0.0        2.0      Shillelagh  \n",
       "86  0.040513  0.030334  0.035424    2.0        1.0             Aid  "
      ]
     },
     "execution_count": 36,
     "metadata": {},
     "output_type": "execute_result"
    }
   ],
   "source": [
    "pred[pred.level != pred.level_hat].head()"
   ]
  },
  {
   "cell_type": "markdown",
   "metadata": {},
   "source": [
    "## word2vec with logistic regression\n",
    "\n",
    "### Continuous bag of words (CBOW) vs Skip-gram\n",
    "Skip-gram tends to perform better then CBOW on large datasets, while CBOW generally outperforms Skip-gram on small datasets; see this [Tensorflow tutorial](https://www.tensorflow.org/tutorials/word2vec) for references."
   ]
  },
  {
   "cell_type": "code",
   "execution_count": 37,
   "metadata": {
    "collapsed": true
   },
   "outputs": [],
   "source": [
    "import tempfile\n",
    "\n",
    "corpus_file = tempfile.NamedTemporaryFile(mode='w')\n",
    "with open(corpus_file.name, 'w') as f:\n",
    "    for x in spells_df.description:\n",
    "        if type(x) is str:\n",
    "            f.write(x)\n",
    "        f.write('\\n')\n",
    "\n",
    "unigram_file = tempfile.NamedTemporaryFile(mode='w')\n",
    "with open(unigram_file.name, 'w') as f:\n",
    "    for sentence in lemmatized_sentence_corpus(corpus_file.name):\n",
    "        f.write(sentence + '\\n')\n",
    "\n",
    "unigram_sentences = LineSentence(unigram_file.name)"
   ]
  },
  {
   "cell_type": "code",
   "execution_count": 38,
   "metadata": {
    "collapsed": true
   },
   "outputs": [],
   "source": [
    "def build_models(corpus, passes=1):\n",
    "    models = list()\n",
    "    fname = make_lemmatized_corpus(corpus)\n",
    "\n",
    "    for i in range(passes):\n",
    "        sentences = LineSentence(fname)\n",
    "        model, fname = create_model(sentences)\n",
    "        models.append(model)\n",
    "    return models\n",
    "\n",
    "\n",
    "def make_lemmatize_corpus(corpus):\n",
    "    tmp_file = tempfile.NamedTemporaryFile(mode='w')\n",
    "    with open(tmp_file.name, 'w') as f:\n",
    "        for sentence in lemmatized_sentence_corpus(corpus_file.name):\n",
    "            f.write(sentence + '\\n')\n",
    "    return tmp_file.name\n",
    "\n",
    "\n",
    "def create_model(sentences):\n",
    "    phrases = Phrases(sentences)\n",
    "    model = Phraser(phrases)\n",
    "    tmp_file = tempfile.NamedTemporaryFile(mode='w')\n",
    "    with open(tmp_file.name, 'w') as f:\n",
    "        for sentence in sentences:\n",
    "            sentence = u' '.join(model[sentence])\n",
    "            f.write(sentence + '\\n')\n",
    "    return model, tmp_file.name"
   ]
  },
  {
   "cell_type": "code",
   "execution_count": 39,
   "metadata": {},
   "outputs": [
    {
     "name": "stdout",
     "output_type": "stream",
     "text": [
      "12 training epochs so far.\n"
     ]
    },
    {
     "data": {
      "text/plain": [
       "966"
      ]
     },
     "execution_count": 39,
     "metadata": {},
     "output_type": "execute_result"
    }
   ],
   "source": [
    "total_words = sum(len(x) for x in trigram_sentences)\n",
    "word2vec_file = tempfile.NamedTemporaryFile(mode='w')\n",
    "\n",
    "spell2vec = Word2Vec(trigram_sentences, size=100, window=5, min_count=5, workers=4)\n",
    "spell2vec.save(word2vec_file.name)\n",
    "\n",
    "# perform another 11 epochs of training\n",
    "for i in range(11):\n",
    "    spell2vec.train(trigram_sentences, total_words=total_words, epochs=1)\n",
    "    spell2vec.save(word2vec_file.name)\n",
    "\n",
    "print(u'{} training epochs so far.'.format(spell2vec.train_count))\n",
    "\n",
    "spell2vec.init_sims()\n",
    "len(spell2vec.wv.vocab)"
   ]
  },
  {
   "cell_type": "markdown",
   "metadata": {},
   "source": [
    "## Using only Keras"
   ]
  },
  {
   "cell_type": "code",
   "execution_count": 40,
   "metadata": {
    "collapsed": true
   },
   "outputs": [],
   "source": [
    "corpus_file = tempfile.NamedTemporaryFile(mode='w')\n",
    "with open(corpus_file.name, 'w') as f:\n",
    "    for x in spells_df.description:\n",
    "        if type(x) is str:\n",
    "            f.write(x)\n",
    "        f.write('\\n')"
   ]
  },
  {
   "cell_type": "code",
   "execution_count": 41,
   "metadata": {},
   "outputs": [
    {
     "data": {
      "text/plain": [
       "'/var/folders/4d/2_vxy65n171blyghwfcl628h0000gn/T/tmpo3wjjonr'"
      ]
     },
     "execution_count": 41,
     "metadata": {},
     "output_type": "execute_result"
    }
   ],
   "source": [
    "corpus_file.name"
   ]
  },
  {
   "cell_type": "markdown",
   "metadata": {},
   "source": [
    "1. tokenize\n",
    "1. embed\n"
   ]
  },
  {
   "cell_type": "code",
   "execution_count": 42,
   "metadata": {},
   "outputs": [
    {
     "name": "stdout",
     "output_type": "stream",
     "text": [
      "Found 3391 unique tokens.\n",
      "146\n"
     ]
    }
   ],
   "source": [
    "from keras.preprocessing.text import Tokenizer\n",
    "\n",
    "tokenizer = Tokenizer(num_words=1000)\n",
    "with open(corpus_file.name, 'r') as f:\n",
    "    texts = f.readlines()\n",
    "    tokenizer.fit_on_texts(texts)\n",
    "    sequences = tokenizer.texts_to_sequences(texts)\n",
    "\n",
    "word_index = tokenizer.word_index\n",
    "print('Found %s unique tokens.' % len(word_index))\n",
    "maxlen = max(map(len, sequences))\n",
    "print(maxlen)"
   ]
  },
  {
   "cell_type": "code",
   "execution_count": 43,
   "metadata": {},
   "outputs": [
    {
     "name": "stdout",
     "output_type": "stream",
     "text": [
      "Found 3410 unique tokens.\n",
      "282\n"
     ]
    }
   ],
   "source": [
    "tokenizer = Tokenizer(num_words=100)\n",
    "tokenizer.fit_on_texts(X.values)\n",
    "sequences = tokenizer.texts_to_sequences(X.values)\n",
    "\n",
    "word_index = tokenizer.word_index\n",
    "print('Found %s unique tokens.' % len(word_index))\n",
    "max_features = len(word_index)\n",
    "maxlen = max(map(len, sequences))\n",
    "print(maxlen)"
   ]
  },
  {
   "cell_type": "code",
   "execution_count": 44,
   "metadata": {
    "collapsed": true
   },
   "outputs": [],
   "source": [
    "from sklearn.model_selection import train_test_split\n",
    "from keras import preprocessing\n",
    "\n",
    "x_train, x_test, y_train, y_test = train_test_split(sequences, y)\n",
    "\n",
    "x_train = preprocessing.sequence.pad_sequences(x_train, maxlen=maxlen)\n",
    "x_test = preprocessing.sequence.pad_sequences(x_test, maxlen=maxlen)"
   ]
  },
  {
   "cell_type": "markdown",
   "metadata": {
    "collapsed": true
   },
   "source": [
    "## Using an LSTM RNN"
   ]
  },
  {
   "cell_type": "code",
   "execution_count": 58,
   "metadata": {},
   "outputs": [
    {
     "name": "stdout",
     "output_type": "stream",
     "text": [
      "_________________________________________________________________\n",
      "Layer (type)                 Output Shape              Param #   \n",
      "=================================================================\n",
      "embedding_3 (Embedding)      (None, None, 32)          109120    \n",
      "_________________________________________________________________\n",
      "gru_3 (GRU)                  (None, None, 32)          6240      \n",
      "_________________________________________________________________\n",
      "gru_4 (GRU)                  (None, 64)                18624     \n",
      "_________________________________________________________________\n",
      "dense_7 (Dense)              (None, 32)                2080      \n",
      "_________________________________________________________________\n",
      "dense_8 (Dense)              (None, 16)                528       \n",
      "_________________________________________________________________\n",
      "dense_9 (Dense)              (None, 8)                 136       \n",
      "_________________________________________________________________\n",
      "dense_10 (Dense)             (None, 4)                 36        \n",
      "_________________________________________________________________\n",
      "dense_11 (Dense)             (None, 1)                 5         \n",
      "=================================================================\n",
      "Total params: 136,769\n",
      "Trainable params: 136,769\n",
      "Non-trainable params: 0\n",
      "_________________________________________________________________\n"
     ]
    }
   ],
   "source": [
    "from keras.layers import Bidirectional, Dense\n",
    "from keras.layers.embeddings import Embedding\n",
    "from keras.layers.recurrent import GRU\n",
    "from keras.models import Sequential\n",
    "\n",
    "model = Sequential()\n",
    "model.add(Embedding(max_features, 32))\n",
    "model.add(GRU(32,\n",
    "              dropout=0.2,\n",
    "              recurrent_dropout=0.2,\n",
    "              return_sequences=True))\n",
    "model.add(GRU(64,\n",
    "              dropout=0.2,\n",
    "              recurrent_dropout=0.2))\n",
    "model.add(Dense(32, activation='relu'))\n",
    "model.add(Dense(16, activation='relu'))\n",
    "model.add(Dense(16, activation='relu'))\n",
    "model.add(Dense(16, activation='relu'))\n",
    "model.add(Dense(1))\n",
    "model.summary()\n",
    "model.compile(optimizer='rmsprop',\n",
    "              loss='mean_squared_error',\n",
    "              metrics=['mse'])"
   ]
  },
  {
   "cell_type": "code",
   "execution_count": 59,
   "metadata": {
    "scrolled": true
   },
   "outputs": [
    {
     "name": "stdout",
     "output_type": "stream",
     "text": [
      "Train on 227 samples, validate on 57 samples\n",
      "Epoch 1/40\n",
      "227/227 [==============================] - 5s - loss: 19.2265 - mean_squared_error: 19.2265 - val_loss: 15.0891 - val_mean_squared_error: 15.0891\n",
      "Epoch 2/40\n",
      "227/227 [==============================] - 3s - loss: 18.3863 - mean_squared_error: 18.3863 - val_loss: 13.8393 - val_mean_squared_error: 13.8393\n",
      "Epoch 3/40\n",
      "227/227 [==============================] - 3s - loss: 16.6414 - mean_squared_error: 16.6414 - val_loss: 11.0227 - val_mean_squared_error: 11.0227\n",
      "Epoch 4/40\n",
      "227/227 [==============================] - 3s - loss: 12.5157 - mean_squared_error: 12.5157 - val_loss: 5.6848 - val_mean_squared_error: 5.6848\n",
      "Epoch 5/40\n",
      "227/227 [==============================] - 3s - loss: 8.6227 - mean_squared_error: 8.6227 - val_loss: 6.4835 - val_mean_squared_error: 6.4835\n",
      "Epoch 6/40\n",
      "227/227 [==============================] - 3s - loss: 7.8550 - mean_squared_error: 7.8550 - val_loss: 5.4047 - val_mean_squared_error: 5.4047\n",
      "Epoch 7/40\n",
      "227/227 [==============================] - 3s - loss: 6.4635 - mean_squared_error: 6.4635 - val_loss: 5.3929 - val_mean_squared_error: 5.3929\n",
      "Epoch 8/40\n",
      "227/227 [==============================] - 3s - loss: 6.5849 - mean_squared_error: 6.5849 - val_loss: 5.5056 - val_mean_squared_error: 5.5056\n",
      "Epoch 9/40\n",
      "227/227 [==============================] - 3s - loss: 6.3077 - mean_squared_error: 6.3077 - val_loss: 5.4641 - val_mean_squared_error: 5.4641\n",
      "Epoch 10/40\n",
      "227/227 [==============================] - 3s - loss: 6.1731 - mean_squared_error: 6.1731 - val_loss: 5.5533 - val_mean_squared_error: 5.5533\n",
      "Epoch 11/40\n",
      "227/227 [==============================] - 3s - loss: 6.4572 - mean_squared_error: 6.4572 - val_loss: 5.9752 - val_mean_squared_error: 5.9752\n",
      "Epoch 12/40\n",
      "227/227 [==============================] - 3s - loss: 6.5621 - mean_squared_error: 6.5621 - val_loss: 5.7532 - val_mean_squared_error: 5.7532\n",
      "Epoch 13/40\n",
      "227/227 [==============================] - 3s - loss: 5.7819 - mean_squared_error: 5.7819 - val_loss: 5.5166 - val_mean_squared_error: 5.5166\n",
      "Epoch 14/40\n",
      "227/227 [==============================] - 3s - loss: 5.8651 - mean_squared_error: 5.8651 - val_loss: 5.5472 - val_mean_squared_error: 5.5472\n",
      "Epoch 15/40\n",
      "227/227 [==============================] - 3s - loss: 6.1869 - mean_squared_error: 6.1869 - val_loss: 5.8316 - val_mean_squared_error: 5.8316\n",
      "Epoch 16/40\n",
      "227/227 [==============================] - 3s - loss: 6.0504 - mean_squared_error: 6.0504 - val_loss: 5.5393 - val_mean_squared_error: 5.5393\n",
      "Epoch 17/40\n",
      "227/227 [==============================] - 3s - loss: 5.5968 - mean_squared_error: 5.5968 - val_loss: 5.6730 - val_mean_squared_error: 5.6730\n",
      "Epoch 18/40\n",
      "227/227 [==============================] - 3s - loss: 5.7372 - mean_squared_error: 5.7372 - val_loss: 5.5828 - val_mean_squared_error: 5.5828\n",
      "Epoch 19/40\n",
      "227/227 [==============================] - 3s - loss: 5.4738 - mean_squared_error: 5.4738 - val_loss: 5.6694 - val_mean_squared_error: 5.6694\n",
      "Epoch 20/40\n",
      "227/227 [==============================] - 3s - loss: 5.3841 - mean_squared_error: 5.3841 - val_loss: 5.7242 - val_mean_squared_error: 5.7242\n",
      "Epoch 21/40\n",
      "227/227 [==============================] - 3s - loss: 5.4025 - mean_squared_error: 5.4025 - val_loss: 5.5986 - val_mean_squared_error: 5.5986\n",
      "Epoch 22/40\n",
      "227/227 [==============================] - 3s - loss: 5.0123 - mean_squared_error: 5.0123 - val_loss: 6.3517 - val_mean_squared_error: 6.3517\n",
      "Epoch 23/40\n",
      "227/227 [==============================] - 3s - loss: 5.4257 - mean_squared_error: 5.4257 - val_loss: 5.7059 - val_mean_squared_error: 5.7059\n",
      "Epoch 24/40\n",
      "227/227 [==============================] - 3s - loss: 4.7174 - mean_squared_error: 4.7174 - val_loss: 5.6559 - val_mean_squared_error: 5.6559\n",
      "Epoch 25/40\n",
      "227/227 [==============================] - 3s - loss: 4.9312 - mean_squared_error: 4.9312 - val_loss: 5.8773 - val_mean_squared_error: 5.8773\n",
      "Epoch 26/40\n",
      "227/227 [==============================] - 3s - loss: 4.5383 - mean_squared_error: 4.5383 - val_loss: 6.3566 - val_mean_squared_error: 6.3566\n",
      "Epoch 27/40\n",
      "227/227 [==============================] - 3s - loss: 4.7921 - mean_squared_error: 4.7921 - val_loss: 5.9691 - val_mean_squared_error: 5.9691\n",
      "Epoch 28/40\n",
      "227/227 [==============================] - 3s - loss: 4.6341 - mean_squared_error: 4.6341 - val_loss: 5.8243 - val_mean_squared_error: 5.8243\n",
      "Epoch 29/40\n",
      "227/227 [==============================] - 3s - loss: 4.2627 - mean_squared_error: 4.2627 - val_loss: 5.7323 - val_mean_squared_error: 5.7323\n",
      "Epoch 30/40\n",
      "227/227 [==============================] - 3s - loss: 4.1896 - mean_squared_error: 4.1896 - val_loss: 5.5177 - val_mean_squared_error: 5.5177\n",
      "Epoch 31/40\n",
      "227/227 [==============================] - 3s - loss: 4.4748 - mean_squared_error: 4.4748 - val_loss: 5.6484 - val_mean_squared_error: 5.6484\n",
      "Epoch 32/40\n",
      "227/227 [==============================] - 3s - loss: 4.3282 - mean_squared_error: 4.3282 - val_loss: 5.6626 - val_mean_squared_error: 5.6626\n",
      "Epoch 33/40\n",
      "227/227 [==============================] - 3s - loss: 4.1864 - mean_squared_error: 4.1864 - val_loss: 5.4500 - val_mean_squared_error: 5.4500\n",
      "Epoch 34/40\n",
      "227/227 [==============================] - 3s - loss: 4.1491 - mean_squared_error: 4.1491 - val_loss: 5.3712 - val_mean_squared_error: 5.3712\n",
      "Epoch 35/40\n",
      "227/227 [==============================] - 3s - loss: 3.8291 - mean_squared_error: 3.8291 - val_loss: 7.6789 - val_mean_squared_error: 7.6789\n",
      "Epoch 36/40\n",
      "227/227 [==============================] - 3s - loss: 5.2985 - mean_squared_error: 5.2985 - val_loss: 5.3779 - val_mean_squared_error: 5.3779\n",
      "Epoch 37/40\n",
      "227/227 [==============================] - 3s - loss: 3.7338 - mean_squared_error: 3.7338 - val_loss: 5.8621 - val_mean_squared_error: 5.8621\n",
      "Epoch 38/40\n",
      "227/227 [==============================] - 3s - loss: 4.1400 - mean_squared_error: 4.1400 - val_loss: 6.0160 - val_mean_squared_error: 6.0160\n",
      "Epoch 39/40\n",
      "227/227 [==============================] - 3s - loss: 4.0113 - mean_squared_error: 4.0113 - val_loss: 5.5823 - val_mean_squared_error: 5.5823\n",
      "Epoch 40/40\n",
      "227/227 [==============================] - 3s - loss: 3.2627 - mean_squared_error: 3.2627 - val_loss: 5.7072 - val_mean_squared_error: 5.7072\n"
     ]
    }
   ],
   "source": [
    "history = model.fit(x_train, y_train,\n",
    "                    epochs=40,\n",
    "                    batch_size=128,\n",
    "                    validation_split=0.2)"
   ]
  },
  {
   "cell_type": "code",
   "execution_count": 60,
   "metadata": {},
   "outputs": [
    {
     "data": {
      "image/png": "[encoded data removed]",
      "text/plain": [
       "<matplotlib.figure.Figure at 0x163b3de48>"
      ]
     },
     "metadata": {},
     "output_type": "display_data"
    },
    {
     "data": {
      "image/png": "[encoded data removed]",
      "text/plain": [
       "<matplotlib.figure.Figure at 0x166deb4e0>"
      ]
     },
     "metadata": {},
     "output_type": "display_data"
    }
   ],
   "source": [
    "import matplotlib.pyplot as plt\n",
    "%matplotlib inline\n",
    "\n",
    "acc = history.history['mean_squared_error']\n",
    "val_acc = history.history['val_mean_squared_error']\n",
    "loss = history.history['loss']\n",
    "val_loss = history.history['val_loss']\n",
    "epochs = range(len(acc))\n",
    "plt.plot(epochs, acc, 'bo')\n",
    "plt.plot(epochs, val_acc, 'b')\n",
    "plt.title('Training and validation accuracy')\n",
    "plt.figure()\n",
    "plt.plot(epochs, loss, 'bo')\n",
    "plt.plot(epochs, val_loss, 'b')\n",
    "plt.title('Training and validation loss')\n",
    "plt.show()"
   ]
  },
  {
   "cell_type": "code",
   "execution_count": 61,
   "metadata": {},
   "outputs": [
    {
     "name": "stdout",
     "output_type": "stream",
     "text": [
      "95/95 [==============================] - 0s     \n"
     ]
    },
    {
     "data": {
      "text/plain": [
       "[6.3943846351221989, 6.3943846351221989]"
      ]
     },
     "execution_count": 61,
     "metadata": {},
     "output_type": "execute_result"
    }
   ],
   "source": [
    "model.evaluate(x_test, y_test)"
   ]
  },
  {
   "cell_type": "code",
   "execution_count": 62,
   "metadata": {},
   "outputs": [
    {
     "data": {
      "image/png": "[encoded data removed]",
      "text/plain": [
       "<matplotlib.figure.Figure at 0x161eec5c0>"
      ]
     },
     "metadata": {},
     "output_type": "display_data"
    }
   ],
   "source": [
    "y_hat = model.predict(x_test)\n",
    "\n",
    "plt.plot(y_test, y_hat, 'x')\n",
    "plt.show()"
   ]
  },
  {
   "cell_type": "code",
   "execution_count": 66,
   "metadata": {},
   "outputs": [
    {
     "name": "stdout",
     "output_type": "stream",
     "text": [
      "_________________________________________________________________\n",
      "Layer (type)                 Output Shape              Param #   \n",
      "=================================================================\n",
      "embedding_6 (Embedding)      (None, None, 32)          109120    \n",
      "_________________________________________________________________\n",
      "gru_9 (GRU)                  (None, 64)                18624     \n",
      "_________________________________________________________________\n",
      "dense_21 (Dense)             (None, 32)                2080      \n",
      "_________________________________________________________________\n",
      "dense_22 (Dense)             (None, 16)                528       \n",
      "_________________________________________________________________\n",
      "dense_23 (Dense)             (None, 10)                170       \n",
      "=================================================================\n",
      "Total params: 130,522\n",
      "Trainable params: 130,522\n",
      "Non-trainable params: 0\n",
      "_________________________________________________________________\n"
     ]
    }
   ],
   "source": [
    "from keras.layers import Bidirectional, Dense\n",
    "from keras.layers.embeddings import Embedding\n",
    "from keras.layers.recurrent import GRU\n",
    "from keras.models import Sequential\n",
    "\n",
    "model = Sequential()\n",
    "model.add(Embedding(max_features, 32))\n",
    "# model.add(GRU(32,\n",
    "#               dropout=0.2,\n",
    "#               recurrent_dropout=0.2,\n",
    "#               return_sequences=True))\n",
    "model.add(GRU(64,\n",
    "              dropout=0.2,\n",
    "              recurrent_dropout=0.2))\n",
    "model.add(Dense(32, activation='relu'))\n",
    "model.add(Dense(16, activation='relu'))\n",
    "model.add(Dense(10, activation='softmax'))\n",
    "model.summary()\n",
    "model.compile(optimizer='rmsprop',\n",
    "              loss='categorical_crossentropy',\n",
    "              metrics=['acc'])"
   ]
  },
  {
   "cell_type": "code",
   "execution_count": 71,
   "metadata": {
    "collapsed": true
   },
   "outputs": [],
   "source": [
    "from keras.utils import to_categorical\n",
    "\n",
    "y_cat = to_categorical(y_train, 10)"
   ]
  },
  {
   "cell_type": "code",
   "execution_count": 72,
   "metadata": {},
   "outputs": [
    {
     "name": "stdout",
     "output_type": "stream",
     "text": [
      "Train on 227 samples, validate on 57 samples\n",
      "Epoch 1/40\n",
      "227/227 [==============================] - 3s - loss: 2.3025 - acc: 0.0925 - val_loss: 2.2956 - val_acc: 0.2105\n",
      "Epoch 2/40\n",
      "227/227 [==============================] - 1s - loss: 2.2959 - acc: 0.2159 - val_loss: 2.2904 - val_acc: 0.1930\n",
      "Epoch 3/40\n",
      "227/227 [==============================] - 1s - loss: 2.2899 - acc: 0.1982 - val_loss: 2.2844 - val_acc: 0.2281\n",
      "Epoch 4/40\n",
      "227/227 [==============================] - 1s - loss: 2.2849 - acc: 0.1498 - val_loss: 2.2804 - val_acc: 0.1754\n",
      "Epoch 5/40\n",
      "227/227 [==============================] - 1s - loss: 2.2810 - acc: 0.1982 - val_loss: 2.2747 - val_acc: 0.1754\n",
      "Epoch 6/40\n",
      "227/227 [==============================] - 1s - loss: 2.2729 - acc: 0.1938 - val_loss: 2.2672 - val_acc: 0.1404\n",
      "Epoch 7/40\n",
      "227/227 [==============================] - 1s - loss: 2.2651 - acc: 0.2115 - val_loss: 2.2612 - val_acc: 0.1404\n",
      "Epoch 8/40\n",
      "227/227 [==============================] - 1s - loss: 2.2574 - acc: 0.2159 - val_loss: 2.2504 - val_acc: 0.1404\n",
      "Epoch 9/40\n",
      "227/227 [==============================] - 1s - loss: 2.2493 - acc: 0.2115 - val_loss: 2.2442 - val_acc: 0.1404\n",
      "Epoch 10/40\n",
      "227/227 [==============================] - 1s - loss: 2.2378 - acc: 0.2070 - val_loss: 2.2369 - val_acc: 0.1404\n",
      "Epoch 11/40\n",
      "227/227 [==============================] - 1s - loss: 2.2274 - acc: 0.2467 - val_loss: 2.2268 - val_acc: 0.1404\n",
      "Epoch 12/40\n",
      "227/227 [==============================] - 1s - loss: 2.2189 - acc: 0.2379 - val_loss: 2.2138 - val_acc: 0.1404\n",
      "Epoch 13/40\n",
      "227/227 [==============================] - 1s - loss: 2.2069 - acc: 0.2335 - val_loss: 2.2071 - val_acc: 0.1404\n",
      "Epoch 14/40\n",
      "227/227 [==============================] - 1s - loss: 2.1912 - acc: 0.2203 - val_loss: 2.1984 - val_acc: 0.1404\n",
      "Epoch 15/40\n",
      "227/227 [==============================] - 1s - loss: 2.1836 - acc: 0.2423 - val_loss: 2.1867 - val_acc: 0.1404\n",
      "Epoch 16/40\n",
      "227/227 [==============================] - 1s - loss: 2.1628 - acc: 0.2291 - val_loss: 2.1820 - val_acc: 0.1404\n",
      "Epoch 17/40\n",
      "227/227 [==============================] - 1s - loss: 2.1596 - acc: 0.2335 - val_loss: 2.1731 - val_acc: 0.1404\n",
      "Epoch 18/40\n",
      "227/227 [==============================] - 1s - loss: 2.1408 - acc: 0.2555 - val_loss: 2.1746 - val_acc: 0.1579\n",
      "Epoch 19/40\n",
      "227/227 [==============================] - 1s - loss: 2.1218 - acc: 0.2599 - val_loss: 2.1632 - val_acc: 0.1579\n",
      "Epoch 20/40\n",
      "227/227 [==============================] - 1s - loss: 2.1081 - acc: 0.2555 - val_loss: 2.1585 - val_acc: 0.1754\n",
      "Epoch 21/40\n",
      "227/227 [==============================] - 1s - loss: 2.1035 - acc: 0.2555 - val_loss: 2.1548 - val_acc: 0.1754\n",
      "Epoch 22/40\n",
      "227/227 [==============================] - 1s - loss: 2.0787 - acc: 0.2599 - val_loss: 2.1470 - val_acc: 0.1754\n",
      "Epoch 23/40\n",
      "227/227 [==============================] - 1s - loss: 2.0743 - acc: 0.2511 - val_loss: 2.1445 - val_acc: 0.1754\n",
      "Epoch 24/40\n",
      "227/227 [==============================] - 1s - loss: 2.0543 - acc: 0.2819 - val_loss: 2.1451 - val_acc: 0.1930\n",
      "Epoch 25/40\n",
      "227/227 [==============================] - 1s - loss: 2.0646 - acc: 0.2291 - val_loss: 2.1425 - val_acc: 0.2105\n",
      "Epoch 26/40\n",
      "227/227 [==============================] - 1s - loss: 2.0263 - acc: 0.2511 - val_loss: 2.1447 - val_acc: 0.2105\n",
      "Epoch 27/40\n",
      "227/227 [==============================] - 1s - loss: 2.0170 - acc: 0.2775 - val_loss: 2.1435 - val_acc: 0.2105\n",
      "Epoch 28/40\n",
      "227/227 [==============================] - 1s - loss: 2.0105 - acc: 0.3040 - val_loss: 2.1494 - val_acc: 0.2105\n",
      "Epoch 29/40\n",
      "227/227 [==============================] - 1s - loss: 1.9932 - acc: 0.2952 - val_loss: 2.1480 - val_acc: 0.2456\n",
      "Epoch 30/40\n",
      "227/227 [==============================] - 1s - loss: 1.9883 - acc: 0.2863 - val_loss: 2.1591 - val_acc: 0.2105\n",
      "Epoch 31/40\n",
      "227/227 [==============================] - 1s - loss: 1.9653 - acc: 0.3260 - val_loss: 2.1487 - val_acc: 0.2281\n",
      "Epoch 32/40\n",
      "227/227 [==============================] - 1s - loss: 1.9400 - acc: 0.3304 - val_loss: 2.1678 - val_acc: 0.2456\n",
      "Epoch 33/40\n",
      "227/227 [==============================] - 1s - loss: 1.9149 - acc: 0.3304 - val_loss: 2.1875 - val_acc: 0.2281\n",
      "Epoch 34/40\n",
      "227/227 [==============================] - 1s - loss: 1.9187 - acc: 0.3612 - val_loss: 2.1741 - val_acc: 0.2456\n",
      "Epoch 35/40\n",
      "227/227 [==============================] - 1s - loss: 1.9039 - acc: 0.3216 - val_loss: 2.1761 - val_acc: 0.2456\n",
      "Epoch 36/40\n",
      "227/227 [==============================] - 1s - loss: 1.8939 - acc: 0.3392 - val_loss: 2.1936 - val_acc: 0.2456\n",
      "Epoch 37/40\n",
      "227/227 [==============================] - 1s - loss: 1.8776 - acc: 0.3436 - val_loss: 2.2055 - val_acc: 0.2281\n",
      "Epoch 38/40\n",
      "227/227 [==============================] - 1s - loss: 1.8538 - acc: 0.3436 - val_loss: 2.1986 - val_acc: 0.2281\n",
      "Epoch 39/40\n",
      "227/227 [==============================] - 1s - loss: 1.8477 - acc: 0.3656 - val_loss: 2.1999 - val_acc: 0.2456\n",
      "Epoch 40/40\n",
      "227/227 [==============================] - 1s - loss: 1.8439 - acc: 0.3392 - val_loss: 2.2173 - val_acc: 0.2632\n"
     ]
    }
   ],
   "source": [
    "history = model.fit(x_train, y_cat,\n",
    "                    epochs=40,\n",
    "                    batch_size=128,\n",
    "                    validation_split=0.2)"
   ]
  },
  {
   "cell_type": "code",
   "execution_count": 73,
   "metadata": {},
   "outputs": [
    {
     "name": "stdout",
     "output_type": "stream",
     "text": [
      "284/284 [==============================] - 1s     \n"
     ]
    },
    {
     "data": {
      "text/plain": [
       "[1.8930673632823245, 0.34859155055502772]"
      ]
     },
     "execution_count": 73,
     "metadata": {},
     "output_type": "execute_result"
    }
   ],
   "source": [
    "model.evaluate(x_train, y_cat)"
   ]
  },
  {
   "cell_type": "code",
   "execution_count": null,
   "metadata": {
    "collapsed": true
   },
   "outputs": [],
   "source": []
  },
  {
   "cell_type": "code",
   "execution_count": null,
   "metadata": {
    "collapsed": true
   },
   "outputs": [],
   "source": []
  },
  {
   "cell_type": "code",
   "execution_count": null,
   "metadata": {
    "collapsed": true
   },
   "outputs": [],
   "source": []
  },
  {
   "cell_type": "code",
   "execution_count": null,
   "metadata": {
    "collapsed": true
   },
   "outputs": [],
   "source": []
  },
  {
   "cell_type": "code",
   "execution_count": 50,
   "metadata": {},
   "outputs": [
    {
     "name": "stdout",
     "output_type": "stream",
     "text": [
      "_________________________________________________________________\n",
      "Layer (type)                 Output Shape              Param #   \n",
      "=================================================================\n",
      "embedding_2 (Embedding)      (None, 282, 8)            80000     \n",
      "_________________________________________________________________\n",
      "flatten_1 (Flatten)          (None, 2256)              0         \n",
      "_________________________________________________________________\n",
      "dense_6 (Dense)              (None, 1)                 2257      \n",
      "=================================================================\n",
      "Total params: 82,257\n",
      "Trainable params: 82,257\n",
      "Non-trainable params: 0\n",
      "_________________________________________________________________\n"
     ]
    }
   ],
   "source": [
    "from keras.models import Sequential\n",
    "from keras.layers import Flatten, Dense\n",
    "\n",
    "model = Sequential()\n",
    "model.add(Embedding(10000, 8, input_length=maxlen))\n",
    "model.add(Flatten())\n",
    "model.add(Dense(1, activation='softmax'))\n",
    "\n",
    "model.compile(optimizer='rmsprop', loss='mean_squared_error', metrics=['acc'])\n",
    "model.summary()"
   ]
  },
  {
   "cell_type": "markdown",
   "metadata": {},
   "source": [
    "### Using pre-computed word vectors"
   ]
  },
  {
   "cell_type": "code",
   "execution_count": 52,
   "metadata": {},
   "outputs": [
    {
     "name": "stdout",
     "output_type": "stream",
     "text": [
      "Found 400000 word vectors.\n"
     ]
    }
   ],
   "source": [
    "import os\n",
    "\n",
    "glove_dir = 'data/glove.6B'\n",
    "embeddings_index = {}\n",
    "f = open(os.path.join(glove_dir, 'glove.6B.100d.txt'))\n",
    "for line in f:\n",
    "    values = line.split()\n",
    "    word = values[0]\n",
    "    coefs = np.asarray(values[1:], dtype='float32')\n",
    "    embeddings_index[word] = coefs\n",
    "f.close()\n",
    "print('Found %s word vectors.' % len(embeddings_index))"
   ]
  },
  {
   "cell_type": "code",
   "execution_count": null,
   "metadata": {
    "collapsed": true
   },
   "outputs": [],
   "source": [
    "embedding_dim = 100\n",
    "embedding_matrix = np.zeros((max_words, embedding_dim))\n",
    "for word, i in word_index.items():\n",
    "    embedding_vector = embeddings_index.get(word)\n",
    "    if i < max_words:\n",
    "        if embedding_vector is not None:\n",
    "            # Words not found in embedding index will be all-zeros. THIS MAY BE TROUBLE FOR OUR APPLICATION.\n",
    "            embedding_matrix[i] = embedding_vector"
   ]
  },
  {
   "cell_type": "code",
   "execution_count": null,
   "metadata": {
    "collapsed": true
   },
   "outputs": [],
   "source": [
    "from keras.preprocessing.sequence import pad_sequences"
   ]
  },
  {
   "cell_type": "code",
   "execution_count": null,
   "metadata": {
    "collapsed": true
   },
   "outputs": [],
   "source": [
    "from keras.layers import Embedding"
   ]
  }
 ],
 "metadata": {
  "kernelspec": {
   "display_name": "Python 3",
   "language": "python",
   "name": "python3"
  },
  "language_info": {
   "codemirror_mode": {
    "name": "ipython",
    "version": 3
   },
   "file_extension": ".py",
   "mimetype": "text/x-python",
   "name": "python",
   "nbconvert_exporter": "python",
   "pygments_lexer": "ipython3",
   "version": "3.6.1"
  }
 },
 "nbformat": 4,
 "nbformat_minor": 2
}

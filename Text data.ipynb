{
 "cells": [
  {
   "cell_type": "code",
   "execution_count": 1,
   "metadata": {
    "collapsed": true
   },
   "outputs": [],
   "source": [
    "import numpy as np\n",
    "import pandas as pd"
   ]
  },
  {
   "cell_type": "markdown",
   "metadata": {},
   "source": [
    "# Load data"
   ]
  },
  {
   "cell_type": "code",
   "execution_count": 2,
   "metadata": {
    "collapsed": true
   },
   "outputs": [],
   "source": [
    "import requests\n",
    "\n",
    "url = 'https://raw.githubusercontent.com/vorpalhex/srd_spells/master/spells.json'\n",
    "r = requests.get(url)\n",
    "spells = r.json()"
   ]
  },
  {
   "cell_type": "code",
   "execution_count": 108,
   "metadata": {
    "collapsed": true
   },
   "outputs": [],
   "source": [
    "spells_df = pd.DataFrame(spells)"
   ]
  },
  {
   "cell_type": "code",
   "execution_count": 109,
   "metadata": {
    "collapsed": true
   },
   "outputs": [
    {
     "data": {
      "text/html": [
       "<div>\n",
       "<style>\n",
       "    .dataframe thead tr:only-child th {\n",
       "        text-align: right;\n",
       "    }\n",
       "\n",
       "    .dataframe thead th {\n",
       "        text-align: left;\n",
       "    }\n",
       "\n",
       "    .dataframe tbody tr th {\n",
       "        vertical-align: top;\n",
       "    }\n",
       "</style>\n",
       "<table border=\"1\" class=\"dataframe\">\n",
       "  <thead>\n",
       "    <tr style=\"text-align: right;\">\n",
       "      <th></th>\n",
       "      <th>casting_time</th>\n",
       "      <th>classes</th>\n",
       "      <th>components</th>\n",
       "      <th>description</th>\n",
       "      <th>duration</th>\n",
       "      <th>higher_levels</th>\n",
       "      <th>level</th>\n",
       "      <th>name</th>\n",
       "      <th>range</th>\n",
       "      <th>ritual</th>\n",
       "      <th>school</th>\n",
       "      <th>tags</th>\n",
       "      <th>type</th>\n",
       "    </tr>\n",
       "  </thead>\n",
       "  <tbody>\n",
       "    <tr>\n",
       "      <th>0</th>\n",
       "      <td>1 action</td>\n",
       "      <td>[sorcerer, wizard]</td>\n",
       "      <td>{'material': False, 'raw': 'V, S', 'somatic': ...</td>\n",
       "      <td>You hurl a bubble of acid. Choose one creature...</td>\n",
       "      <td>Instantaneous</td>\n",
       "      <td>NaN</td>\n",
       "      <td>cantrip</td>\n",
       "      <td>Acid Splash</td>\n",
       "      <td>60 feet</td>\n",
       "      <td>False</td>\n",
       "      <td>Conjuration</td>\n",
       "      <td>[sorcerer, wizard, cantrip]</td>\n",
       "      <td>Conjuration cantrip</td>\n",
       "    </tr>\n",
       "    <tr>\n",
       "      <th>1</th>\n",
       "      <td>1 action</td>\n",
       "      <td>[ranger, wizard]</td>\n",
       "      <td>{'material': True, 'materials_needed': ['a tin...</td>\n",
       "      <td>You set an alarm against unwanted intrusion. C...</td>\n",
       "      <td>8 hours</td>\n",
       "      <td>NaN</td>\n",
       "      <td>1</td>\n",
       "      <td>Alarm</td>\n",
       "      <td>30 feet</td>\n",
       "      <td>True</td>\n",
       "      <td>abjuration</td>\n",
       "      <td>[ranger, wizard, level1]</td>\n",
       "      <td>1st-level abjuration (ritual)</td>\n",
       "    </tr>\n",
       "    <tr>\n",
       "      <th>2</th>\n",
       "      <td>1 action</td>\n",
       "      <td>[bard, druid, ranger]</td>\n",
       "      <td>{'material': True, 'materials_needed': ['a mor...</td>\n",
       "      <td>This spell lets you convince a beast that you ...</td>\n",
       "      <td>24 hours</td>\n",
       "      <td>When you cast this spell using a spell slot of...</td>\n",
       "      <td>1</td>\n",
       "      <td>Animal Friendship</td>\n",
       "      <td>30 feet</td>\n",
       "      <td>False</td>\n",
       "      <td>enchantment</td>\n",
       "      <td>[bard, druid, ranger, level1]</td>\n",
       "      <td>1st-level enchantment</td>\n",
       "    </tr>\n",
       "    <tr>\n",
       "      <th>3</th>\n",
       "      <td>1 action</td>\n",
       "      <td>[bard, cleric]</td>\n",
       "      <td>{'material': True, 'materials_needed': ['a dro...</td>\n",
       "      <td>Up to three creatures of your choice that you ...</td>\n",
       "      <td>Concentration, up to 1 minute</td>\n",
       "      <td>When you cast this spell using a spell slot of...</td>\n",
       "      <td>1</td>\n",
       "      <td>Bane</td>\n",
       "      <td>30 feet</td>\n",
       "      <td>False</td>\n",
       "      <td>enchantment</td>\n",
       "      <td>[bard, cleric, level1]</td>\n",
       "      <td>1st-level enchantment</td>\n",
       "    </tr>\n",
       "    <tr>\n",
       "      <th>4</th>\n",
       "      <td>1 action</td>\n",
       "      <td>[bard, sorcerer, warlock, wizard]</td>\n",
       "      <td>{'material': False, 'raw': 'V, S', 'somatic': ...</td>\n",
       "      <td>You extend your hand and trace a sigil of ward...</td>\n",
       "      <td>1 Round</td>\n",
       "      <td>NaN</td>\n",
       "      <td>cantrip</td>\n",
       "      <td>Blade Ward</td>\n",
       "      <td>Self</td>\n",
       "      <td>False</td>\n",
       "      <td>Abjuration</td>\n",
       "      <td>[bard, sorcerer, warlock, wizard, cantrip]</td>\n",
       "      <td>Abjuration cantrip</td>\n",
       "    </tr>\n",
       "  </tbody>\n",
       "</table>\n",
       "</div>"
      ],
      "text/plain": [
       "  casting_time                            classes  \\\n",
       "0     1 action                 [sorcerer, wizard]   \n",
       "1     1 action                   [ranger, wizard]   \n",
       "2     1 action              [bard, druid, ranger]   \n",
       "3     1 action                     [bard, cleric]   \n",
       "4     1 action  [bard, sorcerer, warlock, wizard]   \n",
       "\n",
       "                                          components  \\\n",
       "0  {'material': False, 'raw': 'V, S', 'somatic': ...   \n",
       "1  {'material': True, 'materials_needed': ['a tin...   \n",
       "2  {'material': True, 'materials_needed': ['a mor...   \n",
       "3  {'material': True, 'materials_needed': ['a dro...   \n",
       "4  {'material': False, 'raw': 'V, S', 'somatic': ...   \n",
       "\n",
       "                                         description  \\\n",
       "0  You hurl a bubble of acid. Choose one creature...   \n",
       "1  You set an alarm against unwanted intrusion. C...   \n",
       "2  This spell lets you convince a beast that you ...   \n",
       "3  Up to three creatures of your choice that you ...   \n",
       "4  You extend your hand and trace a sigil of ward...   \n",
       "\n",
       "                        duration  \\\n",
       "0                  Instantaneous   \n",
       "1                        8 hours   \n",
       "2                       24 hours   \n",
       "3  Concentration, up to 1 minute   \n",
       "4                        1 Round   \n",
       "\n",
       "                                       higher_levels    level  \\\n",
       "0                                                NaN  cantrip   \n",
       "1                                                NaN        1   \n",
       "2  When you cast this spell using a spell slot of...        1   \n",
       "3  When you cast this spell using a spell slot of...        1   \n",
       "4                                                NaN  cantrip   \n",
       "\n",
       "                name    range  ritual       school  \\\n",
       "0        Acid Splash  60 feet   False  Conjuration   \n",
       "1              Alarm  30 feet    True   abjuration   \n",
       "2  Animal Friendship  30 feet   False  enchantment   \n",
       "3               Bane  30 feet   False  enchantment   \n",
       "4         Blade Ward     Self   False   Abjuration   \n",
       "\n",
       "                                         tags                           type  \n",
       "0                 [sorcerer, wizard, cantrip]            Conjuration cantrip  \n",
       "1                    [ranger, wizard, level1]  1st-level abjuration (ritual)  \n",
       "2               [bard, druid, ranger, level1]          1st-level enchantment  \n",
       "3                      [bard, cleric, level1]          1st-level enchantment  \n",
       "4  [bard, sorcerer, warlock, wizard, cantrip]             Abjuration cantrip  "
      ]
     },
     "execution_count": 109,
     "metadata": {},
     "output_type": "execute_result"
    }
   ],
   "source": [
    "spells_df.head()"
   ]
  },
  {
   "cell_type": "markdown",
   "metadata": {},
   "source": [
    "Some data cleaning is necessary."
   ]
  },
  {
   "cell_type": "code",
   "execution_count": 110,
   "metadata": {
    "collapsed": true
   },
   "outputs": [],
   "source": [
    "spells_df = spells_df.fillna('')"
   ]
  },
  {
   "cell_type": "code",
   "execution_count": 111,
   "metadata": {},
   "outputs": [
    {
     "data": {
      "text/html": [
       "<div>\n",
       "<style>\n",
       "    .dataframe thead tr:only-child th {\n",
       "        text-align: right;\n",
       "    }\n",
       "\n",
       "    .dataframe thead th {\n",
       "        text-align: left;\n",
       "    }\n",
       "\n",
       "    .dataframe tbody tr th {\n",
       "        vertical-align: top;\n",
       "    }\n",
       "</style>\n",
       "<table border=\"1\" class=\"dataframe\">\n",
       "  <thead>\n",
       "    <tr style=\"text-align: right;\">\n",
       "      <th></th>\n",
       "      <th>casting_time</th>\n",
       "      <th>classes</th>\n",
       "      <th>components</th>\n",
       "      <th>description</th>\n",
       "      <th>duration</th>\n",
       "      <th>higher_levels</th>\n",
       "      <th>level</th>\n",
       "      <th>name</th>\n",
       "      <th>range</th>\n",
       "      <th>ritual</th>\n",
       "      <th>school</th>\n",
       "      <th>tags</th>\n",
       "      <th>type</th>\n",
       "    </tr>\n",
       "  </thead>\n",
       "  <tbody>\n",
       "    <tr>\n",
       "      <th>166</th>\n",
       "      <td>10 minutes</td>\n",
       "      <td>[cleric, druid, wizard]</td>\n",
       "      <td>{'material': True, 'materials_needed': ['burni...</td>\n",
       "      <td>You take control of the weather within 5 miles...</td>\n",
       "      <td>Concentration, up to 8 hours</td>\n",
       "      <td></td>\n",
       "      <td>wind</td>\n",
       "      <td>Control Weather</td>\n",
       "      <td>Self (5-mile radius)</td>\n",
       "      <td>False</td>\n",
       "      <td></td>\n",
       "      <td>[cleric, druid, wizard, level8]</td>\n",
       "      <td>Wind</td>\n",
       "    </tr>\n",
       "  </tbody>\n",
       "</table>\n",
       "</div>"
      ],
      "text/plain": [
       "    casting_time                  classes  \\\n",
       "166   10 minutes  [cleric, druid, wizard]   \n",
       "\n",
       "                                            components  \\\n",
       "166  {'material': True, 'materials_needed': ['burni...   \n",
       "\n",
       "                                           description  \\\n",
       "166  You take control of the weather within 5 miles...   \n",
       "\n",
       "                         duration higher_levels level             name  \\\n",
       "166  Concentration, up to 8 hours                wind  Control Weather   \n",
       "\n",
       "                    range  ritual school                             tags  \\\n",
       "166  Self (5-mile radius)   False         [cleric, druid, wizard, level8]   \n",
       "\n",
       "     type  \n",
       "166  Wind  "
      ]
     },
     "execution_count": 111,
     "metadata": {},
     "output_type": "execute_result"
    }
   ],
   "source": [
    "spells_df[spells_df.level=='wind']"
   ]
  },
  {
   "cell_type": "code",
   "execution_count": 112,
   "metadata": {},
   "outputs": [],
   "source": [
    "spells_df.loc[166, 'level'] = '8'"
   ]
  },
  {
   "cell_type": "code",
   "execution_count": 113,
   "metadata": {},
   "outputs": [],
   "source": [
    "spells_df['level'] = spells_df.level.apply(lambda x: '0' if x == 'cantrip' else x)"
   ]
  },
  {
   "cell_type": "markdown",
   "metadata": {},
   "source": [
    "# Text analysis methods\n",
    "This follows Patrick Harrison's [**Modern NLP in Python**](https://github.com/skipgram/modern-nlp-in-python/blob/master/executable/Modern_NLP_in_Python.ipynb) tutorial."
   ]
  },
  {
   "cell_type": "code",
   "execution_count": 5,
   "metadata": {
    "collapsed": true
   },
   "outputs": [],
   "source": [
    "import spacy\n",
    "\n",
    "nlp = spacy.load('en')"
   ]
  },
  {
   "cell_type": "code",
   "execution_count": 6,
   "metadata": {},
   "outputs": [
    {
     "data": {
      "text/plain": [
       "(379, 13)"
      ]
     },
     "execution_count": 6,
     "metadata": {},
     "output_type": "execute_result"
    }
   ],
   "source": [
    "spells_df.shape"
   ]
  },
  {
   "cell_type": "code",
   "execution_count": 7,
   "metadata": {
    "collapsed": true
   },
   "outputs": [],
   "source": [
    "spell = nlp(spells_df.description.iloc[10])"
   ]
  },
  {
   "cell_type": "code",
   "execution_count": 8,
   "metadata": {},
   "outputs": [
    {
     "name": "stdout",
     "output_type": "stream",
     "text": [
      "0 A dazzling array of flashing, colored light springs from your hand.\n",
      "1 Roll 6d10; the total is how many hit points of creatures this spell can effect.\n",
      "2 Creatures in a 15-foot cone originating from you are affected in ascending order of their current hit points (ignoring unconscious creatures and creatures that can't see).\n",
      "\n",
      "\n",
      "3 Starting with the creature that has the lowest current hit points, each creature affected by this spell is blinded until the spell ends.\n",
      "4 Subtract each creature's hit points from the total before moving on to the creature with the next lowest hit points.\n",
      "5 A creature's hit points must be equal to or less than the remaining total for that creature to be affected.\n"
     ]
    }
   ],
   "source": [
    "for i, x in enumerate(spell.sents):\n",
    "    print(i, x)"
   ]
  },
  {
   "cell_type": "code",
   "execution_count": 9,
   "metadata": {},
   "outputs": [
    {
     "name": "stdout",
     "output_type": "stream",
     "text": [
      "0: Roll 6d10 - PERSON\n",
      "1: 15-foot - CARDINAL\n"
     ]
    }
   ],
   "source": [
    "for i, ent in enumerate(spell.ents):\n",
    "    print ('{}: {} - {}'.format(i, ent, ent.label_))"
   ]
  },
  {
   "cell_type": "markdown",
   "metadata": {},
   "source": [
    "### Phrase modeling\n",
    "\n",
    "Due to the highly structured nature of the corpus, phrase modeling will be an effective method for reducing dimensionality."
   ]
  },
  {
   "cell_type": "code",
   "execution_count": 132,
   "metadata": {},
   "outputs": [],
   "source": [
    "from gensim.models import Phrases\n",
    "from gensim.models.phrases import Phraser\n",
    "from gensim.models.word2vec import LineSentence"
   ]
  },
  {
   "cell_type": "code",
   "execution_count": 11,
   "metadata": {
    "collapsed": true
   },
   "outputs": [],
   "source": [
    "def punct_space(token):\n",
    "    return token.is_punct or token.is_space\n",
    "\n",
    "def entry_to_lines(filename):\n",
    "    with open(filename, encoding='utf_8') as f:\n",
    "        for entry in f:\n",
    "            yield entry.replace('\\\\n', '\\n')\n",
    "    return\n",
    "            \n",
    "def lemmatized_sentence_corpus(filename):\n",
    "    for parsed_review in nlp.pipe(entry_to_lines(filename),\n",
    "                                  batch_size=10000, n_threads=4):\n",
    "        for sent in parsed_review.sents:\n",
    "            yield u' '.join([token.lemma_ for token in sent if not punct_space(token)])"
   ]
  },
  {
   "cell_type": "code",
   "execution_count": 12,
   "metadata": {
    "collapsed": true
   },
   "outputs": [],
   "source": [
    "import tempfile\n",
    "\n",
    "raw_spells = tempfile.NamedTemporaryFile(mode='w')\n",
    "with open(raw_spells.name, 'w') as f:\n",
    "    for x in spells_df.description:\n",
    "        if type(x) is str:\n",
    "            f.write(x)\n",
    "        f.write('\\n')"
   ]
  },
  {
   "cell_type": "code",
   "execution_count": 13,
   "metadata": {
    "collapsed": true
   },
   "outputs": [],
   "source": [
    "unigram = tempfile.NamedTemporaryFile(mode='w')\n",
    "\n",
    "with open(unigram.name, 'w') as f:\n",
    "    for sentence in lemmatized_sentence_corpus(raw_spells.name):\n",
    "        f.write(sentence + '\\n')\n",
    "\n",
    "unigram_sentences = LineSentence(unigram.name)"
   ]
  },
  {
   "cell_type": "code",
   "execution_count": 14,
   "metadata": {},
   "outputs": [
    {
     "name": "stderr",
     "output_type": "stream",
     "text": [
      "/Users/jason/Code/cr/lib/python3.6/site-packages/gensim/models/phrases.py:316: UserWarning: For a faster implementation, use the gensim.models.phrases.Phraser class\n",
      "  warnings.warn(\"For a faster implementation, use the gensim.models.phrases.Phraser class\")\n"
     ]
    }
   ],
   "source": [
    "bigram_model = Phrases(unigram_sentences)\n",
    "\n",
    "bigram = tempfile.NamedTemporaryFile(mode='w')\n",
    "\n",
    "with open(bigram.name, 'w') as f:\n",
    "    for unigram_sentence in unigram_sentences:\n",
    "        bigram_sentence = u' '.join(bigram_model[unigram_sentence])\n",
    "        f.write(bigram_sentence + '\\n')\n",
    "\n",
    "bigram_sentences = LineSentence(bigram.name)"
   ]
  },
  {
   "cell_type": "code",
   "execution_count": 15,
   "metadata": {},
   "outputs": [
    {
     "name": "stderr",
     "output_type": "stream",
     "text": [
      "/Users/jason/Code/cr/lib/python3.6/site-packages/gensim/models/phrases.py:316: UserWarning: For a faster implementation, use the gensim.models.phrases.Phraser class\n",
      "  warnings.warn(\"For a faster implementation, use the gensim.models.phrases.Phraser class\")\n"
     ]
    }
   ],
   "source": [
    "trigram_model = Phrases(bigram_sentences)\n",
    "\n",
    "trigram = tempfile.NamedTemporaryFile(mode='w')\n",
    "\n",
    "with open(trigram.name, 'w') as f:\n",
    "    for bigram_sentence in bigram_sentences:\n",
    "        trigram_sentence = u' '.join(trigram_model[bigram_sentence])\n",
    "        f.write(trigram_sentence + '\\n')\n",
    "\n",
    "trigram_sentences = LineSentence(trigram.name)"
   ]
  },
  {
   "cell_type": "markdown",
   "metadata": {},
   "source": [
    "### Word vector embedding"
   ]
  },
  {
   "cell_type": "code",
   "execution_count": 16,
   "metadata": {
    "collapsed": true
   },
   "outputs": [],
   "source": [
    "total_words = sum(len(x) for x in trigram_sentences)"
   ]
  },
  {
   "cell_type": "code",
   "execution_count": 17,
   "metadata": {},
   "outputs": [
    {
     "name": "stdout",
     "output_type": "stream",
     "text": [
      "12 training epochs so far.\n"
     ]
    }
   ],
   "source": [
    "from gensim.models import Word2Vec\n",
    "\n",
    "word2vec_file = tempfile.NamedTemporaryFile(mode='w')\n",
    "\n",
    "spell2vec = Word2Vec(trigram_sentences, size=100, window=5, min_count=5, workers=4)\n",
    "spell2vec.save(word2vec_file.name)\n",
    "\n",
    "# perform another 11 epochs of training\n",
    "for i in range(11):\n",
    "    spell2vec.train(trigram_sentences, total_words=total_words, epochs=1)\n",
    "    spell2vec.save(word2vec_file.name)\n",
    "\n",
    "print(u'{} training epochs so far.'.format(spell2vec.train_count))\n",
    "\n",
    "spell2vec.init_sims()"
   ]
  },
  {
   "cell_type": "code",
   "execution_count": 20,
   "metadata": {},
   "outputs": [
    {
     "data": {
      "text/plain": [
       "966"
      ]
     },
     "execution_count": 20,
     "metadata": {},
     "output_type": "execute_result"
    }
   ],
   "source": [
    "len(spell2vec.wv.vocab)"
   ]
  },
  {
   "cell_type": "code",
   "execution_count": 21,
   "metadata": {},
   "outputs": [
    {
     "data": {
      "text/html": [
       "<div>\n",
       "<style>\n",
       "    .dataframe thead tr:only-child th {\n",
       "        text-align: right;\n",
       "    }\n",
       "\n",
       "    .dataframe thead th {\n",
       "        text-align: left;\n",
       "    }\n",
       "\n",
       "    .dataframe tbody tr th {\n",
       "        vertical-align: top;\n",
       "    }\n",
       "</style>\n",
       "<table border=\"1\" class=\"dataframe\">\n",
       "  <thead>\n",
       "    <tr style=\"text-align: right;\">\n",
       "      <th></th>\n",
       "      <th>0</th>\n",
       "      <th>1</th>\n",
       "      <th>2</th>\n",
       "      <th>3</th>\n",
       "      <th>4</th>\n",
       "      <th>5</th>\n",
       "      <th>6</th>\n",
       "      <th>7</th>\n",
       "      <th>8</th>\n",
       "      <th>9</th>\n",
       "      <th>...</th>\n",
       "      <th>90</th>\n",
       "      <th>91</th>\n",
       "      <th>92</th>\n",
       "      <th>93</th>\n",
       "      <th>94</th>\n",
       "      <th>95</th>\n",
       "      <th>96</th>\n",
       "      <th>97</th>\n",
       "      <th>98</th>\n",
       "      <th>99</th>\n",
       "    </tr>\n",
       "  </thead>\n",
       "  <tbody>\n",
       "    <tr>\n",
       "      <th>-PRON-</th>\n",
       "      <td>-0.013314</td>\n",
       "      <td>-0.009932</td>\n",
       "      <td>-0.018664</td>\n",
       "      <td>-0.176529</td>\n",
       "      <td>-0.144393</td>\n",
       "      <td>0.098800</td>\n",
       "      <td>0.035082</td>\n",
       "      <td>0.050201</td>\n",
       "      <td>0.048908</td>\n",
       "      <td>0.016070</td>\n",
       "      <td>...</td>\n",
       "      <td>0.208038</td>\n",
       "      <td>-0.091442</td>\n",
       "      <td>-0.172750</td>\n",
       "      <td>0.018440</td>\n",
       "      <td>-0.016496</td>\n",
       "      <td>0.199059</td>\n",
       "      <td>0.044440</td>\n",
       "      <td>0.027788</td>\n",
       "      <td>-0.097366</td>\n",
       "      <td>-0.012778</td>\n",
       "    </tr>\n",
       "    <tr>\n",
       "      <th>the</th>\n",
       "      <td>0.018035</td>\n",
       "      <td>-0.076436</td>\n",
       "      <td>0.033910</td>\n",
       "      <td>-0.016733</td>\n",
       "      <td>-0.017778</td>\n",
       "      <td>0.099923</td>\n",
       "      <td>0.114110</td>\n",
       "      <td>0.029634</td>\n",
       "      <td>-0.117731</td>\n",
       "      <td>0.068414</td>\n",
       "      <td>...</td>\n",
       "      <td>0.196702</td>\n",
       "      <td>-0.044928</td>\n",
       "      <td>-0.133564</td>\n",
       "      <td>-0.007312</td>\n",
       "      <td>-0.152144</td>\n",
       "      <td>0.085482</td>\n",
       "      <td>-0.032751</td>\n",
       "      <td>-0.053783</td>\n",
       "      <td>0.040127</td>\n",
       "      <td>0.034605</td>\n",
       "    </tr>\n",
       "    <tr>\n",
       "      <th>a</th>\n",
       "      <td>0.035959</td>\n",
       "      <td>-0.028454</td>\n",
       "      <td>0.025207</td>\n",
       "      <td>-0.099713</td>\n",
       "      <td>0.131321</td>\n",
       "      <td>0.094496</td>\n",
       "      <td>-0.021451</td>\n",
       "      <td>-0.053350</td>\n",
       "      <td>0.004977</td>\n",
       "      <td>-0.195385</td>\n",
       "      <td>...</td>\n",
       "      <td>0.079844</td>\n",
       "      <td>0.026852</td>\n",
       "      <td>-0.172453</td>\n",
       "      <td>-0.099108</td>\n",
       "      <td>0.041437</td>\n",
       "      <td>0.021292</td>\n",
       "      <td>0.042967</td>\n",
       "      <td>0.092910</td>\n",
       "      <td>0.048738</td>\n",
       "      <td>0.130596</td>\n",
       "    </tr>\n",
       "    <tr>\n",
       "      <th>of</th>\n",
       "      <td>-0.025458</td>\n",
       "      <td>-0.010637</td>\n",
       "      <td>0.082763</td>\n",
       "      <td>-0.117139</td>\n",
       "      <td>0.070152</td>\n",
       "      <td>0.144340</td>\n",
       "      <td>-0.125088</td>\n",
       "      <td>0.165630</td>\n",
       "      <td>0.045662</td>\n",
       "      <td>-0.105419</td>\n",
       "      <td>...</td>\n",
       "      <td>0.094386</td>\n",
       "      <td>0.046887</td>\n",
       "      <td>-0.165871</td>\n",
       "      <td>0.136910</td>\n",
       "      <td>-0.089316</td>\n",
       "      <td>0.014339</td>\n",
       "      <td>-0.058216</td>\n",
       "      <td>0.038772</td>\n",
       "      <td>0.002747</td>\n",
       "      <td>0.065026</td>\n",
       "    </tr>\n",
       "    <tr>\n",
       "      <th>creature</th>\n",
       "      <td>-0.006428</td>\n",
       "      <td>-0.014887</td>\n",
       "      <td>0.033444</td>\n",
       "      <td>-0.163029</td>\n",
       "      <td>-0.021579</td>\n",
       "      <td>0.238921</td>\n",
       "      <td>-0.009670</td>\n",
       "      <td>0.191085</td>\n",
       "      <td>0.054034</td>\n",
       "      <td>-0.117876</td>\n",
       "      <td>...</td>\n",
       "      <td>0.194915</td>\n",
       "      <td>-0.077747</td>\n",
       "      <td>-0.168400</td>\n",
       "      <td>0.009497</td>\n",
       "      <td>0.060857</td>\n",
       "      <td>0.152564</td>\n",
       "      <td>-0.002145</td>\n",
       "      <td>0.010235</td>\n",
       "      <td>-0.018746</td>\n",
       "      <td>0.058937</td>\n",
       "    </tr>\n",
       "  </tbody>\n",
       "</table>\n",
       "<p>5 rows × 100 columns</p>\n",
       "</div>"
      ],
      "text/plain": [
       "                0         1         2         3         4         5   \\\n",
       "-PRON-   -0.013314 -0.009932 -0.018664 -0.176529 -0.144393  0.098800   \n",
       "the       0.018035 -0.076436  0.033910 -0.016733 -0.017778  0.099923   \n",
       "a         0.035959 -0.028454  0.025207 -0.099713  0.131321  0.094496   \n",
       "of       -0.025458 -0.010637  0.082763 -0.117139  0.070152  0.144340   \n",
       "creature -0.006428 -0.014887  0.033444 -0.163029 -0.021579  0.238921   \n",
       "\n",
       "                6         7         8         9     ...           90  \\\n",
       "-PRON-    0.035082  0.050201  0.048908  0.016070    ...     0.208038   \n",
       "the       0.114110  0.029634 -0.117731  0.068414    ...     0.196702   \n",
       "a        -0.021451 -0.053350  0.004977 -0.195385    ...     0.079844   \n",
       "of       -0.125088  0.165630  0.045662 -0.105419    ...     0.094386   \n",
       "creature -0.009670  0.191085  0.054034 -0.117876    ...     0.194915   \n",
       "\n",
       "                91        92        93        94        95        96  \\\n",
       "-PRON-   -0.091442 -0.172750  0.018440 -0.016496  0.199059  0.044440   \n",
       "the      -0.044928 -0.133564 -0.007312 -0.152144  0.085482 -0.032751   \n",
       "a         0.026852 -0.172453 -0.099108  0.041437  0.021292  0.042967   \n",
       "of        0.046887 -0.165871  0.136910 -0.089316  0.014339 -0.058216   \n",
       "creature -0.077747 -0.168400  0.009497  0.060857  0.152564 -0.002145   \n",
       "\n",
       "                97        98        99  \n",
       "-PRON-    0.027788 -0.097366 -0.012778  \n",
       "the      -0.053783  0.040127  0.034605  \n",
       "a         0.092910  0.048738  0.130596  \n",
       "of        0.038772  0.002747  0.065026  \n",
       "creature  0.010235 -0.018746  0.058937  \n",
       "\n",
       "[5 rows x 100 columns]"
      ]
     },
     "execution_count": 21,
     "metadata": {},
     "output_type": "execute_result"
    }
   ],
   "source": [
    "ordered_vocab = [(term, voc.index, voc.count) for term, voc in spell2vec.wv.vocab.items()]\n",
    "ordered_vocab = sorted(ordered_vocab, key=lambda x: -x[2])\n",
    "ordered_terms, term_indices, term_counts = zip(*ordered_vocab)\n",
    "word_vectors = pd.DataFrame(spell2vec.wv.syn0norm[term_indices, :],\n",
    "                            index=ordered_terms)\n",
    "word_vectors.head()"
   ]
  },
  {
   "cell_type": "markdown",
   "metadata": {},
   "source": [
    "#### [Todo]: visualize, and clean up the code above. Figure out how to use the model to create the lemmatized text for each example, and to prepare it in a dataframe for doc2vec."
   ]
  },
  {
   "cell_type": "markdown",
   "metadata": {},
   "source": [
    "# Doc2Vec\n",
    "We'll follow the gensim Doc2Vec [tutorial](https://github.com/RaRe-Technologies/gensim/blob/develop/docs/notebooks/doc2vec-lee.ipynb).\n",
    "\n",
    "#### Goal\n",
    "learn a vector embedding for each document in the corpus, and train a multinomial classifier on the vector embeddings."
   ]
  },
  {
   "cell_type": "code",
   "execution_count": null,
   "metadata": {
    "collapsed": true
   },
   "outputs": [],
   "source": [
    "def read_corpus(fname, training=False):\n",
    "    with open(fname, 'r') as f:\n",
    "        for i, line in enumerate(f):\n",
    "            if training:\n",
    "                yield gensim.models.doc2vec.TaggedDocument(gensim.utils.simple_preprocess(line), [i])\n",
    "            else:\n",
    "                yield gensim.utils.simple_preprocess(line)"
   ]
  },
  {
   "cell_type": "code",
   "execution_count": 29,
   "metadata": {},
   "outputs": [
    {
     "data": {
      "text/html": [
       "<div>\n",
       "<style>\n",
       "    .dataframe thead tr:only-child th {\n",
       "        text-align: right;\n",
       "    }\n",
       "\n",
       "    .dataframe thead th {\n",
       "        text-align: left;\n",
       "    }\n",
       "\n",
       "    .dataframe tbody tr th {\n",
       "        vertical-align: top;\n",
       "    }\n",
       "</style>\n",
       "<table border=\"1\" class=\"dataframe\">\n",
       "  <thead>\n",
       "    <tr style=\"text-align: right;\">\n",
       "      <th></th>\n",
       "      <th>casting_time</th>\n",
       "      <th>classes</th>\n",
       "      <th>components</th>\n",
       "      <th>description</th>\n",
       "      <th>duration</th>\n",
       "      <th>higher_levels</th>\n",
       "      <th>level</th>\n",
       "      <th>name</th>\n",
       "      <th>range</th>\n",
       "      <th>ritual</th>\n",
       "      <th>school</th>\n",
       "      <th>tags</th>\n",
       "      <th>type</th>\n",
       "    </tr>\n",
       "  </thead>\n",
       "  <tbody>\n",
       "    <tr>\n",
       "      <th>0</th>\n",
       "      <td>1 action</td>\n",
       "      <td>[sorcerer, wizard]</td>\n",
       "      <td>{'material': False, 'raw': 'V, S', 'somatic': ...</td>\n",
       "      <td>You hurl a bubble of acid. Choose one creature...</td>\n",
       "      <td>Instantaneous</td>\n",
       "      <td>NaN</td>\n",
       "      <td>cantrip</td>\n",
       "      <td>Acid Splash</td>\n",
       "      <td>60 feet</td>\n",
       "      <td>False</td>\n",
       "      <td>Conjuration</td>\n",
       "      <td>[sorcerer, wizard, cantrip]</td>\n",
       "      <td>Conjuration cantrip</td>\n",
       "    </tr>\n",
       "    <tr>\n",
       "      <th>1</th>\n",
       "      <td>1 action</td>\n",
       "      <td>[ranger, wizard]</td>\n",
       "      <td>{'material': True, 'materials_needed': ['a tin...</td>\n",
       "      <td>You set an alarm against unwanted intrusion. C...</td>\n",
       "      <td>8 hours</td>\n",
       "      <td>NaN</td>\n",
       "      <td>1</td>\n",
       "      <td>Alarm</td>\n",
       "      <td>30 feet</td>\n",
       "      <td>True</td>\n",
       "      <td>abjuration</td>\n",
       "      <td>[ranger, wizard, level1]</td>\n",
       "      <td>1st-level abjuration (ritual)</td>\n",
       "    </tr>\n",
       "    <tr>\n",
       "      <th>2</th>\n",
       "      <td>1 action</td>\n",
       "      <td>[bard, druid, ranger]</td>\n",
       "      <td>{'material': True, 'materials_needed': ['a mor...</td>\n",
       "      <td>This spell lets you convince a beast that you ...</td>\n",
       "      <td>24 hours</td>\n",
       "      <td>When you cast this spell using a spell slot of...</td>\n",
       "      <td>1</td>\n",
       "      <td>Animal Friendship</td>\n",
       "      <td>30 feet</td>\n",
       "      <td>False</td>\n",
       "      <td>enchantment</td>\n",
       "      <td>[bard, druid, ranger, level1]</td>\n",
       "      <td>1st-level enchantment</td>\n",
       "    </tr>\n",
       "    <tr>\n",
       "      <th>3</th>\n",
       "      <td>1 action</td>\n",
       "      <td>[bard, cleric]</td>\n",
       "      <td>{'material': True, 'materials_needed': ['a dro...</td>\n",
       "      <td>Up to three creatures of your choice that you ...</td>\n",
       "      <td>Concentration, up to 1 minute</td>\n",
       "      <td>When you cast this spell using a spell slot of...</td>\n",
       "      <td>1</td>\n",
       "      <td>Bane</td>\n",
       "      <td>30 feet</td>\n",
       "      <td>False</td>\n",
       "      <td>enchantment</td>\n",
       "      <td>[bard, cleric, level1]</td>\n",
       "      <td>1st-level enchantment</td>\n",
       "    </tr>\n",
       "    <tr>\n",
       "      <th>4</th>\n",
       "      <td>1 action</td>\n",
       "      <td>[bard, sorcerer, warlock, wizard]</td>\n",
       "      <td>{'material': False, 'raw': 'V, S', 'somatic': ...</td>\n",
       "      <td>You extend your hand and trace a sigil of ward...</td>\n",
       "      <td>1 Round</td>\n",
       "      <td>NaN</td>\n",
       "      <td>cantrip</td>\n",
       "      <td>Blade Ward</td>\n",
       "      <td>Self</td>\n",
       "      <td>False</td>\n",
       "      <td>Abjuration</td>\n",
       "      <td>[bard, sorcerer, warlock, wizard, cantrip]</td>\n",
       "      <td>Abjuration cantrip</td>\n",
       "    </tr>\n",
       "  </tbody>\n",
       "</table>\n",
       "</div>"
      ],
      "text/plain": [
       "  casting_time                            classes  \\\n",
       "0     1 action                 [sorcerer, wizard]   \n",
       "1     1 action                   [ranger, wizard]   \n",
       "2     1 action              [bard, druid, ranger]   \n",
       "3     1 action                     [bard, cleric]   \n",
       "4     1 action  [bard, sorcerer, warlock, wizard]   \n",
       "\n",
       "                                          components  \\\n",
       "0  {'material': False, 'raw': 'V, S', 'somatic': ...   \n",
       "1  {'material': True, 'materials_needed': ['a tin...   \n",
       "2  {'material': True, 'materials_needed': ['a mor...   \n",
       "3  {'material': True, 'materials_needed': ['a dro...   \n",
       "4  {'material': False, 'raw': 'V, S', 'somatic': ...   \n",
       "\n",
       "                                         description  \\\n",
       "0  You hurl a bubble of acid. Choose one creature...   \n",
       "1  You set an alarm against unwanted intrusion. C...   \n",
       "2  This spell lets you convince a beast that you ...   \n",
       "3  Up to three creatures of your choice that you ...   \n",
       "4  You extend your hand and trace a sigil of ward...   \n",
       "\n",
       "                        duration  \\\n",
       "0                  Instantaneous   \n",
       "1                        8 hours   \n",
       "2                       24 hours   \n",
       "3  Concentration, up to 1 minute   \n",
       "4                        1 Round   \n",
       "\n",
       "                                       higher_levels    level  \\\n",
       "0                                                NaN  cantrip   \n",
       "1                                                NaN        1   \n",
       "2  When you cast this spell using a spell slot of...        1   \n",
       "3  When you cast this spell using a spell slot of...        1   \n",
       "4                                                NaN  cantrip   \n",
       "\n",
       "                name    range  ritual       school  \\\n",
       "0        Acid Splash  60 feet   False  Conjuration   \n",
       "1              Alarm  30 feet    True   abjuration   \n",
       "2  Animal Friendship  30 feet   False  enchantment   \n",
       "3               Bane  30 feet   False  enchantment   \n",
       "4         Blade Ward     Self   False   Abjuration   \n",
       "\n",
       "                                         tags                           type  \n",
       "0                 [sorcerer, wizard, cantrip]            Conjuration cantrip  \n",
       "1                    [ranger, wizard, level1]  1st-level abjuration (ritual)  \n",
       "2               [bard, druid, ranger, level1]          1st-level enchantment  \n",
       "3                      [bard, cleric, level1]          1st-level enchantment  \n",
       "4  [bard, sorcerer, warlock, wizard, cantrip]             Abjuration cantrip  "
      ]
     },
     "execution_count": 29,
     "metadata": {},
     "output_type": "execute_result"
    }
   ],
   "source": [
    "spells_df.head()"
   ]
  },
  {
   "cell_type": "markdown",
   "metadata": {},
   "source": [
    "# [TODO]: Techniques to apply\n",
    "\n",
    "* Bag of words - construct weighted encoding of key words, train on weights\n",
    "    * Tf–idf or counter\n",
    "* word2vec - construct word embeddings, average, and train on average\n",
    "* feature engineering"
   ]
  },
  {
   "cell_type": "markdown",
   "metadata": {},
   "source": [
    "## Bag of words with logistic regression"
   ]
  },
  {
   "cell_type": "code",
   "execution_count": 115,
   "metadata": {
    "collapsed": true
   },
   "outputs": [],
   "source": [
    "X = spells_df['description'] + spells_df['higher_levels']\n",
    "y = spells_df['level']"
   ]
  },
  {
   "cell_type": "code",
   "execution_count": 117,
   "metadata": {},
   "outputs": [
    {
     "data": {
      "text/plain": [
       "Pipeline(memory=None,\n",
       "     steps=[('vect', TfidfVectorizer(analyzer='word', binary=False, decode_error='strict',\n",
       "        dtype=<class 'numpy.int64'>, encoding='utf-8', input='content',\n",
       "        lowercase=True, max_df=1.0, max_features=None, min_df=1,\n",
       "        ngram_range=(1, 1), norm='l2', preprocessor=None, smooth_idf=True,\n",
       "  ...ty='l2', random_state=None, solver='liblinear', tol=0.0001,\n",
       "          verbose=0, warm_start=False))])"
      ]
     },
     "execution_count": 117,
     "metadata": {},
     "output_type": "execute_result"
    }
   ],
   "source": [
    "from sklearn.feature_extraction.text import TfidfVectorizer\n",
    "from sklearn.linear_model import LogisticRegression\n",
    "from sklearn.model_selection import GridSearchCV\n",
    "from sklearn.pipeline import Pipeline\n",
    "\n",
    "pipeline = Pipeline([\n",
    "    ('vect', TfidfVectorizer()),\n",
    "    ('clf', LogisticRegression()),\n",
    "])\n",
    "\n",
    "pipeline.fit(X, y)"
   ]
  },
  {
   "cell_type": "code",
   "execution_count": 118,
   "metadata": {},
   "outputs": [
    {
     "data": {
      "text/plain": [
       "0.75197889182058042"
      ]
     },
     "execution_count": 118,
     "metadata": {},
     "output_type": "execute_result"
    }
   ],
   "source": [
    "pipeline.score(X, y)"
   ]
  },
  {
   "cell_type": "markdown",
   "metadata": {},
   "source": [
    "This is surprisingly good! I suspect that it's overfitting, though. I need to visualize the worse offenders."
   ]
  },
  {
   "cell_type": "code",
   "execution_count": 119,
   "metadata": {},
   "outputs": [],
   "source": [
    "pred = pd.DataFrame(pipeline.predict_proba(X), columns=pipeline.classes_)\n",
    "pred['level'] = y\n",
    "pred['level_hat'] = pipeline.predict(X)\n",
    "pred['name'] = spells_df['name']"
   ]
  },
  {
   "cell_type": "code",
   "execution_count": 128,
   "metadata": {},
   "outputs": [
    {
     "data": {
      "text/html": [
       "<div>\n",
       "<style>\n",
       "    .dataframe thead tr:only-child th {\n",
       "        text-align: right;\n",
       "    }\n",
       "\n",
       "    .dataframe thead th {\n",
       "        text-align: left;\n",
       "    }\n",
       "\n",
       "    .dataframe tbody tr th {\n",
       "        vertical-align: top;\n",
       "    }\n",
       "</style>\n",
       "<table border=\"1\" class=\"dataframe\">\n",
       "  <thead>\n",
       "    <tr style=\"text-align: right;\">\n",
       "      <th></th>\n",
       "      <th>0</th>\n",
       "      <th>1</th>\n",
       "      <th>2</th>\n",
       "      <th>3</th>\n",
       "      <th>4</th>\n",
       "      <th>5</th>\n",
       "      <th>6</th>\n",
       "      <th>7</th>\n",
       "      <th>8</th>\n",
       "      <th>9</th>\n",
       "      <th>level</th>\n",
       "      <th>level_hat</th>\n",
       "      <th>name</th>\n",
       "    </tr>\n",
       "  </thead>\n",
       "  <tbody>\n",
       "    <tr>\n",
       "      <th>24</th>\n",
       "      <td>0.207831</td>\n",
       "      <td>0.213080</td>\n",
       "      <td>0.129044</td>\n",
       "      <td>0.087321</td>\n",
       "      <td>0.078354</td>\n",
       "      <td>0.088914</td>\n",
       "      <td>0.072199</td>\n",
       "      <td>0.041186</td>\n",
       "      <td>0.044081</td>\n",
       "      <td>0.037991</td>\n",
       "      <td>0</td>\n",
       "      <td>1</td>\n",
       "      <td>Eldritch Blast</td>\n",
       "    </tr>\n",
       "    <tr>\n",
       "      <th>49</th>\n",
       "      <td>0.185160</td>\n",
       "      <td>0.116862</td>\n",
       "      <td>0.210702</td>\n",
       "      <td>0.129589</td>\n",
       "      <td>0.072867</td>\n",
       "      <td>0.079722</td>\n",
       "      <td>0.063907</td>\n",
       "      <td>0.049409</td>\n",
       "      <td>0.048579</td>\n",
       "      <td>0.043203</td>\n",
       "      <td>0</td>\n",
       "      <td>2</td>\n",
       "      <td>Light</td>\n",
       "    </tr>\n",
       "    <tr>\n",
       "      <th>55</th>\n",
       "      <td>0.131843</td>\n",
       "      <td>0.165125</td>\n",
       "      <td>0.155568</td>\n",
       "      <td>0.134159</td>\n",
       "      <td>0.075335</td>\n",
       "      <td>0.106940</td>\n",
       "      <td>0.087367</td>\n",
       "      <td>0.053545</td>\n",
       "      <td>0.047564</td>\n",
       "      <td>0.042553</td>\n",
       "      <td>0</td>\n",
       "      <td>1</td>\n",
       "      <td>Message</td>\n",
       "    </tr>\n",
       "    <tr>\n",
       "      <th>71</th>\n",
       "      <td>0.149884</td>\n",
       "      <td>0.151201</td>\n",
       "      <td>0.191585</td>\n",
       "      <td>0.129379</td>\n",
       "      <td>0.068979</td>\n",
       "      <td>0.106455</td>\n",
       "      <td>0.063960</td>\n",
       "      <td>0.048477</td>\n",
       "      <td>0.045328</td>\n",
       "      <td>0.044753</td>\n",
       "      <td>0</td>\n",
       "      <td>2</td>\n",
       "      <td>Shillelagh</td>\n",
       "    </tr>\n",
       "    <tr>\n",
       "      <th>86</th>\n",
       "      <td>0.058000</td>\n",
       "      <td>0.264448</td>\n",
       "      <td>0.250306</td>\n",
       "      <td>0.110267</td>\n",
       "      <td>0.072967</td>\n",
       "      <td>0.072915</td>\n",
       "      <td>0.064827</td>\n",
       "      <td>0.040513</td>\n",
       "      <td>0.030334</td>\n",
       "      <td>0.035424</td>\n",
       "      <td>2</td>\n",
       "      <td>1</td>\n",
       "      <td>Aid</td>\n",
       "    </tr>\n",
       "  </tbody>\n",
       "</table>\n",
       "</div>"
      ],
      "text/plain": [
       "           0         1         2         3         4         5         6  \\\n",
       "24  0.207831  0.213080  0.129044  0.087321  0.078354  0.088914  0.072199   \n",
       "49  0.185160  0.116862  0.210702  0.129589  0.072867  0.079722  0.063907   \n",
       "55  0.131843  0.165125  0.155568  0.134159  0.075335  0.106940  0.087367   \n",
       "71  0.149884  0.151201  0.191585  0.129379  0.068979  0.106455  0.063960   \n",
       "86  0.058000  0.264448  0.250306  0.110267  0.072967  0.072915  0.064827   \n",
       "\n",
       "           7         8         9 level level_hat            name  \n",
       "24  0.041186  0.044081  0.037991     0         1  Eldritch Blast  \n",
       "49  0.049409  0.048579  0.043203     0         2           Light  \n",
       "55  0.053545  0.047564  0.042553     0         1         Message  \n",
       "71  0.048477  0.045328  0.044753     0         2      Shillelagh  \n",
       "86  0.040513  0.030334  0.035424     2         1             Aid  "
      ]
     },
     "execution_count": 128,
     "metadata": {},
     "output_type": "execute_result"
    }
   ],
   "source": [
    "pred[pred.level != pred.level_hat].head()"
   ]
  },
  {
   "cell_type": "markdown",
   "metadata": {},
   "source": [
    "## word2vec with logistic regression"
   ]
  },
  {
   "cell_type": "code",
   "execution_count": 129,
   "metadata": {},
   "outputs": [],
   "source": [
    "import tempfile\n",
    "\n",
    "corpus_file = tempfile.NamedTemporaryFile(mode='w')\n",
    "with open(corpus_file.name, 'w') as f:\n",
    "    for x in spells_df.description:\n",
    "        if type(x) is str:\n",
    "            f.write(x)\n",
    "        f.write('\\n')\n",
    "\n",
    "unigram_file = tempfile.NamedTemporaryFile(mode='w')\n",
    "with open(unigram_file.name, 'w') as f:\n",
    "    for sentence in lemmatized_sentence_corpus(corpus_file.name):\n",
    "        f.write(sentence + '\\n')\n",
    "\n",
    "unigram_sentences = LineSentence(unigram_file.name)"
   ]
  },
  {
   "cell_type": "code",
   "execution_count": 137,
   "metadata": {
    "collapsed": true
   },
   "outputs": [],
   "source": [
    "def build_models(corpus, passes=1):\n",
    "    models = list()\n",
    "    fname = make_lemmatized_corpus(corpus)\n",
    "\n",
    "    for i in range(passes):\n",
    "        sentences = LineSentence(fname)\n",
    "        model, fname = create_model(sentences)\n",
    "        models.append(model)\n",
    "    return models\n",
    "\n",
    "\n",
    "def make_lemmatize_corpus(corpus):\n",
    "    tmp_file = tempfile.NamedTemporaryFile(mode='w')\n",
    "    with open(tmp_file.name, 'w') as f:\n",
    "        for sentence in lemmatized_sentence_corpus(corpus_file.name):\n",
    "            f.write(sentence + '\\n')\n",
    "    return tmp_file.name\n",
    "\n",
    "\n",
    "def create_model(sentences):\n",
    "    phrases = Phrases(sentences)\n",
    "    model = Phraser(phrases)\n",
    "    tmp_file = tempfile.NamedTemporaryFile(mode='w')\n",
    "    with open(tmp_file.name, 'w') as f:\n",
    "        for sentence in sentences:\n",
    "            sentence = u' '.join(model[sentence])\n",
    "            f.write(sentence + '\\n')\n",
    "    return model, tmp_file.name"
   ]
  },
  {
   "cell_type": "code",
   "execution_count": null,
   "metadata": {
    "collapsed": true
   },
   "outputs": [],
   "source": [
    "total_words = sum(len(x) for x in trigram_sentences)\n",
    "word2vec_file = tempfile.NamedTemporaryFile(mode='w')\n",
    "\n",
    "spell2vec = Word2Vec(trigram_sentences, size=100, window=5, min_count=5, workers=4)\n",
    "spell2vec.save(word2vec_file.name)\n",
    "\n",
    "# perform another 11 epochs of training\n",
    "for i in range(11):\n",
    "    spell2vec.train(trigram_sentences, total_words=total_words, epochs=1)\n",
    "    spell2vec.save(word2vec_file.name)\n",
    "\n",
    "print(u'{} training epochs so far.'.format(spell2vec.train_count))\n",
    "\n",
    "spell2vec.init_sims()\n",
    "len(spell2vec.wv.vocab)"
   ]
  }
 ],
 "metadata": {
  "kernelspec": {
   "display_name": "Python 3",
   "language": "python",
   "name": "python3"
  },
  "language_info": {
   "codemirror_mode": {
    "name": "ipython",
    "version": 3
   },
   "file_extension": ".py",
   "mimetype": "text/x-python",
   "name": "python",
   "nbconvert_exporter": "python",
   "pygments_lexer": "ipython3",
   "version": "3.6.1"
  }
 },
 "nbformat": 4,
 "nbformat_minor": 2
}

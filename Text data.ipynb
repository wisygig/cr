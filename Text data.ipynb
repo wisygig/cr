{
 "cells": [
  {
   "cell_type": "code",
   "execution_count": 1,
   "metadata": {
    "collapsed": true
   },
   "outputs": [],
   "source": [
    "import numpy as np\n",
    "import pandas as pd"
   ]
  },
  {
   "cell_type": "markdown",
   "metadata": {},
   "source": [
    "# Load data"
   ]
  },
  {
   "cell_type": "code",
   "execution_count": 2,
   "metadata": {
    "collapsed": true
   },
   "outputs": [],
   "source": [
    "import requests\n",
    "\n",
    "url = 'https://raw.githubusercontent.com/vorpalhex/srd_spells/master/spells.json'\n",
    "r = requests.get(url)\n",
    "spells = r.json()"
   ]
  },
  {
   "cell_type": "code",
   "execution_count": 3,
   "metadata": {
    "collapsed": true
   },
   "outputs": [],
   "source": [
    "spells_df = pd.DataFrame(spells)"
   ]
  },
  {
   "cell_type": "code",
   "execution_count": 4,
   "metadata": {},
   "outputs": [
    {
     "data": {
      "text/html": [
       "<div>\n",
       "<style>\n",
       "    .dataframe thead tr:only-child th {\n",
       "        text-align: right;\n",
       "    }\n",
       "\n",
       "    .dataframe thead th {\n",
       "        text-align: left;\n",
       "    }\n",
       "\n",
       "    .dataframe tbody tr th {\n",
       "        vertical-align: top;\n",
       "    }\n",
       "</style>\n",
       "<table border=\"1\" class=\"dataframe\">\n",
       "  <thead>\n",
       "    <tr style=\"text-align: right;\">\n",
       "      <th></th>\n",
       "      <th>casting_time</th>\n",
       "      <th>classes</th>\n",
       "      <th>components</th>\n",
       "      <th>description</th>\n",
       "      <th>duration</th>\n",
       "      <th>higher_levels</th>\n",
       "      <th>level</th>\n",
       "      <th>name</th>\n",
       "      <th>range</th>\n",
       "      <th>ritual</th>\n",
       "      <th>school</th>\n",
       "      <th>tags</th>\n",
       "      <th>type</th>\n",
       "    </tr>\n",
       "  </thead>\n",
       "  <tbody>\n",
       "    <tr>\n",
       "      <th>0</th>\n",
       "      <td>1 action</td>\n",
       "      <td>[sorcerer, wizard]</td>\n",
       "      <td>{'material': False, 'raw': 'V, S', 'somatic': ...</td>\n",
       "      <td>You hurl a bubble of acid. Choose one creature...</td>\n",
       "      <td>Instantaneous</td>\n",
       "      <td>NaN</td>\n",
       "      <td>cantrip</td>\n",
       "      <td>Acid Splash</td>\n",
       "      <td>60 feet</td>\n",
       "      <td>False</td>\n",
       "      <td>Conjuration</td>\n",
       "      <td>[sorcerer, wizard, cantrip]</td>\n",
       "      <td>Conjuration cantrip</td>\n",
       "    </tr>\n",
       "    <tr>\n",
       "      <th>1</th>\n",
       "      <td>1 action</td>\n",
       "      <td>[ranger, wizard]</td>\n",
       "      <td>{'material': True, 'materials_needed': ['a tin...</td>\n",
       "      <td>You set an alarm against unwanted intrusion. C...</td>\n",
       "      <td>8 hours</td>\n",
       "      <td>NaN</td>\n",
       "      <td>1</td>\n",
       "      <td>Alarm</td>\n",
       "      <td>30 feet</td>\n",
       "      <td>True</td>\n",
       "      <td>abjuration</td>\n",
       "      <td>[ranger, wizard, level1]</td>\n",
       "      <td>1st-level abjuration (ritual)</td>\n",
       "    </tr>\n",
       "    <tr>\n",
       "      <th>2</th>\n",
       "      <td>1 action</td>\n",
       "      <td>[bard, druid, ranger]</td>\n",
       "      <td>{'material': True, 'materials_needed': ['a mor...</td>\n",
       "      <td>This spell lets you convince a beast that you ...</td>\n",
       "      <td>24 hours</td>\n",
       "      <td>When you cast this spell using a spell slot of...</td>\n",
       "      <td>1</td>\n",
       "      <td>Animal Friendship</td>\n",
       "      <td>30 feet</td>\n",
       "      <td>False</td>\n",
       "      <td>enchantment</td>\n",
       "      <td>[bard, druid, ranger, level1]</td>\n",
       "      <td>1st-level enchantment</td>\n",
       "    </tr>\n",
       "    <tr>\n",
       "      <th>3</th>\n",
       "      <td>1 action</td>\n",
       "      <td>[bard, cleric]</td>\n",
       "      <td>{'material': True, 'materials_needed': ['a dro...</td>\n",
       "      <td>Up to three creatures of your choice that you ...</td>\n",
       "      <td>Concentration, up to 1 minute</td>\n",
       "      <td>When you cast this spell using a spell slot of...</td>\n",
       "      <td>1</td>\n",
       "      <td>Bane</td>\n",
       "      <td>30 feet</td>\n",
       "      <td>False</td>\n",
       "      <td>enchantment</td>\n",
       "      <td>[bard, cleric, level1]</td>\n",
       "      <td>1st-level enchantment</td>\n",
       "    </tr>\n",
       "    <tr>\n",
       "      <th>4</th>\n",
       "      <td>1 action</td>\n",
       "      <td>[bard, sorcerer, warlock, wizard]</td>\n",
       "      <td>{'material': False, 'raw': 'V, S', 'somatic': ...</td>\n",
       "      <td>You extend your hand and trace a sigil of ward...</td>\n",
       "      <td>1 Round</td>\n",
       "      <td>NaN</td>\n",
       "      <td>cantrip</td>\n",
       "      <td>Blade Ward</td>\n",
       "      <td>Self</td>\n",
       "      <td>False</td>\n",
       "      <td>Abjuration</td>\n",
       "      <td>[bard, sorcerer, warlock, wizard, cantrip]</td>\n",
       "      <td>Abjuration cantrip</td>\n",
       "    </tr>\n",
       "  </tbody>\n",
       "</table>\n",
       "</div>"
      ],
      "text/plain": [
       "  casting_time                            classes  \\\n",
       "0     1 action                 [sorcerer, wizard]   \n",
       "1     1 action                   [ranger, wizard]   \n",
       "2     1 action              [bard, druid, ranger]   \n",
       "3     1 action                     [bard, cleric]   \n",
       "4     1 action  [bard, sorcerer, warlock, wizard]   \n",
       "\n",
       "                                          components  \\\n",
       "0  {'material': False, 'raw': 'V, S', 'somatic': ...   \n",
       "1  {'material': True, 'materials_needed': ['a tin...   \n",
       "2  {'material': True, 'materials_needed': ['a mor...   \n",
       "3  {'material': True, 'materials_needed': ['a dro...   \n",
       "4  {'material': False, 'raw': 'V, S', 'somatic': ...   \n",
       "\n",
       "                                         description  \\\n",
       "0  You hurl a bubble of acid. Choose one creature...   \n",
       "1  You set an alarm against unwanted intrusion. C...   \n",
       "2  This spell lets you convince a beast that you ...   \n",
       "3  Up to three creatures of your choice that you ...   \n",
       "4  You extend your hand and trace a sigil of ward...   \n",
       "\n",
       "                        duration  \\\n",
       "0                  Instantaneous   \n",
       "1                        8 hours   \n",
       "2                       24 hours   \n",
       "3  Concentration, up to 1 minute   \n",
       "4                        1 Round   \n",
       "\n",
       "                                       higher_levels    level  \\\n",
       "0                                                NaN  cantrip   \n",
       "1                                                NaN        1   \n",
       "2  When you cast this spell using a spell slot of...        1   \n",
       "3  When you cast this spell using a spell slot of...        1   \n",
       "4                                                NaN  cantrip   \n",
       "\n",
       "                name    range  ritual       school  \\\n",
       "0        Acid Splash  60 feet   False  Conjuration   \n",
       "1              Alarm  30 feet    True   abjuration   \n",
       "2  Animal Friendship  30 feet   False  enchantment   \n",
       "3               Bane  30 feet   False  enchantment   \n",
       "4         Blade Ward     Self   False   Abjuration   \n",
       "\n",
       "                                         tags                           type  \n",
       "0                 [sorcerer, wizard, cantrip]            Conjuration cantrip  \n",
       "1                    [ranger, wizard, level1]  1st-level abjuration (ritual)  \n",
       "2               [bard, druid, ranger, level1]          1st-level enchantment  \n",
       "3                      [bard, cleric, level1]          1st-level enchantment  \n",
       "4  [bard, sorcerer, warlock, wizard, cantrip]             Abjuration cantrip  "
      ]
     },
     "execution_count": 4,
     "metadata": {},
     "output_type": "execute_result"
    }
   ],
   "source": [
    "spells_df.head()"
   ]
  },
  {
   "cell_type": "markdown",
   "metadata": {},
   "source": [
    "Some data cleaning is necessary."
   ]
  },
  {
   "cell_type": "code",
   "execution_count": 5,
   "metadata": {
    "collapsed": true
   },
   "outputs": [],
   "source": [
    "spells_df = spells_df.fillna('')"
   ]
  },
  {
   "cell_type": "code",
   "execution_count": 6,
   "metadata": {},
   "outputs": [
    {
     "data": {
      "text/html": [
       "<div>\n",
       "<style>\n",
       "    .dataframe thead tr:only-child th {\n",
       "        text-align: right;\n",
       "    }\n",
       "\n",
       "    .dataframe thead th {\n",
       "        text-align: left;\n",
       "    }\n",
       "\n",
       "    .dataframe tbody tr th {\n",
       "        vertical-align: top;\n",
       "    }\n",
       "</style>\n",
       "<table border=\"1\" class=\"dataframe\">\n",
       "  <thead>\n",
       "    <tr style=\"text-align: right;\">\n",
       "      <th></th>\n",
       "      <th>casting_time</th>\n",
       "      <th>classes</th>\n",
       "      <th>components</th>\n",
       "      <th>description</th>\n",
       "      <th>duration</th>\n",
       "      <th>higher_levels</th>\n",
       "      <th>level</th>\n",
       "      <th>name</th>\n",
       "      <th>range</th>\n",
       "      <th>ritual</th>\n",
       "      <th>school</th>\n",
       "      <th>tags</th>\n",
       "      <th>type</th>\n",
       "    </tr>\n",
       "  </thead>\n",
       "  <tbody>\n",
       "    <tr>\n",
       "      <th>166</th>\n",
       "      <td>10 minutes</td>\n",
       "      <td>[cleric, druid, wizard]</td>\n",
       "      <td>{'material': True, 'materials_needed': ['burni...</td>\n",
       "      <td>You take control of the weather within 5 miles...</td>\n",
       "      <td>Concentration, up to 8 hours</td>\n",
       "      <td></td>\n",
       "      <td>wind</td>\n",
       "      <td>Control Weather</td>\n",
       "      <td>Self (5-mile radius)</td>\n",
       "      <td>False</td>\n",
       "      <td></td>\n",
       "      <td>[cleric, druid, wizard, level8]</td>\n",
       "      <td>Wind</td>\n",
       "    </tr>\n",
       "  </tbody>\n",
       "</table>\n",
       "</div>"
      ],
      "text/plain": [
       "    casting_time                  classes  \\\n",
       "166   10 minutes  [cleric, druid, wizard]   \n",
       "\n",
       "                                            components  \\\n",
       "166  {'material': True, 'materials_needed': ['burni...   \n",
       "\n",
       "                                           description  \\\n",
       "166  You take control of the weather within 5 miles...   \n",
       "\n",
       "                         duration higher_levels level             name  \\\n",
       "166  Concentration, up to 8 hours                wind  Control Weather   \n",
       "\n",
       "                    range  ritual school                             tags  \\\n",
       "166  Self (5-mile radius)   False         [cleric, druid, wizard, level8]   \n",
       "\n",
       "     type  \n",
       "166  Wind  "
      ]
     },
     "execution_count": 6,
     "metadata": {},
     "output_type": "execute_result"
    }
   ],
   "source": [
    "spells_df[spells_df.level=='wind']"
   ]
  },
  {
   "cell_type": "code",
   "execution_count": 7,
   "metadata": {
    "collapsed": true
   },
   "outputs": [],
   "source": [
    "spells_df.loc[166, 'level'] = '8'"
   ]
  },
  {
   "cell_type": "code",
   "execution_count": 8,
   "metadata": {
    "collapsed": true
   },
   "outputs": [],
   "source": [
    "spells_df['level'] = spells_df.level.apply(lambda x: '0' if x == 'cantrip' else x)"
   ]
  },
  {
   "cell_type": "markdown",
   "metadata": {},
   "source": [
    "# Text analysis methods\n",
    "This follows Patrick Harrison's [**Modern NLP in Python**](https://github.com/skipgram/modern-nlp-in-python/blob/master/executable/Modern_NLP_in_Python.ipynb) tutorial."
   ]
  },
  {
   "cell_type": "code",
   "execution_count": 9,
   "metadata": {
    "collapsed": true
   },
   "outputs": [],
   "source": [
    "import spacy\n",
    "\n",
    "nlp = spacy.load('en')"
   ]
  },
  {
   "cell_type": "code",
   "execution_count": 10,
   "metadata": {},
   "outputs": [
    {
     "data": {
      "text/plain": [
       "(379, 13)"
      ]
     },
     "execution_count": 10,
     "metadata": {},
     "output_type": "execute_result"
    }
   ],
   "source": [
    "spells_df.shape"
   ]
  },
  {
   "cell_type": "code",
   "execution_count": 11,
   "metadata": {
    "collapsed": true
   },
   "outputs": [],
   "source": [
    "spell = nlp(spells_df.description.iloc[10])"
   ]
  },
  {
   "cell_type": "code",
   "execution_count": 12,
   "metadata": {},
   "outputs": [
    {
     "name": "stdout",
     "output_type": "stream",
     "text": [
      "0 A dazzling array of flashing, colored light springs from your hand.\n",
      "1 Roll 6d10; the total is how many hit points of creatures this spell can effect.\n",
      "2 Creatures in a 15-foot cone originating from you are affected in ascending order of their current hit points (ignoring unconscious creatures and creatures that can't see).\n",
      "\n",
      "\n",
      "3 Starting with the creature that has the lowest current hit points, each creature affected by this spell is blinded until the spell ends.\n",
      "4 Subtract each creature's hit points from the total before moving on to the creature with the next lowest hit points.\n",
      "5 A creature's hit points must be equal to or less than the remaining total for that creature to be affected.\n"
     ]
    }
   ],
   "source": [
    "for i, x in enumerate(spell.sents):\n",
    "    print(i, x)"
   ]
  },
  {
   "cell_type": "code",
   "execution_count": 13,
   "metadata": {},
   "outputs": [
    {
     "name": "stdout",
     "output_type": "stream",
     "text": [
      "0: Roll 6d10 - PERSON\n",
      "1: 15-foot - CARDINAL\n"
     ]
    }
   ],
   "source": [
    "for i, ent in enumerate(spell.ents):\n",
    "    print ('{}: {} - {}'.format(i, ent, ent.label_))"
   ]
  },
  {
   "cell_type": "markdown",
   "metadata": {},
   "source": [
    "### Phrase modeling\n",
    "\n",
    "Due to the highly structured nature of the corpus, phrase modeling will be an effective method for reducing dimensionality."
   ]
  },
  {
   "cell_type": "code",
   "execution_count": 14,
   "metadata": {},
   "outputs": [
    {
     "name": "stderr",
     "output_type": "stream",
     "text": [
      "Using TensorFlow backend.\n"
     ]
    }
   ],
   "source": [
    "from gensim.models import Phrases\n",
    "from gensim.models.phrases import Phraser\n",
    "from gensim.models.word2vec import LineSentence"
   ]
  },
  {
   "cell_type": "code",
   "execution_count": 15,
   "metadata": {
    "collapsed": true
   },
   "outputs": [],
   "source": [
    "def punct_space(token):\n",
    "    return token.is_punct or token.is_space\n",
    "\n",
    "def entry_to_lines(filename):\n",
    "    with open(filename, encoding='utf_8') as f:\n",
    "        for entry in f:\n",
    "            yield entry.replace('\\\\n', '\\n')\n",
    "    return\n",
    "            \n",
    "def lemmatized_sentence_corpus(filename):\n",
    "    for parsed_review in nlp.pipe(entry_to_lines(filename),\n",
    "                                  batch_size=10000, n_threads=4):\n",
    "        for sent in parsed_review.sents:\n",
    "            yield u' '.join([token.lemma_ for token in sent if not punct_space(token)])"
   ]
  },
  {
   "cell_type": "code",
   "execution_count": 16,
   "metadata": {
    "collapsed": true
   },
   "outputs": [],
   "source": [
    "import tempfile\n",
    "\n",
    "raw_spells = tempfile.NamedTemporaryFile(mode='w')\n",
    "with open(raw_spells.name, 'w') as f:\n",
    "    for x in spells_df.description:\n",
    "        if type(x) is str:\n",
    "            f.write(x)\n",
    "        f.write('\\n')"
   ]
  },
  {
   "cell_type": "code",
   "execution_count": 17,
   "metadata": {
    "collapsed": true
   },
   "outputs": [],
   "source": [
    "unigram = tempfile.NamedTemporaryFile(mode='w')\n",
    "\n",
    "with open(unigram.name, 'w') as f:\n",
    "    for sentence in lemmatized_sentence_corpus(raw_spells.name):\n",
    "        f.write(sentence + '\\n')\n",
    "\n",
    "unigram_sentences = LineSentence(unigram.name)"
   ]
  },
  {
   "cell_type": "code",
   "execution_count": 18,
   "metadata": {},
   "outputs": [
    {
     "name": "stderr",
     "output_type": "stream",
     "text": [
      "/Users/jason/Code/cr/lib/python3.6/site-packages/gensim/models/phrases.py:316: UserWarning: For a faster implementation, use the gensim.models.phrases.Phraser class\n",
      "  warnings.warn(\"For a faster implementation, use the gensim.models.phrases.Phraser class\")\n"
     ]
    }
   ],
   "source": [
    "bigram_model = Phrases(unigram_sentences)\n",
    "\n",
    "bigram = tempfile.NamedTemporaryFile(mode='w')\n",
    "\n",
    "with open(bigram.name, 'w') as f:\n",
    "    for unigram_sentence in unigram_sentences:\n",
    "        bigram_sentence = u' '.join(bigram_model[unigram_sentence])\n",
    "        f.write(bigram_sentence + '\\n')\n",
    "\n",
    "bigram_sentences = LineSentence(bigram.name)"
   ]
  },
  {
   "cell_type": "code",
   "execution_count": 19,
   "metadata": {},
   "outputs": [
    {
     "name": "stderr",
     "output_type": "stream",
     "text": [
      "/Users/jason/Code/cr/lib/python3.6/site-packages/gensim/models/phrases.py:316: UserWarning: For a faster implementation, use the gensim.models.phrases.Phraser class\n",
      "  warnings.warn(\"For a faster implementation, use the gensim.models.phrases.Phraser class\")\n"
     ]
    }
   ],
   "source": [
    "trigram_model = Phrases(bigram_sentences)\n",
    "\n",
    "trigram = tempfile.NamedTemporaryFile(mode='w')\n",
    "\n",
    "with open(trigram.name, 'w') as f:\n",
    "    for bigram_sentence in bigram_sentences:\n",
    "        trigram_sentence = u' '.join(trigram_model[bigram_sentence])\n",
    "        f.write(trigram_sentence + '\\n')\n",
    "\n",
    "trigram_sentences = LineSentence(trigram.name)"
   ]
  },
  {
   "cell_type": "markdown",
   "metadata": {},
   "source": [
    "### Word vector embedding"
   ]
  },
  {
   "cell_type": "code",
   "execution_count": 20,
   "metadata": {
    "collapsed": true
   },
   "outputs": [],
   "source": [
    "total_words = sum(len(x) for x in trigram_sentences)"
   ]
  },
  {
   "cell_type": "code",
   "execution_count": 21,
   "metadata": {},
   "outputs": [
    {
     "name": "stdout",
     "output_type": "stream",
     "text": [
      "12 training epochs so far.\n"
     ]
    }
   ],
   "source": [
    "from gensim.models import Word2Vec\n",
    "\n",
    "word2vec_file = tempfile.NamedTemporaryFile(mode='w')\n",
    "\n",
    "spell2vec = Word2Vec(trigram_sentences, size=100, window=5, min_count=5, workers=4)\n",
    "spell2vec.save(word2vec_file.name)\n",
    "\n",
    "# perform another 11 epochs of training\n",
    "for i in range(11):\n",
    "    spell2vec.train(trigram_sentences, total_words=total_words, epochs=1)\n",
    "    spell2vec.save(word2vec_file.name)\n",
    "\n",
    "print(u'{} training epochs so far.'.format(spell2vec.train_count))\n",
    "\n",
    "spell2vec.init_sims()"
   ]
  },
  {
   "cell_type": "code",
   "execution_count": 22,
   "metadata": {},
   "outputs": [
    {
     "data": {
      "text/plain": [
       "966"
      ]
     },
     "execution_count": 22,
     "metadata": {},
     "output_type": "execute_result"
    }
   ],
   "source": [
    "len(spell2vec.wv.vocab)"
   ]
  },
  {
   "cell_type": "code",
   "execution_count": 23,
   "metadata": {},
   "outputs": [
    {
     "data": {
      "text/html": [
       "<div>\n",
       "<style>\n",
       "    .dataframe thead tr:only-child th {\n",
       "        text-align: right;\n",
       "    }\n",
       "\n",
       "    .dataframe thead th {\n",
       "        text-align: left;\n",
       "    }\n",
       "\n",
       "    .dataframe tbody tr th {\n",
       "        vertical-align: top;\n",
       "    }\n",
       "</style>\n",
       "<table border=\"1\" class=\"dataframe\">\n",
       "  <thead>\n",
       "    <tr style=\"text-align: right;\">\n",
       "      <th></th>\n",
       "      <th>0</th>\n",
       "      <th>1</th>\n",
       "      <th>2</th>\n",
       "      <th>3</th>\n",
       "      <th>4</th>\n",
       "      <th>5</th>\n",
       "      <th>6</th>\n",
       "      <th>7</th>\n",
       "      <th>8</th>\n",
       "      <th>9</th>\n",
       "      <th>...</th>\n",
       "      <th>90</th>\n",
       "      <th>91</th>\n",
       "      <th>92</th>\n",
       "      <th>93</th>\n",
       "      <th>94</th>\n",
       "      <th>95</th>\n",
       "      <th>96</th>\n",
       "      <th>97</th>\n",
       "      <th>98</th>\n",
       "      <th>99</th>\n",
       "    </tr>\n",
       "  </thead>\n",
       "  <tbody>\n",
       "    <tr>\n",
       "      <th>-PRON-</th>\n",
       "      <td>0.075745</td>\n",
       "      <td>-0.142208</td>\n",
       "      <td>-0.040497</td>\n",
       "      <td>-0.160118</td>\n",
       "      <td>0.012470</td>\n",
       "      <td>-0.069556</td>\n",
       "      <td>-0.049720</td>\n",
       "      <td>-0.026434</td>\n",
       "      <td>0.017886</td>\n",
       "      <td>0.012021</td>\n",
       "      <td>...</td>\n",
       "      <td>0.061241</td>\n",
       "      <td>-0.062969</td>\n",
       "      <td>0.043747</td>\n",
       "      <td>-0.251720</td>\n",
       "      <td>0.084236</td>\n",
       "      <td>0.170000</td>\n",
       "      <td>-0.143195</td>\n",
       "      <td>0.239713</td>\n",
       "      <td>0.101450</td>\n",
       "      <td>-0.083604</td>\n",
       "    </tr>\n",
       "    <tr>\n",
       "      <th>the</th>\n",
       "      <td>0.044114</td>\n",
       "      <td>-0.108344</td>\n",
       "      <td>-0.133454</td>\n",
       "      <td>-0.036152</td>\n",
       "      <td>-0.052254</td>\n",
       "      <td>-0.125946</td>\n",
       "      <td>-0.113244</td>\n",
       "      <td>0.005527</td>\n",
       "      <td>-0.055453</td>\n",
       "      <td>0.212800</td>\n",
       "      <td>...</td>\n",
       "      <td>-0.101534</td>\n",
       "      <td>0.059824</td>\n",
       "      <td>-0.133685</td>\n",
       "      <td>-0.122317</td>\n",
       "      <td>0.023074</td>\n",
       "      <td>0.009635</td>\n",
       "      <td>-0.045694</td>\n",
       "      <td>0.144171</td>\n",
       "      <td>-0.018857</td>\n",
       "      <td>-0.036276</td>\n",
       "    </tr>\n",
       "    <tr>\n",
       "      <th>a</th>\n",
       "      <td>-0.195600</td>\n",
       "      <td>0.039141</td>\n",
       "      <td>0.002840</td>\n",
       "      <td>-0.015285</td>\n",
       "      <td>-0.011551</td>\n",
       "      <td>-0.025759</td>\n",
       "      <td>-0.121911</td>\n",
       "      <td>0.174815</td>\n",
       "      <td>-0.052116</td>\n",
       "      <td>0.011435</td>\n",
       "      <td>...</td>\n",
       "      <td>0.024179</td>\n",
       "      <td>-0.065814</td>\n",
       "      <td>-0.085807</td>\n",
       "      <td>0.021879</td>\n",
       "      <td>-0.032526</td>\n",
       "      <td>-0.200594</td>\n",
       "      <td>0.027359</td>\n",
       "      <td>0.270756</td>\n",
       "      <td>-0.071218</td>\n",
       "      <td>0.170250</td>\n",
       "    </tr>\n",
       "    <tr>\n",
       "      <th>of</th>\n",
       "      <td>0.063009</td>\n",
       "      <td>0.020924</td>\n",
       "      <td>0.046436</td>\n",
       "      <td>0.018964</td>\n",
       "      <td>0.039105</td>\n",
       "      <td>-0.024931</td>\n",
       "      <td>-0.031004</td>\n",
       "      <td>-0.040194</td>\n",
       "      <td>-0.032880</td>\n",
       "      <td>0.086891</td>\n",
       "      <td>...</td>\n",
       "      <td>-0.022015</td>\n",
       "      <td>-0.140763</td>\n",
       "      <td>-0.098863</td>\n",
       "      <td>-0.020423</td>\n",
       "      <td>0.005102</td>\n",
       "      <td>-0.043631</td>\n",
       "      <td>0.018367</td>\n",
       "      <td>0.104076</td>\n",
       "      <td>0.040446</td>\n",
       "      <td>0.097542</td>\n",
       "    </tr>\n",
       "    <tr>\n",
       "      <th>creature</th>\n",
       "      <td>-0.079563</td>\n",
       "      <td>-0.155791</td>\n",
       "      <td>-0.057823</td>\n",
       "      <td>-0.094326</td>\n",
       "      <td>-0.024565</td>\n",
       "      <td>-0.048661</td>\n",
       "      <td>-0.087624</td>\n",
       "      <td>0.047916</td>\n",
       "      <td>-0.098794</td>\n",
       "      <td>0.064731</td>\n",
       "      <td>...</td>\n",
       "      <td>0.076434</td>\n",
       "      <td>-0.056793</td>\n",
       "      <td>-0.135326</td>\n",
       "      <td>-0.232481</td>\n",
       "      <td>0.066032</td>\n",
       "      <td>-0.003538</td>\n",
       "      <td>-0.085275</td>\n",
       "      <td>0.318385</td>\n",
       "      <td>-0.033788</td>\n",
       "      <td>0.079978</td>\n",
       "    </tr>\n",
       "  </tbody>\n",
       "</table>\n",
       "<p>5 rows × 100 columns</p>\n",
       "</div>"
      ],
      "text/plain": [
       "                0         1         2         3         4         5   \\\n",
       "-PRON-    0.075745 -0.142208 -0.040497 -0.160118  0.012470 -0.069556   \n",
       "the       0.044114 -0.108344 -0.133454 -0.036152 -0.052254 -0.125946   \n",
       "a        -0.195600  0.039141  0.002840 -0.015285 -0.011551 -0.025759   \n",
       "of        0.063009  0.020924  0.046436  0.018964  0.039105 -0.024931   \n",
       "creature -0.079563 -0.155791 -0.057823 -0.094326 -0.024565 -0.048661   \n",
       "\n",
       "                6         7         8         9     ...           90  \\\n",
       "-PRON-   -0.049720 -0.026434  0.017886  0.012021    ...     0.061241   \n",
       "the      -0.113244  0.005527 -0.055453  0.212800    ...    -0.101534   \n",
       "a        -0.121911  0.174815 -0.052116  0.011435    ...     0.024179   \n",
       "of       -0.031004 -0.040194 -0.032880  0.086891    ...    -0.022015   \n",
       "creature -0.087624  0.047916 -0.098794  0.064731    ...     0.076434   \n",
       "\n",
       "                91        92        93        94        95        96  \\\n",
       "-PRON-   -0.062969  0.043747 -0.251720  0.084236  0.170000 -0.143195   \n",
       "the       0.059824 -0.133685 -0.122317  0.023074  0.009635 -0.045694   \n",
       "a        -0.065814 -0.085807  0.021879 -0.032526 -0.200594  0.027359   \n",
       "of       -0.140763 -0.098863 -0.020423  0.005102 -0.043631  0.018367   \n",
       "creature -0.056793 -0.135326 -0.232481  0.066032 -0.003538 -0.085275   \n",
       "\n",
       "                97        98        99  \n",
       "-PRON-    0.239713  0.101450 -0.083604  \n",
       "the       0.144171 -0.018857 -0.036276  \n",
       "a         0.270756 -0.071218  0.170250  \n",
       "of        0.104076  0.040446  0.097542  \n",
       "creature  0.318385 -0.033788  0.079978  \n",
       "\n",
       "[5 rows x 100 columns]"
      ]
     },
     "execution_count": 23,
     "metadata": {},
     "output_type": "execute_result"
    }
   ],
   "source": [
    "ordered_vocab = [(term, voc.index, voc.count) for term, voc in spell2vec.wv.vocab.items()]\n",
    "ordered_vocab = sorted(ordered_vocab, key=lambda x: -x[2])\n",
    "ordered_terms, term_indices, term_counts = zip(*ordered_vocab)\n",
    "word_vectors = pd.DataFrame(spell2vec.wv.syn0norm[term_indices, :],\n",
    "                            index=ordered_terms)\n",
    "word_vectors.head()"
   ]
  },
  {
   "cell_type": "markdown",
   "metadata": {},
   "source": [
    "#### [Todo]: visualize, and clean up the code above. Figure out how to use the model to create the lemmatized text for each example, and to prepare it in a dataframe for doc2vec."
   ]
  },
  {
   "cell_type": "markdown",
   "metadata": {},
   "source": [
    "# Doc2Vec\n",
    "We'll follow the gensim Doc2Vec [tutorial](https://github.com/RaRe-Technologies/gensim/blob/develop/docs/notebooks/doc2vec-lee.ipynb).\n",
    "\n",
    "#### Goal\n",
    "learn a vector embedding for each document in the corpus, and train a multinomial classifier on the vector embeddings."
   ]
  },
  {
   "cell_type": "code",
   "execution_count": 24,
   "metadata": {
    "collapsed": true
   },
   "outputs": [],
   "source": [
    "def read_corpus(fname, training=False):\n",
    "    with open(fname, 'r') as f:\n",
    "        for i, line in enumerate(f):\n",
    "            if training:\n",
    "                yield gensim.models.doc2vec.TaggedDocument(gensim.utils.simple_preprocess(line), [i])\n",
    "            else:\n",
    "                yield gensim.utils.simple_preprocess(line)"
   ]
  },
  {
   "cell_type": "code",
   "execution_count": 25,
   "metadata": {},
   "outputs": [
    {
     "data": {
      "text/html": [
       "<div>\n",
       "<style>\n",
       "    .dataframe thead tr:only-child th {\n",
       "        text-align: right;\n",
       "    }\n",
       "\n",
       "    .dataframe thead th {\n",
       "        text-align: left;\n",
       "    }\n",
       "\n",
       "    .dataframe tbody tr th {\n",
       "        vertical-align: top;\n",
       "    }\n",
       "</style>\n",
       "<table border=\"1\" class=\"dataframe\">\n",
       "  <thead>\n",
       "    <tr style=\"text-align: right;\">\n",
       "      <th></th>\n",
       "      <th>casting_time</th>\n",
       "      <th>classes</th>\n",
       "      <th>components</th>\n",
       "      <th>description</th>\n",
       "      <th>duration</th>\n",
       "      <th>higher_levels</th>\n",
       "      <th>level</th>\n",
       "      <th>name</th>\n",
       "      <th>range</th>\n",
       "      <th>ritual</th>\n",
       "      <th>school</th>\n",
       "      <th>tags</th>\n",
       "      <th>type</th>\n",
       "    </tr>\n",
       "  </thead>\n",
       "  <tbody>\n",
       "    <tr>\n",
       "      <th>0</th>\n",
       "      <td>1 action</td>\n",
       "      <td>[sorcerer, wizard]</td>\n",
       "      <td>{'material': False, 'raw': 'V, S', 'somatic': ...</td>\n",
       "      <td>You hurl a bubble of acid. Choose one creature...</td>\n",
       "      <td>Instantaneous</td>\n",
       "      <td></td>\n",
       "      <td>0</td>\n",
       "      <td>Acid Splash</td>\n",
       "      <td>60 feet</td>\n",
       "      <td>False</td>\n",
       "      <td>Conjuration</td>\n",
       "      <td>[sorcerer, wizard, cantrip]</td>\n",
       "      <td>Conjuration cantrip</td>\n",
       "    </tr>\n",
       "    <tr>\n",
       "      <th>1</th>\n",
       "      <td>1 action</td>\n",
       "      <td>[ranger, wizard]</td>\n",
       "      <td>{'material': True, 'materials_needed': ['a tin...</td>\n",
       "      <td>You set an alarm against unwanted intrusion. C...</td>\n",
       "      <td>8 hours</td>\n",
       "      <td></td>\n",
       "      <td>1</td>\n",
       "      <td>Alarm</td>\n",
       "      <td>30 feet</td>\n",
       "      <td>True</td>\n",
       "      <td>abjuration</td>\n",
       "      <td>[ranger, wizard, level1]</td>\n",
       "      <td>1st-level abjuration (ritual)</td>\n",
       "    </tr>\n",
       "    <tr>\n",
       "      <th>2</th>\n",
       "      <td>1 action</td>\n",
       "      <td>[bard, druid, ranger]</td>\n",
       "      <td>{'material': True, 'materials_needed': ['a mor...</td>\n",
       "      <td>This spell lets you convince a beast that you ...</td>\n",
       "      <td>24 hours</td>\n",
       "      <td>When you cast this spell using a spell slot of...</td>\n",
       "      <td>1</td>\n",
       "      <td>Animal Friendship</td>\n",
       "      <td>30 feet</td>\n",
       "      <td>False</td>\n",
       "      <td>enchantment</td>\n",
       "      <td>[bard, druid, ranger, level1]</td>\n",
       "      <td>1st-level enchantment</td>\n",
       "    </tr>\n",
       "    <tr>\n",
       "      <th>3</th>\n",
       "      <td>1 action</td>\n",
       "      <td>[bard, cleric]</td>\n",
       "      <td>{'material': True, 'materials_needed': ['a dro...</td>\n",
       "      <td>Up to three creatures of your choice that you ...</td>\n",
       "      <td>Concentration, up to 1 minute</td>\n",
       "      <td>When you cast this spell using a spell slot of...</td>\n",
       "      <td>1</td>\n",
       "      <td>Bane</td>\n",
       "      <td>30 feet</td>\n",
       "      <td>False</td>\n",
       "      <td>enchantment</td>\n",
       "      <td>[bard, cleric, level1]</td>\n",
       "      <td>1st-level enchantment</td>\n",
       "    </tr>\n",
       "    <tr>\n",
       "      <th>4</th>\n",
       "      <td>1 action</td>\n",
       "      <td>[bard, sorcerer, warlock, wizard]</td>\n",
       "      <td>{'material': False, 'raw': 'V, S', 'somatic': ...</td>\n",
       "      <td>You extend your hand and trace a sigil of ward...</td>\n",
       "      <td>1 Round</td>\n",
       "      <td></td>\n",
       "      <td>0</td>\n",
       "      <td>Blade Ward</td>\n",
       "      <td>Self</td>\n",
       "      <td>False</td>\n",
       "      <td>Abjuration</td>\n",
       "      <td>[bard, sorcerer, warlock, wizard, cantrip]</td>\n",
       "      <td>Abjuration cantrip</td>\n",
       "    </tr>\n",
       "  </tbody>\n",
       "</table>\n",
       "</div>"
      ],
      "text/plain": [
       "  casting_time                            classes  \\\n",
       "0     1 action                 [sorcerer, wizard]   \n",
       "1     1 action                   [ranger, wizard]   \n",
       "2     1 action              [bard, druid, ranger]   \n",
       "3     1 action                     [bard, cleric]   \n",
       "4     1 action  [bard, sorcerer, warlock, wizard]   \n",
       "\n",
       "                                          components  \\\n",
       "0  {'material': False, 'raw': 'V, S', 'somatic': ...   \n",
       "1  {'material': True, 'materials_needed': ['a tin...   \n",
       "2  {'material': True, 'materials_needed': ['a mor...   \n",
       "3  {'material': True, 'materials_needed': ['a dro...   \n",
       "4  {'material': False, 'raw': 'V, S', 'somatic': ...   \n",
       "\n",
       "                                         description  \\\n",
       "0  You hurl a bubble of acid. Choose one creature...   \n",
       "1  You set an alarm against unwanted intrusion. C...   \n",
       "2  This spell lets you convince a beast that you ...   \n",
       "3  Up to three creatures of your choice that you ...   \n",
       "4  You extend your hand and trace a sigil of ward...   \n",
       "\n",
       "                        duration  \\\n",
       "0                  Instantaneous   \n",
       "1                        8 hours   \n",
       "2                       24 hours   \n",
       "3  Concentration, up to 1 minute   \n",
       "4                        1 Round   \n",
       "\n",
       "                                       higher_levels level               name  \\\n",
       "0                                                        0        Acid Splash   \n",
       "1                                                        1              Alarm   \n",
       "2  When you cast this spell using a spell slot of...     1  Animal Friendship   \n",
       "3  When you cast this spell using a spell slot of...     1               Bane   \n",
       "4                                                        0         Blade Ward   \n",
       "\n",
       "     range  ritual       school                                        tags  \\\n",
       "0  60 feet   False  Conjuration                 [sorcerer, wizard, cantrip]   \n",
       "1  30 feet    True   abjuration                    [ranger, wizard, level1]   \n",
       "2  30 feet   False  enchantment               [bard, druid, ranger, level1]   \n",
       "3  30 feet   False  enchantment                      [bard, cleric, level1]   \n",
       "4     Self   False   Abjuration  [bard, sorcerer, warlock, wizard, cantrip]   \n",
       "\n",
       "                            type  \n",
       "0            Conjuration cantrip  \n",
       "1  1st-level abjuration (ritual)  \n",
       "2          1st-level enchantment  \n",
       "3          1st-level enchantment  \n",
       "4             Abjuration cantrip  "
      ]
     },
     "execution_count": 25,
     "metadata": {},
     "output_type": "execute_result"
    }
   ],
   "source": [
    "spells_df.head()"
   ]
  },
  {
   "cell_type": "markdown",
   "metadata": {},
   "source": [
    "# [TODO]: Techniques to apply\n",
    "\n",
    "* Bag of words - construct weighted encoding of key words, train on weights\n",
    "    * Tf–idf or counter\n",
    "* word2vec - construct word embeddings, average, and train on average\n",
    "    * consider using an auto-encoder\n",
    "* feature engineering\n",
    "\n",
    "use a more sophisticated loss function (ordinal regression - c.f. mord on pypi doesn't work)\n",
    "\n",
    "Lee, Yoonkyung, Yi Lin, and Grace Wahba. \"Multicategory support\n",
    "vector machines: Theory and application to the classification of\n",
    "microarray data and satellite radiance data.\" Journal of the\n",
    "American Statistical Association 99.465 (2004): 67-81"
   ]
  },
  {
   "cell_type": "markdown",
   "metadata": {},
   "source": [
    "## Bag of words with logistic regression"
   ]
  },
  {
   "cell_type": "code",
   "execution_count": 26,
   "metadata": {
    "collapsed": true
   },
   "outputs": [],
   "source": [
    "X = spells_df['description'] + spells_df['higher_levels']\n",
    "y = spells_df['level']"
   ]
  },
  {
   "cell_type": "code",
   "execution_count": 27,
   "metadata": {},
   "outputs": [
    {
     "data": {
      "text/plain": [
       "Pipeline(memory=None,\n",
       "     steps=[('vect', TfidfVectorizer(analyzer='word', binary=False, decode_error='strict',\n",
       "        dtype=<class 'numpy.int64'>, encoding='utf-8', input='content',\n",
       "        lowercase=True, max_df=1.0, max_features=None, min_df=1,\n",
       "        ngram_range=(1, 1), norm='l2', preprocessor=None, smooth_idf=True,\n",
       "  ...ty='l2', random_state=None, solver='liblinear', tol=0.0001,\n",
       "          verbose=0, warm_start=False))])"
      ]
     },
     "execution_count": 27,
     "metadata": {},
     "output_type": "execute_result"
    }
   ],
   "source": [
    "from sklearn.feature_extraction.text import TfidfVectorizer\n",
    "from sklearn.linear_model import LogisticRegression\n",
    "from sklearn.model_selection import GridSearchCV\n",
    "from sklearn.pipeline import Pipeline\n",
    "\n",
    "pipeline = Pipeline([\n",
    "    ('vect', TfidfVectorizer()),\n",
    "    ('clf', LogisticRegression()),\n",
    "])\n",
    "\n",
    "pipeline.fit(X, y)"
   ]
  },
  {
   "cell_type": "code",
   "execution_count": 28,
   "metadata": {},
   "outputs": [
    {
     "data": {
      "text/plain": [
       "0.75197889182058042"
      ]
     },
     "execution_count": 28,
     "metadata": {},
     "output_type": "execute_result"
    }
   ],
   "source": [
    "pipeline.score(X, y)"
   ]
  },
  {
   "cell_type": "markdown",
   "metadata": {},
   "source": [
    "This is surprisingly good! I suspect that it's overfitting, though. I need to visualize the worse offenders."
   ]
  },
  {
   "cell_type": "code",
   "execution_count": 29,
   "metadata": {
    "collapsed": true
   },
   "outputs": [],
   "source": [
    "pred = pd.DataFrame(pipeline.predict_proba(X), columns=pipeline.classes_)\n",
    "pred['level'] = y\n",
    "pred['level_hat'] = pipeline.predict(X)\n",
    "pred['name'] = spells_df['name']"
   ]
  },
  {
   "cell_type": "code",
   "execution_count": 30,
   "metadata": {},
   "outputs": [
    {
     "data": {
      "text/html": [
       "<div>\n",
       "<style>\n",
       "    .dataframe thead tr:only-child th {\n",
       "        text-align: right;\n",
       "    }\n",
       "\n",
       "    .dataframe thead th {\n",
       "        text-align: left;\n",
       "    }\n",
       "\n",
       "    .dataframe tbody tr th {\n",
       "        vertical-align: top;\n",
       "    }\n",
       "</style>\n",
       "<table border=\"1\" class=\"dataframe\">\n",
       "  <thead>\n",
       "    <tr style=\"text-align: right;\">\n",
       "      <th></th>\n",
       "      <th>0</th>\n",
       "      <th>1</th>\n",
       "      <th>2</th>\n",
       "      <th>3</th>\n",
       "      <th>4</th>\n",
       "      <th>5</th>\n",
       "      <th>6</th>\n",
       "      <th>7</th>\n",
       "      <th>8</th>\n",
       "      <th>9</th>\n",
       "      <th>level</th>\n",
       "      <th>level_hat</th>\n",
       "      <th>name</th>\n",
       "    </tr>\n",
       "  </thead>\n",
       "  <tbody>\n",
       "    <tr>\n",
       "      <th>24</th>\n",
       "      <td>0.207831</td>\n",
       "      <td>0.213080</td>\n",
       "      <td>0.129044</td>\n",
       "      <td>0.087321</td>\n",
       "      <td>0.078354</td>\n",
       "      <td>0.088914</td>\n",
       "      <td>0.072199</td>\n",
       "      <td>0.041186</td>\n",
       "      <td>0.044081</td>\n",
       "      <td>0.037991</td>\n",
       "      <td>0</td>\n",
       "      <td>1</td>\n",
       "      <td>Eldritch Blast</td>\n",
       "    </tr>\n",
       "    <tr>\n",
       "      <th>49</th>\n",
       "      <td>0.185160</td>\n",
       "      <td>0.116862</td>\n",
       "      <td>0.210702</td>\n",
       "      <td>0.129589</td>\n",
       "      <td>0.072867</td>\n",
       "      <td>0.079722</td>\n",
       "      <td>0.063907</td>\n",
       "      <td>0.049409</td>\n",
       "      <td>0.048579</td>\n",
       "      <td>0.043203</td>\n",
       "      <td>0</td>\n",
       "      <td>2</td>\n",
       "      <td>Light</td>\n",
       "    </tr>\n",
       "    <tr>\n",
       "      <th>55</th>\n",
       "      <td>0.131843</td>\n",
       "      <td>0.165125</td>\n",
       "      <td>0.155568</td>\n",
       "      <td>0.134159</td>\n",
       "      <td>0.075335</td>\n",
       "      <td>0.106940</td>\n",
       "      <td>0.087367</td>\n",
       "      <td>0.053545</td>\n",
       "      <td>0.047564</td>\n",
       "      <td>0.042553</td>\n",
       "      <td>0</td>\n",
       "      <td>1</td>\n",
       "      <td>Message</td>\n",
       "    </tr>\n",
       "    <tr>\n",
       "      <th>71</th>\n",
       "      <td>0.149884</td>\n",
       "      <td>0.151201</td>\n",
       "      <td>0.191585</td>\n",
       "      <td>0.129379</td>\n",
       "      <td>0.068979</td>\n",
       "      <td>0.106455</td>\n",
       "      <td>0.063960</td>\n",
       "      <td>0.048477</td>\n",
       "      <td>0.045328</td>\n",
       "      <td>0.044753</td>\n",
       "      <td>0</td>\n",
       "      <td>2</td>\n",
       "      <td>Shillelagh</td>\n",
       "    </tr>\n",
       "    <tr>\n",
       "      <th>86</th>\n",
       "      <td>0.058000</td>\n",
       "      <td>0.264448</td>\n",
       "      <td>0.250306</td>\n",
       "      <td>0.110267</td>\n",
       "      <td>0.072967</td>\n",
       "      <td>0.072915</td>\n",
       "      <td>0.064827</td>\n",
       "      <td>0.040513</td>\n",
       "      <td>0.030334</td>\n",
       "      <td>0.035424</td>\n",
       "      <td>2</td>\n",
       "      <td>1</td>\n",
       "      <td>Aid</td>\n",
       "    </tr>\n",
       "  </tbody>\n",
       "</table>\n",
       "</div>"
      ],
      "text/plain": [
       "           0         1         2         3         4         5         6  \\\n",
       "24  0.207831  0.213080  0.129044  0.087321  0.078354  0.088914  0.072199   \n",
       "49  0.185160  0.116862  0.210702  0.129589  0.072867  0.079722  0.063907   \n",
       "55  0.131843  0.165125  0.155568  0.134159  0.075335  0.106940  0.087367   \n",
       "71  0.149884  0.151201  0.191585  0.129379  0.068979  0.106455  0.063960   \n",
       "86  0.058000  0.264448  0.250306  0.110267  0.072967  0.072915  0.064827   \n",
       "\n",
       "           7         8         9 level level_hat            name  \n",
       "24  0.041186  0.044081  0.037991     0         1  Eldritch Blast  \n",
       "49  0.049409  0.048579  0.043203     0         2           Light  \n",
       "55  0.053545  0.047564  0.042553     0         1         Message  \n",
       "71  0.048477  0.045328  0.044753     0         2      Shillelagh  \n",
       "86  0.040513  0.030334  0.035424     2         1             Aid  "
      ]
     },
     "execution_count": 30,
     "metadata": {},
     "output_type": "execute_result"
    }
   ],
   "source": [
    "pred[pred.level != pred.level_hat].head()"
   ]
  },
  {
   "cell_type": "markdown",
   "metadata": {},
   "source": []
  },
  {
   "cell_type": "markdown",
   "metadata": {},
   "source": [
    "## word2vec with logistic regression\n",
    "\n",
    "### Continuous bag of words (CBOW) vs Skip-gram\n",
    "Skip-gram tends to perform better then CBOW on large datasets, while CBOW generally outperforms Skip-gram on small datasets; see this [Tensorflow tutorial](https://www.tensorflow.org/tutorials/word2vec) for references."
   ]
  },
  {
   "cell_type": "code",
   "execution_count": 31,
   "metadata": {
    "collapsed": true
   },
   "outputs": [],
   "source": [
    "import tempfile\n",
    "\n",
    "corpus_file = tempfile.NamedTemporaryFile(mode='w')\n",
    "with open(corpus_file.name, 'w') as f:\n",
    "    for x in spells_df.description:\n",
    "        if type(x) is str:\n",
    "            f.write(x)\n",
    "        f.write('\\n')\n",
    "\n",
    "unigram_file = tempfile.NamedTemporaryFile(mode='w')\n",
    "with open(unigram_file.name, 'w') as f:\n",
    "    for sentence in lemmatized_sentence_corpus(corpus_file.name):\n",
    "        f.write(sentence + '\\n')\n",
    "\n",
    "unigram_sentences = LineSentence(unigram_file.name)"
   ]
  },
  {
   "cell_type": "code",
   "execution_count": 32,
   "metadata": {
    "collapsed": true
   },
   "outputs": [],
   "source": [
    "def build_models(corpus, passes=1):\n",
    "    models = list()\n",
    "    fname = make_lemmatized_corpus(corpus)\n",
    "\n",
    "    for i in range(passes):\n",
    "        sentences = LineSentence(fname)\n",
    "        model, fname = create_model(sentences)\n",
    "        models.append(model)\n",
    "    return models\n",
    "\n",
    "\n",
    "def make_lemmatize_corpus(corpus):\n",
    "    tmp_file = tempfile.NamedTemporaryFile(mode='w')\n",
    "    with open(tmp_file.name, 'w') as f:\n",
    "        for sentence in lemmatized_sentence_corpus(corpus_file.name):\n",
    "            f.write(sentence + '\\n')\n",
    "    return tmp_file.name\n",
    "\n",
    "\n",
    "def create_model(sentences):\n",
    "    phrases = Phrases(sentences)\n",
    "    model = Phraser(phrases)\n",
    "    tmp_file = tempfile.NamedTemporaryFile(mode='w')\n",
    "    with open(tmp_file.name, 'w') as f:\n",
    "        for sentence in sentences:\n",
    "            sentence = u' '.join(model[sentence])\n",
    "            f.write(sentence + '\\n')\n",
    "    return model, tmp_file.name"
   ]
  },
  {
   "cell_type": "code",
   "execution_count": 33,
   "metadata": {},
   "outputs": [
    {
     "name": "stdout",
     "output_type": "stream",
     "text": [
      "12 training epochs so far.\n"
     ]
    },
    {
     "data": {
      "text/plain": [
       "966"
      ]
     },
     "execution_count": 33,
     "metadata": {},
     "output_type": "execute_result"
    }
   ],
   "source": [
    "total_words = sum(len(x) for x in trigram_sentences)\n",
    "word2vec_file = tempfile.NamedTemporaryFile(mode='w')\n",
    "\n",
    "spell2vec = Word2Vec(trigram_sentences, size=100, window=5, min_count=5, workers=4)\n",
    "spell2vec.save(word2vec_file.name)\n",
    "\n",
    "# perform another 11 epochs of training\n",
    "for i in range(11):\n",
    "    spell2vec.train(trigram_sentences, total_words=total_words, epochs=1)\n",
    "    spell2vec.save(word2vec_file.name)\n",
    "\n",
    "print(u'{} training epochs so far.'.format(spell2vec.train_count))\n",
    "\n",
    "spell2vec.init_sims()\n",
    "len(spell2vec.wv.vocab)"
   ]
  },
  {
   "cell_type": "markdown",
   "metadata": {},
   "source": [
    "## Using only Keras"
   ]
  },
  {
   "cell_type": "code",
   "execution_count": 34,
   "metadata": {},
   "outputs": [
    {
     "data": {
      "text/plain": [
       "'/var/folders/4d/2_vxy65n171blyghwfcl628h0000gn/T/tmp3jl4pn5r'"
      ]
     },
     "execution_count": 34,
     "metadata": {},
     "output_type": "execute_result"
    }
   ],
   "source": [
    "corpus_file.name"
   ]
  },
  {
   "cell_type": "markdown",
   "metadata": {},
   "source": [
    "1. tokenize\n",
    "1. embed\n"
   ]
  },
  {
   "cell_type": "code",
   "execution_count": 35,
   "metadata": {},
   "outputs": [
    {
     "ename": "AttributeError",
     "evalue": "'Tokenizer' object has no attribute 'fit_on'",
     "output_type": "error",
     "traceback": [
      "\u001b[0;31m---------------------------------------------------------------------------\u001b[0m",
      "\u001b[0;31mAttributeError\u001b[0m                            Traceback (most recent call last)",
      "\u001b[0;32m<ipython-input-35-52f32b0f92c5>\u001b[0m in \u001b[0;36m<module>\u001b[0;34m()\u001b[0m\n\u001b[1;32m      2\u001b[0m \u001b[0;34m\u001b[0m\u001b[0m\n\u001b[1;32m      3\u001b[0m \u001b[0mtokenizer\u001b[0m \u001b[0;34m=\u001b[0m \u001b[0mTokenizer\u001b[0m\u001b[0;34m(\u001b[0m\u001b[0;34m)\u001b[0m\u001b[0;34m\u001b[0m\u001b[0m\n\u001b[0;32m----> 4\u001b[0;31m \u001b[0mtokenizer\u001b[0m\u001b[0;34m.\u001b[0m\u001b[0mfit_on\u001b[0m\u001b[0;34m\u001b[0m\u001b[0m\n\u001b[0m",
      "\u001b[0;31mAttributeError\u001b[0m: 'Tokenizer' object has no attribute 'fit_on'"
     ]
    }
   ],
   "source": [
    "from keras.preprocessing.text import Tokenizer\n",
    "\n",
    "tokenizer = Tokenizer()\n",
    "tokenizer.fit_on"
   ]
  },
  {
   "cell_type": "code",
   "execution_count": null,
   "metadata": {
    "collapsed": true
   },
   "outputs": [],
   "source": [
    "from keras import preprocessing\n"
   ]
  },
  {
   "cell_type": "code",
   "execution_count": null,
   "metadata": {
    "collapsed": true
   },
   "outputs": [],
   "source": [
    "from keras.layers import Embedding"
   ]
  },
  {
   "cell_type": "code",
   "execution_count": null,
   "metadata": {
    "collapsed": true
   },
   "outputs": [],
   "source": []
  }
 ],
 "metadata": {
  "kernelspec": {
   "display_name": "Python 3",
   "language": "python",
   "name": "python3"
  },
  "language_info": {
   "codemirror_mode": {
    "name": "ipython",
    "version": 3
   },
   "file_extension": ".py",
   "mimetype": "text/x-python",
   "name": "python",
   "nbconvert_exporter": "python",
   "pygments_lexer": "ipython3",
   "version": "3.6.1"
  }
 },
 "nbformat": 4,
 "nbformat_minor": 2
}

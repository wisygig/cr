{
 "cells": [
  {
   "cell_type": "code",
   "execution_count": 1,
   "metadata": {
    "collapsed": true
   },
   "outputs": [],
   "source": [
    "import numpy as np\n",
    "import pandas as pd\n",
    "\n",
    "from etl import load_monsters, _mechanics, _stats, _flavor, _skills, get_monster_df"
   ]
  },
  {
   "cell_type": "markdown",
   "metadata": {},
   "source": [
    "# Load data"
   ]
  },
  {
   "cell_type": "code",
   "execution_count": 2,
   "metadata": {
    "collapsed": true
   },
   "outputs": [],
   "source": [
    "monsters, ogl = load_monsters()\n",
    "monster_df = get_monster_df(monsters)"
   ]
  },
  {
   "cell_type": "code",
   "execution_count": 3,
   "metadata": {
    "scrolled": true
   },
   "outputs": [
    {
     "data": {
      "text/html": [
       "<div>\n",
       "<style>\n",
       "    .dataframe thead tr:only-child th {\n",
       "        text-align: right;\n",
       "    }\n",
       "\n",
       "    .dataframe thead th {\n",
       "        text-align: left;\n",
       "    }\n",
       "\n",
       "    .dataframe tbody tr th {\n",
       "        vertical-align: top;\n",
       "    }\n",
       "</style>\n",
       "<table border=\"1\" class=\"dataframe\">\n",
       "  <thead>\n",
       "    <tr style=\"text-align: right;\">\n",
       "      <th></th>\n",
       "      <th>challenge_rating</th>\n",
       "      <th>armor_class</th>\n",
       "      <th>hit_dice</th>\n",
       "      <th>hit_points</th>\n",
       "      <th>condition_immunities</th>\n",
       "      <th>damage_immunities</th>\n",
       "      <th>damage_resistances</th>\n",
       "      <th>damage_vulnerabilities</th>\n",
       "      <th>actions</th>\n",
       "      <th>reactions</th>\n",
       "      <th>legendary_actions</th>\n",
       "      <th>special_abilities</th>\n",
       "      <th>size</th>\n",
       "      <th>speed</th>\n",
       "      <th>senses</th>\n",
       "    </tr>\n",
       "    <tr>\n",
       "      <th>name</th>\n",
       "      <th></th>\n",
       "      <th></th>\n",
       "      <th></th>\n",
       "      <th></th>\n",
       "      <th></th>\n",
       "      <th></th>\n",
       "      <th></th>\n",
       "      <th></th>\n",
       "      <th></th>\n",
       "      <th></th>\n",
       "      <th></th>\n",
       "      <th></th>\n",
       "      <th></th>\n",
       "      <th></th>\n",
       "      <th></th>\n",
       "    </tr>\n",
       "  </thead>\n",
       "  <tbody>\n",
       "    <tr>\n",
       "      <th>Aboleth</th>\n",
       "      <td>10.00</td>\n",
       "      <td>17</td>\n",
       "      <td>18d10</td>\n",
       "      <td>135</td>\n",
       "      <td></td>\n",
       "      <td></td>\n",
       "      <td></td>\n",
       "      <td></td>\n",
       "      <td>[{'name': 'Multiattack', 'desc': 'The aboleth ...</td>\n",
       "      <td>[]</td>\n",
       "      <td>[{'name': 'Detect', 'desc': 'The aboleth makes...</td>\n",
       "      <td>[{'name': 'Amphibious', 'desc': 'The aboleth c...</td>\n",
       "      <td>Large</td>\n",
       "      <td>10 ft., swim 40 ft.</td>\n",
       "      <td>darkvision 120 ft., passive Perception 20</td>\n",
       "    </tr>\n",
       "    <tr>\n",
       "      <th>Acolyte</th>\n",
       "      <td>0.25</td>\n",
       "      <td>10</td>\n",
       "      <td>2d8</td>\n",
       "      <td>9</td>\n",
       "      <td></td>\n",
       "      <td></td>\n",
       "      <td></td>\n",
       "      <td></td>\n",
       "      <td>[{'name': 'Club', 'desc': 'Melee Weapon Attack...</td>\n",
       "      <td>[]</td>\n",
       "      <td>[]</td>\n",
       "      <td>[{'name': 'Spellcasting', 'desc': 'The acolyte...</td>\n",
       "      <td>Medium</td>\n",
       "      <td>30 ft.</td>\n",
       "      <td>passive Perception 12</td>\n",
       "    </tr>\n",
       "    <tr>\n",
       "      <th>Adult Black Dragon</th>\n",
       "      <td>14.00</td>\n",
       "      <td>19</td>\n",
       "      <td>17d12</td>\n",
       "      <td>195</td>\n",
       "      <td></td>\n",
       "      <td>acid</td>\n",
       "      <td></td>\n",
       "      <td></td>\n",
       "      <td>[{'name': 'Multiattack', 'desc': 'The dragon c...</td>\n",
       "      <td>[]</td>\n",
       "      <td>[{'name': 'Detect', 'desc': 'The dragon makes ...</td>\n",
       "      <td>[{'name': 'Amphibious', 'desc': 'The dragon ca...</td>\n",
       "      <td>Huge</td>\n",
       "      <td>40 ft., fly 80 ft., swim 40 ft.</td>\n",
       "      <td>blindsight 60 ft., darkvision 120 ft., passive...</td>\n",
       "    </tr>\n",
       "    <tr>\n",
       "      <th>Adult Blue Dracolich</th>\n",
       "      <td>17.00</td>\n",
       "      <td>19</td>\n",
       "      <td>18d12</td>\n",
       "      <td>225</td>\n",
       "      <td>charmed, exhaustion, frightened, paralyzed, po...</td>\n",
       "      <td>lightning, poison</td>\n",
       "      <td>necrotic</td>\n",
       "      <td></td>\n",
       "      <td>[{'name': 'Multiattack', 'desc': 'The dracolic...</td>\n",
       "      <td>[]</td>\n",
       "      <td>[{'name': 'Detect', 'desc': 'The dracolich mak...</td>\n",
       "      <td>[{'name': 'Legendary Resistance (3/Day)', 'des...</td>\n",
       "      <td>Huge</td>\n",
       "      <td>40 ft., burrow 30 ft., fly 80 ft.</td>\n",
       "      <td>blindsight 60 ft., darkvision 120 ft., passive...</td>\n",
       "    </tr>\n",
       "    <tr>\n",
       "      <th>Adult Blue Dragon</th>\n",
       "      <td>16.00</td>\n",
       "      <td>19</td>\n",
       "      <td>18d12</td>\n",
       "      <td>225</td>\n",
       "      <td></td>\n",
       "      <td>lightning</td>\n",
       "      <td></td>\n",
       "      <td></td>\n",
       "      <td>[{'name': 'Multiattack', 'desc': 'The dragon c...</td>\n",
       "      <td>[]</td>\n",
       "      <td>[{'name': 'Detect', 'desc': 'The dragon makes ...</td>\n",
       "      <td>[{'name': 'Legendary Resistance (3/Day)', 'des...</td>\n",
       "      <td>Huge</td>\n",
       "      <td>40 ft., burrow 30 ft., fly 80 ft.</td>\n",
       "      <td>blindsight 60 ft., darkvision 120 ft., passive...</td>\n",
       "    </tr>\n",
       "  </tbody>\n",
       "</table>\n",
       "</div>"
      ],
      "text/plain": [
       "                      challenge_rating  armor_class hit_dice  hit_points  \\\n",
       "name                                                                       \n",
       "Aboleth                          10.00           17    18d10         135   \n",
       "Acolyte                           0.25           10      2d8           9   \n",
       "Adult Black Dragon               14.00           19    17d12         195   \n",
       "Adult Blue Dracolich             17.00           19    18d12         225   \n",
       "Adult Blue Dragon                16.00           19    18d12         225   \n",
       "\n",
       "                                                   condition_immunities  \\\n",
       "name                                                                      \n",
       "Aboleth                                                                   \n",
       "Acolyte                                                                   \n",
       "Adult Black Dragon                                                        \n",
       "Adult Blue Dracolich  charmed, exhaustion, frightened, paralyzed, po...   \n",
       "Adult Blue Dragon                                                         \n",
       "\n",
       "                      damage_immunities damage_resistances  \\\n",
       "name                                                         \n",
       "Aboleth                                                      \n",
       "Acolyte                                                      \n",
       "Adult Black Dragon                 acid                      \n",
       "Adult Blue Dracolich  lightning, poison           necrotic   \n",
       "Adult Blue Dragon             lightning                      \n",
       "\n",
       "                     damage_vulnerabilities  \\\n",
       "name                                          \n",
       "Aboleth                                       \n",
       "Acolyte                                       \n",
       "Adult Black Dragon                            \n",
       "Adult Blue Dracolich                          \n",
       "Adult Blue Dragon                             \n",
       "\n",
       "                                                                actions  \\\n",
       "name                                                                      \n",
       "Aboleth               [{'name': 'Multiattack', 'desc': 'The aboleth ...   \n",
       "Acolyte               [{'name': 'Club', 'desc': 'Melee Weapon Attack...   \n",
       "Adult Black Dragon    [{'name': 'Multiattack', 'desc': 'The dragon c...   \n",
       "Adult Blue Dracolich  [{'name': 'Multiattack', 'desc': 'The dracolic...   \n",
       "Adult Blue Dragon     [{'name': 'Multiattack', 'desc': 'The dragon c...   \n",
       "\n",
       "                     reactions  \\\n",
       "name                             \n",
       "Aboleth                     []   \n",
       "Acolyte                     []   \n",
       "Adult Black Dragon          []   \n",
       "Adult Blue Dracolich        []   \n",
       "Adult Blue Dragon           []   \n",
       "\n",
       "                                                      legendary_actions  \\\n",
       "name                                                                      \n",
       "Aboleth               [{'name': 'Detect', 'desc': 'The aboleth makes...   \n",
       "Acolyte                                                              []   \n",
       "Adult Black Dragon    [{'name': 'Detect', 'desc': 'The dragon makes ...   \n",
       "Adult Blue Dracolich  [{'name': 'Detect', 'desc': 'The dracolich mak...   \n",
       "Adult Blue Dragon     [{'name': 'Detect', 'desc': 'The dragon makes ...   \n",
       "\n",
       "                                                      special_abilities  \\\n",
       "name                                                                      \n",
       "Aboleth               [{'name': 'Amphibious', 'desc': 'The aboleth c...   \n",
       "Acolyte               [{'name': 'Spellcasting', 'desc': 'The acolyte...   \n",
       "Adult Black Dragon    [{'name': 'Amphibious', 'desc': 'The dragon ca...   \n",
       "Adult Blue Dracolich  [{'name': 'Legendary Resistance (3/Day)', 'des...   \n",
       "Adult Blue Dragon     [{'name': 'Legendary Resistance (3/Day)', 'des...   \n",
       "\n",
       "                        size                              speed  \\\n",
       "name                                                              \n",
       "Aboleth                Large                10 ft., swim 40 ft.   \n",
       "Acolyte               Medium                             30 ft.   \n",
       "Adult Black Dragon      Huge    40 ft., fly 80 ft., swim 40 ft.   \n",
       "Adult Blue Dracolich    Huge  40 ft., burrow 30 ft., fly 80 ft.   \n",
       "Adult Blue Dragon       Huge  40 ft., burrow 30 ft., fly 80 ft.   \n",
       "\n",
       "                                                                 senses  \n",
       "name                                                                     \n",
       "Aboleth                       darkvision 120 ft., passive Perception 20  \n",
       "Acolyte                                           passive Perception 12  \n",
       "Adult Black Dragon    blindsight 60 ft., darkvision 120 ft., passive...  \n",
       "Adult Blue Dracolich  blindsight 60 ft., darkvision 120 ft., passive...  \n",
       "Adult Blue Dragon     blindsight 60 ft., darkvision 120 ft., passive...  "
      ]
     },
     "execution_count": 3,
     "metadata": {},
     "output_type": "execute_result"
    }
   ],
   "source": [
    "monster_df[_mechanics].head()"
   ]
  },
  {
   "cell_type": "markdown",
   "metadata": {},
   "source": [
    "# Feature extraction\n",
    "At this stage, we'll restrict ourselves to simple feature extraction and engineering. Let's first consider the `actions` column of `monster_df`. We first familiarize ourselves with the data."
   ]
  },
  {
   "cell_type": "code",
   "execution_count": 4,
   "metadata": {},
   "outputs": [
    {
     "data": {
      "text/plain": [
       "{('name', 'desc', 'attack_bonus'),\n",
       " ('name', 'desc', 'attack_bonus', 'damage_bonus'),\n",
       " ('name', 'desc', 'attack_bonus', 'damage_dice'),\n",
       " ('name', 'desc', 'attack_bonus', 'damage_dice', 'damage_bonus')}"
      ]
     },
     "execution_count": 4,
     "metadata": {},
     "output_type": "execute_result"
    }
   ],
   "source": [
    "from functools import reduce\n",
    "actions_keys = {tuple(action.keys()) for actions in monster_df.actions for action in actions}\n",
    "actions_keys"
   ]
  },
  {
   "cell_type": "code",
   "execution_count": 5,
   "metadata": {
    "collapsed": true
   },
   "outputs": [],
   "source": [
    "from functools import partial\n",
    "\n",
    "def has_properties(x, pos=[], neg=[]):\n",
    "    return any(all([z in y for z in pos] + [z not in y for z in neg]) for y in x)"
   ]
  },
  {
   "cell_type": "code",
   "execution_count": 6,
   "metadata": {
    "collapsed": true
   },
   "outputs": [],
   "source": [
    "from collections import namedtuple\n",
    "import re\n",
    "\n",
    "get_dc = partial(re.findall,\n",
    "                 re.compile(r'\\bDC (\\d+) (' \\\n",
    "                            + r'|'.join(stat.capitalize() for stat in _stats) \\\n",
    "                            + r')\\b'))\n",
    "\n",
    "get_dice = partial(re.findall, re.compile(r'\\b(\\d+)?d(\\d+)\\b'))\n",
    "\n",
    "\n",
    "def parse_actions(actions):\n",
    "    multi = False\n",
    "    for action in actions:\n",
    "        if action['name'] == 'Multiattack':\n",
    "            multi = True\n",
    "            continue\n",
    "        attack_bonus = action.get('attack_bonus', 0)\n",
    "        damage_bonus = action.get('damage_bonus', 0)\n",
    "        damage_dice = action.get('damage_dice', '')\n",
    "        dcs = get_dc(action.get('desc'))\n",
    "    return multi, attack_bonus, damage_bonus, damage_dice, dcs"
   ]
  },
  {
   "cell_type": "code",
   "execution_count": 7,
   "metadata": {},
   "outputs": [
    {
     "data": {
      "text/plain": [
       "name\n",
       "Aboleth                 [{'name': 'Enslave (3/day)', 'desc': 'The abol...\n",
       "Adult Black Dragon      [{'name': 'Frightful Presence', 'desc': 'Each ...\n",
       "Adult Blue Dracolich    [{'name': 'Frightful Presence', 'desc': 'Each ...\n",
       "Adult Blue Dragon       [{'name': 'Frightful Presence', 'desc': 'Each ...\n",
       "Adult Brass Dragon      [{'name': 'Frightful Presence', 'desc': 'Each ...\n",
       "Name: actions, dtype: object"
      ]
     },
     "execution_count": 7,
     "metadata": {},
     "output_type": "execute_result"
    }
   ],
   "source": [
    "neg=['damage_dice', 'damage_bonus']\n",
    "def has_special_action(actions):\n",
    "    return any(is_special_action(action) for action in actions)\n",
    "\n",
    "def is_special_action(action):\n",
    "    return 'Multiattack' not in action['name'] and all([z not in action for z in neg])\n",
    "\n",
    "def get_special_action(actions):\n",
    "    return [action for action in actions if is_special_action(action)]\n",
    "\n",
    "monster_df.actions[monster_df.actions.apply(has_special_action)].apply(get_special_action).head()"
   ]
  },
  {
   "cell_type": "markdown",
   "metadata": {},
   "source": [
    "## Actions"
   ]
  },
  {
   "cell_type": "code",
   "execution_count": 8,
   "metadata": {
    "collapsed": true
   },
   "outputs": [],
   "source": [
    "from collections import namedtuple\n",
    "Summary = namedtuple('Summary', field_names='has_multiattack attack_bonus damage difficulty_class')\n",
    "\n",
    "def summarize_actions(actions):\n",
    "    has_multiattack = 1 if any('Multiattack' in action['name'] for action in actions) else 0\n",
    "    action_summaries = [summarize(action) for action in actions]\n",
    "    if action_summaries:\n",
    "        max_attack_bonus = max(action['attack_bonus'] for action in action_summaries)\n",
    "        max_damage = max(action['damage'] for action in action_summaries)\n",
    "        max_difficulty_class = max(action['difficulty_class'] for action in action_summaries)\n",
    "        summary = Summary(has_multiattack=has_multiattack, \n",
    "                          attack_bonus=max_attack_bonus, \n",
    "                          damage=max_damage, \n",
    "                          difficulty_class=max_difficulty_class)\n",
    "    else:\n",
    "        summary = Summary(has_multiattack=0,\n",
    "                          attack_bonus=2,\n",
    "                          damage=1,\n",
    "                          difficulty_class=10)\n",
    "    return summary\n",
    "\n",
    "\n",
    "def summarize(action):\n",
    "    difficulty_class = get_dc(action['desc'])\n",
    "    attack_bonus = int(action.get('attack_bonus', '0'))\n",
    "    damage_dice = action.get('damage_dice', '0d0')\n",
    "    damage_bonus = int(action.get('damage_bonus', '0'))\n",
    "    return {'attack_bonus': attack_bonus,\n",
    "            'damage': get_damage_potential(damage_dice, damage_bonus),\n",
    "            'difficulty_class': get_max_dc(difficulty_class)}\n",
    "\n",
    "def get_damage_potential(damage_dice, damage_bonus):\n",
    "    damage = damage_bonus\n",
    "    for roll in damage_dice.split(' + '):\n",
    "        n, size = get_dice(roll)[0]\n",
    "        damage += int(n) * int(size)\n",
    "    return damage\n",
    "\n",
    "def get_max_dc(difficulty_class):\n",
    "    if difficulty_class:\n",
    "        return max([int(x[0]) for x in difficulty_class if x])\n",
    "    else:\n",
    "        return 10"
   ]
  },
  {
   "cell_type": "code",
   "execution_count": 9,
   "metadata": {
    "collapsed": true
   },
   "outputs": [],
   "source": [
    "attacks = monster_df.actions.apply(summarize_actions)"
   ]
  },
  {
   "cell_type": "code",
   "execution_count": 10,
   "metadata": {
    "collapsed": true
   },
   "outputs": [],
   "source": [
    "attacks_df = pd.concat([attacks.map(lambda x: x[i]) for i in range(4)], axis=1)\n",
    "attacks_df.columns = 'has_multiattack attack_bonus damage difficulty_class'.split(' ')"
   ]
  },
  {
   "cell_type": "markdown",
   "metadata": {},
   "source": [
    "# quick linear model"
   ]
  },
  {
   "cell_type": "code",
   "execution_count": 11,
   "metadata": {},
   "outputs": [],
   "source": [
    "X = pd.concat([monster_df[['armor_class', 'hit_points']], attacks_df], axis=1)\n",
    "y = monster_df[['challenge_rating']]"
   ]
  },
  {
   "cell_type": "code",
   "execution_count": 12,
   "metadata": {},
   "outputs": [
    {
     "name": "stderr",
     "output_type": "stream",
     "text": [
      "/Users/jason/Code/cr/lib/python3.6/site-packages/scipy/linalg/basic.py:1018: RuntimeWarning: internal gelsd driver lwork query error, required iwork dimension not returned. This is likely the result of LAPACK bug 0038, fixed in LAPACK 3.2.2 (released July 21, 2010). Falling back to 'gelss' driver.\n",
      "  warnings.warn(mesg, RuntimeWarning)\n"
     ]
    }
   ],
   "source": [
    "from sklearn.linear_model import LinearRegression\n",
    "\n",
    "lr = LinearRegression()\n",
    "lr.fit(X, y)\n",
    "\n",
    "pred = y.copy()\n",
    "pred['cr_hat'] = lr.predict(X)"
   ]
  },
  {
   "cell_type": "code",
   "execution_count": 13,
   "metadata": {},
   "outputs": [
    {
     "name": "stderr",
     "output_type": "stream",
     "text": [
      "/Users/jason/Code/cr/lib/python3.6/site-packages/statsmodels/compat/pandas.py:56: FutureWarning: The pandas.core.datetools module is deprecated and will be removed in a future version. Please use the pandas.tseries module instead.\n",
      "  from pandas.core import datetools\n"
     ]
    },
    {
     "data": {
      "image/png": "[encoded data removed]",
      "text/plain": [
       "<matplotlib.figure.Figure at 0x10b38b828>"
      ]
     },
     "metadata": {},
     "output_type": "display_data"
    },
    {
     "data": {
      "text/plain": [
       "<ggplot: (-9223372036574592305)>"
      ]
     },
     "execution_count": 13,
     "metadata": {},
     "output_type": "execute_result"
    }
   ],
   "source": [
    "from plotnine import (aes, geom_abline, geom_point, ggplot)\n",
    "ggplot(pred, aes(x='challenge_rating', y='cr_hat')) + geom_point() + geom_abline(intercept = 0, slope = 1)"
   ]
  },
  {
   "cell_type": "code",
   "execution_count": 14,
   "metadata": {},
   "outputs": [
    {
     "data": {
      "text/plain": [
       "0.91243233372362997"
      ]
     },
     "execution_count": 14,
     "metadata": {},
     "output_type": "execute_result"
    }
   ],
   "source": [
    "lr.score(X, y)"
   ]
  },
  {
   "cell_type": "markdown",
   "metadata": {},
   "source": [
    "# Simple neural network"
   ]
  },
  {
   "cell_type": "code",
   "execution_count": 15,
   "metadata": {},
   "outputs": [
    {
     "data": {
      "text/html": [
       "<div>\n",
       "<style>\n",
       "    .dataframe thead tr:only-child th {\n",
       "        text-align: right;\n",
       "    }\n",
       "\n",
       "    .dataframe thead th {\n",
       "        text-align: left;\n",
       "    }\n",
       "\n",
       "    .dataframe tbody tr th {\n",
       "        vertical-align: top;\n",
       "    }\n",
       "</style>\n",
       "<table border=\"1\" class=\"dataframe\">\n",
       "  <thead>\n",
       "    <tr style=\"text-align: right;\">\n",
       "      <th></th>\n",
       "      <th>armor_class</th>\n",
       "      <th>hit_points</th>\n",
       "      <th>has_multiattack</th>\n",
       "      <th>attack_bonus</th>\n",
       "      <th>damage</th>\n",
       "      <th>difficulty_class</th>\n",
       "    </tr>\n",
       "    <tr>\n",
       "      <th>name</th>\n",
       "      <th></th>\n",
       "      <th></th>\n",
       "      <th></th>\n",
       "      <th></th>\n",
       "      <th></th>\n",
       "      <th></th>\n",
       "    </tr>\n",
       "  </thead>\n",
       "  <tbody>\n",
       "    <tr>\n",
       "      <th>Aboleth</th>\n",
       "      <td>17</td>\n",
       "      <td>135</td>\n",
       "      <td>1</td>\n",
       "      <td>9</td>\n",
       "      <td>23</td>\n",
       "      <td>14</td>\n",
       "    </tr>\n",
       "    <tr>\n",
       "      <th>Acolyte</th>\n",
       "      <td>10</td>\n",
       "      <td>9</td>\n",
       "      <td>0</td>\n",
       "      <td>2</td>\n",
       "      <td>4</td>\n",
       "      <td>10</td>\n",
       "    </tr>\n",
       "    <tr>\n",
       "      <th>Adult Black Dragon</th>\n",
       "      <td>19</td>\n",
       "      <td>195</td>\n",
       "      <td>1</td>\n",
       "      <td>11</td>\n",
       "      <td>96</td>\n",
       "      <td>18</td>\n",
       "    </tr>\n",
       "    <tr>\n",
       "      <th>Adult Blue Dracolich</th>\n",
       "      <td>19</td>\n",
       "      <td>225</td>\n",
       "      <td>1</td>\n",
       "      <td>12</td>\n",
       "      <td>120</td>\n",
       "      <td>20</td>\n",
       "    </tr>\n",
       "    <tr>\n",
       "      <th>Adult Blue Dragon</th>\n",
       "      <td>19</td>\n",
       "      <td>225</td>\n",
       "      <td>1</td>\n",
       "      <td>12</td>\n",
       "      <td>120</td>\n",
       "      <td>19</td>\n",
       "    </tr>\n",
       "  </tbody>\n",
       "</table>\n",
       "</div>"
      ],
      "text/plain": [
       "                      armor_class  hit_points  has_multiattack  attack_bonus  \\\n",
       "name                                                                           \n",
       "Aboleth                        17         135                1             9   \n",
       "Acolyte                        10           9                0             2   \n",
       "Adult Black Dragon             19         195                1            11   \n",
       "Adult Blue Dracolich           19         225                1            12   \n",
       "Adult Blue Dragon              19         225                1            12   \n",
       "\n",
       "                      damage  difficulty_class  \n",
       "name                                            \n",
       "Aboleth                   23                14  \n",
       "Acolyte                    4                10  \n",
       "Adult Black Dragon        96                18  \n",
       "Adult Blue Dracolich     120                20  \n",
       "Adult Blue Dragon        120                19  "
      ]
     },
     "execution_count": 15,
     "metadata": {},
     "output_type": "execute_result"
    }
   ],
   "source": [
    "X.head()"
   ]
  },
  {
   "cell_type": "code",
   "execution_count": 16,
   "metadata": {},
   "outputs": [
    {
     "data": {
      "text/html": [
       "<div>\n",
       "<style>\n",
       "    .dataframe thead tr:only-child th {\n",
       "        text-align: right;\n",
       "    }\n",
       "\n",
       "    .dataframe thead th {\n",
       "        text-align: left;\n",
       "    }\n",
       "\n",
       "    .dataframe tbody tr th {\n",
       "        vertical-align: top;\n",
       "    }\n",
       "</style>\n",
       "<table border=\"1\" class=\"dataframe\">\n",
       "  <thead>\n",
       "    <tr style=\"text-align: right;\">\n",
       "      <th></th>\n",
       "      <th>challenge_rating</th>\n",
       "    </tr>\n",
       "    <tr>\n",
       "      <th>name</th>\n",
       "      <th></th>\n",
       "    </tr>\n",
       "  </thead>\n",
       "  <tbody>\n",
       "    <tr>\n",
       "      <th>Aboleth</th>\n",
       "      <td>10.00</td>\n",
       "    </tr>\n",
       "    <tr>\n",
       "      <th>Acolyte</th>\n",
       "      <td>0.25</td>\n",
       "    </tr>\n",
       "    <tr>\n",
       "      <th>Adult Black Dragon</th>\n",
       "      <td>14.00</td>\n",
       "    </tr>\n",
       "    <tr>\n",
       "      <th>Adult Blue Dracolich</th>\n",
       "      <td>17.00</td>\n",
       "    </tr>\n",
       "    <tr>\n",
       "      <th>Adult Blue Dragon</th>\n",
       "      <td>16.00</td>\n",
       "    </tr>\n",
       "  </tbody>\n",
       "</table>\n",
       "</div>"
      ],
      "text/plain": [
       "                      challenge_rating\n",
       "name                                  \n",
       "Aboleth                          10.00\n",
       "Acolyte                           0.25\n",
       "Adult Black Dragon               14.00\n",
       "Adult Blue Dracolich             17.00\n",
       "Adult Blue Dragon                16.00"
      ]
     },
     "execution_count": 16,
     "metadata": {},
     "output_type": "execute_result"
    }
   ],
   "source": [
    "y.head()"
   ]
  },
  {
   "cell_type": "code",
   "execution_count": 17,
   "metadata": {},
   "outputs": [
    {
     "name": "stderr",
     "output_type": "stream",
     "text": [
      "Using TensorFlow backend.\n"
     ]
    }
   ],
   "source": [
    "from keras.models import Sequential\n",
    "from keras.layers.core import Dense\n",
    "from keras.optimizers import SGD"
   ]
  },
  {
   "cell_type": "code",
   "execution_count": 27,
   "metadata": {},
   "outputs": [],
   "source": [
    "from sklearn.preprocessing import StandardScaler\n",
    "\n",
    "# pre-processing\n",
    "scale_x, scale_y = StandardScaler(),  StandardScaler()\n",
    "sX = scale_x.fit_transform(X)\n",
    "sy = scale_y.fit_transform(y)\n"
   ]
  },
  {
   "cell_type": "code",
   "execution_count": 54,
   "metadata": {},
   "outputs": [],
   "source": [
    "# A simple example of linear regression.\n",
    "model = Sequential()\n",
    "model.add(Dense(1, input_shape=(6,)))\n",
    "model.compile(loss='mean_squared_error', optimizer=SGD())"
   ]
  },
  {
   "cell_type": "code",
   "execution_count": 60,
   "metadata": {},
   "outputs": [],
   "source": [
    "# training\n",
    "# network_history = model.fit(X_train, Y_train, epochs=200, verbose=0, validation_data=(X_val, Y_val))\n",
    "network_history = model.fit(sX, sy, epochs=200, verbose=0)"
   ]
  },
  {
   "cell_type": "code",
   "execution_count": 61,
   "metadata": {},
   "outputs": [
    {
     "data": {
      "image/png": "[encoded data removed]",
      "text/plain": [
       "<matplotlib.figure.Figure at 0x107d4cb00>"
      ]
     },
     "metadata": {},
     "output_type": "display_data"
    },
    {
     "data": {
      "text/plain": [
       "<ggplot: (-9223372036578088090)>"
      ]
     },
     "execution_count": 61,
     "metadata": {},
     "output_type": "execute_result"
    }
   ],
   "source": [
    "y_hat = scale_y.inverse_transform(model.predict(sX))\n",
    "pred['cr_nn'] = y_hat\n",
    "\n",
    "ggplot(pred, aes(x='challenge_rating', y='cr_nn')) + geom_point() + geom_abline(intercept = 0, slope = 1)"
   ]
  },
  {
   "cell_type": "markdown",
   "metadata": {},
   "source": [
    "The difference in results between linear regression and the neural network are due entirely to the optimization strategies. In the case of sci-kit learn, regression is simply a matter of linear algebra, whereas keras makes use of stochastic gradient descent."
   ]
  },
  {
   "cell_type": "code",
   "execution_count": 62,
   "metadata": {},
   "outputs": [
    {
     "data": {
      "image/png": "[encoded data removed]",
      "text/plain": [
       "<matplotlib.figure.Figure at 0x1177a1fd0>"
      ]
     },
     "metadata": {},
     "output_type": "display_data"
    },
    {
     "data": {
      "text/plain": [
       "<ggplot: (293030078)>"
      ]
     },
     "execution_count": 62,
     "metadata": {},
     "output_type": "execute_result"
    }
   ],
   "source": [
    "ggplot(pred, aes(x='cr_nn', y='cr_hat')) + geom_point() + geom_abline(intercept = 0, slope = 1)"
   ]
  },
  {
   "cell_type": "markdown",
   "metadata": {},
   "source": [
    "# DeepDreaming - or perturbing data for fun and profit"
   ]
  },
  {
   "cell_type": "code",
   "execution_count": 24,
   "metadata": {
    "collapsed": true
   },
   "outputs": [],
   "source": [
    "from keras import backend as K"
   ]
  },
  {
   "cell_type": "markdown",
   "metadata": {},
   "source": [
    "# Generalizing to neural networks with hidden layers"
   ]
  },
  {
   "cell_type": "code",
   "execution_count": null,
   "metadata": {
    "collapsed": true
   },
   "outputs": [],
   "source": []
  }
 ],
 "metadata": {
  "kernelspec": {
   "display_name": "Python 3",
   "language": "python",
   "name": "python3"
  },
  "language_info": {
   "codemirror_mode": {
    "name": "ipython",
    "version": 3
   },
   "file_extension": ".py",
   "mimetype": "text/x-python",
   "name": "python",
   "nbconvert_exporter": "python",
   "pygments_lexer": "ipython3",
   "version": "3.6.1"
  }
 },
 "nbformat": 4,
 "nbformat_minor": 2
}

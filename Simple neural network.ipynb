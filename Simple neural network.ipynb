{
 "cells": [
  {
   "cell_type": "code",
   "execution_count": 1,
   "metadata": {
    "collapsed": true
   },
   "outputs": [],
   "source": [
    "import numpy as np\n",
    "import pandas as pd\n",
    "\n",
    "from etl import load_monsters, _mechanics, _stats, _flavor, _skills, get_monster_df"
   ]
  },
  {
   "cell_type": "code",
   "execution_count": 2,
   "metadata": {},
   "outputs": [
    {
     "name": "stderr",
     "output_type": "stream",
     "text": [
      "/Users/jason/Code/cr/lib/python3.6/site-packages/statsmodels/compat/pandas.py:56: FutureWarning: The pandas.core.datetools module is deprecated and will be removed in a future version. Please use the pandas.tseries module instead.\n",
      "  from pandas.core import datetools\n"
     ]
    }
   ],
   "source": [
    "import matplotlib.pyplot as plt\n",
    "% matplotlib inline\n",
    "\n",
    "from plotnine import (aes, geom_abline, geom_point, ggplot)\n"
   ]
  },
  {
   "cell_type": "markdown",
   "metadata": {},
   "source": [
    "# Load data"
   ]
  },
  {
   "cell_type": "code",
   "execution_count": 3,
   "metadata": {
    "collapsed": true
   },
   "outputs": [],
   "source": [
    "monsters, ogl = load_monsters()\n",
    "monster_df = get_monster_df(monsters)"
   ]
  },
  {
   "cell_type": "code",
   "execution_count": 4,
   "metadata": {
    "collapsed": true
   },
   "outputs": [],
   "source": [
    "from collections import namedtuple\n",
    "from functools import partial\n",
    "\n",
    "import re\n",
    "\n",
    "get_dc = partial(re.findall,\n",
    "                 re.compile(r'\\bDC (\\d+) (' \\\n",
    "                            + r'|'.join(stat.capitalize() for stat in _stats) \\\n",
    "                            + r')\\b'))\n",
    "\n",
    "get_dice = partial(re.findall, re.compile(r'\\b(\\d+)?d(\\d+)\\b'))\n",
    "\n",
    "Summary = namedtuple('Summary', field_names='has_multiattack attack_bonus damage difficulty_class')\n",
    "\n",
    "def summarize_actions(actions):\n",
    "    has_multiattack = 1 if any('Multiattack' in action['name'] for action in actions) else 0\n",
    "    action_summaries = [summarize(action) for action in actions]\n",
    "    if action_summaries:\n",
    "        max_attack_bonus = max(action['attack_bonus'] for action in action_summaries)\n",
    "        max_damage = max(action['damage'] for action in action_summaries)\n",
    "        max_difficulty_class = max(action['difficulty_class'] for action in action_summaries)\n",
    "        summary = Summary(has_multiattack=has_multiattack, \n",
    "                          attack_bonus=max_attack_bonus, \n",
    "                          damage=max_damage, \n",
    "                          difficulty_class=max_difficulty_class)\n",
    "    else:\n",
    "        summary = Summary(has_multiattack=0,\n",
    "                          attack_bonus=2,\n",
    "                          damage=1,\n",
    "                          difficulty_class=10)\n",
    "    return summary\n",
    "\n",
    "\n",
    "def summarize(action):\n",
    "    difficulty_class = get_dc(action['desc'])\n",
    "    attack_bonus = int(action.get('attack_bonus', '0'))\n",
    "    damage_dice = action.get('damage_dice', '0d0')\n",
    "    damage_bonus = int(action.get('damage_bonus', '0'))\n",
    "    return {'attack_bonus': attack_bonus,\n",
    "            'damage': get_damage_potential(damage_dice, damage_bonus),\n",
    "            'difficulty_class': get_max_dc(difficulty_class)}\n",
    "\n",
    "def get_damage_potential(damage_dice, damage_bonus):\n",
    "    damage = damage_bonus\n",
    "    for roll in damage_dice.split(' + '):\n",
    "        n, size = get_dice(roll)[0]\n",
    "        damage += int(n) * int(size)\n",
    "    return damage\n",
    "\n",
    "def get_max_dc(difficulty_class):\n",
    "    if difficulty_class:\n",
    "        return max([int(x[0]) for x in difficulty_class if x])\n",
    "    else:\n",
    "        return 10"
   ]
  },
  {
   "cell_type": "code",
   "execution_count": 5,
   "metadata": {
    "collapsed": true
   },
   "outputs": [],
   "source": [
    "attacks = monster_df.actions.apply(summarize_actions)"
   ]
  },
  {
   "cell_type": "code",
   "execution_count": 6,
   "metadata": {
    "collapsed": true
   },
   "outputs": [],
   "source": [
    "attacks_df = pd.concat([attacks.map(lambda x: x[i]) for i in range(4)], axis=1)\n",
    "attacks_df.columns = 'has_multiattack attack_bonus damage difficulty_class'.split(' ')"
   ]
  },
  {
   "cell_type": "markdown",
   "metadata": {},
   "source": [
    "## Load training data"
   ]
  },
  {
   "cell_type": "code",
   "execution_count": 7,
   "metadata": {
    "collapsed": true
   },
   "outputs": [],
   "source": [
    "def load_Xy():\n",
    "    return (pd.concat([monster_df[['armor_class', 'hit_points']], attacks_df], axis=1),\n",
    "            monster_df[['challenge_rating']])\n",
    "\n",
    "X, y = load_Xy()"
   ]
  },
  {
   "cell_type": "markdown",
   "metadata": {},
   "source": [
    "# quick linear model"
   ]
  },
  {
   "cell_type": "code",
   "execution_count": 8,
   "metadata": {},
   "outputs": [
    {
     "name": "stderr",
     "output_type": "stream",
     "text": [
      "/Users/jason/Code/cr/lib/python3.6/site-packages/scipy/linalg/basic.py:1018: RuntimeWarning: internal gelsd driver lwork query error, required iwork dimension not returned. This is likely the result of LAPACK bug 0038, fixed in LAPACK 3.2.2 (released July 21, 2010). Falling back to 'gelss' driver.\n",
      "  warnings.warn(mesg, RuntimeWarning)\n"
     ]
    }
   ],
   "source": [
    "from sklearn.linear_model import LinearRegression\n",
    "\n",
    "lr = LinearRegression()\n",
    "lr.fit(X, y)\n",
    "\n",
    "pred = y.copy()\n",
    "pred['cr_hat'] = lr.predict(X)"
   ]
  },
  {
   "cell_type": "code",
   "execution_count": 9,
   "metadata": {},
   "outputs": [
    {
     "data": {
      "image/png": "[encoded data removed]",
      "text/plain": [
       "<matplotlib.figure.Figure at 0x1130c5ef0>"
      ]
     },
     "metadata": {},
     "output_type": "display_data"
    },
    {
     "data": {
      "text/plain": [
       "<ggplot: (288379070)>"
      ]
     },
     "execution_count": 9,
     "metadata": {},
     "output_type": "execute_result"
    }
   ],
   "source": [
    "ggplot(pred, aes(x='challenge_rating', y='cr_hat')) + geom_point() + geom_abline(intercept = 0, slope = 1)"
   ]
  },
  {
   "cell_type": "markdown",
   "metadata": {},
   "source": [
    "### [todo] What is `lr.score` reporting?"
   ]
  },
  {
   "cell_type": "code",
   "execution_count": 10,
   "metadata": {},
   "outputs": [
    {
     "data": {
      "text/plain": [
       "0.91243233372362997"
      ]
     },
     "execution_count": 10,
     "metadata": {},
     "output_type": "execute_result"
    }
   ],
   "source": [
    "lr.score(X, y)"
   ]
  },
  {
   "cell_type": "code",
   "execution_count": 11,
   "metadata": {},
   "outputs": [
    {
     "data": {
      "text/plain": [
       "(325, 6)"
      ]
     },
     "execution_count": 11,
     "metadata": {},
     "output_type": "execute_result"
    }
   ],
   "source": [
    "X.shape"
   ]
  },
  {
   "cell_type": "markdown",
   "metadata": {},
   "source": [
    "# Simple neural network\n",
    "\n",
    "To build our model, we'll use Keras."
   ]
  },
  {
   "cell_type": "code",
   "execution_count": 12,
   "metadata": {},
   "outputs": [
    {
     "name": "stderr",
     "output_type": "stream",
     "text": [
      "Using TensorFlow backend.\n"
     ]
    }
   ],
   "source": [
    "from keras.models import Sequential\n",
    "from keras.layers.core import Activation, Dense\n",
    "from keras.optimizers import SGD\n",
    "\n",
    "from sklearn.preprocessing import StandardScaler"
   ]
  },
  {
   "cell_type": "markdown",
   "metadata": {},
   "source": [
    "Our model will consist of a single perceptron with a linear activation."
   ]
  },
  {
   "cell_type": "code",
   "execution_count": 13,
   "metadata": {
    "collapsed": true
   },
   "outputs": [],
   "source": [
    "# A simple example of linear regression.\n",
    "\n",
    "shape = X.shape[1]\n",
    "\n",
    "model = Sequential()\n",
    "model.add(Dense(1, input_shape=(shape,), activation='linear'))\n",
    "\n",
    "model.compile(loss='mean_squared_error', optimizer=SGD(), metrics=['mae'])"
   ]
  },
  {
   "cell_type": "markdown",
   "metadata": {},
   "source": [
    "For a linear perceptron, the training speed is highly sensitive to differences in scale. Thus, we pre-process the data with the `StandardScaler`."
   ]
  },
  {
   "cell_type": "code",
   "execution_count": 14,
   "metadata": {
    "collapsed": true
   },
   "outputs": [],
   "source": [
    "# Pre-processing\n",
    "scale_x, scale_y = StandardScaler(),  StandardScaler()\n",
    "sX = scale_x.fit_transform(X)\n",
    "sy = scale_y.fit_transform(y)"
   ]
  },
  {
   "cell_type": "markdown",
   "metadata": {},
   "source": [
    "As we're not interested in using this model for prediction, we'll simply train over the entire dataset."
   ]
  },
  {
   "cell_type": "code",
   "execution_count": 15,
   "metadata": {
    "collapsed": true
   },
   "outputs": [],
   "source": [
    "# training\n",
    "network_history = model.fit(sX, sy, epochs=50, verbose=0)"
   ]
  },
  {
   "cell_type": "code",
   "execution_count": 16,
   "metadata": {},
   "outputs": [
    {
     "name": "stdout",
     "output_type": "stream",
     "text": [
      "_________________________________________________________________\n",
      "Layer (type)                 Output Shape              Param #   \n",
      "=================================================================\n",
      "dense_1 (Dense)              (None, 1)                 7         \n",
      "=================================================================\n",
      "Total params: 7\n",
      "Trainable params: 7\n",
      "Non-trainable params: 0\n",
      "_________________________________________________________________\n"
     ]
    }
   ],
   "source": [
    "model.summary()"
   ]
  },
  {
   "cell_type": "code",
   "execution_count": 17,
   "metadata": {},
   "outputs": [
    {
     "data": {
      "text/plain": [
       "dict_keys(['loss', 'mean_absolute_error'])"
      ]
     },
     "execution_count": 17,
     "metadata": {},
     "output_type": "execute_result"
    }
   ],
   "source": [
    "network_history.history.keys()"
   ]
  },
  {
   "cell_type": "code",
   "execution_count": 18,
   "metadata": {},
   "outputs": [
    {
     "name": "stdout",
     "output_type": "stream",
     "text": [
      "loss: 0.09203377786737221\n",
      "mae:  0.18864168903002373\n"
     ]
    },
    {
     "data": {
      "image/png": "[encoded data removed]",
      "text/plain": [
       "<matplotlib.figure.Figure at 0x11d9db390>"
      ]
     },
     "metadata": {},
     "output_type": "display_data"
    }
   ],
   "source": [
    "plt.plot(network_history.history['loss'])\n",
    "print('loss: {}'.format(network_history.history['loss'][-1]))\n",
    "print('mae:  {}'.format(network_history.history['mean_absolute_error'][-1]))"
   ]
  },
  {
   "cell_type": "code",
   "execution_count": 19,
   "metadata": {},
   "outputs": [
    {
     "data": {
      "image/png": "[encoded data removed]",
      "text/plain": [
       "<matplotlib.figure.Figure at 0x11da40470>"
      ]
     },
     "metadata": {},
     "output_type": "display_data"
    },
    {
     "data": {
      "text/plain": [
       "<ggplot: (-9223372036555248703)>"
      ]
     },
     "execution_count": 19,
     "metadata": {},
     "output_type": "execute_result"
    }
   ],
   "source": [
    "y_hat = scale_y.inverse_transform(model.predict(sX))\n",
    "pred['cr_nn'] = y_hat\n",
    "\n",
    "ggplot(pred, aes(x='challenge_rating', y='cr_nn')) + geom_point() + geom_abline(intercept = 0, slope = 1)"
   ]
  },
  {
   "cell_type": "markdown",
   "metadata": {},
   "source": [
    "The difference in results between linear regression and the neural network are due entirely to the optimization strategies. In the case of sci-kit learn, regression is simply a matter of linear algebra, whereas our model makes use of stocastic gradient descent.\n",
    "\n",
    "In this particular example, the loss function is convex, and so in the limit (as `epoch` $\\to \\infty$) the weights converge to the weights of the linear regression."
   ]
  },
  {
   "cell_type": "code",
   "execution_count": 20,
   "metadata": {
    "scrolled": true
   },
   "outputs": [
    {
     "data": {
      "image/png": "[encoded data removed]",
      "text/plain": [
       "<matplotlib.figure.Figure at 0x11db63ac8>"
      ]
     },
     "metadata": {},
     "output_type": "display_data"
    },
    {
     "data": {
      "text/plain": [
       "<ggplot: (299323435)>"
      ]
     },
     "execution_count": 20,
     "metadata": {},
     "output_type": "execute_result"
    }
   ],
   "source": [
    "ggplot(pred, aes(x='cr_nn', y='cr_hat')) + geom_point() + geom_abline(intercept = 0, slope = 1)"
   ]
  },
  {
   "cell_type": "markdown",
   "metadata": {},
   "source": [
    "### [TODO] Add interactive visualization of the above data"
   ]
  },
  {
   "cell_type": "markdown",
   "metadata": {},
   "source": [
    "# Dreaming\n",
    "DeepDreaming is a surprisingly simple technique, which was first applied to visualizing hidden layer activations of deep neural nets trained on image data. This application was first described in this Google research blog [post](https://research.googleblog.com/2015/06/inceptionism-going-deeper-into-neural.html) ([source](https://github.com/google/deepdream/blob/master/dream.ipynb)). The example source (originally built using Caffe) was later [ported](https://github.com/fchollet/keras/blob/master/examples/deep_dream.py) to Keras.\n",
    "\n",
    "In the following, we'll adapt this basic idea to our very simple model. We'll then generalize to more complicated models."
   ]
  },
  {
   "cell_type": "code",
   "execution_count": 21,
   "metadata": {
    "collapsed": true
   },
   "outputs": [],
   "source": [
    "from keras import backend as K"
   ]
  },
  {
   "cell_type": "code",
   "execution_count": 22,
   "metadata": {},
   "outputs": [
    {
     "name": "stdout",
     "output_type": "stream",
     "text": [
      "_________________________________________________________________\n",
      "Layer (type)                 Output Shape              Param #   \n",
      "=================================================================\n",
      "dense_1 (Dense)              (None, 1)                 7         \n",
      "=================================================================\n",
      "Total params: 7\n",
      "Trainable params: 7\n",
      "Non-trainable params: 0\n",
      "_________________________________________________________________\n"
     ]
    }
   ],
   "source": [
    "model.summary()"
   ]
  },
  {
   "cell_type": "code",
   "execution_count": 23,
   "metadata": {},
   "outputs": [
    {
     "data": {
      "text/html": [
       "<div>\n",
       "<style>\n",
       "    .dataframe thead tr:only-child th {\n",
       "        text-align: right;\n",
       "    }\n",
       "\n",
       "    .dataframe thead th {\n",
       "        text-align: left;\n",
       "    }\n",
       "\n",
       "    .dataframe tbody tr th {\n",
       "        vertical-align: top;\n",
       "    }\n",
       "</style>\n",
       "<table border=\"1\" class=\"dataframe\">\n",
       "  <thead>\n",
       "    <tr style=\"text-align: right;\">\n",
       "      <th></th>\n",
       "      <th>armor_class</th>\n",
       "      <th>hit_points</th>\n",
       "      <th>has_multiattack</th>\n",
       "      <th>attack_bonus</th>\n",
       "      <th>damage</th>\n",
       "      <th>difficulty_class</th>\n",
       "    </tr>\n",
       "    <tr>\n",
       "      <th>name</th>\n",
       "      <th></th>\n",
       "      <th></th>\n",
       "      <th></th>\n",
       "      <th></th>\n",
       "      <th></th>\n",
       "      <th></th>\n",
       "    </tr>\n",
       "  </thead>\n",
       "  <tbody>\n",
       "    <tr>\n",
       "      <th>Aboleth</th>\n",
       "      <td>17</td>\n",
       "      <td>135</td>\n",
       "      <td>1</td>\n",
       "      <td>9</td>\n",
       "      <td>23</td>\n",
       "      <td>14</td>\n",
       "    </tr>\n",
       "    <tr>\n",
       "      <th>Acolyte</th>\n",
       "      <td>10</td>\n",
       "      <td>9</td>\n",
       "      <td>0</td>\n",
       "      <td>2</td>\n",
       "      <td>4</td>\n",
       "      <td>10</td>\n",
       "    </tr>\n",
       "    <tr>\n",
       "      <th>Adult Black Dragon</th>\n",
       "      <td>19</td>\n",
       "      <td>195</td>\n",
       "      <td>1</td>\n",
       "      <td>11</td>\n",
       "      <td>96</td>\n",
       "      <td>18</td>\n",
       "    </tr>\n",
       "    <tr>\n",
       "      <th>Adult Blue Dracolich</th>\n",
       "      <td>19</td>\n",
       "      <td>225</td>\n",
       "      <td>1</td>\n",
       "      <td>12</td>\n",
       "      <td>120</td>\n",
       "      <td>20</td>\n",
       "    </tr>\n",
       "    <tr>\n",
       "      <th>Adult Blue Dragon</th>\n",
       "      <td>19</td>\n",
       "      <td>225</td>\n",
       "      <td>1</td>\n",
       "      <td>12</td>\n",
       "      <td>120</td>\n",
       "      <td>19</td>\n",
       "    </tr>\n",
       "  </tbody>\n",
       "</table>\n",
       "</div>"
      ],
      "text/plain": [
       "                      armor_class  hit_points  has_multiattack  attack_bonus  \\\n",
       "name                                                                           \n",
       "Aboleth                        17         135                1             9   \n",
       "Acolyte                        10           9                0             2   \n",
       "Adult Black Dragon             19         195                1            11   \n",
       "Adult Blue Dracolich           19         225                1            12   \n",
       "Adult Blue Dragon              19         225                1            12   \n",
       "\n",
       "                      damage  difficulty_class  \n",
       "name                                            \n",
       "Aboleth                   23                14  \n",
       "Acolyte                    4                10  \n",
       "Adult Black Dragon        96                18  \n",
       "Adult Blue Dracolich     120                20  \n",
       "Adult Blue Dragon        120                19  "
      ]
     },
     "execution_count": 23,
     "metadata": {},
     "output_type": "execute_result"
    }
   ],
   "source": [
    "X.head()"
   ]
  },
  {
   "cell_type": "code",
   "execution_count": 24,
   "metadata": {
    "collapsed": true
   },
   "outputs": [],
   "source": [
    "K.set_learning_phase(0) # 0 = test, 1 = train\n",
    "layer_dict = {layer.name: layer for layer in model.layers}\n",
    "\n",
    "dream = model.input"
   ]
  },
  {
   "cell_type": "code",
   "execution_count": 25,
   "metadata": {},
   "outputs": [
    {
     "data": {
      "text/plain": [
       "<tf.Tensor 'dense_1_input:0' shape=(?, 6) dtype=float32>"
      ]
     },
     "execution_count": 25,
     "metadata": {},
     "output_type": "execute_result"
    }
   ],
   "source": [
    "dream"
   ]
  },
  {
   "cell_type": "code",
   "execution_count": 26,
   "metadata": {
    "scrolled": true
   },
   "outputs": [
    {
     "data": {
      "text/plain": [
       "Index(['armor_class', 'hit_points', 'has_multiattack', 'attack_bonus',\n",
       "       'damage', 'difficulty_class'],\n",
       "      dtype='object')"
      ]
     },
     "execution_count": 26,
     "metadata": {},
     "output_type": "execute_result"
    }
   ],
   "source": [
    "X.columns"
   ]
  },
  {
   "cell_type": "code",
   "execution_count": 27,
   "metadata": {},
   "outputs": [
    {
     "data": {
      "text/plain": [
       "<tf.Tensor 'MatMul:0' shape=(?, 3) dtype=float32>"
      ]
     },
     "execution_count": 27,
     "metadata": {},
     "output_type": "execute_result"
    }
   ],
   "source": [
    "# use a mask\n",
    "mask = np.array([True, False, True, False, False, True])\n",
    "T = np.eye(6)[mask]\n",
    "K.dot(dream, K.constant(T.transpose()))"
   ]
  },
  {
   "cell_type": "code",
   "execution_count": 28,
   "metadata": {},
   "outputs": [
    {
     "data": {
      "text/plain": [
       "array([[ 5.,  6.],\n",
       "       [ 7.,  8.]], dtype=float32)"
      ]
     },
     "execution_count": 28,
     "metadata": {},
     "output_type": "execute_result"
    }
   ],
   "source": [
    "# we can build an injective map by using `K.dot` and pointwise addition\n",
    "\n",
    "a = K.constant([[1, 0], [0, 1]], dtype='float32')\n",
    "b = K.constant([[5, 6], [7, 8]], dtype='float32')\n",
    "\n",
    "t = a * b # pointwise product\n",
    "t = a + b # pointwise addition\n",
    "t = K.dot(a, b) # matrix product\n",
    "K.eval(t)"
   ]
  },
  {
   "cell_type": "code",
   "execution_count": 29,
   "metadata": {
    "collapsed": true
   },
   "outputs": [],
   "source": [
    "TARGET = scale_y.transform(5)\n",
    "\n",
    "# build new loss function\n",
    "target = K.constant(TARGET, dtype='float32')\n",
    "loss = K.variable(0, dtype='float32')\n",
    "coeff = 1.\n",
    "x = layer_dict['dense_1'].output - target\n",
    "scaling = K.prod(K.cast(K.shape(x), 'float32')) # number of entries in x\n",
    "loss = coeff * K.sum(K.square(x)) / scaling\n",
    "\n",
    "# Compute the gradients of loss wrt the dream, and normalize.\n",
    "grads = K.gradients(loss, dream)[0]\n",
    "grads /= K.maximum(K.mean(K.abs(grads)), 1e-7)\n",
    "\n",
    "# Set up function to retrieve the value of the loss and gradients given an input.\n",
    "outputs = [loss, grads]\n",
    "fetch_loss_and_grads = K.function([dream], outputs) # why [dream]? inputs to a TensorFlow backend\n",
    "                                                    # function should be a list or tuple\n",
    "\n",
    "def eval_loss_and_grads(x):\n",
    "    return fetch_loss_and_grads([x])\n",
    "\n",
    "def gradient_descent(x, iterations, step, max_loss=None):\n",
    "    # can we use the build in gradient models as well?\n",
    "    for i in range(iterations):\n",
    "        loss_value, grad_values = eval_loss_and_grads(x)\n",
    "        if max_loss is not None and loss_value > max_loss:\n",
    "            raise Exception('Loss value {} is larger then the max_loss'.format(loss_value))\n",
    "        x -= step * grad_values\n",
    "        yield x, loss_value\n",
    "    return\n",
    "\n",
    "# build a couple of different ways to access this tool"
   ]
  },
  {
   "cell_type": "code",
   "execution_count": 30,
   "metadata": {},
   "outputs": [
    {
     "data": {
      "text/html": [
       "<div>\n",
       "<style>\n",
       "    .dataframe thead tr:only-child th {\n",
       "        text-align: right;\n",
       "    }\n",
       "\n",
       "    .dataframe thead th {\n",
       "        text-align: left;\n",
       "    }\n",
       "\n",
       "    .dataframe tbody tr th {\n",
       "        vertical-align: top;\n",
       "    }\n",
       "</style>\n",
       "<table border=\"1\" class=\"dataframe\">\n",
       "  <thead>\n",
       "    <tr style=\"text-align: right;\">\n",
       "      <th></th>\n",
       "      <th>armor_class</th>\n",
       "      <th>hit_points</th>\n",
       "      <th>has_multiattack</th>\n",
       "      <th>attack_bonus</th>\n",
       "      <th>damage</th>\n",
       "      <th>difficulty_class</th>\n",
       "    </tr>\n",
       "    <tr>\n",
       "      <th>name</th>\n",
       "      <th></th>\n",
       "      <th></th>\n",
       "      <th></th>\n",
       "      <th></th>\n",
       "      <th></th>\n",
       "      <th></th>\n",
       "    </tr>\n",
       "  </thead>\n",
       "  <tbody>\n",
       "    <tr>\n",
       "      <th>Aboleth</th>\n",
       "      <td>17</td>\n",
       "      <td>135</td>\n",
       "      <td>1</td>\n",
       "      <td>9</td>\n",
       "      <td>23</td>\n",
       "      <td>14</td>\n",
       "    </tr>\n",
       "    <tr>\n",
       "      <th>Acolyte</th>\n",
       "      <td>10</td>\n",
       "      <td>9</td>\n",
       "      <td>0</td>\n",
       "      <td>2</td>\n",
       "      <td>4</td>\n",
       "      <td>10</td>\n",
       "    </tr>\n",
       "    <tr>\n",
       "      <th>Adult Black Dragon</th>\n",
       "      <td>19</td>\n",
       "      <td>195</td>\n",
       "      <td>1</td>\n",
       "      <td>11</td>\n",
       "      <td>96</td>\n",
       "      <td>18</td>\n",
       "    </tr>\n",
       "    <tr>\n",
       "      <th>Adult Blue Dracolich</th>\n",
       "      <td>19</td>\n",
       "      <td>225</td>\n",
       "      <td>1</td>\n",
       "      <td>12</td>\n",
       "      <td>120</td>\n",
       "      <td>20</td>\n",
       "    </tr>\n",
       "    <tr>\n",
       "      <th>Adult Blue Dragon</th>\n",
       "      <td>19</td>\n",
       "      <td>225</td>\n",
       "      <td>1</td>\n",
       "      <td>12</td>\n",
       "      <td>120</td>\n",
       "      <td>19</td>\n",
       "    </tr>\n",
       "  </tbody>\n",
       "</table>\n",
       "</div>"
      ],
      "text/plain": [
       "                      armor_class  hit_points  has_multiattack  attack_bonus  \\\n",
       "name                                                                           \n",
       "Aboleth                        17         135                1             9   \n",
       "Acolyte                        10           9                0             2   \n",
       "Adult Black Dragon             19         195                1            11   \n",
       "Adult Blue Dracolich           19         225                1            12   \n",
       "Adult Blue Dragon              19         225                1            12   \n",
       "\n",
       "                      damage  difficulty_class  \n",
       "name                                            \n",
       "Aboleth                   23                14  \n",
       "Acolyte                    4                10  \n",
       "Adult Black Dragon        96                18  \n",
       "Adult Blue Dracolich     120                20  \n",
       "Adult Blue Dragon        120                19  "
      ]
     },
     "execution_count": 30,
     "metadata": {},
     "output_type": "execute_result"
    }
   ],
   "source": [
    "X.head()"
   ]
  },
  {
   "cell_type": "code",
   "execution_count": 31,
   "metadata": {},
   "outputs": [
    {
     "name": "stderr",
     "output_type": "stream",
     "text": [
      "/Users/jason/Code/cr/lib/python3.6/site-packages/sklearn/utils/validation.py:444: DataConversionWarning: Data with input dtype int64 was converted to float64 by StandardScaler.\n",
      "  warnings.warn(msg, DataConversionWarning)\n"
     ]
    }
   ],
   "source": [
    "# example\n",
    "\n",
    "x = X.loc['Aboleth'].values.reshape(1, -1)\n",
    "sx = scale_x.transform(x)\n",
    "\n",
    "# hyperparameters\n",
    "\n",
    "step = 0.01  # Gradient ascent step size\n",
    "iterations = 200  # Number of ascent steps per scale\n",
    "max_loss = 10. # worth thinking about\n",
    "\n",
    "# how should I fix parameters? I want to factor through an injective map\n",
    "# ANSWER: use a matrix multiplication.\n",
    "\n",
    "# gotta try this!\n",
    "history = gradient_descent(sx, iterations, step, max_loss)"
   ]
  },
  {
   "cell_type": "code",
   "execution_count": 32,
   "metadata": {},
   "outputs": [
    {
     "data": {
      "text/plain": [
       "<matplotlib.axes._subplots.AxesSubplot at 0x11de391d0>"
      ]
     },
     "execution_count": 32,
     "metadata": {},
     "output_type": "execute_result"
    },
    {
     "data": {
      "image/png": "[encoded data removed]",
      "text/plain": [
       "<matplotlib.figure.Figure at 0x11dbcd390>"
      ]
     },
     "metadata": {},
     "output_type": "display_data"
    }
   ],
   "source": [
    "x_vals = list()\n",
    "y_vals = list()\n",
    "\n",
    "for x, loss in history:\n",
    "    x_vals.append(scale_x.inverse_transform(x)[0])\n",
    "    y = scale_y.inverse_transform(model.predict(x))[0][0]\n",
    "    y_vals.append(y)\n",
    "    \n",
    "% matplotlib inline\n",
    "pd.DataFrame(y_vals).plot()"
   ]
  },
  {
   "cell_type": "code",
   "execution_count": 33,
   "metadata": {},
   "outputs": [
    {
     "data": {
      "text/plain": [
       "<matplotlib.axes._subplots.AxesSubplot at 0x11db4aeb8>"
      ]
     },
     "execution_count": 33,
     "metadata": {},
     "output_type": "execute_result"
    },
    {
     "data": {
      "image/png": "[encoded data removed]",
      "text/plain": [
       "<matplotlib.figure.Figure at 0x11d985978>"
      ]
     },
     "metadata": {},
     "output_type": "display_data"
    }
   ],
   "source": [
    "pd.DataFrame(x_vals).plot()"
   ]
  },
  {
   "cell_type": "markdown",
   "metadata": {},
   "source": [
    "use `floor` and `ceil` from `math`, as well as `itertools.product` to construct samples"
   ]
  },
  {
   "cell_type": "markdown",
   "metadata": {},
   "source": [
    "# Generalizing to neural networks with hidden layers\n",
    "\n",
    "The generalization is quite easy! We'll first begin by building a more complicated model. Let's begin with network of ReLUs with two hidden layers."
   ]
  },
  {
   "cell_type": "markdown",
   "metadata": {},
   "source": [
    "#### Some remarks on Rectified Linear Unit (ReLU)\n",
    "\n",
    "Since the ReLU activation function is $f(x) = \\max(x, 0)$, a model consisting of only ReLU and linear activation functions will be a piecewise linear continuous function. In particular, the gradient will be locally constant.\n",
    "\n",
    "Furthermore, the expressiveness of a feed-forward network of ReLUs depends greatly on the depth of the network"
   ]
  },
  {
   "cell_type": "code",
   "execution_count": 34,
   "metadata": {},
   "outputs": [],
   "source": [
    "# reload data\n",
    "X, y = load_Xy()\n",
    "shape = X.shape[1]\n",
    "\n",
    "# pre-process\n",
    "sX = scale_x.transform(X)\n",
    "sy = scale_y.transform(y)\n",
    "\n",
    "# specify model\n",
    "model_2 = Sequential()\n",
    "model_2.add(Dense(32, input_shape=(shape,)))\n",
    "model_2.add(Activation('relu'))\n",
    "model_2.add(Dense(16, input_shape=(shape,)))\n",
    "model_2.add(Activation('relu'))\n",
    "model_2.add(Dense(1, activation='linear'))\n",
    "\n",
    "model_2.compile(loss='mean_squared_error', optimizer=SGD(), metrics=['mae']) # mae - mean absolute error"
   ]
  },
  {
   "cell_type": "code",
   "execution_count": 35,
   "metadata": {},
   "outputs": [],
   "source": [
    "# train model\n",
    "\n",
    "network_history_2 = model_2.fit(sX, sy, epochs=50, verbose=0)\n",
    "\n",
    "# should add dropouts and/or maxouts"
   ]
  },
  {
   "cell_type": "code",
   "execution_count": 36,
   "metadata": {},
   "outputs": [
    {
     "data": {
      "image/png": "[encoded data removed]",
      "text/plain": [
       "<matplotlib.figure.Figure at 0x11e17ce10>"
      ]
     },
     "metadata": {},
     "output_type": "display_data"
    },
    {
     "data": {
      "text/plain": [
       "<ggplot: (-9223372036554791157)>"
      ]
     },
     "execution_count": 36,
     "metadata": {},
     "output_type": "execute_result"
    }
   ],
   "source": [
    "y_hat = scale_y.inverse_transform(model_2.predict(sX))\n",
    "pred['cr_nn2'] = y_hat\n",
    "\n",
    "ggplot(pred, aes(x='challenge_rating', y='cr_nn2')) + geom_point() + geom_abline(intercept = 0, slope = 1)"
   ]
  },
  {
   "cell_type": "code",
   "execution_count": 37,
   "metadata": {},
   "outputs": [
    {
     "data": {
      "text/plain": [
       "dict_keys(['loss', 'mean_absolute_error'])"
      ]
     },
     "execution_count": 37,
     "metadata": {},
     "output_type": "execute_result"
    }
   ],
   "source": [
    "network_history.history.keys()"
   ]
  },
  {
   "cell_type": "code",
   "execution_count": 38,
   "metadata": {},
   "outputs": [
    {
     "name": "stdout",
     "output_type": "stream",
     "text": [
      "loss: 0.06788057768574128\n",
      "mae:  0.16157355569876158\n"
     ]
    },
    {
     "data": {
      "image/png": "[encoded data removed]",
      "text/plain": [
       "<matplotlib.figure.Figure at 0x11e206630>"
      ]
     },
     "metadata": {},
     "output_type": "display_data"
    }
   ],
   "source": [
    "plt.plot(network_history_2.history['loss'])\n",
    "print('loss: {}'.format(network_history_2.history['loss'][-1]))\n",
    "print('mae:  {}'.format(network_history_2.history['mean_absolute_error'][-1]))"
   ]
  },
  {
   "cell_type": "code",
   "execution_count": 39,
   "metadata": {},
   "outputs": [
    {
     "name": "stdout",
     "output_type": "stream",
     "text": [
      "_________________________________________________________________\n",
      "Layer (type)                 Output Shape              Param #   \n",
      "=================================================================\n",
      "dense_2 (Dense)              (None, 32)                224       \n",
      "_________________________________________________________________\n",
      "activation_1 (Activation)    (None, 32)                0         \n",
      "_________________________________________________________________\n",
      "dense_3 (Dense)              (None, 16)                528       \n",
      "_________________________________________________________________\n",
      "activation_2 (Activation)    (None, 16)                0         \n",
      "_________________________________________________________________\n",
      "dense_4 (Dense)              (None, 1)                 17        \n",
      "=================================================================\n",
      "Total params: 769\n",
      "Trainable params: 769\n",
      "Non-trainable params: 0\n",
      "_________________________________________________________________\n"
     ]
    }
   ],
   "source": [
    "model_2.summary()"
   ]
  },
  {
   "cell_type": "markdown",
   "metadata": {},
   "source": [
    "## Deeper Dreaming"
   ]
  },
  {
   "cell_type": "code",
   "execution_count": 40,
   "metadata": {},
   "outputs": [],
   "source": [
    "K.set_learning_phase(0) # 0 = test, 1 = train\n",
    "layer_dict = {layer.name: layer for layer in model_2.layers}\n",
    "\n",
    "dream = model_2.input\n",
    "\n",
    "TARGET = scale_y.transform(5)\n",
    "\n",
    "# build new loss function\n",
    "target = K.constant(TARGET, dtype='float32')\n",
    "loss = K.variable(0, dtype='float32')\n",
    "coeff = 1.\n",
    "x = layer_dict['dense_3'].output - target\n",
    "scaling = K.prod(K.cast(K.shape(x), 'float32')) # number of entries in x\n",
    "loss = coeff * K.sum(K.square(x)) / scaling\n",
    "\n",
    "# Compute the gradients of loss wrt the dream, and normalize.\n",
    "grads = K.gradients(loss, dream)[0]\n",
    "grads /= K.maximum(K.mean(K.abs(grads)), 1e-7)\n",
    "\n",
    "# Set up function to retrieve the value of the loss and gradients given an input.\n",
    "outputs = [loss, grads]\n",
    "fetch_loss_and_grads = K.function([dream], outputs) # why [dream]? inputs to a TensorFlow backend\n",
    "                                                    # function should be a list or tuple\n",
    "\n",
    "def eval_loss_and_grads(x):\n",
    "    return fetch_loss_and_grads([x])\n",
    "\n",
    "def gradient_descent(x, iterations, step, max_loss=None):\n",
    "    # can we use the build in gradient models as well?\n",
    "    for i in range(iterations):\n",
    "        loss_value, grad_values = eval_loss_and_grads(x)\n",
    "        if max_loss is not None and loss_value > max_loss:\n",
    "            raise Exception('Loss value {} is larger then the max_loss'.format(loss_value))\n",
    "        x -= step * grad_values\n",
    "        yield x, loss_value\n",
    "    return\n",
    "\n",
    "# build a couple of different ways to access this tool"
   ]
  },
  {
   "cell_type": "code",
   "execution_count": 41,
   "metadata": {},
   "outputs": [
    {
     "name": "stderr",
     "output_type": "stream",
     "text": [
      "/Users/jason/Code/cr/lib/python3.6/site-packages/sklearn/utils/validation.py:444: DataConversionWarning: Data with input dtype int64 was converted to float64 by StandardScaler.\n",
      "  warnings.warn(msg, DataConversionWarning)\n"
     ]
    }
   ],
   "source": [
    "# example\n",
    "\n",
    "x = X.loc['Aboleth'].values.reshape(1, -1)\n",
    "sx = scale_x.transform(x)\n",
    "\n",
    "# hyperparameters\n",
    "\n",
    "step = 0.01  # Gradient ascent step size\n",
    "iterations = 200  # Number of ascent steps per scale\n",
    "max_loss = 10. # worth thinking about\n",
    "\n",
    "# how should I fix parameters? I want to factor through an injective map\n",
    "# ANSWER: use a matrix multiplication.\n",
    "\n",
    "# gotta try this!\n",
    "history = gradient_descent(sx, iterations, step, max_loss)"
   ]
  },
  {
   "cell_type": "code",
   "execution_count": 42,
   "metadata": {},
   "outputs": [],
   "source": [
    "x_vals = list()\n",
    "y_vals = list()\n",
    "losses = list()\n",
    "\n",
    "for x, loss in history:\n",
    "    x_vals.append(scale_x.inverse_transform(x)[0])\n",
    "    y = scale_y.inverse_transform(model.predict(x))[0][0]\n",
    "    y_vals.append(y)\n",
    "    losses.append(loss)\n",
    "    \n",
    "output = pd.DataFrame([range(len(y_vals)), y_vals]).transpose()"
   ]
  },
  {
   "cell_type": "code",
   "execution_count": 43,
   "metadata": {},
   "outputs": [
    {
     "data": {
      "text/plain": [
       "<matplotlib.axes._subplots.AxesSubplot at 0x11e27ec50>"
      ]
     },
     "execution_count": 43,
     "metadata": {},
     "output_type": "execute_result"
    },
    {
     "data": {
      "image/png": "[encoded data removed]",
      "text/plain": [
       "<matplotlib.figure.Figure at 0x11e159ac8>"
      ]
     },
     "metadata": {},
     "output_type": "display_data"
    }
   ],
   "source": [
    "y_vals_df = output.set_index(0)\n",
    "y_vals_df.columns = ['cr']\n",
    "y_vals_df.plot()"
   ]
  },
  {
   "cell_type": "code",
   "execution_count": 44,
   "metadata": {},
   "outputs": [
    {
     "data": {
      "text/plain": [
       "<matplotlib.axes._subplots.AxesSubplot at 0x11e419ba8>"
      ]
     },
     "execution_count": 44,
     "metadata": {},
     "output_type": "execute_result"
    },
    {
     "data": {
      "image/png": "[encoded data removed]",
      "text/plain": [
       "<matplotlib.figure.Figure at 0x11e42fbe0>"
      ]
     },
     "metadata": {},
     "output_type": "display_data"
    }
   ],
   "source": [
    "x_vals_df = pd.DataFrame(x_vals)\n",
    "x_vals_df.columns = X.columns\n",
    "x_vals_df.plot()"
   ]
  },
  {
   "cell_type": "code",
   "execution_count": null,
   "metadata": {
    "collapsed": true
   },
   "outputs": [],
   "source": []
  }
 ],
 "metadata": {
  "kernelspec": {
   "display_name": "Python 3",
   "language": "python",
   "name": "python3"
  },
  "language_info": {
   "codemirror_mode": {
    "name": "ipython",
    "version": 3
   },
   "file_extension": ".py",
   "mimetype": "text/x-python",
   "name": "python",
   "nbconvert_exporter": "python",
   "pygments_lexer": "ipython3",
   "version": "3.6.1"
  }
 },
 "nbformat": 4,
 "nbformat_minor": 2
}
